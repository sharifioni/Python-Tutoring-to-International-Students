{
 "cells": [
  {
   "cell_type": "markdown",
   "id": "9583ffcb",
   "metadata": {},
   "source": [
    "# Python Language\n",
    "You can built desktop applications\n",
    "web applications\n",
    "game development\n",
    "Machine Learning and AI\n",
    "Computer Vision and Image Processing\n",
    "Data Analysis\n",
    "Automate different things (Web scraping, control applications)\n",
    "Work on different APIs\n",
    "Databases"
   ]
  },
  {
   "cell_type": "code",
   "execution_count": null,
   "id": "a41ee7f3",
   "metadata": {},
   "outputs": [],
   "source": []
  },
  {
   "cell_type": "code",
   "execution_count": 4,
   "id": "46fa7dd2",
   "metadata": {},
   "outputs": [
    {
     "name": "stdout",
     "output_type": "stream",
     "text": [
      "Hello World\n"
     ]
    }
   ],
   "source": [
    "#This is a print statement\n",
    "print('Hello World')          #Keyword  Arguments  Parenthesis  #Case Sensitive Language"
   ]
  },
  {
   "cell_type": "code",
   "execution_count": null,
   "id": "f4a4c93b",
   "metadata": {},
   "outputs": [],
   "source": [
    "#Four basic types of data\n",
    "\n",
    "#Strings    str      They are written in double quotes or single quotes    Can be any letter digit word sentence symbol\n",
    "#Integer    int      complete numbers without decimal part     78  -50   0\n",
    "#Float      float    numbers with decimal part      20.5   198.78   -9.80\n",
    "#Boolean    bool     True , False"
   ]
  },
  {
   "cell_type": "code",
   "execution_count": 9,
   "id": "663bae12",
   "metadata": {},
   "outputs": [
    {
     "name": "stdout",
     "output_type": "stream",
     "text": [
      "Hello World\n",
      "105\n",
      "9.67\n",
      "True\n"
     ]
    }
   ],
   "source": [
    "print('Hello World')  #String\n",
    "print(105)            #Integer\n",
    "print(9.67)           #Float\n",
    "print(True)           #Boolean"
   ]
  },
  {
   "cell_type": "code",
   "execution_count": 16,
   "id": "6137bd10",
   "metadata": {},
   "outputs": [
    {
     "name": "stdout",
     "output_type": "stream",
     "text": [
      "<class 'str'>\n",
      "<class 'int'>\n",
      "<class 'float'>\n",
      "<class 'bool'>\n"
     ]
    }
   ],
   "source": [
    "print(type('Hello World'))       #  type( )\n",
    "print(type(105))            \n",
    "print(type(9.75))           \n",
    "print(type(True))   "
   ]
  },
  {
   "cell_type": "code",
   "execution_count": 1,
   "id": "2dbda4a9",
   "metadata": {},
   "outputs": [
    {
     "name": "stdout",
     "output_type": "stream",
     "text": [
      "10\n",
      "3\n",
      "Sunny\n",
      "True\n",
      "<class 'int'>\n",
      "<class 'int'>\n",
      "<class 'str'>\n",
      "<class 'bool'>\n"
     ]
    }
   ],
   "source": [
    "number=20       #name     Assigment operator    value of any data type\n",
    "\n",
    "#The name of variable should consist of letters digits and _ (underscore)\n",
    "#The starting letter should be an alphabet or _\n",
    "# Variable names cannot be built in keywords\n",
    "\n",
    "#Syntax means the rules to write a code\n",
    "num1=10\n",
    "num2=3\n",
    "name=\"Sunny\"\n",
    "rst=True\n",
    "\n",
    "print(num1)  \n",
    "print(num2)            \n",
    "print(name)           \n",
    "print(rst) \n",
    "\n",
    "\n",
    "print(type(num1))  \n",
    "print(type(num2))            \n",
    "print(type(name))           \n",
    "print(type(rst))"
   ]
  },
  {
   "cell_type": "code",
   "execution_count": 2,
   "id": "77630fa5",
   "metadata": {},
   "outputs": [
    {
     "name": "stdout",
     "output_type": "stream",
     "text": [
      "13\n",
      "7\n",
      "30\n",
      "3.3333333333333335\n",
      "10000000000\n",
      "3\n",
      "0\n"
     ]
    }
   ],
   "source": [
    "#Arithmetic Operators\n",
    "print(num1+num2)\n",
    "print(num1-num2)\n",
    "print(num1*num2)\n",
    "print(num1/num2)\n",
    "\n",
    "#Exponentiation / Power              **\n",
    "# Floor Division/ Integer division   //\n",
    "#Modulus / Remainder                 %\n",
    "\n",
    "print(num1**10)\n",
    "print(num1//num2)\n",
    "\n",
    "print(10%2)\n",
    "\n",
    "\n",
    "\n",
    "\n",
    "\n",
    "\n",
    "\n"
   ]
  }
 ],
 "metadata": {
  "kernelspec": {
   "display_name": "Python 3",
   "language": "python",
   "name": "python3"
  },
  "language_info": {
   "codemirror_mode": {
    "name": "ipython",
    "version": 3
   },
   "file_extension": ".py",
   "mimetype": "text/x-python",
   "name": "python",
   "nbconvert_exporter": "python",
   "pygments_lexer": "ipython3",
   "version": "3.8.8"
  }
 },
 "nbformat": 4,
 "nbformat_minor": 5
}
