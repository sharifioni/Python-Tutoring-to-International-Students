{
 "cells": [
  {
   "cell_type": "code",
   "execution_count": 16,
   "id": "5589794b",
   "metadata": {},
   "outputs": [
    {
     "name": "stdout",
     "output_type": "stream",
     "text": [
      "The value of product is           21 during iteration Number 1         \n",
      "The value of product is           63 during iteration Number 2         \n",
      "The value of product is          189 during iteration Number 3         \n",
      "The value of product is          567 during iteration Number 4         \n",
      "The value of product is         1701 during iteration Number 5         \n",
      "The value of product is         5103 during iteration Number 6         \n",
      "The value of product is        15309 during iteration Number 7         \n",
      "The value of product is        45927 during iteration Number 8         \n",
      "The value of product is       137781 during iteration Number 9         \n",
      "The value of product is       413343 during iteration Number 10        \n",
      "The value of product is      1240029 during iteration Number 11        \n",
      "The value of product is      3720087 during iteration Number 12        \n",
      "The value of product is     11160261 during iteration Number 13        \n",
      "The value of product is     33480783 during iteration Number 14        \n",
      "The value of product is    100442349 during iteration Number 15        \n",
      "The value of product is    301327047 during iteration Number 16        \n",
      "The value of product is    903981141 during iteration Number 17        \n",
      "The value of product is   2711943423 during iteration Number 18        \n",
      "The value of product is   8135830269 during iteration Number 19        \n",
      "The value of product is  24407490807 during iteration Number 20        \n"
     ]
    }
   ],
   "source": [
    "#While loop runs until the condition is True\n",
    "product=7\n",
    "n=0\n",
    "while not False: # 567 < 500 ,  #Infinite loop (Logical Error)\n",
    "    product*=3     #567\n",
    "    n+=1\n",
    "    print(f\"The value of product is {product:>12} during iteration Number {n:<10}\")\n",
    "    if n==20:\n",
    "        break\n",
    "    \n"
   ]
  },
  {
   "cell_type": "code",
   "execution_count": 18,
   "id": "f22a1100",
   "metadata": {},
   "outputs": [
    {
     "name": "stdout",
     "output_type": "stream",
     "text": [
      "Enter first number: 10\n",
      "Enter second number: 5\n",
      "1. Press '+' for Addition                2. Press '-' for Subtraction*\n",
      "You entered a wrong operator\n"
     ]
    }
   ],
   "source": [
    "#Making a simple calculator\n",
    "#Modify this code and keep on taking the values until the user is interested to exit\n",
    "#While, while loop will end when user prefers to exit or quit\n",
    "# * , / , % , **\n",
    "num1=int(input(\"Enter first number: \"))\n",
    "num2=int(input(\"Enter second number: \"))\n",
    "operator=input(\"1. Press '+' for Addition\\\n",
    "                2. Press '-' for Subtraction\")\n",
    "if operator == '+':\n",
    "    print(f\"The addition of {num1} and {num2} is {num1+num2}\")\n",
    "elif operator =='-':\n",
    "    print(f\"The subtraction of {num1} and {num2} is {num1-num2}\")\n",
    "else:\n",
    "    print(\"You entered a wrong operator\")"
   ]
  },
  {
   "cell_type": "code",
   "execution_count": 20,
   "id": "f06d70eb",
   "metadata": {},
   "outputs": [
    {
     "name": "stdout",
     "output_type": "stream",
     "text": [
      "Enter grade, -1 to end: 24\n",
      "Enter grade, -1 to end: 54\n",
      "Enter grade, -1 to end: 32\n",
      "Enter grade, -1 to end: 98\n",
      "Enter grade, -1 to end: 76\n",
      "Enter grade, -1 to end: 54\n",
      "Enter grade, -1 to end: -1\n",
      "Class average is 56.33\n"
     ]
    }
   ],
   "source": [
    "\n",
    "\"\"\"Class average program with sentinel-controlled iteration.\"\"\"\n",
    "\n",
    "# initialization phase\n",
    "total = 0 # sum of grades\n",
    "grade_counter = 0 # number of grades entered\n",
    "\n",
    "# processing phase\n",
    "grade = int(input('Enter grade, -1 to end: ')) # get one grade\n",
    "\n",
    "while grade != -1:\n",
    "    total += grade\n",
    "    grade_counter += 1\n",
    "    grade = int(input('Enter grade, -1 to end: '))\n",
    "\n",
    " # termination phase\n",
    "if grade_counter != 0:\n",
    "    average = total / grade_counter\n",
    "    print(f'Class average is {average:.2f}')\n",
    "else:\n",
    "    print('No grades were entered')"
   ]
  },
  {
   "cell_type": "code",
   "execution_count": 22,
   "id": "ff436063",
   "metadata": {},
   "outputs": [
    {
     "name": "stdout",
     "output_type": "stream",
     "text": [
      "0 1 2 3 4 6 7 8 9 "
     ]
    }
   ],
   "source": [
    "for number in range(10):  #number= 0 , 1 , 2 , 3 , 4 , 5 , 6 , 7 ,8 , 9\n",
    "    if number == 5:\n",
    "        continue\n",
    "    print(number, end=' ')"
   ]
  }
 ],
 "metadata": {
  "kernelspec": {
   "display_name": "Python 3",
   "language": "python",
   "name": "python3"
  },
  "language_info": {
   "codemirror_mode": {
    "name": "ipython",
    "version": 3
   },
   "file_extension": ".py",
   "mimetype": "text/x-python",
   "name": "python",
   "nbconvert_exporter": "python",
   "pygments_lexer": "ipython3",
   "version": "3.8.8"
  }
 },
 "nbformat": 4,
 "nbformat_minor": 5
}
