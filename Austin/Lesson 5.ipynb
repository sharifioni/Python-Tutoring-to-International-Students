{
 "cells": [
  {
   "cell_type": "code",
   "execution_count": 4,
   "id": "1fd28083",
   "metadata": {},
   "outputs": [
    {
     "name": "stdout",
     "output_type": "stream",
     "text": [
      "Enter two integers, and I will tell you the relationships they satisfy.\n",
      "Enter first integer: 2\n",
      "Enter second integer: 5\n",
      "2 is not equal to 5\n",
      "2 is less than 5\n",
      "2 is less than or equal to 5\n",
      "This is part of last if\n"
     ]
    }
   ],
   "source": [
    "\"\"\"Comparing integers using if statements and comparison operators.\"\"\"\n",
    "\n",
    "print('Enter two integers, and I will tell you',\n",
    "'the relationships they satisfy.')\n",
    "\n",
    "# read first integer\n",
    "number1 = int(input('Enter first integer: '))\n",
    "# read second integer\n",
    "number2 = int(input('Enter second integer: '))\n",
    "\n",
    "if number1 == number2:\n",
    "    print(number1, 'is equal to', number2)\n",
    "\n",
    "if number1 != number2:\n",
    "    print(number1, 'is not equal to', number2)\n",
    "\n",
    "if number1 < number2:\n",
    "    print(number1, 'is less than', number2)\n",
    "\n",
    "if number1 > number2:\n",
    "    print(number1, 'is greater than', number2)\n",
    "\n",
    "if number1 <= number2:\n",
    "    print(number1, 'is less than or equal to', number2)\n",
    "    \n",
    "if number1 >= number2:\n",
    "    print(number1, 'is greater than or equal to', number2)\n"
   ]
  },
  {
   "cell_type": "code",
   "execution_count": 5,
   "id": "fe49db36",
   "metadata": {},
   "outputs": [
    {
     "name": "stdout",
     "output_type": "stream",
     "text": [
      "Enter two integers, and I will tell you the relationships they satisfy.\n",
      "Enter first integer: 3\n",
      "Enter second integer: 5\n",
      "3 is not equal to 5\n"
     ]
    }
   ],
   "source": [
    "\"\"\"Comparing integers using if statements and comparison operators.\"\"\"\n",
    "\n",
    "print('Enter two integers, and I will tell you',\n",
    "'the relationships they satisfy.')\n",
    "\n",
    "# read first integer\n",
    "number1 = int(input('Enter first integer: '))\n",
    "# read second integer\n",
    "number2 = int(input('Enter second integer: '))\n",
    "\n",
    "if number1 == number2:\n",
    "    print(number1, 'is equal to', number2)\n",
    "\n",
    "elif number1 != number2:\n",
    "    print(number1, 'is not equal to', number2)\n",
    "\n",
    "\n",
    "elif number1 < number2:\n",
    "    print(number1, 'is less than', number2)\n",
    "\n",
    "elif number1 > number2:\n",
    "    print(number1, 'is greater than', number2)\n",
    "\n",
    "elif number1 <= number2:\n",
    "    print(number1, 'is less than or equal to', number2)\n",
    "    \n",
    "elif number1 >= number2:\n",
    "    print(number1, 'is greater than or equal to', number2)\n",
    "    \n"
   ]
  },
  {
   "cell_type": "code",
   "execution_count": 13,
   "id": "c059b171",
   "metadata": {},
   "outputs": [
    {
     "name": "stdout",
     "output_type": "stream",
     "text": [
      "You scored C in this subject:  67\n",
      "You scored A+ in this subject:  90\n",
      "You scored A in this subject:  85\n",
      "You scored B in this subject:  75\n"
     ]
    }
   ],
   "source": [
    "#Lists  (They take multiple values inside square brackets and can be of any data type)\n",
    "grades=[67,90,85,75]\n",
    "for values in grades:\n",
    "    if values in range(60,70):\n",
    "        print(\"You scored C in this subject: \",values)\n",
    "    if values in range(70,80):\n",
    "        print(\"You scored B in this subject: \",values)\n",
    "    if values in range(80,90):\n",
    "        print(\"You scored A in this subject: \",values)\n",
    "    if values in range(90,101):\n",
    "        print(\"You scored A+ in this subject: \",values)\n",
    "        "
   ]
  },
  {
   "cell_type": "code",
   "execution_count": 14,
   "id": "0ae3dc7b",
   "metadata": {},
   "outputs": [
    {
     "name": "stdout",
     "output_type": "stream",
     "text": [
      "You scored C in this subject:  67\n",
      "You scored A+ in this subject:  90\n",
      "You scored A in this subject:  85\n",
      "You scored B in this subject:  75\n"
     ]
    }
   ],
   "source": [
    "#Lists  (They take multiple values inside square brackets and can be of any data type)\n",
    "grades=[67,90,85,75]\n",
    "for values in grades:\n",
    "    #Chain Comparisons\n",
    "    if 60<=values<70:\n",
    "        print(\"You scored C in this subject: \",values)\n",
    "    if 70<=values<80:\n",
    "        print(\"You scored B in this subject: \",values)\n",
    "    if 80<=values<90:\n",
    "        print(\"You scored A in this subject: \",values)\n",
    "    if 90<=values<101:\n",
    "        print(\"You scored A+ in this subject: \",values)\n",
    "        "
   ]
  },
  {
   "cell_type": "code",
   "execution_count": 16,
   "id": "1f4978c1",
   "metadata": {},
   "outputs": [
    {
     "name": "stdout",
     "output_type": "stream",
     "text": [
      "You scored C in this subject:  67\n",
      "You scored A+ in this subject:  90\n",
      "You scored A in this subject:  85\n",
      "You scored B in this subject:  75\n",
      "You failed in this subject 55\n"
     ]
    }
   ],
   "source": [
    "#Lists  (They take multiple values inside square brackets and can be of any data type)\n",
    "grades=[67,90,85,75,55]\n",
    "for values in grades:\n",
    "    #Chain Comparisons\n",
    "    if values>=90:\n",
    "        print(\"You scored A+ in this subject: \",values)\n",
    "    elif values>=80:\n",
    "        print(\"You scored A in this subject: \",values)\n",
    "    elif values>=70:\n",
    "        print(\"You scored B in this subject: \",values)\n",
    "    elif values>=60:\n",
    "        print(\"You scored C in this subject: \",values)\n",
    "    else:\n",
    "        print(\"You failed in this subject:\",values)"
   ]
  },
  {
   "cell_type": "code",
   "execution_count": 1,
   "id": "e75296bc",
   "metadata": {},
   "outputs": [
    {
     "name": "stdout",
     "output_type": "stream",
     "text": [
      "This is else part\n"
     ]
    }
   ],
   "source": [
    "# 0 is false\n",
    "#All other numbers are true\n",
    "#Empty string is false\n",
    "#Any string is true\n",
    "if 0:\n",
    "    print(\"This is if part\")\n",
    "else:\n",
    "    print(\"This is else part\")"
   ]
  },
  {
   "cell_type": "code",
   "execution_count": 10,
   "id": "a95bc423",
   "metadata": {},
   "outputs": [
    {
     "name": "stdout",
     "output_type": "stream",
     "text": [
      "Name is null\n"
     ]
    }
   ],
   "source": [
    "name=\"\"\n",
    "if name:\n",
    "    print(\"Name exists\")\n",
    "else:\n",
    "    print(\"Name is null\")"
   ]
  }
 ],
 "metadata": {
  "kernelspec": {
   "display_name": "Python 3",
   "language": "python",
   "name": "python3"
  },
  "language_info": {
   "codemirror_mode": {
    "name": "ipython",
    "version": 3
   },
   "file_extension": ".py",
   "mimetype": "text/x-python",
   "name": "python",
   "nbconvert_exporter": "python",
   "pygments_lexer": "ipython3",
   "version": "3.8.8"
  }
 },
 "nbformat": 4,
 "nbformat_minor": 5
}
