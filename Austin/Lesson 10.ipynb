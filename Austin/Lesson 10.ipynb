{
 "cells": [
  {
   "cell_type": "code",
   "execution_count": 2,
   "id": "5976af1f",
   "metadata": {},
   "outputs": [
    {
     "name": "stdout",
     "output_type": "stream",
     "text": [
      "36\n"
     ]
    }
   ],
   "source": [
    "#Functions \n",
    "#Built-in functions   print()  type() min()  max()  sum()  \n",
    "#User Defined Functions\n",
    "#Syntax of writing a function\n",
    "#def function_name(Parameters):\n",
    "#      ......................\n",
    "#function calling\n",
    "#function returning\n",
    "\n",
    "#Write a function that gives you square of a number\n",
    "\n",
    "\n",
    "def square(num):\n",
    "    return num**2\n",
    "\n",
    "\n",
    "a=square(6)        #Function Calling\n",
    "print(a)\n",
    "\n",
    "#The value that is being passed to a function is called argument\n",
    "#The value that is received by a function variable are called parameters"
   ]
  },
  {
   "cell_type": "code",
   "execution_count": 11,
   "id": "8e248f6e",
   "metadata": {},
   "outputs": [
    {
     "name": "stdout",
     "output_type": "stream",
     "text": [
      "Square of 7  is,  49\n",
      "Square of 8  is,  64\n",
      "Hi\n"
     ]
    }
   ],
   "source": [
    "def square(num,num2):\n",
    "    print(f\"Square of {num}  is, \", num**2)\n",
    "    print(f\"Square of {num2}  is, \", num2**2)\n",
    "    \n",
    "square(7,8)\n",
    "print(\"Hi\")"
   ]
  },
  {
   "cell_type": "code",
   "execution_count": 15,
   "id": "1b06559c",
   "metadata": {},
   "outputs": [
    {
     "name": "stdout",
     "output_type": "stream",
     "text": [
      "49\n",
      "Hi\n"
     ]
    }
   ],
   "source": [
    "def square(num):\n",
    "    return num**2\n",
    "    \n",
    "print(square(7))\n",
    "print(\"Hi\")"
   ]
  },
  {
   "cell_type": "code",
   "execution_count": 25,
   "id": "2cbad76a",
   "metadata": {},
   "outputs": [
    {
     "name": "stdout",
     "output_type": "stream",
     "text": [
      "Celsius value is   0 and its Farenheit equivalent is 32.0\n",
      "Celsius value is   1 and its Farenheit equivalent is 33.8\n",
      "Celsius value is   2 and its Farenheit equivalent is 35.6\n",
      "Celsius value is   3 and its Farenheit equivalent is 37.4\n",
      "Celsius value is   4 and its Farenheit equivalent is 39.2\n",
      "Celsius value is   5 and its Farenheit equivalent is 41.0\n",
      "Celsius value is   6 and its Farenheit equivalent is 42.8\n",
      "Celsius value is   7 and its Farenheit equivalent is 44.6\n",
      "Celsius value is   8 and its Farenheit equivalent is 46.4\n",
      "Celsius value is   9 and its Farenheit equivalent is 48.2\n",
      "Celsius value is  10 and its Farenheit equivalent is 50.0\n",
      "Celsius value is  11 and its Farenheit equivalent is 51.8\n",
      "Celsius value is  12 and its Farenheit equivalent is 53.6\n",
      "Celsius value is  13 and its Farenheit equivalent is 55.400000000000006\n",
      "Celsius value is  14 and its Farenheit equivalent is 57.2\n",
      "Celsius value is  15 and its Farenheit equivalent is 59.0\n",
      "Celsius value is  16 and its Farenheit equivalent is 60.8\n",
      "Celsius value is  17 and its Farenheit equivalent is 62.6\n",
      "Celsius value is  18 and its Farenheit equivalent is 64.4\n",
      "Celsius value is  19 and its Farenheit equivalent is 66.2\n",
      "Celsius value is  20 and its Farenheit equivalent is 68.0\n",
      "Celsius value is  21 and its Farenheit equivalent is 69.80000000000001\n",
      "Celsius value is  22 and its Farenheit equivalent is 71.6\n",
      "Celsius value is  23 and its Farenheit equivalent is 73.4\n",
      "Celsius value is  24 and its Farenheit equivalent is 75.2\n",
      "Celsius value is  25 and its Farenheit equivalent is 77.0\n",
      "Celsius value is  26 and its Farenheit equivalent is 78.80000000000001\n",
      "Celsius value is  27 and its Farenheit equivalent is 80.6\n",
      "Celsius value is  28 and its Farenheit equivalent is 82.4\n",
      "Celsius value is  29 and its Farenheit equivalent is 84.2\n",
      "Celsius value is  30 and its Farenheit equivalent is 86.0\n",
      "Celsius value is  31 and its Farenheit equivalent is 87.80000000000001\n",
      "Celsius value is  32 and its Farenheit equivalent is 89.6\n",
      "Celsius value is  33 and its Farenheit equivalent is 91.4\n",
      "Celsius value is  34 and its Farenheit equivalent is 93.2\n",
      "Celsius value is  35 and its Farenheit equivalent is 95.0\n",
      "Celsius value is  36 and its Farenheit equivalent is 96.8\n",
      "Celsius value is  37 and its Farenheit equivalent is 98.60000000000001\n",
      "Celsius value is  38 and its Farenheit equivalent is 100.4\n",
      "Celsius value is  39 and its Farenheit equivalent is 102.2\n",
      "Celsius value is  40 and its Farenheit equivalent is 104.0\n",
      "Celsius value is  41 and its Farenheit equivalent is 105.8\n",
      "Celsius value is  42 and its Farenheit equivalent is 107.60000000000001\n",
      "Celsius value is  43 and its Farenheit equivalent is 109.4\n",
      "Celsius value is  44 and its Farenheit equivalent is 111.2\n",
      "Celsius value is  45 and its Farenheit equivalent is 113.0\n",
      "Celsius value is  46 and its Farenheit equivalent is 114.8\n",
      "Celsius value is  47 and its Farenheit equivalent is 116.60000000000001\n",
      "Celsius value is  48 and its Farenheit equivalent is 118.4\n",
      "Celsius value is  49 and its Farenheit equivalent is 120.2\n",
      "Celsius value is  50 and its Farenheit equivalent is 122.0\n",
      "Celsius value is  51 and its Farenheit equivalent is 123.8\n",
      "Celsius value is  52 and its Farenheit equivalent is 125.60000000000001\n",
      "Celsius value is  53 and its Farenheit equivalent is 127.4\n",
      "Celsius value is  54 and its Farenheit equivalent is 129.2\n",
      "Celsius value is  55 and its Farenheit equivalent is 131.0\n",
      "Celsius value is  56 and its Farenheit equivalent is 132.8\n",
      "Celsius value is  57 and its Farenheit equivalent is 134.60000000000002\n",
      "Celsius value is  58 and its Farenheit equivalent is 136.4\n",
      "Celsius value is  59 and its Farenheit equivalent is 138.2\n",
      "Celsius value is  60 and its Farenheit equivalent is 140.0\n",
      "Celsius value is  61 and its Farenheit equivalent is 141.8\n",
      "Celsius value is  62 and its Farenheit equivalent is 143.60000000000002\n",
      "Celsius value is  63 and its Farenheit equivalent is 145.4\n",
      "Celsius value is  64 and its Farenheit equivalent is 147.2\n",
      "Celsius value is  65 and its Farenheit equivalent is 149.0\n",
      "Celsius value is  66 and its Farenheit equivalent is 150.8\n",
      "Celsius value is  67 and its Farenheit equivalent is 152.60000000000002\n",
      "Celsius value is  68 and its Farenheit equivalent is 154.4\n",
      "Celsius value is  69 and its Farenheit equivalent is 156.2\n",
      "Celsius value is  70 and its Farenheit equivalent is 158.0\n",
      "Celsius value is  71 and its Farenheit equivalent is 159.8\n",
      "Celsius value is  72 and its Farenheit equivalent is 161.6\n",
      "Celsius value is  73 and its Farenheit equivalent is 163.4\n",
      "Celsius value is  74 and its Farenheit equivalent is 165.20000000000002\n",
      "Celsius value is  75 and its Farenheit equivalent is 167.0\n",
      "Celsius value is  76 and its Farenheit equivalent is 168.8\n",
      "Celsius value is  77 and its Farenheit equivalent is 170.6\n",
      "Celsius value is  78 and its Farenheit equivalent is 172.4\n",
      "Celsius value is  79 and its Farenheit equivalent is 174.20000000000002\n",
      "Celsius value is  80 and its Farenheit equivalent is 176.0\n",
      "Celsius value is  81 and its Farenheit equivalent is 177.8\n",
      "Celsius value is  82 and its Farenheit equivalent is 179.6\n",
      "Celsius value is  83 and its Farenheit equivalent is 181.4\n",
      "Celsius value is  84 and its Farenheit equivalent is 183.20000000000002\n",
      "Celsius value is  85 and its Farenheit equivalent is 185.0\n",
      "Celsius value is  86 and its Farenheit equivalent is 186.8\n",
      "Celsius value is  87 and its Farenheit equivalent is 188.6\n",
      "Celsius value is  88 and its Farenheit equivalent is 190.4\n",
      "Celsius value is  89 and its Farenheit equivalent is 192.20000000000002\n",
      "Celsius value is  90 and its Farenheit equivalent is 194.0\n",
      "Celsius value is  91 and its Farenheit equivalent is 195.8\n",
      "Celsius value is  92 and its Farenheit equivalent is 197.6\n",
      "Celsius value is  93 and its Farenheit equivalent is 199.4\n",
      "Celsius value is  94 and its Farenheit equivalent is 201.20000000000002\n",
      "Celsius value is  95 and its Farenheit equivalent is 203.0\n",
      "Celsius value is  96 and its Farenheit equivalent is 204.8\n",
      "Celsius value is  97 and its Farenheit equivalent is 206.6\n",
      "Celsius value is  98 and its Farenheit equivalent is 208.4\n",
      "Celsius value is  99 and its Farenheit equivalent is 210.20000000000002\n",
      "Celsius value is 100 and its Farenheit equivalent is 212.0\n"
     ]
    }
   ],
   "source": [
    "def farenheit(cel):\n",
    "    F=(9/5)*cel+32\n",
    "    return F\n",
    "\n",
    "\n",
    "for celsius in range(0,101):\n",
    "    print(f\"Celsius value is {celsius:>3} and its Farenheit equivalent is {farenheit(celsius)}\")\n",
    "\n",
    "\n",
    "\n",
    "    "
   ]
  }
 ],
 "metadata": {
  "kernelspec": {
   "display_name": "Python 3 (ipykernel)",
   "language": "python",
   "name": "python3"
  },
  "language_info": {
   "codemirror_mode": {
    "name": "ipython",
    "version": 3
   },
   "file_extension": ".py",
   "mimetype": "text/x-python",
   "name": "python",
   "nbconvert_exporter": "python",
   "pygments_lexer": "ipython3",
   "version": "3.9.7"
  }
 },
 "nbformat": 4,
 "nbformat_minor": 5
}
