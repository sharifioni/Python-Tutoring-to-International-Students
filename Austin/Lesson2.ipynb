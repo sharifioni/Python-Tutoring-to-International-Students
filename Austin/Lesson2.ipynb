{
 "cells": [
  {
   "cell_type": "markdown",
   "id": "7766a6ef",
   "metadata": {},
   "source": [
    "# Concatenation\n",
    "#String formatting\n",
    "type conversion\n",
    "#fstrings\n",
    "#Operator Precedence\n",
    "#input function"
   ]
  },
  {
   "cell_type": "code",
   "execution_count": 2,
   "id": "17c93804",
   "metadata": {},
   "outputs": [
    {
     "name": "stdout",
     "output_type": "stream",
     "text": [
      "Today is tuesday Tomorrow is wednesday\n"
     ]
    }
   ],
   "source": [
    "str1=\"Today is tuesday \"\n",
    "str2=\"Tomorrow is wednesday\"\n",
    "print(str1+str2)  #Concatenation or joining two strings"
   ]
  },
  {
   "cell_type": "code",
   "execution_count": 4,
   "id": "1d978683",
   "metadata": {},
   "outputs": [
    {
     "name": "stdout",
     "output_type": "stream",
     "text": [
      "Today is tuesday Tomorrow is wednesday\n"
     ]
    }
   ],
   "source": [
    "str3=str1+str2\n",
    "print(str3)     #We cannot concatenate str with integer or float value"
   ]
  },
  {
   "cell_type": "markdown",
   "id": "2fd73fa0",
   "metadata": {},
   "source": [
    "# Type Conversion"
   ]
  },
  {
   "cell_type": "code",
   "execution_count": 13,
   "id": "c843583f",
   "metadata": {},
   "outputs": [
    {
     "name": "stdout",
     "output_type": "stream",
     "text": [
      "<class 'int'>\n",
      "38\n",
      "<class 'str'>\n",
      "58.75\n",
      "<class 'str'>\n",
      "780\n",
      "<class 'int'>\n",
      "780.0\n",
      "<class 'float'>\n"
     ]
    },
    {
     "ename": "ValueError",
     "evalue": "invalid literal for int() with base 10: 'Friday'",
     "output_type": "error",
     "traceback": [
      "\u001b[1;31m---------------------------------------------------------------------------\u001b[0m",
      "\u001b[1;31mValueError\u001b[0m                                Traceback (most recent call last)",
      "\u001b[1;32m<ipython-input-13-0e7cf2595b5e>\u001b[0m in \u001b[0;36m<module>\u001b[1;34m\u001b[0m\n\u001b[0;32m     21\u001b[0m \u001b[1;33m\u001b[0m\u001b[0m\n\u001b[0;32m     22\u001b[0m \u001b[0mstr2\u001b[0m\u001b[1;33m=\u001b[0m\u001b[1;34m\"Friday\"\u001b[0m\u001b[1;33m\u001b[0m\u001b[1;33m\u001b[0m\u001b[0m\n\u001b[1;32m---> 23\u001b[1;33m \u001b[0mnum7\u001b[0m\u001b[1;33m=\u001b[0m\u001b[0mint\u001b[0m\u001b[1;33m(\u001b[0m\u001b[0mstr2\u001b[0m\u001b[1;33m)\u001b[0m\u001b[1;33m\u001b[0m\u001b[1;33m\u001b[0m\u001b[0m\n\u001b[0m\u001b[0;32m     24\u001b[0m \u001b[0mprint\u001b[0m\u001b[1;33m(\u001b[0m\u001b[0mnum7\u001b[0m\u001b[1;33m)\u001b[0m\u001b[1;33m\u001b[0m\u001b[1;33m\u001b[0m\u001b[0m\n",
      "\u001b[1;31mValueError\u001b[0m: invalid literal for int() with base 10: 'Friday'"
     ]
    }
   ],
   "source": [
    "num1=38\n",
    "num2=58.75\n",
    "str1=\"780\"\n",
    "\n",
    "num3=str(num1)    #integer to string conversion\n",
    "num4=str(num2)    #float to string conversion\n",
    "print(type(num1))\n",
    "print(num3)\n",
    "print(type(num3))\n",
    "print(num4)\n",
    "print(type(num4))\n",
    "\n",
    "num5=int(str1)    #String to Integer conversion\n",
    "print(num5)\n",
    "print(type(num5))\n",
    "\n",
    "\n",
    "num6=float(str1)    #String to float conversion\n",
    "print(num6)\n",
    "print(type(num6))\n",
    "\n",
    "str2=\"Friday\"\n",
    "num7=int(str2)      #Wrong type conversion\n",
    "print(num7)      "
   ]
  },
  {
   "cell_type": "markdown",
   "id": "61ad0bfd",
   "metadata": {},
   "source": [
    "# String formatting"
   ]
  },
  {
   "cell_type": "code",
   "execution_count": 2,
   "id": "88ca6885",
   "metadata": {},
   "outputs": [
    {
     "name": "stdout",
     "output_type": "stream",
     "text": [
      "My age is 23 I was born in 1998\n",
      "My age is 23 I was born in 1998\n"
     ]
    }
   ],
   "source": [
    "#Writing Integer or float values with the strings inside print() function\n",
    "age=23\n",
    "print(\"My age is \"+ str(age)+\" I was born in \"+str(1998))  #1. Using type conversion\n",
    "\n",
    "print(\"My age is\",age,\"I was born in \"+str(1998))     #2. Using separator ,\n"
   ]
  },
  {
   "cell_type": "code",
   "execution_count": 25,
   "id": "5e489ca4",
   "metadata": {},
   "outputs": [
    {
     "name": "stdout",
     "output_type": "stream",
     "text": [
      "My age is 23 and I was born in 1998. I have 3 cars\n"
     ]
    }
   ],
   "source": [
    "print(\"My age is {} and I was born in {}. I have {} cars\".format(age,1998,3))  #3. Using string formatting"
   ]
  },
  {
   "cell_type": "markdown",
   "id": "1e2b03a9",
   "metadata": {},
   "source": [
    "# fStrings"
   ]
  },
  {
   "cell_type": "code",
   "execution_count": 4,
   "id": "bb4451ce",
   "metadata": {},
   "outputs": [
    {
     "name": "stdout",
     "output_type": "stream",
     "text": [
      "My age is 23 and I was born in 1998. I have 3 cars. And I know 5 multiply by 2.5 is 12.5\n"
     ]
    }
   ],
   "source": [
    "print(f\"My age is {age} and I was born in {1998}. I have {3} cars. And I know {5} multiply by {2.5} is {5*2.5}\") #4th way"
   ]
  },
  {
   "cell_type": "markdown",
   "id": "f6d482b6",
   "metadata": {},
   "source": [
    "# Operator Precedence"
   ]
  },
  {
   "cell_type": "code",
   "execution_count": 28,
   "id": "458245c8",
   "metadata": {},
   "outputs": [
    {
     "name": "stdout",
     "output_type": "stream",
     "text": [
      "195.0\n"
     ]
    }
   ],
   "source": [
    "#(2+2)*2-2\n",
    "# B E  DM  AS\n",
    "expr=13*4**2+8/4-(10+5)         #13*4**2+8/4-15    13*16+8/4-15  208+8/4-15    208+2.0-15       210.0-15    195.0\n",
    "print(expr)"
   ]
  },
  {
   "cell_type": "markdown",
   "id": "1825c4d8",
   "metadata": {},
   "source": [
    "# Input() Function------ Getting input from user"
   ]
  },
  {
   "cell_type": "code",
   "execution_count": 32,
   "id": "49b6de23",
   "metadata": {},
   "outputs": [
    {
     "name": "stdout",
     "output_type": "stream",
     "text": [
      "Enter first number: 5\n",
      "Enter second number: 10\n",
      "15\n"
     ]
    }
   ],
   "source": [
    "value1=int(input(\"Enter first number: \"))\n",
    "value2=int(input(\"Enter second number: \"))\n",
    "day=input(\"What are you learning: \")\n"
   ]
  },
  {
   "cell_type": "code",
   "execution_count": 6,
   "id": "99a9a124",
   "metadata": {},
   "outputs": [],
   "source": [
    "#3 numbers from user. Integer. Sum as well as average\n",
    "# The sum is  {}  and their average is {}"
   ]
  },
  {
   "cell_type": "code",
   "execution_count": null,
   "id": "26f44975",
   "metadata": {},
   "outputs": [],
   "source": []
  }
 ],
 "metadata": {
  "kernelspec": {
   "display_name": "Python 3",
   "language": "python",
   "name": "python3"
  },
  "language_info": {
   "codemirror_mode": {
    "name": "ipython",
    "version": 3
   },
   "file_extension": ".py",
   "mimetype": "text/x-python",
   "name": "python",
   "nbconvert_exporter": "python",
   "pygments_lexer": "ipython3",
   "version": "3.8.8"
  }
 },
 "nbformat": 4,
 "nbformat_minor": 5
}
