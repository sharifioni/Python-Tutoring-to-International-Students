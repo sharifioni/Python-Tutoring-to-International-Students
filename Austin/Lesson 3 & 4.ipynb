{
 "cells": [
  {
   "cell_type": "markdown",
   "id": "f49f6407",
   "metadata": {},
   "source": [
    "#Comparison operators"
   ]
  },
  {
   "cell_type": "code",
   "execution_count": 4,
   "id": "f2a8bf91",
   "metadata": {},
   "outputs": [
    {
     "name": "stdout",
     "output_type": "stream",
     "text": [
      "x is less than y False\n",
      "x is greater than y False\n",
      "x is less than equal to y True\n",
      "x is greater than equal to y True\n",
      "x is equal to y True\n",
      "x is not equal to y False\n"
     ]
    }
   ],
   "source": [
    "x=5\n",
    "y=5\n",
    "z=6\n",
    "\n",
    "print(\"x is less than y\",x<y)\n",
    "print(\"x is greater than y\",x>y)\n",
    "print(\"x is less than equal to y\",x<=y)\n",
    "print(\"x is greater than equal to y\",x>=y)\n",
    "print(\"x is equal to y\",x==y)\n",
    "print(\"x is not equal to y\",x!=y)\n"
   ]
  },
  {
   "cell_type": "code",
   "execution_count": null,
   "id": "51e6f765",
   "metadata": {},
   "outputs": [],
   "source": [
    "#Logical Operators"
   ]
  },
  {
   "cell_type": "code",
   "execution_count": 9,
   "id": "e8c49f74",
   "metadata": {},
   "outputs": [
    {
     "name": "stdout",
     "output_type": "stream",
     "text": [
      "False\n",
      "False\n",
      "True\n",
      "False\n"
     ]
    }
   ],
   "source": [
    "\n",
    "# and ,  or, not\n",
    "  \n",
    "#and operator \n",
    "print(x==y and x<z  and y>z)     #All conditions are true it gives you True as a result otherwise False\n",
    "print(x==y and x>z)     #True----False  ===== False\n",
    "\n",
    "#or operator\n",
    "#If one of the conditions is True it will return true and all of the conditions are it will return False\n",
    "print(x==y or x>z)\n",
    "print(x!=y or x>y)\n"
   ]
  },
  {
   "cell_type": "code",
   "execution_count": 6,
   "id": "278f4de0",
   "metadata": {},
   "outputs": [
    {
     "name": "stdout",
     "output_type": "stream",
     "text": [
      "This is if block\n",
      "This is still if block\n",
      "We are out of if else block\n"
     ]
    }
   ],
   "source": [
    "#Syntax for writing if and else\n",
    "x=5\n",
    "y=6\n",
    "if False:                                  #Indentation\n",
    "    print(\"This is if block\")\n",
    "    print(\"This is still if block\")\n",
    "                                                                         \n",
    "\n",
    "else:\n",
    "    print(\"This is part of else block\")\n",
    "\n",
    "\n",
    "print(\"We are out of if else block\")"
   ]
  },
  {
   "cell_type": "code",
   "execution_count": 18,
   "id": "ab4c9a12",
   "metadata": {},
   "outputs": [
    {
     "name": "stdout",
     "output_type": "stream",
     "text": [
      "x is equal to y\n"
     ]
    }
   ],
   "source": [
    "x=5\n",
    "y=5\n",
    "if x!=y or x<=y:                                  \n",
    "    print(\"x is equal to y\")\n",
    "    \n",
    "                                                                         \n",
    "\n",
    "else:\n",
    "    print(\"x is not equal to y\")"
   ]
  },
  {
   "cell_type": "code",
   "execution_count": 43,
   "id": "f6cdd3c8",
   "metadata": {},
   "outputs": [
    {
     "name": "stdout",
     "output_type": "stream",
     "text": [
      "Enter lower range: 1\n",
      "Enter upper range: 300\n",
      "[3, 6, 9, 12, 15, 18, 21, 24, 27, 30, 33, 36, 39, 42, 45, 48, 51, 54, 57, 60, 63, 66, 69, 72, 75, 78, 81, 84, 87, 90, 93, 96, 99, 102, 105, 108, 111, 114, 117, 120, 123, 126, 129, 132, 135, 138, 141, 144, 147, 150, 153, 156, 159, 162, 165, 168, 171, 174, 177, 180, 183, 186, 189, 192, 195, 198, 201, 204, 207, 210, 213, 216, 219, 222, 225, 228, 231, 234, 237, 240, 243, 246, 249, 252, 255, 258, 261, 264, 267, 270, 273, 276, 279, 282, 285, 288, 291, 294, 297, 300]\n"
     ]
    }
   ],
   "source": [
    "#Writing a program to check if the number is even or odd\n",
    "\"\"\"\n",
    "this is a\n",
    "muliline comment\n",
    "\"\"\"\n",
    "number_lower=int(input(\"Enter lower range: \"))\n",
    "number_upper=int(input(\"Enter upper range: \"))\n",
    "Multiple_3=[]\n",
    "\n",
    "if number_lower<number_upper:\n",
    "    \n",
    "    for number in range(number_lower,number_upper+1): \n",
    "        \n",
    "        if number%3==0:\n",
    "            Multiple_3.append(number)\n",
    "            \n",
    "print(Multiple_3)\n",
    "        \n"
   ]
  },
  {
   "cell_type": "code",
   "execution_count": 51,
   "id": "546f9f77",
   "metadata": {},
   "outputs": [
    {
     "name": "stdout",
     "output_type": "stream",
     "text": [
      "Enter first integer: 12\n",
      "Enter second integer: 8\n",
      "Enter third integer: 16\n",
      "Minimum value is 8\n"
     ]
    }
   ],
   "source": [
    " \"\"\"Find the minimum of three values.\"\"\"\n",
    "\n",
    "number1 = int(input('Enter first integer: '))\n",
    "number2 = int(input('Enter second integer: '))\n",
    "number3 = int(input('Enter third integer: '))\n",
    "\n",
    "maximum = number1\n",
    "\n",
    "if number2 > maximum:\n",
    "    minimum = number2\n",
    "if number3 > maximum:\n",
    "    minimum = number3\n",
    "\n",
    "print('Minimum value is', minimum)"
   ]
  },
  {
   "cell_type": "code",
   "execution_count": null,
   "id": "2a7a6ca1",
   "metadata": {},
   "outputs": [],
   "source": []
  },
  {
   "cell_type": "code",
   "execution_count": null,
   "id": "355966b2",
   "metadata": {},
   "outputs": [],
   "source": []
  },
  {
   "cell_type": "code",
   "execution_count": null,
   "id": "2cc2f23b",
   "metadata": {},
   "outputs": [],
   "source": []
  },
  {
   "cell_type": "code",
   "execution_count": null,
   "id": "17a9a86c",
   "metadata": {},
   "outputs": [],
   "source": []
  },
  {
   "cell_type": "code",
   "execution_count": null,
   "id": "3e76debe",
   "metadata": {},
   "outputs": [],
   "source": []
  }
 ],
 "metadata": {
  "kernelspec": {
   "display_name": "Python 3",
   "language": "python",
   "name": "python3"
  },
  "language_info": {
   "codemirror_mode": {
    "name": "ipython",
    "version": 3
   },
   "file_extension": ".py",
   "mimetype": "text/x-python",
   "name": "python",
   "nbconvert_exporter": "python",
   "pygments_lexer": "ipython3",
   "version": "3.8.8"
  }
 },
 "nbformat": 4,
 "nbformat_minor": 5
}
