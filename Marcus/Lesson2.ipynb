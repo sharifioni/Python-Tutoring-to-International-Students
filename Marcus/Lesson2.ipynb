{
 "cells": [
  {
   "cell_type": "code",
   "execution_count": 3,
   "id": "83eecc39",
   "metadata": {},
   "outputs": [
    {
     "name": "stdout",
     "output_type": "stream",
     "text": [
      "27\n",
      "17\n",
      "110\n",
      "5.4\n",
      "5\n",
      "25\n",
      "Remainder is 1\n"
     ]
    }
   ],
   "source": [
    "print( 22+5)\n",
    "print( 22-5)\n",
    "print( 22*5)\n",
    "print( 27/5)\n",
    "print(27 // 5)\n",
    "print( 5 ** 2)\n",
    "print(\"Remainder is\",13%3)   # % is a modulus operator"
   ]
  },
  {
   "cell_type": "markdown",
   "id": "eec78289",
   "metadata": {},
   "source": [
    "# Operator Precedence\n",
    "> B E DM AS"
   ]
  },
  {
   "cell_type": "code",
   "execution_count": 4,
   "id": "758cbb0e",
   "metadata": {},
   "outputs": [
    {
     "name": "stdout",
     "output_type": "stream",
     "text": [
      "11.0\n"
     ]
    }
   ],
   "source": [
    "# 5+6*(7-3)/2**2     5+6*4/2**2     5+6*4/4  5+24/4     5+6.0        11.0\n",
    "\n",
    "print(5+6*(7-3)/2**2)"
   ]
  },
  {
   "cell_type": "markdown",
   "id": "9d3ae1c7",
   "metadata": {},
   "source": [
    "# Escape Sequences\n",
    ">These are used with strings\n",
    ">  \\ (Escape character)\n",
    ">   \\n  (New line)\n",
    ">   \\t   (Tab spaces)\n",
    ">   \\\\   (To remove the special meaning)\n",
    ">   \\'   (To include single quote)\n",
    ">   \\\"   (To include double quote)"
   ]
  },
  {
   "cell_type": "code",
   "execution_count": 7,
   "id": "7ffdab8c",
   "metadata": {},
   "outputs": [
    {
     "name": "stdout",
     "output_type": "stream",
     "text": [
      "Hello World\n",
      "Hello\tWorld\n",
      "Hello\n",
      "World\n"
     ]
    }
   ],
   "source": [
    "print(\"Hello World\")\n",
    "print(\"Hello\\tWorld\")\n"
   ]
  },
  {
   "cell_type": "code",
   "execution_count": 8,
   "id": "4b3d514a",
   "metadata": {},
   "outputs": [
    {
     "name": "stdout",
     "output_type": "stream",
     "text": [
      "Hello\n",
      "World\n",
      "Python\n"
     ]
    }
   ],
   "source": [
    "print(\"Hello\\nWorld\\nPython\")"
   ]
  },
  {
   "cell_type": "code",
   "execution_count": 10,
   "id": "918a921c",
   "metadata": {},
   "outputs": [
    {
     "name": "stdout",
     "output_type": "stream",
     "text": [
      "E:\\new.txt\n"
     ]
    }
   ],
   "source": [
    "c='E:\\\\new.txt'\n",
    "print(c)"
   ]
  },
  {
   "cell_type": "code",
   "execution_count": 13,
   "id": "525b130f",
   "metadata": {},
   "outputs": [
    {
     "name": "stdout",
     "output_type": "stream",
     "text": [
      "My mother's son is sad\n"
     ]
    }
   ],
   "source": [
    "# My mother's son is sad\n",
    "print('My mother\\'s son is sad')"
   ]
  },
  {
   "cell_type": "code",
   "execution_count": 16,
   "id": "ed344889",
   "metadata": {},
   "outputs": [
    {
     "name": "stdout",
     "output_type": "stream",
     "text": [
      "My mother said, \"you are sad\"\n"
     ]
    }
   ],
   "source": [
    "# My mother said,\"You are sad\"\n",
    "\n",
    "print(\"My mother said, \\\"you are sad\\\"\")"
   ]
  },
  {
   "cell_type": "markdown",
   "id": "684e5b60",
   "metadata": {},
   "source": [
    "# Type Casting\n",
    ">Converting from one data type to another data type\n"
   ]
  },
  {
   "cell_type": "code",
   "execution_count": 23,
   "id": "d23f7e6c",
   "metadata": {},
   "outputs": [
    {
     "name": "stdout",
     "output_type": "stream",
     "text": [
      "<class 'str'>\n",
      "<class 'int'>\n",
      "<class 'float'>\n",
      "Type of v is <class 'int'> Value of v is 88\n",
      "Type of v is <class 'str'> Value of v is 5\n",
      "Type of v is <class 'float'> Value of v is 88.0\n"
     ]
    }
   ],
   "source": [
    "\n",
    "a=\"88\"\n",
    "b=5\n",
    "c=7.8\n",
    "\n",
    "print(type(a))\n",
    "print(type(b))\n",
    "print(type(c))\n",
    "\n",
    "#Converting string to an integer using int function\n",
    "v=int(a)\n",
    "print(\"Type of v is\",type(v),\"Value of v is\",v)\n",
    "\n",
    "\n",
    "#Converting integer to a string using str function\n",
    "v=str(b)\n",
    "print(\"Type of v is\",type(v),\"Value of v is\",v)\n",
    "\n",
    "\n",
    "#Converting string to a float using float function\n",
    "v=float(a)\n",
    "print(\"Type of v is\",type(v),\"Value of v is\",v)\n",
    "\n",
    "\n",
    "#float to string\n",
    "#integer to float\n",
    "#float to integer\n",
    "\n"
   ]
  },
  {
   "cell_type": "markdown",
   "id": "4a75f745",
   "metadata": {},
   "source": [
    "# input function\n",
    "> input(\"string\")\n",
    "> Purpose of input function is to take value from the user\n",
    "> input function always returns a value in string type"
   ]
  },
  {
   "cell_type": "code",
   "execution_count": 25,
   "id": "086c0ff1",
   "metadata": {},
   "outputs": [
    {
     "name": "stdout",
     "output_type": "stream",
     "text": [
      "Enter a number: 67\n"
     ]
    },
    {
     "data": {
      "text/plain": [
       "'67'"
      ]
     },
     "execution_count": 25,
     "metadata": {},
     "output_type": "execute_result"
    }
   ],
   "source": [
    "input(\"Enter a number: \")"
   ]
  },
  {
   "cell_type": "code",
   "execution_count": 26,
   "id": "efef9896",
   "metadata": {},
   "outputs": [
    {
     "name": "stdout",
     "output_type": "stream",
     "text": [
      "Enter your name: Shah\n"
     ]
    },
    {
     "data": {
      "text/plain": [
       "'Shah'"
      ]
     },
     "execution_count": 26,
     "metadata": {},
     "output_type": "execute_result"
    }
   ],
   "source": [
    "input(\"Enter your name: \")"
   ]
  },
  {
   "cell_type": "code",
   "execution_count": 27,
   "id": "9b5b67fd",
   "metadata": {},
   "outputs": [
    {
     "name": "stdout",
     "output_type": "stream",
     "text": [
      "Enter your name: Shah\n",
      "Shah\n"
     ]
    }
   ],
   "source": [
    "person=input(\"Enter your name: \")\n",
    "print(person)"
   ]
  },
  {
   "cell_type": "code",
   "execution_count": 30,
   "id": "25ccd518",
   "metadata": {},
   "outputs": [
    {
     "name": "stdout",
     "output_type": "stream",
     "text": [
      "Enter a number: 15\n",
      "3.75\n"
     ]
    }
   ],
   "source": [
    "number=int(input(\"Enter a number: \"))  #12\n",
    "print(number/4)"
   ]
  },
  {
   "cell_type": "code",
   "execution_count": null,
   "id": "d1cf0a1f",
   "metadata": {},
   "outputs": [],
   "source": [
    "#Comparison Operators\n",
    "#Logical Operators\n",
    "#if else\n",
    "#if elif else"
   ]
  },
  {
   "cell_type": "code",
   "execution_count": 32,
   "id": "c185bc3b",
   "metadata": {},
   "outputs": [],
   "source": [
    "#2.1\n",
    "#2.2\n",
    "#2.4\n",
    "#2.5\n",
    "#2.8"
   ]
  }
 ],
 "metadata": {
  "kernelspec": {
   "display_name": "Python 3 (ipykernel)",
   "language": "python",
   "name": "python3"
  },
  "language_info": {
   "codemirror_mode": {
    "name": "ipython",
    "version": 3
   },
   "file_extension": ".py",
   "mimetype": "text/x-python",
   "name": "python",
   "nbconvert_exporter": "python",
   "pygments_lexer": "ipython3",
   "version": "3.9.7"
  }
 },
 "nbformat": 4,
 "nbformat_minor": 5
}
