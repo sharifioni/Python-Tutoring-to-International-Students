{
 "cells": [
  {
   "cell_type": "markdown",
   "id": "62f5fd20",
   "metadata": {},
   "source": [
    "# Our First Lesson"
   ]
  },
  {
   "cell_type": "markdown",
   "id": "3a98a840",
   "metadata": {},
   "source": [
    "> ()  Paranthesis\n",
    "\n",
    "> []  Square Brackets\n",
    "\n",
    "> {}  Braces"
   ]
  },
  {
   "cell_type": "code",
   "execution_count": null,
   "id": "1d9478f3",
   "metadata": {},
   "outputs": [],
   "source": [
    "#print function\n",
    "# it displays the output\n",
    "\n",
    "#Syntax\n",
    "# way of writing code, rules that are followed to write a code\n",
    "\n",
    "#Name Error\n",
    "#Syntax Error\n",
    "\n",
    "#Case Sensitive "
   ]
  },
  {
   "cell_type": "code",
   "execution_count": 14,
   "id": "b8913bb0",
   "metadata": {},
   "outputs": [
    {
     "name": "stdout",
     "output_type": "stream",
     "text": [
      "Tuesday\n"
     ]
    }
   ],
   "source": [
    "# print statement\n",
    "print('Tuesday')"
   ]
  },
  {
   "cell_type": "code",
   "execution_count": 9,
   "id": "3519ad0f",
   "metadata": {},
   "outputs": [
    {
     "name": "stdout",
     "output_type": "stream",
     "text": [
      "abc Today is tuesday We are learning Python\n"
     ]
    }
   ],
   "source": [
    "#Pass more than one value\n",
    "print(\"abc\",\"Today is tuesday\",\"We are learning Python\")"
   ]
  },
  {
   "cell_type": "code",
   "execution_count": 13,
   "id": "c198c802",
   "metadata": {},
   "outputs": [
    {
     "name": "stdout",
     "output_type": "stream",
     "text": [
      "abc--------Today is tuesday--------We are learning Python\n"
     ]
    }
   ],
   "source": [
    "#separator\n",
    "#sep\n",
    "print(\"abc\",\"Today is tuesday\",\"We are learning Python\",sep=\"--------\")"
   ]
  },
  {
   "cell_type": "markdown",
   "id": "e47bc9c3",
   "metadata": {},
   "source": [
    "# Data Types\n",
    "> String        str           Anything or any character that you write inside single quotes or double quotes is a string type                                data\n",
    "\n",
    "> Integer       int          Numbers without decimal part        5,-8,0, 10\n",
    "\n",
    "\n",
    "> Float         float        These are numbers with decimal part       5.25, -7.75,  0.000\n",
    "\n",
    "> Boolean       bool         True , False     (The first letter of True and False will always be capital)"
   ]
  },
  {
   "cell_type": "code",
   "execution_count": 15,
   "id": "924332b3",
   "metadata": {},
   "outputs": [
    {
     "name": "stdout",
     "output_type": "stream",
     "text": [
      "Tuesday\n",
      "8\n",
      "9.95\n",
      "True\n"
     ]
    }
   ],
   "source": [
    "print('Tuesday')\n",
    "print(8)\n",
    "print(9.95)\n",
    "print(True)"
   ]
  },
  {
   "cell_type": "markdown",
   "id": "fe2fd71a",
   "metadata": {},
   "source": [
    "# Type Function\n",
    "> It checks the type of a value\n",
    "\n",
    "> type( value )            str"
   ]
  },
  {
   "cell_type": "code",
   "execution_count": 21,
   "id": "438ffd8b",
   "metadata": {},
   "outputs": [
    {
     "name": "stdout",
     "output_type": "stream",
     "text": [
      "<class 'str'>\n",
      "<class 'int'>\n",
      "<class 'float'>\n",
      "<class 'bool'>\n"
     ]
    }
   ],
   "source": [
    "print(type('Tuesday'))\n",
    "print(type(8))\n",
    "print(type(9.85))\n",
    "print(type(True))"
   ]
  },
  {
   "cell_type": "markdown",
   "id": "73d7cfc4",
   "metadata": {},
   "source": [
    "# Variables\n",
    "> Variables are used to store any type of data\n",
    "\n",
    "> We use variables to use them later in the code\n",
    "\n",
    "> Names of variables should only consist of alphabets, digits or underscore\n",
    "\n",
    "> It should not be any pre defined key word\n",
    "\n",
    "> The starting letter should not be a digit"
   ]
  },
  {
   "cell_type": "code",
   "execution_count": 30,
   "id": "89066f45",
   "metadata": {},
   "outputs": [
    {
     "name": "stdout",
     "output_type": "stream",
     "text": [
      "75\n",
      "140705149300848\n",
      "87\n",
      "140705149301232\n"
     ]
    }
   ],
   "source": [
    "#      =    is an Assignment operator that assigns a value to a variable \n",
    "\n",
    "number1=75\n",
    "print(number1)\n",
    "print(id(number1))\n",
    "\n",
    "number1=87\n",
    "print(number1)\n",
    "print(id(number1))\n"
   ]
  },
  {
   "cell_type": "markdown",
   "id": "abd2089a",
   "metadata": {},
   "source": [
    "# Arithmetic Operators\n",
    "\n"
   ]
  },
  {
   "cell_type": "code",
   "execution_count": 2,
   "id": "4f8d0d27",
   "metadata": {},
   "outputs": [
    {
     "name": "stdout",
     "output_type": "stream",
     "text": [
      "27.5\n",
      "17\n",
      "110\n",
      "5.4\n",
      "5\n",
      "25\n"
     ]
    }
   ],
   "source": [
    "print( 22.5+5)\n",
    "print( 22-5)\n",
    "print( 22*5)\n",
    "print( 27/5)\n",
    "print(27 // 5)\n",
    "print( 5 ** 2)"
   ]
  }
 ],
 "metadata": {
  "kernelspec": {
   "display_name": "Python 3 (ipykernel)",
   "language": "python",
   "name": "python3"
  },
  "language_info": {
   "codemirror_mode": {
    "name": "ipython",
    "version": 3
   },
   "file_extension": ".py",
   "mimetype": "text/x-python",
   "name": "python",
   "nbconvert_exporter": "python",
   "pygments_lexer": "ipython3",
   "version": "3.9.7"
  }
 },
 "nbformat": 4,
 "nbformat_minor": 5
}
