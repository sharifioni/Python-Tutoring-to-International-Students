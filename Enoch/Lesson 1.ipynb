{
 "cells": [
  {
   "cell_type": "code",
   "execution_count": 3,
   "id": "7eb4de41",
   "metadata": {},
   "outputs": [
    {
     "name": "stdout",
     "output_type": "stream",
     "text": [
      "Enter 3 numbers, enter the first number here: 10\n",
      "Enter your 2nd number: 8\n",
      "Enter your last number: 7\n",
      "10.0 10.0 10.0\n"
     ]
    }
   ],
   "source": [
    "n1 = float(input(\"Enter 3 numbers, enter the first number here: \"))\n",
    "n2 = float(input(\"Enter your 2nd number: \"))\n",
    "n3 = float(input(\"Enter your last number: \"))\n",
    "\n",
    "\n",
    "if n2<n1:\n",
    "    t=n2\n",
    "    n2=n1\n",
    "    n1=n2\n",
    "\n",
    "if n3<n2:\n",
    "    t=n3\n",
    "    n3=n2\n",
    "    n2=n3\n",
    "    \n",
    "print(n1,n2,n3)\n",
    "\n"
   ]
  },
  {
   "cell_type": "code",
   "execution_count": 8,
   "id": "282c014b",
   "metadata": {},
   "outputs": [
    {
     "name": "stdout",
     "output_type": "stream",
     "text": [
      "       0\t       0\t       0\n",
      "       1\t       1\t       1\n",
      "       2\t       4\t       8\n",
      "       3\t       9\t      27\n",
      "       4\t      16\t      64\n",
      "       5\t      25\t     125\n"
     ]
    }
   ],
   "source": [
    "n=0\n",
    "while n<6:\n",
    "    print(f\"{n:>8}\\t{n**2:>8}\\t{n**3:>8}\")\n",
    "    n=n+1"
   ]
  },
  {
   "cell_type": "code",
   "execution_count": 12,
   "id": "62bbb84f",
   "metadata": {},
   "outputs": [
    {
     "name": "stdout",
     "output_type": "stream",
     "text": [
      "My age is  25 and my height is 6\n"
     ]
    }
   ],
   "source": [
    "age=25\n",
    "height=6\n",
    "print(\"My age is \",age,\"and my height is\",height)"
   ]
  },
  {
   "cell_type": "code",
   "execution_count": 13,
   "id": "c374fb0e",
   "metadata": {},
   "outputs": [
    {
     "name": "stdout",
     "output_type": "stream",
     "text": [
      "My age is 25 and my height is 6\n"
     ]
    }
   ],
   "source": [
    "age=25\n",
    "height=6\n",
    "print(f\"My age is {age} and my height is {height}\")"
   ]
  },
  {
   "cell_type": "code",
   "execution_count": null,
   "id": "13cfcf4f",
   "metadata": {},
   "outputs": [],
   "source": [
    "passes = 0 # number of passes\n",
    "failures = 0 # number of failures\n",
    "\n",
    "# process 10 students\n",
    "for student in range(10):\n",
    "# get one exam result\n",
    "    result = int(input('Enter result (1=pass, 2=fail): '))\n",
    "    \n",
    "    while result!=1 or result!=2:\n",
    "        result = int(input('Enter result (1=pass, 2=fail): '))\n",
    "        \n",
    "    if result == 1:\n",
    "        passes = passes + 1\n",
    "    else:\n",
    "        failures = failures + 1\n",
    "        \n",
    "# termination phase\n",
    "print('Passed:', passes)\n",
    "print('Failed:', failures)\n",
    "\n",
    "if passes > 8:\n",
    "    print('Bonus to instructor')"
   ]
  },
  {
   "cell_type": "code",
   "execution_count": 14,
   "id": "5f13be66",
   "metadata": {},
   "outputs": [
    {
     "name": "stdout",
     "output_type": "stream",
     "text": [
      "a = 7 \n",
      "b = 7\n"
     ]
    }
   ],
   "source": [
    "a = b = 7\n",
    "print('a =', a, '\\nb =', b)"
   ]
  },
  {
   "cell_type": "code",
   "execution_count": 20,
   "id": "15801852",
   "metadata": {},
   "outputs": [
    {
     "name": "stdout",
     "output_type": "stream",
     "text": [
      ">>>>>>>>>>\n",
      "<<<<<<<<<<\n",
      ">>>>>>>>>>\n",
      "<<<<<<<<<<\n",
      ">>>>>>>>>>\n",
      "<<<<<<<<<<\n",
      ">>>>>>>>>>\n",
      "<<<<<<<<<<\n",
      ">>>>>>>>>>\n",
      "<<<<<<<<<<\n"
     ]
    }
   ],
   "source": [
    "for row in range(10):\n",
    "    for column in range(10):\n",
    "         print('<' if row % 2 == 1 else '>',end='')\n",
    "    print()"
   ]
  }
 ],
 "metadata": {
  "kernelspec": {
   "display_name": "Python 3 (ipykernel)",
   "language": "python",
   "name": "python3"
  },
  "language_info": {
   "codemirror_mode": {
    "name": "ipython",
    "version": 3
   },
   "file_extension": ".py",
   "mimetype": "text/x-python",
   "name": "python",
   "nbconvert_exporter": "python",
   "pygments_lexer": "ipython3",
   "version": "3.9.7"
  }
 },
 "nbformat": 4,
 "nbformat_minor": 5
}
