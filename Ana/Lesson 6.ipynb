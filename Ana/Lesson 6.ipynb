{
 "cells": [
  {
   "cell_type": "code",
   "execution_count": null,
   "id": "d9e0e049",
   "metadata": {},
   "outputs": [],
   "source": [
    "#List Methods\n",
    "#append\n",
    "#clear\n",
    "#copy\n",
    "#count\n",
    "#extend\n",
    "#index\n",
    "#insert\n",
    "#pop\n",
    "#remove\n",
    "#reverse\n",
    "#sort\n",
    "\n",
    "\n",
    "#Tuple Methods\n",
    "#count\n",
    "#index\n",
    "\n",
    "\n",
    "#Unpacking lists and tuples"
   ]
  },
  {
   "cell_type": "code",
   "execution_count": 29,
   "id": "d103af70",
   "metadata": {},
   "outputs": [
    {
     "name": "stdout",
     "output_type": "stream",
     "text": [
      "Enter numbers23 45 66\n",
      "['23', '45', '66']\n",
      "<class 'list'>\n",
      "square of 23 is 529\n",
      "square of 45 is 2025\n",
      "square of 66 is 4356\n"
     ]
    }
   ],
   "source": [
    "#function that returns a square of a number\n",
    "#def keyword , name of function, paranthesis , parameters\n",
    "#Arguments  values passed to a function\n",
    "#Parameters values received by a function\n",
    "#function calling\n",
    "#function returning\n",
    "def square(x):    #Parameters\n",
    "    print(type(x))\n",
    "    for num in x:\n",
    "        print(f\"square of {int(num)} is {int(num)**2}\")\n",
    "    \n",
    "    \n",
    "\n",
    "numbers=input(\"Enter numbers\").split(\" \")\n",
    "print(numbers)\n",
    "square(numbers)   #Arguments\n",
    "    "
   ]
  },
  {
   "cell_type": "code",
   "execution_count": 31,
   "id": "906ab376",
   "metadata": {},
   "outputs": [
    {
     "name": "stdout",
     "output_type": "stream",
     "text": [
      "Enter number: 12\n",
      "The square of 12 is 144\n"
     ]
    }
   ],
   "source": [
    "#function that returns a square of a number\n",
    "#def keyword , name of function, paranthesis , parameters\n",
    "#Arguments  values passed to a function\n",
    "#Parameters values received by a function\n",
    "#function calling\n",
    "#function returning\n",
    "def square(x):    #Parameters\n",
    "    return x**2\n",
    "        \n",
    "    \n",
    "    \n",
    "\n",
    "numbers=int(input(\"Enter number: \"))\n",
    "sqr=square(numbers)   #Arguments\n",
    "\n",
    "print(f\"The square of {numbers} is {sqr}\")"
   ]
  },
  {
   "cell_type": "code",
   "execution_count": 35,
   "id": "d6b675a9",
   "metadata": {},
   "outputs": [
    {
     "name": "stdout",
     "output_type": "stream",
     "text": [
      "23\n",
      "10\n"
     ]
    }
   ],
   "source": [
    "print(max(23,12,16,18,19,10))\n",
    "print(min(23,12,16,18,19,10))"
   ]
  },
  {
   "cell_type": "code",
   "execution_count": 8,
   "id": "af4ebbff",
   "metadata": {},
   "outputs": [
    {
     "data": {
      "text/plain": [
       "'zeb'"
      ]
     },
     "execution_count": 8,
     "metadata": {},
     "output_type": "execute_result"
    }
   ],
   "source": [
    "max('orange','yellow', 'red', 'blue', 'green','zeb')"
   ]
  },
  {
   "cell_type": "code",
   "execution_count": null,
   "id": "941a8f86",
   "metadata": {},
   "outputs": [],
   "source": [
    "\"\"\"You roll two six-sided dice, each with faces containing one, two, three, four, five\n",
    "and six spots, respectively. When the dice come to rest, the sum of the spots on the\n",
    "two upward faces is calculated. If the sum is 7 or 11 on the first roll, you win. If\n",
    "the sum is 2, 3 or 12 on the first roll (called “craps”), you lose (i.e., the “house”\n",
    "wins). If the sum is 4, 5, 6, 8, 9 or 10 on the first roll, that sum becomes your\n",
    "“point.” To win, you must continue rolling the dice until you “make your point”\n",
    "(i.e., roll that same point value). You lose by rolling a 7 before making your point\"\"\"\n",
    "\n"
   ]
  },
  {
   "cell_type": "code",
   "execution_count": 7,
   "id": "6c950728",
   "metadata": {},
   "outputs": [
    {
     "data": {
      "text/plain": [
       "'top'"
      ]
     },
     "execution_count": 7,
     "metadata": {},
     "output_type": "execute_result"
    }
   ],
   "source": [
    "max(\"hire\", \"the\", \"top\", \"freelancers\")\n"
   ]
  }
 ],
 "metadata": {
  "kernelspec": {
   "display_name": "Python 3",
   "language": "python",
   "name": "python3"
  },
  "language_info": {
   "codemirror_mode": {
    "name": "ipython",
    "version": 3
   },
   "file_extension": ".py",
   "mimetype": "text/x-python",
   "name": "python",
   "nbconvert_exporter": "python",
   "pygments_lexer": "ipython3",
   "version": "3.8.8"
  }
 },
 "nbformat": 4,
 "nbformat_minor": 5
}
