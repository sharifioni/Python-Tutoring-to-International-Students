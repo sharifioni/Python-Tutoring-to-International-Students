{
 "cells": [
  {
   "cell_type": "code",
   "execution_count": null,
   "id": "c0417c46",
   "metadata": {},
   "outputs": [],
   "source": [
    "\n",
    "word_list = [\"aardvark\", \"baboon\", \"camel\"]\n",
    "\n",
    "#TODO-1 - Randomly choose a word from the word_list and assign it to a variable called chosen_word.\n",
    "\n",
    "import random\n",
    "chosen_word = random.choice(word_list)\n",
    "\n",
    "#TODO-2 - Ask the user to guess a letter and assign their answer to a variable called guess. Make guess lowercase.\n",
    "\n",
    "guess = input(\"Guess any letter?\").casefold()\n",
    "\n",
    "#TODO-3 - Check if the letter the user guessed (guess) is one of the letters in the chosen_word.\n",
    "\n",
    "for letter in chosen_word:\n",
    "    "
   ]
  },
  {
   "cell_type": "code",
   "execution_count": 1,
   "id": "49c1b654",
   "metadata": {},
   "outputs": [
    {
     "name": "stdout",
     "output_type": "stream",
     "text": [
      "b\n",
      "a\n",
      "b\n",
      "o\n",
      "o\n",
      "n\n"
     ]
    }
   ],
   "source": [
    "for letter in \"baboon\":\n",
    "    print(letter)"
   ]
  }
 ],
 "metadata": {
  "kernelspec": {
   "display_name": "Python 3",
   "language": "python",
   "name": "python3"
  },
  "language_info": {
   "codemirror_mode": {
    "name": "ipython",
    "version": 3
   },
   "file_extension": ".py",
   "mimetype": "text/x-python",
   "name": "python",
   "nbconvert_exporter": "python",
   "pygments_lexer": "ipython3",
   "version": "3.8.8"
  }
 },
 "nbformat": 4,
 "nbformat_minor": 5
}
