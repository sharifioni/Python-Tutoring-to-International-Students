{
 "cells": [
  {
   "cell_type": "code",
   "execution_count": null,
   "id": "2a19090d",
   "metadata": {},
   "outputs": [],
   "source": [
    "#Data types in python\n",
    "#1. Strings\n",
    "#2. Floats\n",
    "#3. Integers\n",
    "#4. Boolean\n",
    "\n",
    "#Type Conversion\n",
    "#1. String to integer     int()\n",
    "#2. String to float       float()\n",
    "#3. integer to string     str()\n",
    "#4. float to string       str()\n",
    "\n",
    "#print()     #Arguments (Values passed to any function)\n",
    "#Arithmetic Operators\n",
    "#Operator Precedence\n",
    "#fstrings\n",
    "#format strings\n",
    "#input()     returns always string\n",
    "#comparison Operaots\n",
    "#Variables (naming rules)"
   ]
  },
  {
   "cell_type": "code",
   "execution_count": 5,
   "id": "8e06fdbe",
   "metadata": {},
   "outputs": [
    {
     "name": "stdout",
     "output_type": "stream",
     "text": [
      "My age is 23 and I was born in 1998. I have 3 cars\n",
      "My age is 23 and I was born in 1998. I have 3 cars\n"
     ]
    }
   ],
   "source": [
    "#String formatting\n",
    "age=23\n",
    "print(\"My age is {} and I was born in {}. I have {} cars\".format(age,1998,3))  #3. Using string formatting\n",
    "print(f\"My age is {age} and I was born in {1998}. I have {3} cars\")  #4. f strings"
   ]
  },
  {
   "cell_type": "code",
   "execution_count": 12,
   "id": "89a4009b",
   "metadata": {},
   "outputs": [
    {
     "name": "stdout",
     "output_type": "stream",
     "text": [
      "x is less than y False\n",
      "x is greater than y False\n",
      "x is less than equal to y True\n",
      "x is greater than equal to y True\n",
      "x is equal to y True\n",
      "x is not equal to y False\n"
     ]
    }
   ],
   "source": [
    "#Comparison Operators\n",
    "x=5\n",
    "y=5\n",
    "print(\"x is less than y\",x<y)\n",
    "print(\"x is greater than y\",x>y)\n",
    "print(\"x is less than equal to y\",x<=y)\n",
    "print(\"x is greater than equal to y\",x>=y)\n",
    "print(\"x is equal to y\",x==y)\n",
    "print(\"x is not equal to y\",x!=y)  \n"
   ]
  },
  {
   "cell_type": "code",
   "execution_count": 17,
   "id": "bf28024a",
   "metadata": {},
   "outputs": [
    {
     "name": "stdout",
     "output_type": "stream",
     "text": [
      "Enter your name in capital lettersSH\n",
      "sh\n",
      "45\n",
      "70\n"
     ]
    }
   ],
   "source": [
    "#The name of variable should consist of letters digits or _ (underscore)\n",
    "#The starting letter should not be digit\n",
    "# Variable names cannot be built in keywords\n",
    "#Case Sensitive Language\n",
    "\n",
    "name=input(\"Enter your name in capital letters\").lower()\n",
    "print(name)\n",
    "value=45\n",
    "print(value)\n",
    "value=70\n",
    "print(value)"
   ]
  },
  {
   "cell_type": "code",
   "execution_count": 18,
   "id": "af416d2d",
   "metadata": {},
   "outputs": [
    {
     "name": "stdout",
     "output_type": "stream",
     "text": [
      "You scored C Grade 67\n",
      "You scored C Grade 75\n",
      "You scored B Grade 75\n",
      "You scored C Grade 87\n",
      "You scored B Grade 87\n",
      "You scored A Grade 87\n",
      "You scored C Grade 95\n",
      "You scored B Grade 95\n",
      "You scored A Grade 95\n",
      "You scored A+ Grade 95\n"
     ]
    }
   ],
   "source": [
    "grades=[67,75,87,95]\n",
    "for score in grades:\n",
    "    if score >=60:             #Logical Error\n",
    "        print(\"You scored C Grade\",score)\n",
    "    if score >=70:\n",
    "        print(\"You scored B Grade\",score)\n",
    "    if score >=80:\n",
    "        print(\"You scored A Grade\",score)\n",
    "    if score >=90:\n",
    "        print(\"You scored A+ Grade\",score)\n",
    "        \n",
    "#Modify the code using different conditions elif\n",
    "#Check the difference between multiple if and if elif"
   ]
  }
 ],
 "metadata": {
  "kernelspec": {
   "display_name": "Python 3",
   "language": "python",
   "name": "python3"
  },
  "language_info": {
   "codemirror_mode": {
    "name": "ipython",
    "version": 3
   },
   "file_extension": ".py",
   "mimetype": "text/x-python",
   "name": "python",
   "nbconvert_exporter": "python",
   "pygments_lexer": "ipython3",
   "version": "3.8.8"
  }
 },
 "nbformat": 4,
 "nbformat_minor": 5
}
