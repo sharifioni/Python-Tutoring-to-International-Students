{
 "cells": [
  {
   "cell_type": "code",
   "execution_count": 11,
   "id": "e5a3960e",
   "metadata": {},
   "outputs": [
    {
     "name": "stdout",
     "output_type": "stream",
     "text": [
      "Kareem\t67\t88\t91\t75\t50\t\n",
      "John\t54\t62\t15\t91\t59\t\n",
      "Sara\t100\t67\t98\t90\t81\t\n",
      "Ali\t75\t85\t65\t55\t95\t\n"
     ]
    }
   ],
   "source": [
    "#4 students\n",
    "#appered in 5 subjects and got different scores\n",
    "result=[[\"Kareem\",67,88,91,75,50],\n",
    "        [\"John\",54,62,15,91,59],\n",
    "         [\"Sara\",100,67,98,90,81],\n",
    "        [\"Ali\",75,85,65,55,95]\n",
    "         ]\n",
    "        #[sum of 1 index, sum of index 2, sum of index 3,sum of index 4,sum of index 5]\n",
    "\n",
    "for student_scores in result:\n",
    "    for item in student_scores: #[\"John\",54,62,15,91,59]\n",
    "        print(item,end=\"\\t\")\n",
    "    print()"
   ]
  },
  {
   "cell_type": "code",
   "execution_count": 5,
   "id": "a98e34ba",
   "metadata": {},
   "outputs": [
    {
     "name": "stdout",
     "output_type": "stream",
     "text": [
      "[['Kareem', 67, 88, 91, 75, 50], ['John', 54, 62, 15, 91, 59], ['Sara', 100, 67, 98, 90, 81], ['Ali', 75, 85, 65, 55, 95], [296, 302, 269, 311, 285]]\n"
     ]
    }
   ],
   "source": [
    "sum_of_indexes=[]\n",
    "for i in range(1,6):            # i=2\n",
    "    total=0\n",
    "    for j in range(len(result)):  #j=0 , j=1 , j=2 , j=3       length=4\n",
    "        total+=result[j][i]        #j=1,i=1  #296\n",
    "        \n",
    "    sum_of_indexes.append(total)\n",
    "    \n",
    "result.append(sum_of_indexes)\n",
    "\n",
    "print(result)\n",
    "        \n",
    "    "
   ]
  },
  {
   "cell_type": "code",
   "execution_count": 12,
   "id": "9e4036d5",
   "metadata": {},
   "outputs": [
    {
     "name": "stdout",
     "output_type": "stream",
     "text": [
      "[['Kareem', 67, 88, 91, 75, 50, 74.2], ['John', 54, 62, 15, 91, 59, 56.2], ['Sara', 100, 67, 98, 90, 81, 87.2], ['Ali', 75, 85, 65, 55, 95, 75.0]]\n"
     ]
    }
   ],
   "source": [
    "for j in range(len(result)):\n",
    "    total=0\n",
    "    for i in range(1,6):\n",
    "        total+=result[j][i]     \n",
    "                                \n",
    "    result[j].append(total/5)\n",
    "print(result)"
   ]
  },
  {
   "cell_type": "code",
   "execution_count": 14,
   "id": "bcd24b9c",
   "metadata": {},
   "outputs": [],
   "source": [
    "number_list=[3,3,4,2,5,2,2,7,1,1,7,8,9,9,9]        #lis=[1,2,3,4,5,7,8,9]\n",
    "lis=[]\n",
    "#sort"
   ]
  },
  {
   "cell_type": "code",
   "execution_count": null,
   "id": "32c1594c",
   "metadata": {},
   "outputs": [],
   "source": [
    "#Prime Numbers\n",
    "#2,3,5,7,11,13,17,19,23,29,31....................."
   ]
  },
  {
   "cell_type": "code",
   "execution_count": 16,
   "id": "36b647e3",
   "metadata": {},
   "outputs": [
    {
     "name": "stdout",
     "output_type": "stream",
     "text": [
      "Enter a lower range: 30\n",
      "Enter an upper range: 5\n"
     ]
    }
   ],
   "source": [
    "#Print even numbers between two ranges.\n",
    "#Lower range 5                                      6,8,10,12,14,16........30\n",
    "#Upper range    30               \n",
    "num1=int(input(\"Enter a lower range: \")) #5\n",
    "num2=int(input(\"Enter an upper range: \")) #30\n",
    "for numbers in range(num1,num2+1):\n",
    "    if numbers%2==0:\n",
    "        print(f\"{numbers} is even number\")\n",
    "\n",
    "    "
   ]
  }
 ],
 "metadata": {
  "kernelspec": {
   "display_name": "Python 3",
   "language": "python",
   "name": "python3"
  },
  "language_info": {
   "codemirror_mode": {
    "name": "ipython",
    "version": 3
   },
   "file_extension": ".py",
   "mimetype": "text/x-python",
   "name": "python",
   "nbconvert_exporter": "python",
   "pygments_lexer": "ipython3",
   "version": "3.8.8"
  }
 },
 "nbformat": 4,
 "nbformat_minor": 5
}
