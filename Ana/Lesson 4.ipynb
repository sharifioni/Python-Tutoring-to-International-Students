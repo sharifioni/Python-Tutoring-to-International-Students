{
 "cells": [
  {
   "cell_type": "code",
   "execution_count": 2,
   "id": "96ea520e",
   "metadata": {
    "scrolled": true
   },
   "outputs": [
    {
     "name": "stdout",
     "output_type": "stream",
     "text": [
      "Kareem\t67\t88\t91\t75\t50\t\n",
      "John\t54\t62\t15\t91\t59\t\n",
      "Sara\t100\t67\t98\t90\t81\t\n",
      "Ali\t75\t85\t65\t55\t95\t\n"
     ]
    }
   ],
   "source": [
    "#4 students\n",
    "#appered in 5 subjects and got different scores\n",
    "result=[[\"Kareem\",67,88,91,75,50],\n",
    "        [\"John\",54,62,15,91,59],\n",
    "         [\"Sara\",100,67,98,90,81],\n",
    "        [\"Ali\",75,85,65,55,95]]\n",
    "\n",
    "for student_scores in result:\n",
    "    for item in student_scores: #[\"John\",54,62,15,91,59]\n",
    "        print(item,end=\"\\t\")"
   ]
  },
  {
   "cell_type": "code",
   "execution_count": null,
   "id": "f5b0d41b",
   "metadata": {},
   "outputs": [],
   "source": [
    "#for loops are used with iterables (strings, lists,tuples,dictionaries,sets,range)"
   ]
  },
  {
   "cell_type": "code",
   "execution_count": 19,
   "id": "69150356",
   "metadata": {},
   "outputs": [
    {
     "name": "stdout",
     "output_type": "stream",
     "text": [
      "1\n",
      "2\n",
      "3\n",
      "4\n",
      "5\n",
      "6\n",
      "7\n",
      "8\n",
      "9\n"
     ]
    }
   ],
   "source": [
    "#range(start value, stop value,step value)\n",
    "for i in range(1,10):\n",
    "    print(i)"
   ]
  },
  {
   "cell_type": "code",
   "execution_count": 22,
   "id": "f41cd39f",
   "metadata": {},
   "outputs": [],
   "source": [
    "#range(start value, stop value,step value)\n",
    "for i in range(1,10,2):  #start value should be less than stop value when step value is positive\n",
    "    print(i)"
   ]
  },
  {
   "cell_type": "code",
   "execution_count": 27,
   "id": "0e31d891",
   "metadata": {},
   "outputs": [
    {
     "name": "stdout",
     "output_type": "stream",
     "text": [
      "20\n",
      "18\n",
      "16\n",
      "14\n",
      "12\n"
     ]
    }
   ],
   "source": [
    "#range(start value, stop value,step value)\n",
    "for i in range(20,10,-2):  #start value should be greater than stop value when step value is negative\n",
    "    print(i)"
   ]
  },
  {
   "cell_type": "code",
   "execution_count": 13,
   "id": "ca95afb0",
   "metadata": {},
   "outputs": [
    {
     "name": "stdout",
     "output_type": "stream",
     "text": [
      "Kareem\t67\t88\t91\t75\t50\t\n",
      "\n",
      "John\t54\t62\t15\t91\t59\t\n",
      "\n",
      "Sara\t100\t67\t98\t90\t81\t\n",
      "\n",
      "Ali\t75\t85\t65\t55\t95\t\n",
      "\n"
     ]
    }
   ],
   "source": [
    "#4 students\n",
    "#appered in 5 subjects and got different scores\n",
    "result=[[\"Kareem\",67,88,91,75,50],\n",
    "        [\"John\",54,62,15,91,59],\n",
    "         [\"Sara\",100,67,98,90,81],\n",
    "        [\"Ali\",75,85,65,55,95]\n",
    "         ]\n",
    "        #[sum of 1 index, sum of index 2, sum of index 3,sum of index 4,sum of index 5]\n",
    "\n",
    "for student_scores in result:\n",
    "    for item in student_scores: #[\"John\",54,62,15,91,59]\n",
    "        print(item,end=\"\\t\")\n",
    "    print(\"\\n\")"
   ]
  },
  {
   "cell_type": "code",
   "execution_count": null,
   "id": "f6e5ae65",
   "metadata": {
    "scrolled": true
   },
   "outputs": [],
   "source": [
    "\n",
    "        "
   ]
  }
 ],
 "metadata": {
  "kernelspec": {
   "display_name": "Python 3",
   "language": "python",
   "name": "python3"
  },
  "language_info": {
   "codemirror_mode": {
    "name": "ipython",
    "version": 3
   },
   "file_extension": ".py",
   "mimetype": "text/x-python",
   "name": "python",
   "nbconvert_exporter": "python",
   "pygments_lexer": "ipython3",
   "version": "3.8.8"
  }
 },
 "nbformat": 4,
 "nbformat_minor": 5
}
