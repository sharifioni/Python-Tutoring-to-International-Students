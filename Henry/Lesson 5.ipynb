{
 "cells": [
  {
   "cell_type": "code",
   "execution_count": null,
   "id": "4d99f3fd",
   "metadata": {},
   "outputs": [],
   "source": []
  },
  {
   "cell_type": "code",
   "execution_count": 11,
   "id": "6c0bc1f7",
   "metadata": {},
   "outputs": [
    {
     "name": "stdout",
     "output_type": "stream",
     "text": [
      "This is if part\n"
     ]
    }
   ],
   "source": [
    "#if elif else\n",
    "x=7\n",
    "y=6\n",
    "\n",
    "if x>y:  #True\n",
    "    print(\"This is if part\")\n",
    "\n",
    "elif x>y and x==7:  #True\n",
    "    print(\"This is elif part\")\n",
    "\n",
    "else:\n",
    "    print(\"This is else part\")"
   ]
  },
  {
   "cell_type": "code",
   "execution_count": 14,
   "id": "fb4ffdd0",
   "metadata": {},
   "outputs": [
    {
     "name": "stdout",
     "output_type": "stream",
     "text": [
      "Enter two integers, and I will tell you the relationships they satisfy.\n",
      "Enter first integer: 2\n",
      "Enter second integer: 5\n",
      "2 is not equal to 5\n",
      "2 is less than 5\n",
      "2 is less than or equal to 5\n"
     ]
    }
   ],
   "source": [
    "# fig02_01.py\n",
    "\"\"\"Comparing integers using if statements and comparison operators.\"\"\"\n",
    "\n",
    "print('Enter two integers, and I will tell you',\n",
    "'the relationships they satisfy.')\n",
    "\n",
    "#Multiple if\n",
    "# read first integer\n",
    "number1 = int(input('Enter first integer: '))  #5\n",
    "\n",
    "# read second integer\n",
    "number2 = int(input('Enter second integer: '))  #10\n",
    "\n",
    "if number1 == number2: #False\n",
    "    print(number1, 'is equal to', number2)\n",
    "\n",
    "if number1!=number2:  #True\n",
    "    print(number1, 'is not equal to', number2)\n",
    "\n",
    "if number1 < number2: #True\n",
    "    print(number1, 'is less than', number2)\n",
    "\n",
    "if number1 > number2:  #False\n",
    "    print(number1, 'is greater than', number2)\n",
    "\n",
    "if number1 <= number2: #True     \n",
    "    print(number1, 'is less than or equal to', number2)\n",
    "    \n",
    "if number1>=number2: \n",
    "    print(number1, 'is greater than or equal to', number2)"
   ]
  },
  {
   "cell_type": "code",
   "execution_count": 21,
   "id": "f30037aa",
   "metadata": {},
   "outputs": [
    {
     "name": "stdout",
     "output_type": "stream",
     "text": [
      "Enter two integers, and I will tell you the relationships they satisfy.\n",
      "Enter first integer: 2\n",
      "Enter second integer: 5\n",
      "2 is not equal to 5\n",
      "2 is less than 5\n",
      "2 is less than or equal to 5\n"
     ]
    }
   ],
   "source": [
    "#if elif else\n",
    "\n",
    "# fig02_01.py\n",
    "\"\"\"Comparing integers using if statements and comparison operators.\"\"\"\n",
    "\n",
    "print('Enter two integers, and I will tell you',\n",
    "'the relationships they satisfy.')\n",
    "\n",
    "#Multiple if elif\n",
    "# read first integer\n",
    "number1 = int(input('Enter first integer: '))  #2\n",
    "\n",
    "# read second integer\n",
    "number2 = int(input('Enter second integer: '))  #5\n",
    "\n",
    "if number1 == number2: #False\n",
    "    print(number1, 'is equal to', number2)\n",
    "\n",
    "if number1!=number2:  #True\n",
    "    print(number1, 'is not equal to', number2)\n",
    "\n",
    "if number1 < number2: #True\n",
    "    print(number1, 'is less than', number2)\n",
    "\n",
    "if number1 > number2:  #False\n",
    "    print(number1, 'is greater than', number2)\n",
    "\n",
    "if number1 <= number2: #True     \n",
    "    print(number1, 'is less than or equal to', number2)\n",
    "    \n",
    "if number1>=number2: \n",
    "    print(number1, 'is greater than or equal to', number2)"
   ]
  },
  {
   "cell_type": "code",
   "execution_count": 20,
   "id": "83c01f55",
   "metadata": {},
   "outputs": [
    {
     "name": "stdout",
     "output_type": "stream",
     "text": [
      "You got C grade 67\n",
      "You got B grade 75\n",
      "You got A grade 85\n",
      "You got A+ grade 98\n"
     ]
    }
   ],
   "source": [
    "#In multiple if statements, all True statements runs\n",
    "#In multiple if elif, only first true statements runs\n",
    "\n",
    "grades=[67,75,85,98]  #List\n",
    "\n",
    "for score in grades:   #score=98\n",
    "    if score>=90: #\n",
    "        print(\"You got A+ grade\",score)\n",
    "    elif score>=80:\n",
    "        print(\"You got A grade\",score)\n",
    "    elif score>=70:\n",
    "        print(\"You got B grade\",score)\n",
    "    elif score>=60:\n",
    "        print(\"You got C grade\",score)\n"
   ]
  }
 ],
 "metadata": {
  "kernelspec": {
   "display_name": "Python 3",
   "language": "python",
   "name": "python3"
  },
  "language_info": {
   "codemirror_mode": {
    "name": "ipython",
    "version": 3
   },
   "file_extension": ".py",
   "mimetype": "text/x-python",
   "name": "python",
   "nbconvert_exporter": "python",
   "pygments_lexer": "ipython3",
   "version": "3.8.8"
  }
 },
 "nbformat": 4,
 "nbformat_minor": 5
}
