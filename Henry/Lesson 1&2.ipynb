{
 "cells": [
  {
   "cell_type": "markdown",
   "id": "dfa7c996",
   "metadata": {},
   "source": [
    "#Function   #String  #Keyword  #Arguments  #Syntax   #Paranthesis ()  #Case Sensitive Language "
   ]
  },
  {
   "cell_type": "code",
   "execution_count": 1,
   "id": "afb8d13a",
   "metadata": {},
   "outputs": [
    {
     "name": "stdout",
     "output_type": "stream",
     "text": [
      "Hello World 12 * @ # 25.54\n"
     ]
    }
   ],
   "source": [
    "print(\"Hello World 12 * @ #\",25.54)       "
   ]
  },
  {
   "cell_type": "code",
   "execution_count": 2,
   "id": "d4d11340",
   "metadata": {},
   "outputs": [],
   "source": [
    "#Types of data (data types)\n",
    "#String    Normally written double or single quotation marks\n",
    "#Integers   Numbers without decimal part        100, 0, -15\n",
    "#Float      numbers that includes decimal part   55.5, 105.75,-67.75,0.00\n",
    "#Boolean    True, False"
   ]
  },
  {
   "cell_type": "code",
   "execution_count": 3,
   "id": "41d43a52",
   "metadata": {},
   "outputs": [
    {
     "name": "stdout",
     "output_type": "stream",
     "text": [
      "50\n",
      "20\n",
      "75.5\n",
      "True\n"
     ]
    }
   ],
   "source": [
    "#Printing out different type of data\n",
    "print('50') #String        str\n",
    "print(20)      #Integer    int\n",
    "print(75.5)    #Float type    float\n",
    "print(True)     #Boolean     bool"
   ]
  },
  {
   "cell_type": "code",
   "execution_count": 4,
   "id": "9792676d",
   "metadata": {},
   "outputs": [
    {
     "name": "stdout",
     "output_type": "stream",
     "text": [
      "<class 'str'>\n",
      "<class 'int'>\n",
      "<class 'float'>\n",
      "<class 'bool'>\n"
     ]
    }
   ],
   "source": [
    "# type()   type function is used to check the type of data that is being used\n",
    "print(type('50'))\n",
    "print(type(20))\n",
    "print(type(75.5))\n",
    "print(type(True))"
   ]
  },
  {
   "cell_type": "code",
   "execution_count": 5,
   "id": "d69c7a73",
   "metadata": {},
   "outputs": [
    {
     "ename": "NameError",
     "evalue": "name 'value1' is not defined",
     "output_type": "error",
     "traceback": [
      "\u001b[1;31m---------------------------------------------------------------------------\u001b[0m",
      "\u001b[1;31mNameError\u001b[0m                                 Traceback (most recent call last)",
      "\u001b[1;32m<ipython-input-5-d71a07e128f7>\u001b[0m in \u001b[0;36m<module>\u001b[1;34m\u001b[0m\n\u001b[0;32m      7\u001b[0m \u001b[0mvalue3\u001b[0m\u001b[1;33m=\u001b[0m\u001b[1;34m'Hello'\u001b[0m\u001b[1;33m\u001b[0m\u001b[1;33m\u001b[0m\u001b[0m\n\u001b[0;32m      8\u001b[0m \u001b[0mvalue4\u001b[0m\u001b[1;33m=\u001b[0m\u001b[1;32mFalse\u001b[0m\u001b[1;33m\u001b[0m\u001b[1;33m\u001b[0m\u001b[0m\n\u001b[1;32m----> 9\u001b[1;33m \u001b[0mprint\u001b[0m\u001b[1;33m(\u001b[0m\u001b[0mvalue1\u001b[0m\u001b[1;33m)\u001b[0m\u001b[1;33m\u001b[0m\u001b[1;33m\u001b[0m\u001b[0m\n\u001b[0m\u001b[0;32m     10\u001b[0m \u001b[0mprint\u001b[0m\u001b[1;33m(\u001b[0m\u001b[0mvalue2\u001b[0m\u001b[1;33m)\u001b[0m\u001b[1;33m\u001b[0m\u001b[1;33m\u001b[0m\u001b[0m\n\u001b[0;32m     11\u001b[0m \u001b[0mprint\u001b[0m\u001b[1;33m(\u001b[0m\u001b[0mvalue3\u001b[0m\u001b[1;33m)\u001b[0m\u001b[1;33m\u001b[0m\u001b[1;33m\u001b[0m\u001b[0m\n",
      "\u001b[1;31mNameError\u001b[0m: name 'value1' is not defined"
     ]
    }
   ],
   "source": [
    "#Variables: are normally used to store values.\n",
    "\n",
    "#should only consist of letters, digits and underscores and the first letter cannot be a digit\n",
    "#keywords cannot be used as variable names\n",
    "Print=20\n",
    "value2=55.5\n",
    "value3='Hello'\n",
    "value4=False\n",
    "print(value1)\n",
    "print(value2)\n",
    "print(value3)\n",
    "print(value4)\n",
    "\n",
    "print(type(value1))\n",
    "print(type(value2))\n",
    "print(type(value3))\n",
    "print(type(value4))\n"
   ]
  },
  {
   "cell_type": "markdown",
   "id": "0e350aaa",
   "metadata": {},
   "source": [
    "#Arithmetic Operators\n"
   ]
  },
  {
   "cell_type": "code",
   "execution_count": 6,
   "id": "387cd1fb",
   "metadata": {},
   "outputs": [
    {
     "name": "stdout",
     "output_type": "stream",
     "text": [
      "14\n",
      "6\n",
      "40\n",
      "2.5\n",
      "10000\n",
      "2\n",
      "2\n"
     ]
    }
   ],
   "source": [
    "num1=10\n",
    "num2=4\n",
    "\n",
    "print(num1+num2)    #addition\n",
    "print(num1-num2)     #subtraction\n",
    "print(num1*num2)     #multiplication\n",
    "print(num1/num2)    #division\n",
    "print(num1**num2)   #Exponentiation\n",
    "print(num1//num2)   #floor division\n",
    "print(num1%num2)    #Remainder or Modulus"
   ]
  },
  {
   "cell_type": "code",
   "execution_count": 7,
   "id": "47d748bb",
   "metadata": {},
   "outputs": [
    {
     "name": "stdout",
     "output_type": "stream",
     "text": [
      "57.5\n"
     ]
    }
   ],
   "source": [
    "#Operator Precedence\n",
    "#B E DM AS\n",
    "value2=2+2*2\n",
    "value= 10*(2+4)-5*2/2**2        # 10*2+4-5*2/4     20+4-5*2/4   20+4-10/4    20+4-2.5    24-2.5  21.5\n",
    "\n",
    "print(value)"
   ]
  },
  {
   "cell_type": "code",
   "execution_count": 11,
   "id": "f29908ab",
   "metadata": {},
   "outputs": [
    {
     "name": "stdout",
     "output_type": "stream",
     "text": [
      "This\n",
      "string\n",
      "has\n",
      "multiple\n",
      "lines\n",
      "This\tstring\thas\ttab\tspaces\n",
      "This \\tstring \\nhas double slash\n"
     ]
    }
   ],
   "source": [
    "#Escape Sequence\n",
    "#\\n\n",
    "print(\"This\\nstring\\nhas\\nmultiple\\nlines\")\n",
    "\n",
    "#\\t\n",
    "print(\"This\\tstring\\thas\\ttab\\tspaces\")\n",
    "\n",
    "#\\\\\n",
    "print(\"This \\\\tstring \\\\nhas double slash\")\n",
    "\n",
    "path='C/Users/nhahj'"
   ]
  },
  {
   "cell_type": "code",
   "execution_count": 13,
   "id": "9d72e7bb",
   "metadata": {},
   "outputs": [
    {
     "name": "stdout",
     "output_type": "stream",
     "text": [
      "hhhhhhhhhhhhhhhhhhhhhhhhhhhhhhhhhhhhhhhhhhbllllllllllllllllllllllllllllllljjjjjjjjjjjjjjjjjjjjjjjjjjjj\n"
     ]
    }
   ],
   "source": [
    "print(\"hhhhhhhhhhhhhhhhhhhhhhhhhhhhhhhhhhhhhhhhhh\\\n",
    "blllllllllllllllllllllllllllllll\\\n",
    "jjjjjjjjjjjjjjjjjjjjjjjjjjjj\")"
   ]
  },
  {
   "cell_type": "code",
   "execution_count": null,
   "id": "8bfd3296",
   "metadata": {},
   "outputs": [],
   "source": [
    "#Format strings\n",
    "#Fstrings\n",
    "#Type Conversion"
   ]
  },
  {
   "cell_type": "code",
   "execution_count": 14,
   "id": "9f7c9d89",
   "metadata": {},
   "outputs": [
    {
     "name": "stdout",
     "output_type": "stream",
     "text": [
      "The type of value4 is: <class 'int'> 87\n",
      "The type of value5 is: <class 'float'> 87.0\n",
      "The type of value6 is: <class 'str'> 70\n",
      "The type of value7 is: <class 'str'> 76.5\n"
     ]
    }
   ],
   "source": [
    "#Type Conversion   Convert one type of data into another type of data\n",
    "value1='87'\n",
    "value2=70\n",
    "value3=76.5\n",
    "\n",
    "\n",
    "# string to integer, int() function\n",
    "value4=int(value1)\n",
    "print(\"The type of value4 is:\",type(value4),value4)\n",
    "\n",
    "#string into float, float()\n",
    "value5=float(value1)\n",
    "print(\"The type of value5 is:\",type(value5),value5)\n",
    "\n",
    "#integer to string, str()\n",
    "value6=str(value2)\n",
    "print(\"The type of value6 is:\",type(value6),value6)\n",
    "\n",
    "#float to string, str()\n",
    "value7=str(value3)\n",
    "print(\"The type of value7 is:\",type(value7),value7)"
   ]
  },
  {
   "cell_type": "code",
   "execution_count": 15,
   "id": "9d7633ce",
   "metadata": {},
   "outputs": [
    {
     "name": "stdout",
     "output_type": "stream",
     "text": [
      "Enter your name: John\n",
      "The name of user is:  John\n"
     ]
    }
   ],
   "source": [
    "#Getting input from user using input function\n",
    "#input()     it always returns you a value in string\n",
    "name=input(\"Enter your name: \")\n",
    "\n",
    "print(\"The name of user is: \",name)"
   ]
  },
  {
   "cell_type": "code",
   "execution_count": 18,
   "id": "cb760b32",
   "metadata": {},
   "outputs": [
    {
     "name": "stdout",
     "output_type": "stream",
     "text": [
      "7535\n",
      "7575757575\n"
     ]
    }
   ],
   "source": [
    "str1='75'\n",
    "str2='35'\n",
    "print(str1+str2)   #Concateation (Joining of two strings)\n",
    "print(str1*5)      "
   ]
  },
  {
   "cell_type": "code",
   "execution_count": 10,
   "id": "8a744459",
   "metadata": {},
   "outputs": [
    {
     "name": "stdout",
     "output_type": "stream",
     "text": [
      "20\n"
     ]
    }
   ],
   "source": [
    "Print=20\n",
    "print(Print)"
   ]
  }
 ],
 "metadata": {
  "kernelspec": {
   "display_name": "Python 3",
   "language": "python",
   "name": "python3"
  },
  "language_info": {
   "codemirror_mode": {
    "name": "ipython",
    "version": 3
   },
   "file_extension": ".py",
   "mimetype": "text/x-python",
   "name": "python",
   "nbconvert_exporter": "python",
   "pygments_lexer": "ipython3",
   "version": "3.8.8"
  }
 },
 "nbformat": 4,
 "nbformat_minor": 5
}
