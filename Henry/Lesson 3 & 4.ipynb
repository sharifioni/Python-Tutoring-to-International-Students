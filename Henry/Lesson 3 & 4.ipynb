{
 "cells": [
  {
   "cell_type": "code",
   "execution_count": 10,
   "id": "9d5bbf61",
   "metadata": {},
   "outputs": [
    {
     "name": "stdout",
     "output_type": "stream",
     "text": [
      "The name of a person is John and his age is 35\n"
     ]
    }
   ],
   "source": [
    "age=35\n",
    "name=\"John\"\n",
    "print(\"The name of a person is\",name,\"and his age is\",age)"
   ]
  },
  {
   "cell_type": "code",
   "execution_count": 11,
   "id": "115cc2e3",
   "metadata": {},
   "outputs": [
    {
     "name": "stdout",
     "output_type": "stream",
     "text": [
      "The name of a person is John and his age is 35\n"
     ]
    }
   ],
   "source": [
    "print(\"The name of a person is \"+name+\" and his age is\",age)"
   ]
  },
  {
   "cell_type": "code",
   "execution_count": 18,
   "id": "d89b6c0a",
   "metadata": {},
   "outputs": [
    {
     "name": "stdout",
     "output_type": "stream",
     "text": [
      "The name of a person is John and his age is 35\n"
     ]
    }
   ],
   "source": [
    "#f strings\n",
    "print(f\"The name of a person is {name} and his age is {age}\")"
   ]
  },
  {
   "cell_type": "code",
   "execution_count": 10,
   "id": "b89aae97",
   "metadata": {},
   "outputs": [
    {
     "name": "stdout",
     "output_type": "stream",
     "text": [
      "The name of a person is John and his age is 35\n"
     ]
    }
   ],
   "source": [
    "#format strings\n",
    "print(\"The name of a person is {} and his age is {}\".format(name,age))"
   ]
  },
  {
   "cell_type": "code",
   "execution_count": 11,
   "id": "f836e011",
   "metadata": {},
   "outputs": [
    {
     "name": "stdout",
     "output_type": "stream",
     "text": [
      "Enter your name: john\n",
      "The name of user is:  john\n"
     ]
    }
   ],
   "source": [
    "#Getting input from user using input function\n",
    "#input()     it always returns you a value in string\n",
    "name=input(\"Enter your name: \")\n",
    "\n",
    "print(\"The name of user is: \",name)"
   ]
  },
  {
   "cell_type": "code",
   "execution_count": 16,
   "id": "1f1cd4eb",
   "metadata": {},
   "outputs": [
    {
     "name": "stdout",
     "output_type": "stream",
     "text": [
      "Enter first number 10\n",
      "Enter second number 30\n",
      "The multiplication of num1 and num2 is 300\n"
     ]
    }
   ],
   "source": [
    "#Getting input from user using input function\n",
    "#input()     it always returns you a value in string\n",
    "#Taking two values using input function\n",
    "num1=int(input(\"Enter first number \")) #6.5\n",
    "num2=int(input(\"Enter second number \"))#5.3\n",
    "\n",
    "print(f\"The multiplication of num1 and num2 is {num1*num2}\")"
   ]
  },
  {
   "cell_type": "code",
   "execution_count": 22,
   "id": "5c2aba6e",
   "metadata": {},
   "outputs": [
    {
     "name": "stdout",
     "output_type": "stream",
     "text": [
      "5 is greater than 6: False\n",
      "5 is less than 6: True\n",
      "5 is greater than or equal to 6: False\n",
      "5 is less than or equal to 6: True\n",
      "5 is equal to 6: False\n",
      "5 is not equal to 6: True\n"
     ]
    }
   ],
   "source": [
    "#Comparison Operators\n",
    "#They are used between two operands to check the comparison result\n",
    "# >    greater than\n",
    "# <    less than\n",
    "# >=   greater than or equal to\n",
    "# <=   less than or equal to\n",
    "# ==   equal\n",
    "# !=   not equal\n",
    "# The result will be in boolean\n",
    "x=5              #Assignment operator =\n",
    "y=6\n",
    "print(f\"{x} is greater than {y}: {x>y}\")\n",
    "print(f\"{x} is less than {y}: {x<y}\")\n",
    "print(f\"{x} is greater than or equal to {y}: {x>=y}\")\n",
    "print(f\"{x} is less than or equal to {y}: {x<=y}\")\n",
    "print(f\"{x} is equal to {y}: {x==y}\")\n",
    "print(f\"{x} is not equal to {y}: {x!=y}\")\n"
   ]
  },
  {
   "cell_type": "code",
   "execution_count": 31,
   "id": "0d6f4435",
   "metadata": {},
   "outputs": [
    {
     "name": "stdout",
     "output_type": "stream",
     "text": [
      "x is less than y\n"
     ]
    }
   ],
   "source": [
    "# if else\n",
    "# if part runs for True condition\n",
    "#else part runs for false condition\n",
    "x=10\n",
    "y=15\n",
    "if x>y:  #False\n",
    "    print(\"x is greater than y\") #Logical error\n",
    "else:\n",
    "    print(\"x is less than y\")\n"
   ]
  },
  {
   "cell_type": "code",
   "execution_count": 32,
   "id": "5c439c3b",
   "metadata": {},
   "outputs": [
    {
     "name": "stdout",
     "output_type": "stream",
     "text": [
      "x is less than y\n"
     ]
    }
   ],
   "source": [
    "#syntax of writing if and else\n",
    "x=10\n",
    "y=15\n",
    "if x<y:                      #Indentation (that actually tells you about the current block)\n",
    "    print(\"x is less than y\")\n",
    "    \n",
    "else:\n",
    "    print(\"x is greater than y\")"
   ]
  },
  {
   "cell_type": "code",
   "execution_count": null,
   "id": "6a116d30",
   "metadata": {},
   "outputs": [],
   "source": [
    "#Logical Operators\n",
    "# and    Gives True as a result when all of the conditions are True\n",
    "# or     Gives True as a result when one of the condition is True\n",
    "# not    Changes False condition to True and True condition to False"
   ]
  },
  {
   "cell_type": "code",
   "execution_count": 19,
   "id": "07b605dc",
   "metadata": {},
   "outputs": [
    {
     "name": "stdout",
     "output_type": "stream",
     "text": [
      "x is less than y and x is not equal to 15\n"
     ]
    }
   ],
   "source": [
    "#syntax of writing if and else\n",
    "x=10\n",
    "y=15\n",
    "if x<y and x==15:                      #Indentation (that actually tells you about the current block)\n",
    "    print(\"x is less than y and x is equal to 15\")\n",
    "    \n",
    "else:\n",
    "    print(\"x is less than y and x is not equal to 15\")"
   ]
  },
  {
   "cell_type": "code",
   "execution_count": null,
   "id": "7c6232a5",
   "metadata": {},
   "outputs": [],
   "source": [
    "username=input(\"Enter your user name: \")  #Henry\n",
    "password= input(\"Enter your password: \") #flower\n",
    "\n",
    "if username==\"shah542\" and password==\"flower\":  #False  and    True      (False)\n",
    "    print(\"Login Successful\")\n",
    "else:\n",
    "    print(\"Username or password incorrect\")"
   ]
  },
  {
   "cell_type": "code",
   "execution_count": 21,
   "id": "07c9fb5f",
   "metadata": {},
   "outputs": [
    {
     "name": "stdout",
     "output_type": "stream",
     "text": [
      "The condition is false\n"
     ]
    }
   ],
   "source": [
    "value=True\n",
    "if  not value:   #False\n",
    "    print(\"The condition is True\")\n",
    "else:\n",
    "    print(\"The condition is false\")"
   ]
  },
  {
   "cell_type": "code",
   "execution_count": 25,
   "id": "f01234b6",
   "metadata": {},
   "outputs": [
    {
     "name": "stdout",
     "output_type": "stream",
     "text": [
      "Enter your user name: shah\n",
      "Enter your password: 123\n"
     ]
    }
   ],
   "source": [
    "username=input(\"Enter your user name: \")  #Henry\n",
    "password= input(\"Enter your password: \") #flower\n",
    "\n",
    "if username==\"shah542\" or password==\"flower\":  #False  and    True      (False)\n",
    "    print(\"Login Successful\")\n"
   ]
  },
  {
   "cell_type": "code",
   "execution_count": 27,
   "id": "a0c4dcb4",
   "metadata": {},
   "outputs": [
    {
     "name": "stdout",
     "output_type": "stream",
     "text": [
      "Enter two integers, and I will tell you the relationships they satisfy.\n",
      "Enter first integer: 5\n",
      "Enter second integer: 10\n",
      "5 is not equal to 10\n",
      "5 is less than 10\n",
      "5 is less than or equal to 10\n"
     ]
    }
   ],
   "source": [
    "# fig02_01.py\n",
    "\"\"\"Comparing integers using if statements and comparison operators.\"\"\"\n",
    "\n",
    "print('Enter two integers, and I will tell you',\n",
    "'the relationships they satisfy.')\n",
    "\n",
    "#Multiple if\n",
    "# read first integer\n",
    "number1 = int(input('Enter first integer: '))  #5\n",
    "\n",
    "# read second integer\n",
    "number2 = int(input('Enter second integer: '))  #10\n",
    "\n",
    "if number1 == number2: #False\n",
    "    print(number1, 'is equal to', number2)\n",
    "\n",
    "else:  #True\n",
    "    print(number1, 'is not equal to', number2)\n",
    "\n",
    "if number1 < number2: #True\n",
    "    print(number1, 'is less than', number2)\n",
    "\n",
    "else:  #False\n",
    "    print(number1, 'is greater than', number2)\n",
    "\n",
    "if number1 <= number2: #True     \n",
    "    print(number1, 'is less than or equal to', number2)\n",
    "    \n",
    "else: #False\n",
    "    print(number1, 'is greater than or equal to', number2)"
   ]
  },
  {
   "cell_type": "code",
   "execution_count": 29,
   "id": "dc7fb083",
   "metadata": {},
   "outputs": [
    {
     "name": "stdout",
     "output_type": "stream",
     "text": [
      "9 is odd\n"
     ]
    }
   ],
   "source": [
    "x=12\n",
    "if x%2==0:              #1==0\n",
    "    print(x,\"is even\")\n",
    "else:\n",
    "    print(x,\"is odd\")"
   ]
  },
  {
   "cell_type": "code",
   "execution_count": null,
   "id": "7e6050ce",
   "metadata": {},
   "outputs": [],
   "source": []
  }
 ],
 "metadata": {
  "kernelspec": {
   "display_name": "Python 3",
   "language": "python",
   "name": "python3"
  },
  "language_info": {
   "codemirror_mode": {
    "name": "ipython",
    "version": 3
   },
   "file_extension": ".py",
   "mimetype": "text/x-python",
   "name": "python",
   "nbconvert_exporter": "python",
   "pygments_lexer": "ipython3",
   "version": "3.8.8"
  }
 },
 "nbformat": 4,
 "nbformat_minor": 5
}
