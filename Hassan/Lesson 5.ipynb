{
 "cells": [
  {
   "cell_type": "code",
   "execution_count": null,
   "id": "49de58fc",
   "metadata": {},
   "outputs": [],
   "source": [
    "#take username and password as an input\n",
    "# if username==\"\"\n",
    "#print(\"Login successful\")\n",
    "#print(\"Username or password incorrect\")"
   ]
  },
  {
   "cell_type": "markdown",
   "id": "8c2e3f44",
   "metadata": {},
   "source": [
    "# Multiple if statements"
   ]
  },
  {
   "cell_type": "code",
   "execution_count": 3,
   "id": "3efc0bfc",
   "metadata": {},
   "outputs": [
    {
     "name": "stdout",
     "output_type": "stream",
     "text": [
      "Enter two integers, and I will tell you the relationships they satisfy.\n",
      "Enter first integer: 6\n",
      "Enter second integer: 12\n",
      "6 is not equal to 12\n",
      "6 is less than 12\n",
      "6 is less than or equal to 12\n"
     ]
    }
   ],
   "source": [
    "# fig02_01.py\n",
    "\"\"\"Comparing integers using if statements and comparison operators.\"\"\"\n",
    "\n",
    "print('Enter two integers, and I will tell you','the relationships they satisfy.')\n",
    "\n",
    "# read first integer\n",
    "number1 = int(input('Enter first integer: '))\n",
    "\n",
    "# read second integer\n",
    "number2 = int(input('Enter second integer: '))\n",
    "\n",
    "if number1 == number2:\n",
    "    print(number1, 'is equal to', number2)\n",
    "\n",
    "if number1 != number2:\n",
    "    print(number1, 'is not equal to', number2)\n",
    "\n",
    "if number1 < number2:\n",
    "    print(number1, 'is less than', number2)\n",
    "\n",
    "if number1 > number2:\n",
    "    print(number1, 'is greater than', number2)\n",
    "\n",
    "if number1 <= number2:\n",
    "    print(number1, 'is less than or equal to', number2)\n",
    "\n",
    "if number1 >= number2:\n",
    "    print(number1, 'is greater than or equal to', number2)"
   ]
  },
  {
   "cell_type": "code",
   "execution_count": 2,
   "id": "385ae01a",
   "metadata": {},
   "outputs": [
    {
     "name": "stdout",
     "output_type": "stream",
     "text": [
      "False\n"
     ]
    }
   ],
   "source": [
    "x=5        #Single equal is Assignment operator that is used to assign values to a variable\n",
    "y=6\n",
    "z=7\n",
    "\n",
    "print(x<y and x<z and y>z)       #  True and True and False\n",
    "                                #True  and False\n",
    "                                #False"
   ]
  },
  {
   "cell_type": "markdown",
   "id": "cf04f3f6",
   "metadata": {},
   "source": [
    "# Take a variable called grade whose value lies between 1 and 100\n",
    "0 to 49    :  You got F grade\n",
    "50 to 59    :  You got D grade\n",
    "60 to 69    :  You got C grade\n",
    "70 to 79    :  You got B grade\n",
    "80 to 89    :  You got A grade\n",
    "90 to 100    :  You got A+ grade\n"
   ]
  },
  {
   "cell_type": "code",
   "execution_count": 4,
   "id": "1a4ca175",
   "metadata": {},
   "outputs": [
    {
     "name": "stdout",
     "output_type": "stream",
     "text": [
      "Enter a number between 1 and 10: 4\n",
      "please guess higher\n"
     ]
    }
   ],
   "source": [
    "#guessing game\n",
    "# gues_number less than correct guess : please guess higher value\n",
    "#guess_number greater than correct guess: please guess lower value\n",
    "#if guess number is equal to correct guess: you guessed correctly\n",
    "\n",
    "correct_guess=5\n",
    "guess_number=int(input(\"Enter a number between 1 and 10: \")) #7\n",
    "\n",
    "if guess_number < correct_guess:\n",
    "    print(\"please guess higher\")\n",
    "\n",
    "if guess_number > correct_guess:\n",
    "    print(\"Please guess lower\")\n",
    "    \n",
    "if guess_number == correct_guess:\n",
    "    print(\"you guessed correctly\")"
   ]
  },
  {
   "cell_type": "code",
   "execution_count": null,
   "id": "40280255",
   "metadata": {},
   "outputs": [],
   "source": []
  }
 ],
 "metadata": {
  "kernelspec": {
   "display_name": "Python 3",
   "language": "python",
   "name": "python3"
  },
  "language_info": {
   "codemirror_mode": {
    "name": "ipython",
    "version": 3
   },
   "file_extension": ".py",
   "mimetype": "text/x-python",
   "name": "python",
   "nbconvert_exporter": "python",
   "pygments_lexer": "ipython3",
   "version": "3.8.8"
  }
 },
 "nbformat": 4,
 "nbformat_minor": 5
}
