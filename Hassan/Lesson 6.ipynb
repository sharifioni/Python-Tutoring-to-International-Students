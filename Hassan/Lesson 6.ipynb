{
 "cells": [
  {
   "cell_type": "code",
   "execution_count": null,
   "id": "87065c8b",
   "metadata": {},
   "outputs": [],
   "source": [
    "#Take a number from the user\n",
    "#if it is greater than zero print number is positive it's negative"
   ]
  },
  {
   "cell_type": "code",
   "execution_count": 4,
   "id": "01c8bd4f",
   "metadata": {},
   "outputs": [
    {
     "name": "stdout",
     "output_type": "stream",
     "text": [
      "Enter a number: -2\n",
      "Number is negative\n"
     ]
    }
   ],
   "source": [
    "#Take a number from the user\n",
    "#if it is greater than zero print number is positive it's negative\n",
    "number=int(input(\"Enter a number: \"))\n",
    "if number >= 0:\n",
    "    print(\"Number is positive\")\n",
    "else:\n",
    "    print(\"Number is negative\")\n"
   ]
  },
  {
   "cell_type": "markdown",
   "id": "0e1a2803",
   "metadata": {},
   "source": [
    "# Take a variable called grade whose value lies between 1 and 100\n",
    "0 to 49    :  You got F grade\n",
    "50 to 59    :  You got D grade\n",
    "60 to 69    :  You got C grade\n",
    "70 to 79    :  You got B grade\n",
    "80 to 89    :  You got A grade\n",
    "90 to 100    :  You got A+ grade"
   ]
  },
  {
   "cell_type": "code",
   "execution_count": null,
   "id": "659b9d48",
   "metadata": {},
   "outputs": [],
   "source": [
    "grade=80\n",
    "\n",
    "if grade >= 0 and grade <= 49:\n",
    "    print(\"You got F grade\")\n",
    "    \n",
    "if grade >= 50 and grade <= 59:\n",
    "    print(\"You got D grade\")\n",
    "    \n",
    "if grade >= 60 and grade <= 69:\n",
    "    print(\"You got C grade\")\n",
    "    \n",
    "if grade >= 70 and grade <= 79:\n",
    "    print(\"You got B grade\")\n",
    "    \n",
    "if grade >= 80 and grade <= 89:\n",
    "    print(\"You got A grade\")\n",
    "    \n",
    "if grade >= 90 and grade <= 100:\n",
    "    print(\"Congratualations you got A+ grade\")\n"
   ]
  },
  {
   "cell_type": "markdown",
   "id": "90902d47",
   "metadata": {},
   "source": [
    "# if   elif   else\n",
    "\n",
    "It runs the first True statement\n",
    "\n",
    "if  ...........\n",
    "\n",
    "elif..........\n",
    "\n",
    "elif........\n",
    "\n",
    "else...........\n",
    "\n",
    "\n",
    "if you don't want to run the else part you may skip it"
   ]
  },
  {
   "cell_type": "code",
   "execution_count": 5,
   "id": "c64e2010",
   "metadata": {},
   "outputs": [
    {
     "name": "stdout",
     "output_type": "stream",
     "text": [
      "Enter a number: 5\n",
      "Number is positive\n"
     ]
    }
   ],
   "source": [
    "number=int(input(\"Enter a number: \"))  #-5\n",
    "\n",
    "if number>0:\n",
    "    print(\"Number is positive\")\n",
    "    \n",
    "elif number==0:\n",
    "    print(\"Number is zero\")\n",
    "    \n",
    "else:\n",
    "    print(\"Number is negative\")"
   ]
  },
  {
   "cell_type": "code",
   "execution_count": 7,
   "id": "1e8a65d2",
   "metadata": {},
   "outputs": [
    {
     "name": "stdout",
     "output_type": "stream",
     "text": [
      "Enter two integers, and I will tell you the relationships they satisfy.\n",
      "Enter first integer: 10\n",
      "Enter second integer: 15\n",
      "10 is not equal to 15\n"
     ]
    }
   ],
   "source": [
    "# fig02_01.py\n",
    "\"\"\"Comparing integers using if statements and comparison operators.\"\"\"\n",
    "\n",
    "print('Enter two integers, and I will tell you','the relationships they satisfy.')\n",
    "\n",
    "# read first integer\n",
    "number1 = int(input('Enter first integer: '))\n",
    "\n",
    "# read second integer\n",
    "number2 = int(input('Enter second integer: '))\n",
    "\n",
    "if number1 == number2:\n",
    "    print(number1, 'is equal to', number2)\n",
    "\n",
    "elif number1 != number2:\n",
    "    print(number1, 'is not equal to', number2)\n",
    "\n",
    "elif number1 < number2:\n",
    "    print(number1, 'is less than', number2)\n",
    "\n",
    "elif number1 > number2:\n",
    "    print(number1, 'is greater than', number2)\n",
    "\n",
    "elif number1 <= number2:\n",
    "    print(number1, 'is less than or equal to', number2)\n",
    "\n",
    "elif number1 >= number2:\n",
    "    print(number1, 'is greater than or equal to', number2)"
   ]
  },
  {
   "cell_type": "code",
   "execution_count": null,
   "id": "0efbce9b",
   "metadata": {},
   "outputs": [],
   "source": [
    "grade=65\n",
    "\n",
    "if grade >= 0 and grade <= 49:\n",
    "    print(\"You got F grade\")\n",
    "    \n",
    "elif grade >= 50 and grade <= 59:\n",
    "    print(\"You got D grade\")\n",
    "    \n",
    "elif grade >= 60 and grade <= 69:\n",
    "    print(\"You got C grade\")\n",
    "    \n",
    "elif grade >= 70 and grade <= 79:\n",
    "    print(\"You got B grade\")\n",
    "    \n",
    "elif grade >= 80 and grade <= 89:\n",
    "    print(\"You got A grade\")\n",
    "    \n",
    "elif grade >= 90 and grade <= 100:\n",
    "    print(\"Congratualations you got A+ grade\")"
   ]
  },
  {
   "cell_type": "markdown",
   "id": "1d7464a2",
   "metadata": {},
   "source": [
    "A transport company charges the fare according to following table:\n",
    "\n",
    "Distance\tCharges\n",
    "1-50\t   8 pounds./Km\n",
    "51-100\t   10 pounds./Km\n",
    ">100\t   12 pounds/Km\n",
    "\n",
    "Ask user to enter the distance and compute the fare."
   ]
  }
 ],
 "metadata": {
  "kernelspec": {
   "display_name": "Python 3",
   "language": "python",
   "name": "python3"
  },
  "language_info": {
   "codemirror_mode": {
    "name": "ipython",
    "version": 3
   },
   "file_extension": ".py",
   "mimetype": "text/x-python",
   "name": "python",
   "nbconvert_exporter": "python",
   "pygments_lexer": "ipython3",
   "version": "3.8.8"
  }
 },
 "nbformat": 4,
 "nbformat_minor": 5
}
