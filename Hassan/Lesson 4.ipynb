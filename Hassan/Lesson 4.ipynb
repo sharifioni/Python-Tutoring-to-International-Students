{
 "cells": [
  {
   "cell_type": "markdown",
   "id": "ac360ef3",
   "metadata": {},
   "source": [
    "# Comparsion Operators\n",
    ">    Greater than\n",
    "<    Less than\n",
    ">=   Greater than or equal to\n",
    "<=   Less than or equal to\n",
    "==   Equal\n",
    "!=   Not equal\n",
    "\n",
    "They are used to compare two values or operands\n",
    "They will always give you the result in boolean either True or False\n",
    "x=5\n",
    "y=6\n",
    "x>y   False"
   ]
  },
  {
   "cell_type": "code",
   "execution_count": 9,
   "id": "dc44bf37",
   "metadata": {},
   "outputs": [
    {
     "name": "stdout",
     "output_type": "stream",
     "text": [
      "x is less than y:  True\n",
      "x is greater than y:  False\n",
      "x is less than or equal to y:  True\n",
      "x is greater than or equal to y:  False\n",
      "x is equal to y:  False\n",
      "x is not equal to y:  True\n"
     ]
    }
   ],
   "source": [
    "x=5        #Single equal is Assignment operator that is used to assign values to a variable\n",
    "y=6\n",
    "\n",
    "print(\"x is less than y: \", x < y)\n",
    "print(\"x is greater than y: \",x > y)\n",
    "print(\"x is less than or equal to y: \",x <= y)\n",
    "print(\"x is greater than or equal to y: \",x >= y)\n",
    "print(\"x is equal to y: \",x == y)\n",
    "print(\"x is not equal to y: \",x != y)"
   ]
  },
  {
   "cell_type": "markdown",
   "id": "c405f5fe",
   "metadata": {},
   "source": [
    "# Logical Operators\n",
    "Logical operators are used between two or more conditions\n",
    "\n",
    "example: x<y and x<10            True  and True     = True\n",
    "\n",
    "\n",
    "and  :    If all of the conditions are true, it will give True as a result otherwise False   \n",
    "          If one of the condition is false it'll give you false\n",
    "          \n",
    "True      True  =  True\n",
    "True      False =  False\n",
    "False     True  =  False\n",
    "False     False =  False\n",
    "\n",
    "\n",
    "\n",
    "or:  if one of the condition is True it'll give you True as a result otherwise False\n",
    "True      True  =  True\n",
    "True      False =  True\n",
    "False     True  =  True\n",
    "False     False =  False\n",
    "\n",
    "\n",
    "\n",
    "not: not operator changes True condition to False and False condition to True"
   ]
  },
  {
   "cell_type": "code",
   "execution_count": 13,
   "id": "4f374073",
   "metadata": {},
   "outputs": [
    {
     "name": "stdout",
     "output_type": "stream",
     "text": [
      "True\n",
      "False\n",
      "False\n",
      "False\n"
     ]
    }
   ],
   "source": [
    "x=5        #Single equal is Assignment operator that is used to assign values to a variable\n",
    "y=6\n",
    "z=7\n",
    "\n",
    "print(x<y and x<z)\n",
    "print(x<y and x>z)\n",
    "print(x>y and x<z)\n",
    "print(x>y and x>z)\n",
    "\n"
   ]
  },
  {
   "cell_type": "code",
   "execution_count": 14,
   "id": "eb07e76f",
   "metadata": {},
   "outputs": [
    {
     "name": "stdout",
     "output_type": "stream",
     "text": [
      "True\n",
      "True\n",
      "True\n",
      "False\n"
     ]
    }
   ],
   "source": [
    "print(x<y or x<z)       #True\n",
    "print(x<y or x>z)       #True\n",
    "print(x>y or x<z)       #True\n",
    "print(x>y or x>z)       #False"
   ]
  },
  {
   "cell_type": "code",
   "execution_count": 15,
   "id": "c28ae47d",
   "metadata": {},
   "outputs": [
    {
     "name": "stdout",
     "output_type": "stream",
     "text": [
      "False\n",
      "True\n"
     ]
    }
   ],
   "source": [
    "print(not x<y)     #False\n",
    "print(not x>y)     #True"
   ]
  },
  {
   "cell_type": "markdown",
   "id": "c9bbd6b4",
   "metadata": {},
   "source": [
    "# Decision Making\n",
    "# if-else\n",
    "\n",
    "if part runs for True condition\n",
    "\n",
    "else part runs for False condition\n",
    "\n",
    "The way of writing if else:\n",
    "\n",
    "if condition:\n",
    "    Statement/decision for True Condition or if part\n",
    "    \n",
    "else:\n",
    "    statement/decision for False Condition or else part"
   ]
  },
  {
   "cell_type": "code",
   "execution_count": 2,
   "id": "0030d60b",
   "metadata": {},
   "outputs": [
    {
     "name": "stdout",
     "output_type": "stream",
     "text": [
      "This line is out of if else block\n"
     ]
    }
   ],
   "source": [
    "num1=20\n",
    "num2=35\n",
    "\n",
    "#Indentation: it tells you the code bolck \n",
    "if num1>num2:\n",
    "    print(f\"{num1} is less than {num2}\")\n",
    "    print(\"this is if part\")\n",
    "\n",
    "\n",
    "\n",
    "    \n",
    "print(\"This line is out of if else block\")"
   ]
  },
  {
   "cell_type": "code",
   "execution_count": null,
   "id": "a2044e33",
   "metadata": {},
   "outputs": [],
   "source": [
    "\n"
   ]
  }
 ],
 "metadata": {
  "kernelspec": {
   "display_name": "Python 3",
   "language": "python",
   "name": "python3"
  },
  "language_info": {
   "codemirror_mode": {
    "name": "ipython",
    "version": 3
   },
   "file_extension": ".py",
   "mimetype": "text/x-python",
   "name": "python",
   "nbconvert_exporter": "python",
   "pygments_lexer": "ipython3",
   "version": "3.8.8"
  }
 },
 "nbformat": 4,
 "nbformat_minor": 5
}
