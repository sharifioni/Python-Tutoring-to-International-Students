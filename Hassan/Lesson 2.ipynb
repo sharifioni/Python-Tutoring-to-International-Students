{
 "cells": [
  {
   "cell_type": "markdown",
   "id": "f1fe9186",
   "metadata": {},
   "source": [
    "# Arithmetic Operators"
   ]
  },
  {
   "cell_type": "code",
   "execution_count": null,
   "id": "2f6b4038",
   "metadata": {},
   "outputs": [],
   "source": [
    "# +      addition\n",
    "# -      subtraction\n",
    "# *      multiplication\n",
    "# /      division\n",
    "# **     Exponentiation\n",
    "# //     Floor Division / Integer Division\n",
    "# %      Remainder / Modulus"
   ]
  },
  {
   "cell_type": "code",
   "execution_count": 8,
   "id": "37681f11",
   "metadata": {},
   "outputs": [
    {
     "name": "stdout",
     "output_type": "stream",
     "text": [
      "number1+number2 =  14\n",
      "number1-number2 =  6\n",
      "number1*number2 =  40\n",
      "number1/number2 =  2.5\n",
      "number1**number2 =  10000\n",
      "number1//number2 =  2\n",
      "number1%number2 =  2\n"
     ]
    }
   ],
   "source": [
    "number1=10\n",
    "number2=4\n",
    "print(\"number1+number2 = \",number1+number2)\n",
    "print(\"number1-number2 = \",number1-number2)\n",
    "print(\"number1*number2 = \",number1*number2)\n",
    "print(\"number1/number2 = \",number1/number2)\n",
    "print(\"number1**number2 = \",number1**number2)\n",
    "print(\"number1//number2 = \",number1//number2)\n",
    "print(\"number1%number2 = \",number1%number2)"
   ]
  },
  {
   "cell_type": "markdown",
   "id": "5f71d3ba",
   "metadata": {},
   "source": [
    "# Operator Precedence"
   ]
  },
  {
   "cell_type": "code",
   "execution_count": 9,
   "id": "d80108da",
   "metadata": {},
   "outputs": [
    {
     "name": "stdout",
     "output_type": "stream",
     "text": [
      "10\n"
     ]
    }
   ],
   "source": [
    "print(2+2*4)"
   ]
  },
  {
   "cell_type": "code",
   "execution_count": 13,
   "id": "be1e993a",
   "metadata": {},
   "outputs": [
    {
     "name": "stdout",
     "output_type": "stream",
     "text": [
      "195.0\n"
     ]
    }
   ],
   "source": [
    "#Brackets Exponentiation Division/Multiplication  Addition/Subtraction\n",
    "\n",
    "#13*4**2+8/4-(10+5)     13*4**2+8/4-15     13*16+8/4-15     208+8/4-15        208+2.0-15       210.0-15   195.0\n",
    "expr=13*4**2+8/4-(10+5)\n",
    "print(expr)"
   ]
  },
  {
   "cell_type": "markdown",
   "id": "b70a9a6b",
   "metadata": {},
   "source": [
    "# Escape Sequences\n",
    "Written with the strings inside double quotes or single quotes\n",
    "\\t    Tab Space (3 to 4 spaces)\n",
    "\\n    New Line\n",
    "\\\\    It removes the special meaning of escape sequences\n",
    "\\     "
   ]
  },
  {
   "cell_type": "code",
   "execution_count": 17,
   "id": "114dc2dd",
   "metadata": {},
   "outputs": [
    {
     "name": "stdout",
     "output_type": "stream",
     "text": [
      "T\tH\tU\tR\tS\tD\tA\tY\n",
      "1\t2\t3\t4\t5\t6\t7\t8\t9\n"
     ]
    }
   ],
   "source": [
    "#\\t\n",
    "print(\"T\\tH\\tU\\tR\\tS\\tD\\tA\\tY\")\n",
    "print(\"1\\t2\\t3\\t4\\t5\\t6\\t7\\t8\\t9\")"
   ]
  },
  {
   "cell_type": "code",
   "execution_count": 23,
   "id": "d3c8a1b5",
   "metadata": {},
   "outputs": [
    {
     "name": "stdout",
     "output_type": "stream",
     "text": [
      "T\tH\n",
      "U\tR\n",
      "S\tD\n",
      "A\tY\n",
      "My name is:\n",
      "Shahjahan\n"
     ]
    }
   ],
   "source": [
    "#\\n\n",
    "print(\"T\\tH\\nU\\tR\\nS\\tD\\nA\\tY\")\n",
    "\n",
    "print(\"My name is:\\nShahjahan\")\n"
   ]
  },
  {
   "cell_type": "code",
   "execution_count": 24,
   "id": "ebeb91ab",
   "metadata": {},
   "outputs": [
    {
     "name": "stdout",
     "output_type": "stream",
     "text": [
      "T\\tH\\nU\\tR\\nS\\tD\\nA\\tY\n"
     ]
    }
   ],
   "source": [
    "#\\\\\n",
    "print(\"T\\\\tH\\\\nU\\\\tR\\\\nS\\\\tD\\\\nA\\\\tY\")\n",
    "\n"
   ]
  },
  {
   "cell_type": "code",
   "execution_count": 26,
   "id": "ba79da12",
   "metadata": {},
   "outputs": [
    {
     "name": "stdout",
     "output_type": "stream",
     "text": [
      "My name is sddddddddddddddddddddddddddddddddddddddddddd      dddddddddddddddddddddddddddddddddddddddddddddddfffffffffffffffffffffffffff\n"
     ]
    }
   ],
   "source": [
    "print(\"My name is sddddddddddddddddddddddddddddddddddddddddddd\\\n",
    "      dddddddddddddddddddddddddddddddddddddddddddddddfffffffffffffffffffffffffff\")"
   ]
  },
  {
   "cell_type": "code",
   "execution_count": 30,
   "id": "b24c396a",
   "metadata": {},
   "outputs": [
    {
     "name": "stdout",
     "output_type": "stream",
     "text": [
      "number\tsquare\tcube\n",
      "0 \t 0 \t 0\n",
      "1 \t 1 \t 1\n",
      "2 \t 4 \t 8\n"
     ]
    }
   ],
   "source": [
    "#Exercise 2.8\n",
    "#square is power of 2\n",
    "#cube is power of 3\n",
    "print(\"number\\tsquare\\tcube\")\n",
    "print(0,\"\\t\",0**2,\"\\t\",0**3)\n",
    "print(1,\"\\t\",1**2,\"\\t\",1**3)\n",
    "print(2,\"\\t\",2**2,\"\\t\",2**3)"
   ]
  },
  {
   "cell_type": "code",
   "execution_count": 36,
   "id": "efe8e4ef",
   "metadata": {},
   "outputs": [
    {
     "name": "stdout",
     "output_type": "stream",
     "text": [
      "The man gets  80  pounds per day\n",
      "The total pay he gets per month is  2000 pounds\n"
     ]
    }
   ],
   "source": [
    "#A person who works 25 days a month\n",
    "#per day he works for 8 hours\n",
    "#Per hour he gets 10 pounds\n",
    "#Calculate how much pay/money he gets during one month\n",
    "Total_days=25\n",
    "hours_per_day=8\n",
    "pay_per_hour=10\n",
    "pay_per_day=   hours_per_day*pay_per_hour\n",
    "print(\"The man gets \",pay_per_day,\" pounds per day\")\n",
    "print(\"The total pay he gets per month is \",pay_per_day*Total_days,\"pounds\")"
   ]
  },
  {
   "cell_type": "code",
   "execution_count": null,
   "id": "d6cd9207",
   "metadata": {},
   "outputs": [],
   "source": [
    "#Ali drinks 2 glasses of milk every day\n",
    "#Ali also eats one apple every day\n",
    "# Calorie intake for 1 glass of milk is 300 calories\n",
    "# Calorie intake for 1 apple is 200 calories\n",
    "#Calculate Total calories in one month\n",
    "#Calculate Total calories in one year"
   ]
  },
  {
   "cell_type": "code",
   "execution_count": null,
   "id": "f5478744",
   "metadata": {},
   "outputs": [],
   "source": []
  },
  {
   "cell_type": "markdown",
   "id": "968c3124",
   "metadata": {},
   "source": [
    "# Type Conversion\n",
    "In type conver"
   ]
  }
 ],
 "metadata": {
  "kernelspec": {
   "display_name": "Python 3",
   "language": "python",
   "name": "python3"
  },
  "language_info": {
   "codemirror_mode": {
    "name": "ipython",
    "version": 3
   },
   "file_extension": ".py",
   "mimetype": "text/x-python",
   "name": "python",
   "nbconvert_exporter": "python",
   "pygments_lexer": "ipython3",
   "version": "3.8.8"
  }
 },
 "nbformat": 4,
 "nbformat_minor": 5
}
