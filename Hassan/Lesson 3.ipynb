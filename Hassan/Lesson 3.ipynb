{
 "cells": [
  {
   "cell_type": "markdown",
   "id": "95039c7d",
   "metadata": {},
   "source": [
    "# String Concatenation\n",
    "Use of + operator between two or more strings in order to join them"
   ]
  },
  {
   "cell_type": "code",
   "execution_count": 2,
   "id": "66d6e805",
   "metadata": {},
   "outputs": [
    {
     "name": "stdout",
     "output_type": "stream",
     "text": [
      "Hassan England\n"
     ]
    }
   ],
   "source": [
    "name='Hassan'\n",
    "country='England'\n",
    "print(name+' '+country)"
   ]
  },
  {
   "cell_type": "code",
   "execution_count": 5,
   "id": "5ea561c3",
   "metadata": {},
   "outputs": [
    {
     "ename": "TypeError",
     "evalue": "can only concatenate str (not \"int\") to str",
     "output_type": "error",
     "traceback": [
      "\u001b[1;31m---------------------------------------------------------------------------\u001b[0m",
      "\u001b[1;31mTypeError\u001b[0m                                 Traceback (most recent call last)",
      "\u001b[1;32m<ipython-input-5-f31af0c260d7>\u001b[0m in \u001b[0;36m<module>\u001b[1;34m\u001b[0m\n\u001b[0;32m      1\u001b[0m \u001b[0mage\u001b[0m\u001b[1;33m=\u001b[0m\u001b[1;36m25\u001b[0m\u001b[1;33m\u001b[0m\u001b[1;33m\u001b[0m\u001b[0m\n\u001b[1;32m----> 2\u001b[1;33m \u001b[0mprint\u001b[0m\u001b[1;33m(\u001b[0m\u001b[1;34m'My age is: '\u001b[0m\u001b[1;33m+\u001b[0m\u001b[0mage\u001b[0m\u001b[1;33m)\u001b[0m\u001b[1;33m\u001b[0m\u001b[1;33m\u001b[0m\u001b[0m\n\u001b[0m",
      "\u001b[1;31mTypeError\u001b[0m: can only concatenate str (not \"int\") to str"
     ]
    }
   ],
   "source": [
    "age=25\n",
    "print('My age is: '+str(age))"
   ]
  },
  {
   "cell_type": "code",
   "execution_count": 7,
   "id": "c49ef013",
   "metadata": {},
   "outputs": [
    {
     "name": "stdout",
     "output_type": "stream",
     "text": [
      "8566\n"
     ]
    }
   ],
   "source": [
    "str1='85'\n",
    "str2='66'\n",
    "print(str1+str2)"
   ]
  },
  {
   "cell_type": "markdown",
   "id": "235c56c9",
   "metadata": {},
   "source": [
    "# Type Conversion\n",
    "Conversion from one data type to another data type is called type conversion\n",
    "int to str\n",
    "str to int\n",
    "str to float\n",
    "float to str\n",
    "float to int\n",
    "int to float"
   ]
  },
  {
   "cell_type": "code",
   "execution_count": 16,
   "id": "08db9627",
   "metadata": {},
   "outputs": [
    {
     "name": "stdout",
     "output_type": "stream",
     "text": [
      "The type of value1 is <class 'str'>\n",
      "Value1 is:  25\n",
      "The type of value2 is <class 'int'>\n",
      "Value2 is:  780\n",
      "The type of value3 is <class 'float'>\n",
      "Value3 is:  780.0\n"
     ]
    }
   ],
   "source": [
    "number1=25\n",
    "number2=55.75\n",
    "str1='780'\n",
    "\n",
    "#integer to string     using  str()\n",
    "value1=str(number1)\n",
    "print('The type of value1 is',type(value1))\n",
    "print('Value1 is: ',value1)\n",
    "\n",
    "\n",
    "#string to integer     using  int()\n",
    "value2=int(str1)\n",
    "print('The type of value2 is',type(value2))\n",
    "print('Value2 is: ',value2)\n",
    "\n",
    "\n",
    "#string to float    using  float()\n",
    "value3=float(str1)\n",
    "print('The type of value3 is',type(value3))\n",
    "print('Value3 is: ',value3)\n",
    "\n",
    "#Homework\n",
    "#float to string\n",
    "#float to integer\n",
    "#integer to float\n"
   ]
  },
  {
   "cell_type": "markdown",
   "id": "faebb8b9",
   "metadata": {},
   "source": [
    "# input function\n",
    "input()  it is used to take a value from the user\n",
    "input() function always gives you a string value"
   ]
  },
  {
   "cell_type": "code",
   "execution_count": 12,
   "id": "f1fabaca",
   "metadata": {},
   "outputs": [
    {
     "name": "stdout",
     "output_type": "stream",
     "text": [
      "Enter your name: Peter\n",
      "The name is Peter\n"
     ]
    }
   ],
   "source": [
    "name=input('Enter your name: ')\n",
    "print(\"The name is\",name)"
   ]
  },
  {
   "cell_type": "code",
   "execution_count": 18,
   "id": "673d44d0",
   "metadata": {},
   "outputs": [
    {
     "name": "stdout",
     "output_type": "stream",
     "text": [
      "Enter first number: 75\n",
      "Enter second number: 15\n",
      "90\n"
     ]
    }
   ],
   "source": [
    "number1=int(input(\"Enter first number: \"))\n",
    "number2=int(input(\"Enter second number: \"))\n",
    "print(number1+number2)"
   ]
  },
  {
   "cell_type": "markdown",
   "id": "0cfdc3ba",
   "metadata": {},
   "source": [
    "# fstrings , string formatting\n"
   ]
  },
  {
   "cell_type": "code",
   "execution_count": 25,
   "id": "dc0fe0e7",
   "metadata": {},
   "outputs": [
    {
     "name": "stdout",
     "output_type": "stream",
     "text": [
      "I like to eat  pizza Today the temperature is 10 Celsius. Today the weather is cold True\n"
     ]
    }
   ],
   "source": [
    "food='pizza'\n",
    "temperature=10\n",
    "Weather=True\n",
    "print('I like to eat ',food, 'Today the temperature is', temperature,'Celsius. Today the weather is cold:',Weather)"
   ]
  },
  {
   "cell_type": "code",
   "execution_count": 27,
   "id": "6f0d879e",
   "metadata": {},
   "outputs": [
    {
     "name": "stdout",
     "output_type": "stream",
     "text": [
      "I like to eat pizza Today the temperature is 10 Celsius. Today the weather is cold:True\n"
     ]
    }
   ],
   "source": [
    "food='pizza'\n",
    "temperature=10\n",
    "Weather=True\n",
    "print(f'I like to eat {food} Today the temperature is {temperature} Celsius. Today the weather is cold:{Weather}')"
   ]
  },
  {
   "cell_type": "code",
   "execution_count": 29,
   "id": "61a4ff81",
   "metadata": {},
   "outputs": [
    {
     "name": "stdout",
     "output_type": "stream",
     "text": [
      "I like to eat 10 Today the temperature is True Celsius. Today the weather is cold:pizza\n"
     ]
    }
   ],
   "source": [
    "food='pizza'\n",
    "temperature=10\n",
    "Weather=True\n",
    "print('I like to eat {} Today the temperature is {} Celsius. Today the weather is cold:{}'.format(food,temperature,Weather))"
   ]
  },
  {
   "cell_type": "code",
   "execution_count": 4,
   "id": "546a60e0",
   "metadata": {},
   "outputs": [
    {
     "name": "stdout",
     "output_type": "stream",
     "text": [
      "Enter first number: 3\n",
      "Enter second number: 4\n",
      "Enter third number: 5\n",
      "Square of 3 is 9, 4 is 16 and 5 is 25\n",
      "Cube of 3 is 27, 4 is 64 and 5 is 125\n",
      "So the sum of squares of 3,4 and 5 is 50\n",
      "So the sum of cubes of 3,4 and 5 is 216\n"
     ]
    }
   ],
   "source": [
    "#Take three integer values using input() function \n",
    "#Calculate squares and cubes of each values and print out them\n",
    "#You have to calculate the total sum of squares and cubes separately\n",
    "num1=int(input(\"Enter first number: \"))\n",
    "num2=int(input(\"Enter second number: \"))\n",
    "num3=int(input(\"Enter third number: \"))\n",
    "print(f\"Square of {num1} is {num1**2}, {num2} is {num2**2} and {num3} is {num3**2}\")\n",
    "print(f\"Cube of {num1} is {num1**3}, {num2} is {num2**3} and {num3} is {num3**3}\")\n",
    "print(f\"So the sum of squares of {num1},{num2} and {num3} is {num1**2+num2**2+num3**2}\")\n",
    "print(f\"So the sum of cubes of {num1},{num2} and {num3} is {num1**3+num2**3+num3**3}\")"
   ]
  },
  {
   "cell_type": "code",
   "execution_count": null,
   "id": "de2e4405",
   "metadata": {},
   "outputs": [],
   "source": []
  }
 ],
 "metadata": {
  "kernelspec": {
   "display_name": "Python 3",
   "language": "python",
   "name": "python3"
  },
  "language_info": {
   "codemirror_mode": {
    "name": "ipython",
    "version": 3
   },
   "file_extension": ".py",
   "mimetype": "text/x-python",
   "name": "python",
   "nbconvert_exporter": "python",
   "pygments_lexer": "ipython3",
   "version": "3.8.8"
  }
 },
 "nbformat": 4,
 "nbformat_minor": 5
}
