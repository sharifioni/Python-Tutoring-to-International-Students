{
 "cells": [
  {
   "cell_type": "markdown",
   "id": "6f66b77d",
   "metadata": {},
   "source": [
    "# Print Function"
   ]
  },
  {
   "cell_type": "code",
   "execution_count": 19,
   "id": "de2a6a6d",
   "metadata": {},
   "outputs": [
    {
     "name": "stdout",
     "output_type": "stream",
     "text": [
      "Hello World\n",
      "5\n",
      "5.5\n",
      "True\n"
     ]
    }
   ],
   "source": [
    "#print statement\n",
    "#syntax  (way of writing your code where you follow some rules)\n",
    "#python is case sensitive language (if something is in lower case letters then you must write them in lower case)\n",
    "print(\"Hello World\")\n",
    "print(5)\n",
    "print(5.5)\n",
    "print(True)"
   ]
  },
  {
   "cell_type": "markdown",
   "id": "5a33c654",
   "metadata": {},
   "source": [
    "# Data types"
   ]
  },
  {
   "cell_type": "code",
   "execution_count": 2,
   "id": "f58e4b71",
   "metadata": {},
   "outputs": [
    {
     "name": "stdout",
     "output_type": "stream",
     "text": [
      "Hello World\n",
      "5\n",
      "5.5\n",
      "True\n"
     ]
    }
   ],
   "source": [
    "#Data types\n",
    "#String     str       written in double quotes and single quotes  (it can have any character  2@aA.>)\n",
    "#integers   int       basically numbers without decimal part    23,45,0,-12,100\n",
    "#floats     float     These numbers include part               23.5, 100.00,0.5,-98.75\n",
    "#Boolean    bool      True,False\n",
    "\n",
    "print(\"Hello World\")  #string\n",
    "print(5)              #integer\n",
    "print(5.5)            #float\n",
    "print(True)           #boolean"
   ]
  },
  {
   "cell_type": "markdown",
   "id": "83982eb8",
   "metadata": {},
   "source": [
    "# Type Function"
   ]
  },
  {
   "cell_type": "code",
   "execution_count": 3,
   "id": "752844d3",
   "metadata": {},
   "outputs": [],
   "source": [
    "#type()    type function is used to check the type of a value"
   ]
  },
  {
   "cell_type": "code",
   "execution_count": 4,
   "id": "6c00bdfc",
   "metadata": {},
   "outputs": [
    {
     "name": "stdout",
     "output_type": "stream",
     "text": [
      "<class 'str'>\n",
      "<class 'int'>\n",
      "<class 'float'>\n",
      "<class 'bool'>\n"
     ]
    }
   ],
   "source": [
    "print(type(\"My name\"))    #string\n",
    "print(type(5))\n",
    "print(type(5.5))\n",
    "print(type(False))"
   ]
  },
  {
   "cell_type": "markdown",
   "id": "467e625c",
   "metadata": {},
   "source": [
    "# Variables and Assignments"
   ]
  },
  {
   "cell_type": "code",
   "execution_count": 5,
   "id": "16e0dd45",
   "metadata": {},
   "outputs": [],
   "source": [
    "#variables are used to store values\n",
    "#Rules to give variable names\n",
    "#Variable name should only consist of letters, numbers and underscores  _\n",
    "#The first character of variable name cannot be a number\n",
    "#It should not be a python keyword"
   ]
  },
  {
   "cell_type": "code",
   "execution_count": 1,
   "id": "f9ee5c0f",
   "metadata": {},
   "outputs": [
    {
     "ename": "SyntaxError",
     "evalue": "invalid syntax (<ipython-input-1-9bef0f3fccf8>, line 1)",
     "output_type": "error",
     "traceback": [
      "\u001b[1;36m  File \u001b[1;32m\"<ipython-input-1-9bef0f3fccf8>\"\u001b[1;36m, line \u001b[1;32m1\u001b[0m\n\u001b[1;33m    2number1=55\u001b[0m\n\u001b[1;37m     ^\u001b[0m\n\u001b[1;31mSyntaxError\u001b[0m\u001b[1;31m:\u001b[0m invalid syntax\n"
     ]
    }
   ],
   "source": [
    "number1=55\n",
    "number2=45\n",
    "print(\"The first number is:\",number1 ,\"The second number is:\", number2)"
   ]
  },
  {
   "cell_type": "code",
   "execution_count": 9,
   "id": "27bcaa7a",
   "metadata": {},
   "outputs": [
    {
     "name": "stdout",
     "output_type": "stream",
     "text": [
      "Hello my name is:  Ali\n",
      "My age is 23\n",
      "My weight is 55.5\n",
      "I have black hairs True\n"
     ]
    }
   ],
   "source": [
    "name=\"Ali\"\n",
    "age=23\n",
    "weight=55.5\n",
    "black_hair=True\n",
    "\n",
    "print(\"Hello my name is: \",name)\n",
    "print(\"My age is\",age)\n",
    "print(\"My weight is\",weight)\n",
    "print(\"I have black hairs\",black_hair)"
   ]
  },
  {
   "cell_type": "markdown",
   "id": "c29b09aa",
   "metadata": {},
   "source": [
    "# Arithmetic Operators"
   ]
  },
  {
   "cell_type": "code",
   "execution_count": null,
   "id": "b06534f2",
   "metadata": {},
   "outputs": [],
   "source": [
    "# +      addition\n",
    "# -      subtraction\n",
    "# *      multiplication\n",
    "# /      division\n",
    "# **     Exponentiation\n",
    "# //     Floor Division / Integer Division\n",
    "# %      Remainder / Modulus"
   ]
  },
  {
   "cell_type": "code",
   "execution_count": 3,
   "id": "0f608ce9",
   "metadata": {},
   "outputs": [
    {
     "name": "stdout",
     "output_type": "stream",
     "text": [
      "number1+number2= 13\n",
      "7\n",
      "30\n",
      "3.3333333333333335\n",
      "1000\n"
     ]
    }
   ],
   "source": [
    "number1=10\n",
    "number2=3\n",
    "print(\"number1+number2 = \",number1+number2)\n",
    "print(number1-number2)\n",
    "print(number1*number2)\n",
    "print(number1/number2)\n",
    "print(number1**number2)"
   ]
  },
  {
   "cell_type": "code",
   "execution_count": 16,
   "id": "5110431c",
   "metadata": {},
   "outputs": [
    {
     "name": "stdout",
     "output_type": "stream",
     "text": [
      "6\n"
     ]
    }
   ],
   "source": [
    "#4 numbers perform arithmetic operations"
   ]
  }
 ],
 "metadata": {
  "kernelspec": {
   "display_name": "Python 3",
   "language": "python",
   "name": "python3"
  },
  "language_info": {
   "codemirror_mode": {
    "name": "ipython",
    "version": 3
   },
   "file_extension": ".py",
   "mimetype": "text/x-python",
   "name": "python",
   "nbconvert_exporter": "python",
   "pygments_lexer": "ipython3",
   "version": "3.8.8"
  }
 },
 "nbformat": 4,
 "nbformat_minor": 5
}
