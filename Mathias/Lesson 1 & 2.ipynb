{
 "cells": [
  {
   "cell_type": "markdown",
   "id": "ddd25a99",
   "metadata": {},
   "source": [
    "# Python\n",
    "* functions  (They perform specific task)\n",
    "* Every function has a name and paranthesis or round brackets\n",
    "* print() function. it is used to display any data in output"
   ]
  },
  {
   "cell_type": "code",
   "execution_count": 1,
   "id": "2e836907",
   "metadata": {},
   "outputs": [
    {
     "name": "stdout",
     "output_type": "stream",
     "text": [
      "Hello World\n"
     ]
    }
   ],
   "source": [
    "print(\"Hello World\")"
   ]
  },
  {
   "cell_type": "code",
   "execution_count": 2,
   "id": "78b8a15a",
   "metadata": {},
   "outputs": [
    {
     "name": "stdout",
     "output_type": "stream",
     "text": [
      "Hello World We are learning Python Python is a good programming language\n"
     ]
    }
   ],
   "source": [
    "print(\"Hello World\", \"We are learning Python\", \"Python is a good programming language\")"
   ]
  },
  {
   "cell_type": "code",
   "execution_count": 5,
   "id": "466c62f0",
   "metadata": {},
   "outputs": [
    {
     "name": "stdout",
     "output_type": "stream",
     "text": [
      "65 87 100\n"
     ]
    }
   ],
   "source": [
    "print(65, 87, 100)"
   ]
  },
  {
   "cell_type": "code",
   "execution_count": 4,
   "id": "6290d3da",
   "metadata": {},
   "outputs": [
    {
     "name": "stdout",
     "output_type": "stream",
     "text": [
      "Help on built-in function print in module builtins:\n",
      "\n",
      "print(...)\n",
      "    print(value, ..., sep=' ', end='\\n', file=sys.stdout, flush=False)\n",
      "    \n",
      "    Prints the values to a stream, or to sys.stdout by default.\n",
      "    Optional keyword arguments:\n",
      "    file:  a file-like object (stream); defaults to the current sys.stdout.\n",
      "    sep:   string inserted between values, default a space.\n",
      "    end:   string appended after the last value, default a newline.\n",
      "    flush: whether to forcibly flush the stream.\n",
      "\n"
     ]
    }
   ],
   "source": [
    "help(print)"
   ]
  },
  {
   "cell_type": "code",
   "execution_count": 10,
   "id": "245d31c1",
   "metadata": {},
   "outputs": [
    {
     "name": "stdout",
     "output_type": "stream",
     "text": [
      "65    87    100\n"
     ]
    }
   ],
   "source": [
    "print(65, 87, 100, sep = '    ')"
   ]
  },
  {
   "cell_type": "code",
   "execution_count": 11,
   "id": "40d115c8",
   "metadata": {},
   "outputs": [
    {
     "name": "stdout",
     "output_type": "stream",
     "text": [
      "Hello world\n",
      "Today is Sunday\n",
      "Today we have our first lesson\n"
     ]
    }
   ],
   "source": [
    "print(\"Hello world\")\n",
    "print(\"Today is Sunday\")\n",
    "print(\"Today we have our first lesson\")"
   ]
  },
  {
   "cell_type": "code",
   "execution_count": 12,
   "id": "21978797",
   "metadata": {},
   "outputs": [
    {
     "ename": "NameError",
     "evalue": "name 'PRINT' is not defined",
     "output_type": "error",
     "traceback": [
      "\u001b[1;31m---------------------------------------------------------------------------\u001b[0m",
      "\u001b[1;31mNameError\u001b[0m                                 Traceback (most recent call last)",
      "\u001b[1;32m~\\AppData\\Local\\Temp/ipykernel_1744/2719184479.py\u001b[0m in \u001b[0;36m<module>\u001b[1;34m\u001b[0m\n\u001b[0;32m      1\u001b[0m \u001b[1;31m# different errors in python\u001b[0m\u001b[1;33m\u001b[0m\u001b[1;33m\u001b[0m\u001b[0m\n\u001b[1;32m----> 2\u001b[1;33m \u001b[0mPRINT\u001b[0m\u001b[1;33m(\u001b[0m\u001b[1;34m\"Hello\"\u001b[0m\u001b[1;33m)\u001b[0m\u001b[1;33m\u001b[0m\u001b[1;33m\u001b[0m\u001b[0m\n\u001b[0m",
      "\u001b[1;31mNameError\u001b[0m: name 'PRINT' is not defined"
     ]
    }
   ],
   "source": [
    "# different errors in python\n",
    "# Name Error\n",
    "PRINT(\"Hello\")"
   ]
  },
  {
   "cell_type": "code",
   "execution_count": 15,
   "id": "16142f85",
   "metadata": {},
   "outputs": [
    {
     "ename": "SyntaxError",
     "evalue": "EOL while scanning string literal (Temp/ipykernel_1744/1998557709.py, line 3)",
     "output_type": "error",
     "traceback": [
      "\u001b[1;36m  File \u001b[1;32m\"C:\\Users\\shahj\\AppData\\Local\\Temp/ipykernel_1744/1998557709.py\"\u001b[1;36m, line \u001b[1;32m3\u001b[0m\n\u001b[1;33m    print(\"Hello world)\u001b[0m\n\u001b[1;37m                       ^\u001b[0m\n\u001b[1;31mSyntaxError\u001b[0m\u001b[1;31m:\u001b[0m EOL while scanning string literal\n"
     ]
    }
   ],
   "source": [
    "# Syntax Error\n",
    "# Syntax is rules that you follow to write a code\n",
    "print(\"Hello world)"
   ]
  },
  {
   "cell_type": "code",
   "execution_count": 16,
   "id": "a799f372",
   "metadata": {},
   "outputs": [
    {
     "ename": "SyntaxError",
     "evalue": "unexpected EOF while parsing (Temp/ipykernel_1744/2528533674.py, line 3)",
     "output_type": "error",
     "traceback": [
      "\u001b[1;36m  File \u001b[1;32m\"C:\\Users\\shahj\\AppData\\Local\\Temp/ipykernel_1744/2528533674.py\"\u001b[1;36m, line \u001b[1;32m3\u001b[0m\n\u001b[1;33m    print(\"Hello world\"\u001b[0m\n\u001b[1;37m                       ^\u001b[0m\n\u001b[1;31mSyntaxError\u001b[0m\u001b[1;31m:\u001b[0m unexpected EOF while parsing\n"
     ]
    }
   ],
   "source": [
    "# Syntax Error\n",
    "# Syntax is rules that you follow to write a code\n",
    "print(\"Hello world\""
   ]
  },
  {
   "cell_type": "markdown",
   "id": "c4604f6e",
   "metadata": {},
   "source": [
    "# Data types in python\n",
    "* strings    str    Whatever value you write inside double quotes or single quotes, it is a string.  \"Python\"\n",
    "* integers   int    Numbers without decimal part e.g: 67, 89, 0, -15, 285\n",
    "* float      float  Numbers with decimal part. e.g: 67.75, 89.17, 65.05, -12.97\n",
    "* boolean    bool   True, False"
   ]
  },
  {
   "cell_type": "code",
   "execution_count": 18,
   "id": "208b9ccc",
   "metadata": {},
   "outputs": [
    {
     "name": "stdout",
     "output_type": "stream",
     "text": [
      "My name is Mathias    25    87.5    True\n"
     ]
    }
   ],
   "source": [
    "print(\"My name is Mathias\", 25, 87.5, True, sep = '    ')"
   ]
  },
  {
   "cell_type": "markdown",
   "id": "4f27722d",
   "metadata": {},
   "source": [
    "# Arithmetic Operators\n",
    "* Addition +\n",
    "* Multiplication *\n",
    "* Division /\n",
    "* Subtraction  -\n",
    "* Power       **\n",
    "* Remainder   %\n",
    "* Floor division  //\n",
    "* all these arithmetic operators can be used between integers and floats\n"
   ]
  },
  {
   "cell_type": "code",
   "execution_count": 1,
   "id": "467b236c",
   "metadata": {},
   "outputs": [
    {
     "name": "stdout",
     "output_type": "stream",
     "text": [
      "25\n",
      "5\n",
      "50\n",
      "3.3333333333333335\n",
      "100\n",
      "2\n",
      "3\n"
     ]
    }
   ],
   "source": [
    "print(10 + 15)\n",
    "print(10 - 5)\n",
    "print(10 * 5)\n",
    "print( 10 / 3)   # 3.33\n",
    "print(10 ** 2)\n",
    "print(10 % 4)\n",
    "print( 10 // 3)  # 3"
   ]
  },
  {
   "cell_type": "markdown",
   "id": "8bb3da1a",
   "metadata": {},
   "source": [
    "# Operator Precedence\n",
    "* BDMAS\n",
    "* Brackets Exponentiation Division/Multiplication Addition/Subtraction"
   ]
  },
  {
   "cell_type": "code",
   "execution_count": 1,
   "id": "23f99759",
   "metadata": {},
   "outputs": [
    {
     "name": "stdout",
     "output_type": "stream",
     "text": [
      "28.0\n"
     ]
    }
   ],
   "source": [
    "print( 3**2 + (5+5) * 2 -5 / 5 )\n",
    "# 3 ** 2 + 10 * 2 - 5 / 5\n",
    "# 3 ** 2 + 10 * 2 - 5 / 5\n",
    "# 9 + 10 * 2 - 5 / 5\n",
    "# 9 + 20 - 5 / 5\n",
    "# 9 + 20 - 1.0\n",
    "# 29 - 1.0\n",
    "# 28.0\n"
   ]
  },
  {
   "cell_type": "markdown",
   "id": "bfdbe625",
   "metadata": {},
   "source": [
    "# Variables\n",
    "* Variables are used to hold values of different data types with specific name\n",
    "* name_of_variable = value\n",
    "* naming a variable has some rules: variable name only consists of letters, digits and underscore\n",
    "* The first letter of a variable name cannot be a digit\n",
    "* variable names cannot be keywords"
   ]
  },
  {
   "cell_type": "code",
   "execution_count": 4,
   "id": "4297a737",
   "metadata": {},
   "outputs": [
    {
     "name": "stdout",
     "output_type": "stream",
     "text": [
      "Mathias\n"
     ]
    }
   ],
   "source": [
    "first_name1 = \"Mathias\"\n",
    "print(first_name1)"
   ]
  },
  {
   "cell_type": "code",
   "execution_count": 6,
   "id": "31408863",
   "metadata": {},
   "outputs": [
    {
     "name": "stdout",
     "output_type": "stream",
     "text": [
      "Mathias\n"
     ]
    }
   ],
   "source": [
    "first_name = \"Mathias\"\n",
    "print(first_name)"
   ]
  },
  {
   "cell_type": "code",
   "execution_count": 15,
   "id": "95e1852b",
   "metadata": {},
   "outputs": [
    {
     "name": "stdout",
     "output_type": "stream",
     "text": [
      "Mathias 32 180 1990\n",
      "Mathias    32    180    1990\n",
      "My name is Mathias My age is 32 My height is 180 My year of birth is 1990\n"
     ]
    }
   ],
   "source": [
    "# prints age, height, name and their date of birth of a person\n",
    "name = \"Mathias\"\n",
    "age = 32\n",
    "height = 180\n",
    "year = 1990\n",
    "print(name, age, height, year)\n",
    "print(name, age, height, year, sep = \"    \")\n",
    "print(\"My name is\", name, \"My age is\", age, \"My height is\", height, \"My year of birth is\", year)"
   ]
  },
  {
   "cell_type": "markdown",
   "id": "20b6ff59",
   "metadata": {},
   "source": [
    "# String Concatenation"
   ]
  },
  {
   "cell_type": "code",
   "execution_count": 18,
   "id": "1b0c67c8",
   "metadata": {},
   "outputs": [
    {
     "name": "stdout",
     "output_type": "stream",
     "text": [
      "3210\n",
      "42\n",
      "JohnPeter\n"
     ]
    }
   ],
   "source": [
    "# String concatenation, joining two strings with + operator\n",
    "print(\"32\" + \"10\")\n",
    "print(32 + 10)\n",
    "\n",
    "print(\"John\" + \"Peter\")"
   ]
  },
  {
   "cell_type": "markdown",
   "id": "bcc8b04a",
   "metadata": {},
   "source": [
    "# Type Function\n",
    "* Type function is used to check the type of any value\n",
    "* type(value)"
   ]
  },
  {
   "cell_type": "code",
   "execution_count": 24,
   "id": "18359164",
   "metadata": {},
   "outputs": [
    {
     "name": "stdout",
     "output_type": "stream",
     "text": [
      "<class 'str'>\n",
      "<class 'int'>\n",
      "<class 'float'>\n",
      "<class 'bool'>\n"
     ]
    }
   ],
   "source": [
    "print(type(\"32\"))\n",
    "print(type(100))\n",
    "print(type(58.75))\n",
    "print(type(True))"
   ]
  },
  {
   "cell_type": "code",
   "execution_count": 26,
   "id": "7290a132",
   "metadata": {},
   "outputs": [
    {
     "name": "stdout",
     "output_type": "stream",
     "text": [
      "<class 'bool'>\n"
     ]
    }
   ],
   "source": [
    "# type function only accepts a single value\n",
    "print(type(True))"
   ]
  },
  {
   "cell_type": "markdown",
   "id": "1354329e",
   "metadata": {},
   "source": [
    "# Type Casting\n",
    "* Converting from one data type into another data type\n",
    "* string into integer, we use int() function\n",
    "* integer to a string, we use str()\n",
    "* string to float, we use float() function\n"
   ]
  },
  {
   "cell_type": "code",
   "execution_count": 30,
   "id": "856f672d",
   "metadata": {},
   "outputs": [
    {
     "name": "stdout",
     "output_type": "stream",
     "text": [
      "<class 'str'>\n",
      "<class 'int'>\n"
     ]
    }
   ],
   "source": [
    "x = \"32\"\n",
    "print(type(x))\n",
    "y = int(x)     # converting string to integer\n",
    "print(type(y))"
   ]
  },
  {
   "cell_type": "code",
   "execution_count": 32,
   "id": "f019c849",
   "metadata": {},
   "outputs": [
    {
     "name": "stdout",
     "output_type": "stream",
     "text": [
      "<class 'str'>\n"
     ]
    },
    {
     "ename": "ValueError",
     "evalue": "invalid literal for int() with base 10: 'Hello'",
     "output_type": "error",
     "traceback": [
      "\u001b[1;31m---------------------------------------------------------------------------\u001b[0m",
      "\u001b[1;31mValueError\u001b[0m                                Traceback (most recent call last)",
      "\u001b[1;32m~\\AppData\\Local\\Temp/ipykernel_14396/3563562556.py\u001b[0m in \u001b[0;36m<module>\u001b[1;34m\u001b[0m\n\u001b[0;32m      1\u001b[0m \u001b[0mx\u001b[0m \u001b[1;33m=\u001b[0m \u001b[1;34m\"Hello\"\u001b[0m\u001b[1;33m\u001b[0m\u001b[1;33m\u001b[0m\u001b[0m\n\u001b[0;32m      2\u001b[0m \u001b[0mprint\u001b[0m\u001b[1;33m(\u001b[0m\u001b[0mtype\u001b[0m\u001b[1;33m(\u001b[0m\u001b[0mx\u001b[0m\u001b[1;33m)\u001b[0m\u001b[1;33m)\u001b[0m\u001b[1;33m\u001b[0m\u001b[1;33m\u001b[0m\u001b[0m\n\u001b[1;32m----> 3\u001b[1;33m \u001b[0my\u001b[0m \u001b[1;33m=\u001b[0m \u001b[0mint\u001b[0m\u001b[1;33m(\u001b[0m\u001b[0mx\u001b[0m\u001b[1;33m)\u001b[0m     \u001b[1;31m# converting string to integer\u001b[0m\u001b[1;33m\u001b[0m\u001b[1;33m\u001b[0m\u001b[0m\n\u001b[0m\u001b[0;32m      4\u001b[0m \u001b[0mprint\u001b[0m\u001b[1;33m(\u001b[0m\u001b[0mtype\u001b[0m\u001b[1;33m(\u001b[0m\u001b[0my\u001b[0m\u001b[1;33m)\u001b[0m\u001b[1;33m)\u001b[0m\u001b[1;33m\u001b[0m\u001b[1;33m\u001b[0m\u001b[0m\n",
      "\u001b[1;31mValueError\u001b[0m: invalid literal for int() with base 10: 'Hello'"
     ]
    }
   ],
   "source": [
    "x = \"Hello\"\n",
    "print(type(x))\n",
    "y = int(x)     # converting string to integer\n",
    "print(type(y))"
   ]
  },
  {
   "cell_type": "code",
   "execution_count": 36,
   "id": "e03ee1b0",
   "metadata": {},
   "outputs": [
    {
     "name": "stdout",
     "output_type": "stream",
     "text": [
      "<class 'int'>\n",
      "<class 'str'> 100\n"
     ]
    }
   ],
   "source": [
    "x = 100\n",
    "print(type(x))\n",
    "y = str(x)     # convert integer to a string\n",
    "print(type(y), y)"
   ]
  },
  {
   "cell_type": "markdown",
   "id": "16996c51",
   "metadata": {},
   "source": [
    "# Escape Sequences\n",
    "* Escape sequences are strings and are special characters in python used for special purposes\n",
    "* \\t  it is used for a tab space, 4 spaces together\n",
    "* \\n it is used to create or move on to a new line"
   ]
  },
  {
   "cell_type": "code",
   "execution_count": 39,
   "id": "a927e333",
   "metadata": {},
   "outputs": [
    {
     "name": "stdout",
     "output_type": "stream",
     "text": [
      "We are learning Python\n",
      "We\tare\tlearning\tPython\n"
     ]
    }
   ],
   "source": [
    "# \\t\n",
    "print(\"We are learning Python\")\n",
    "print(\"We\\tare\\tlearning\\tPython\")"
   ]
  },
  {
   "cell_type": "code",
   "execution_count": 40,
   "id": "482b9040",
   "metadata": {},
   "outputs": [
    {
     "name": "stdout",
     "output_type": "stream",
     "text": [
      "We are learning Python\n",
      "We\n",
      "are\n",
      "learning\n",
      "Python\n"
     ]
    }
   ],
   "source": [
    "# \\n\n",
    "print(\"We are learning Python\")\n",
    "print(\"We\\nare\\nlearning\\nPython\")"
   ]
  },
  {
   "cell_type": "code",
   "execution_count": null,
   "id": "36a5ce76",
   "metadata": {},
   "outputs": [],
   "source": [
    "# f-strings\n",
    "# comparison operators\n",
    "# input function\n",
    "# if else"
   ]
  },
  {
   "cell_type": "code",
   "execution_count": null,
   "id": "ae8f3685",
   "metadata": {},
   "outputs": [],
   "source": [
    "# Homework\n",
    "# take a float value and convert it into integer and a string\n",
    "# take a string value and convert it into integer and float\n",
    "# take an integer value and try to convert it into string and float"
   ]
  }
 ],
 "metadata": {
  "kernelspec": {
   "display_name": "Python 3 (ipykernel)",
   "language": "python",
   "name": "python3"
  },
  "language_info": {
   "codemirror_mode": {
    "name": "ipython",
    "version": 3
   },
   "file_extension": ".py",
   "mimetype": "text/x-python",
   "name": "python",
   "nbconvert_exporter": "python",
   "pygments_lexer": "ipython3",
   "version": "3.9.7"
  }
 },
 "nbformat": 4,
 "nbformat_minor": 5
}
