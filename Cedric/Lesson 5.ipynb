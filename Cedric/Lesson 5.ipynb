{
 "cells": [
  {
   "cell_type": "code",
   "execution_count": 3,
   "id": "eb0d2d33",
   "metadata": {},
   "outputs": [
    {
     "name": "stdout",
     "output_type": "stream",
     "text": [
      "37\n",
      "Obama\n"
     ]
    }
   ],
   "source": [
    "x=37\n",
    "print(x)\n",
    "\n",
    "y=45\n",
    "x = \"Obama\"\n",
    "\n",
    "print(x)"
   ]
  },
  {
   "cell_type": "code",
   "execution_count": 4,
   "id": "f03a2e04",
   "metadata": {},
   "outputs": [
    {
     "name": "stdout",
     "output_type": "stream",
     "text": [
      "Enter the birthday in 8-digit format for person's #1: (YYYYMMDD): hbbbbkjbk\n"
     ]
    },
    {
     "ename": "ValueError",
     "evalue": "invalid literal for int() with base 10: 'hbbbbkjbk'",
     "output_type": "error",
     "traceback": [
      "\u001b[1;31m---------------------------------------------------------------------------\u001b[0m",
      "\u001b[1;31mValueError\u001b[0m                                Traceback (most recent call last)",
      "\u001b[1;32m~\\AppData\\Local\\Temp/ipykernel_14288/692403618.py\u001b[0m in \u001b[0;36m<module>\u001b[1;34m\u001b[0m\n\u001b[0;32m      4\u001b[0m \u001b[1;31m# day value should be between 1 to the last of corresponding month\u001b[0m\u001b[1;33m\u001b[0m\u001b[1;33m\u001b[0m\u001b[0m\n\u001b[0;32m      5\u001b[0m \u001b[1;33m\u001b[0m\u001b[0m\n\u001b[1;32m----> 6\u001b[1;33m \u001b[0mage1\u001b[0m \u001b[1;33m=\u001b[0m \u001b[0mint\u001b[0m\u001b[1;33m(\u001b[0m\u001b[0minput\u001b[0m\u001b[1;33m(\u001b[0m\u001b[1;34m\"Enter the birthday in 8-digit format for person's #1: (YYYYMMDD): \"\u001b[0m\u001b[1;33m)\u001b[0m\u001b[1;33m)\u001b[0m\u001b[1;33m\u001b[0m\u001b[1;33m\u001b[0m\u001b[0m\n\u001b[0m\u001b[0;32m      7\u001b[0m \u001b[0mage2\u001b[0m \u001b[1;33m=\u001b[0m \u001b[0mint\u001b[0m\u001b[1;33m(\u001b[0m\u001b[0minput\u001b[0m\u001b[1;33m(\u001b[0m\u001b[1;34m\"Enter the birthday in 8-digit format for person's #2: (YYYYMMDD): \"\u001b[0m\u001b[1;33m)\u001b[0m\u001b[1;33m)\u001b[0m\u001b[1;33m\u001b[0m\u001b[1;33m\u001b[0m\u001b[0m\n\u001b[0;32m      8\u001b[0m \u001b[0mperson1\u001b[0m \u001b[1;33m=\u001b[0m \u001b[0minput\u001b[0m\u001b[1;33m(\u001b[0m\u001b[1;34m\"Enter name for person#1: \"\u001b[0m\u001b[1;33m)\u001b[0m\u001b[1;33m\u001b[0m\u001b[1;33m\u001b[0m\u001b[0m\n",
      "\u001b[1;31mValueError\u001b[0m: invalid literal for int() with base 10: 'hbbbbkjbk'"
     ]
    }
   ],
   "source": [
    "# See if user has entered correct birth date\n",
    "# Year value should be between 0000 to 2022\n",
    "# Month value should be between 1 to 12\n",
    "# day value should be between 1 to the last of corresponding month\n",
    "\n",
    "\n",
    "age1 = int(input(\"Enter the birthday in 8-digit format for person's #1: (YYYYMMDD): \"))\n",
    "age2 = int(input(\"Enter the birthday in 8-digit format for person's #2: (YYYYMMDD): \"))\n",
    "person1 = input(\"Enter name for person#1: \")\n",
    "person2 = input(\"Enter name for person#2: \")\n",
    "year1 = age1//10000\n",
    "month1 = (age1%10000)//100\n",
    "day1 = age1%100\n",
    "year2 = age2//10000\n",
    "month2 = (age2%10000)//100\n",
    "day2 = age2%100\n",
    "print(f\"{person1}'s date of birth is: {month1}/{day1}/{year1}\")\n",
    "print(f\"{person2}'s date of birth is: {month2}/{day2}/{year2}\")\n",
    "person1 = input(\"Enter name for person#1: \")\n",
    "if year1 < year2:\n",
    "    print(f\"{person1} is older than {person2}!\")\n",
    "elif year2 < year1:\n",
    "    print(f\"{person2} is older than {person1}!\")\n",
    "else:\n",
    "    if month1 < month2:\n",
    "        print(f\"{person1} is older than {person2}!\")\n",
    "    elif month2 < month1:\n",
    "        print(f\"{person2} is older than {person1}!\")\n",
    "    else:\n",
    "        if day1 < day2:\n",
    "            print(f\"{person1} is older than {person2}!\")\n",
    "        elif day2 < day1:\n",
    "            print(f\"{person2} is older than {person1}!\")\n",
    "        else:\n",
    "            print(\"Both their ages are the same!\")\n",
    "\n"
   ]
  },
  {
   "cell_type": "code",
   "execution_count": null,
   "id": "e1e93acd",
   "metadata": {},
   "outputs": [],
   "source": [
    "\n"
   ]
  }
 ],
 "metadata": {
  "kernelspec": {
   "display_name": "Python 3 (ipykernel)",
   "language": "python",
   "name": "python3"
  },
  "language_info": {
   "codemirror_mode": {
    "name": "ipython",
    "version": 3
   },
   "file_extension": ".py",
   "mimetype": "text/x-python",
   "name": "python",
   "nbconvert_exporter": "python",
   "pygments_lexer": "ipython3",
   "version": "3.9.7"
  }
 },
 "nbformat": 4,
 "nbformat_minor": 5
}
