{
 "cells": [
  {
   "cell_type": "code",
   "execution_count": 6,
   "id": "27dec27e",
   "metadata": {},
   "outputs": [
    {
     "name": "stdout",
     "output_type": "stream",
     "text": [
      "Enter a number: 3\n",
      "10\n",
      "5\n",
      "16\n",
      "8\n",
      "4\n",
      "2\n",
      "1\n"
     ]
    }
   ],
   "source": [
    "num = int(input(\"Enter a number: \")) # 3\n",
    "def collatz(num):\n",
    "    if num%2 == 0:\n",
    "        print(num // 2) #5\n",
    "        return (num // 2) #5\n",
    "        \n",
    "        \n",
    "    elif num%2 == 1:\n",
    "        print(3*num+1) #10\n",
    "        return (3*num+1) #10\n",
    "\n",
    "num = collatz(num)\n",
    "# num = 10\n",
    "while num!=1:\n",
    "    num = collatz(num)\n",
    "\n"
   ]
  },
  {
   "cell_type": "code",
   "execution_count": null,
   "id": "428613df",
   "metadata": {},
   "outputs": [],
   "source": [
    "# Use nested for loops to display the xy coordinates\n",
    "# Hit string should be of multiple of 4\n",
    "# Hit marker should be a single character with length of 1\n",
    "# Seperate each hit (x, y) from your hit string (lists) (converted whole string to lists) (Then seperated each hit string)\n",
    "# "
   ]
  }
 ],
 "metadata": {
  "kernelspec": {
   "display_name": "Python 3 (ipykernel)",
   "language": "python",
   "name": "python3"
  },
  "language_info": {
   "codemirror_mode": {
    "name": "ipython",
    "version": 3
   },
   "file_extension": ".py",
   "mimetype": "text/x-python",
   "name": "python",
   "nbconvert_exporter": "python",
   "pygments_lexer": "ipython3",
   "version": "3.9.7"
  }
 },
 "nbformat": 4,
 "nbformat_minor": 5
}
