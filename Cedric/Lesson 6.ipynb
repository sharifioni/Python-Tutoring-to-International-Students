{
 "cells": [
  {
   "cell_type": "code",
   "execution_count": 11,
   "id": "f9aa5e3f",
   "metadata": {},
   "outputs": [
    {
     "name": "stdout",
     "output_type": "stream",
     "text": [
      "Enter num1; 5\n",
      "Enter num2: 5\n",
      "Enter num3: 5\n",
      "5 is the greatest value\n"
     ]
    }
   ],
   "source": [
    "num1 = int(input(\"Enter num1; \"))\n",
    "num2 = int(input(\"Enter num2: \"))\n",
    "num3 = int(input(\"Enter num3: \"))\n",
    "if (num1 >= num2) and (num1 >= num3):\n",
    "    print(f\"{num1} is the greatest value\")\n",
    "    \n",
    "elif (num2 >= num1) and (num2 >= num3):\n",
    "    print(f\"{num2} is the greatest value\")\n",
    "    \n",
    "elif (num3 >= num1) and (num3 >= num2):\n",
    "    print(f\"{num3} is the greatest value\")\n",
    "\n"
   ]
  },
  {
   "cell_type": "code",
   "execution_count": 10,
   "id": "4bc36198",
   "metadata": {},
   "outputs": [
    {
     "name": "stdout",
     "output_type": "stream",
     "text": [
      "Enter num1; 5\n",
      "Enter num2: 5\n",
      "Enter num3: 5\n",
      "They're all the same value\n"
     ]
    }
   ],
   "source": [
    "num1 = int(input(\"Enter num1; \"))\n",
    "num2 = int(input(\"Enter num2: \"))\n",
    "num3 = int(input(\"Enter num3: \"))\n",
    "if (num1 > num2) and (num1 > num3):\n",
    "    print(f\"num1 is the greatest value\")\n",
    "    \n",
    "elif (num2 > num1) and (num2 > num3):\n",
    "    print(f\"num2 is the greatest value\")\n",
    "    \n",
    "elif (num3 > num1) and (num3 > num2):\n",
    "    print(f\"num3 is the greatest value\")\n",
    "    \n",
    "elif (num1==num2) and num1>num3:\n",
    "    print(\"num1 and num2 are the greatest values\")\n",
    "\n",
    "elif (num1==num3) and num1>num2:\n",
    "    print(\"num1 and num3 are the greatest values\")\n",
    "    \n",
    "elif (num2==num3) and num2>num1:\n",
    "    print(\"num2 and num3 are the greatest values\")\n",
    "    \n",
    "else:\n",
    "    print(\"They're all the same value\")"
   ]
  },
  {
   "cell_type": "code",
   "execution_count": null,
   "id": "83198cae",
   "metadata": {},
   "outputs": [],
   "source": [
    "# range()   start , stop , step     values will always be integers\n",
    "# range(6)  start=0  , stop=6 , step=1   \n",
    "# range(1,6) start=1  , stop = 6 , step =1\n",
    "# range(2, 20 , 2)   start=2, stop =20 , step = 2\n",
    "\n"
   ]
  },
  {
   "cell_type": "code",
   "execution_count": 14,
   "id": "9ae203d1",
   "metadata": {},
   "outputs": [
    {
     "name": "stdout",
     "output_type": "stream",
     "text": [
      "0\n",
      "1\n",
      "2\n",
      "3\n",
      "4\n",
      "5\n"
     ]
    }
   ],
   "source": [
    "for i in range(6):\n",
    "    print(i)"
   ]
  },
  {
   "cell_type": "code",
   "execution_count": 15,
   "id": "bc340d7d",
   "metadata": {},
   "outputs": [
    {
     "name": "stdout",
     "output_type": "stream",
     "text": [
      "1\n",
      "2\n",
      "3\n",
      "4\n",
      "5\n"
     ]
    }
   ],
   "source": [
    "for i in range(1,6):\n",
    "    print(i)"
   ]
  },
  {
   "cell_type": "code",
   "execution_count": 16,
   "id": "974577c7",
   "metadata": {},
   "outputs": [
    {
     "name": "stdout",
     "output_type": "stream",
     "text": [
      "2\n",
      "4\n",
      "6\n",
      "8\n",
      "10\n",
      "12\n",
      "14\n",
      "16\n",
      "18\n"
     ]
    }
   ],
   "source": [
    "for i in range(2,20,2):\n",
    "    print(i)"
   ]
  },
  {
   "cell_type": "code",
   "execution_count": 19,
   "id": "8bfd68e9",
   "metadata": {},
   "outputs": [
    {
     "name": "stdout",
     "output_type": "stream",
     "text": [
      "Enter a number: 5\n",
      "  5   x   1   =   5\n",
      "  5   x   2   =  10\n",
      "  5   x   3   =  15\n",
      "  5   x   4   =  20\n",
      "  5   x   5   =  25\n",
      "  5   x   6   =  30\n",
      "  5   x   7   =  35\n",
      "  5   x   8   =  40\n",
      "  5   x   9   =  45\n",
      "  5   x  10   =  50\n"
     ]
    }
   ],
   "source": [
    "n = int(input(\"Enter a number: \"))\n",
    "for x in range(1,11):\n",
    "    print(f\"{n:>3} {'x':>3} {x:>3} {'=':>3} {n*x:>3}\")\n"
   ]
  },
  {
   "cell_type": "code",
   "execution_count": 24,
   "id": "b4b38d96",
   "metadata": {},
   "outputs": [],
   "source": [
    "# for positive step value, start value should be less than stop value\n",
    "# for negative step value, start value should be greater than stop value\n",
    "for i in range(2,20,-2):\n",
    "    print(i)"
   ]
  },
  {
   "cell_type": "code",
   "execution_count": 25,
   "id": "63a747d4",
   "metadata": {},
   "outputs": [
    {
     "name": "stdout",
     "output_type": "stream",
     "text": [
      "Enter a number5\n",
      "Enter a number6\n",
      "Enter a number12\n",
      "Enter a number34\n",
      "Enter a number56\n"
     ]
    }
   ],
   "source": [
    "# maximum value as well as minimum value\n",
    "for i in range(5):\n",
    "    n = int(input( \"Enter a number: \"))"
   ]
  }
 ],
 "metadata": {
  "kernelspec": {
   "display_name": "Python 3 (ipykernel)",
   "language": "python",
   "name": "python3"
  },
  "language_info": {
   "codemirror_mode": {
    "name": "ipython",
    "version": 3
   },
   "file_extension": ".py",
   "mimetype": "text/x-python",
   "name": "python",
   "nbconvert_exporter": "python",
   "pygments_lexer": "ipython3",
   "version": "3.9.7"
  }
 },
 "nbformat": 4,
 "nbformat_minor": 5
}
