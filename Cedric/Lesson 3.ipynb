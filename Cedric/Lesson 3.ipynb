{
 "cells": [
  {
   "cell_type": "code",
   "execution_count": 4,
   "id": "1bfb0301",
   "metadata": {},
   "outputs": [
    {
     "name": "stdout",
     "output_type": "stream",
     "text": [
      "number\tsquare\tcube\n",
      "0\t0\t0\n"
     ]
    }
   ],
   "source": [
    "print(\"number\\tsquare\\tcube\")\n",
    "print(f\"{0}\\t{0**2}\\t{0**3}\")"
   ]
  },
  {
   "cell_type": "code",
   "execution_count": 13,
   "id": "eb44adb7",
   "metadata": {},
   "outputs": [
    {
     "name": "stdout",
     "output_type": "stream",
     "text": [
      "4   2   3   3   9\n"
     ]
    }
   ],
   "source": [
    "number=42339\n",
    "print(f'{42339//10000}   {(42339//1000)%10}   {(42339//100)%10}   {(42339//10)%10}   {42339%10}')"
   ]
  },
  {
   "cell_type": "code",
   "execution_count": 22,
   "id": "7d8ed337",
   "metadata": {},
   "outputs": [
    {
     "name": "stdout",
     "output_type": "stream",
     "text": [
      "4   2   3   3   9   "
     ]
    }
   ],
   "source": [
    "number=42339\n",
    "a=10000\n",
    "while number>0:\n",
    "    print(number//a,end=\"   \")\n",
    "    number=number%a\n",
    "    a=a//10"
   ]
  },
  {
   "cell_type": "code",
   "execution_count": null,
   "id": "2b189dab",
   "metadata": {},
   "outputs": [],
   "source": [
    "#Month Application\n",
    "month = int(input(\"Enter a number from 1-12: \"))\n",
    "if month == 1:\n",
    "    print(\"January\")\n",
    "elif month == 2:\n",
    "    print(\"February\")\n",
    "elif month == 3:\n",
    "    print(\"March\")\n",
    "elif month == 4:\n",
    "    print(\"April\")\n",
    "elif month == 5:\n",
    "    print(\"May\")\n",
    "elif month == 6:\n",
    "    print(\"June\")\n",
    "elif month == 7:\n",
    "    print(\"July\")\n",
    "elif month == 8:\n",
    "    print(\"August\")\n",
    "elif month == 9:\n",
    "    print(\"September\")\n",
    "elif month == 10:\n",
    "    print(\"October\")\n",
    "elif month == 11:\n",
    "    print(\"November\")\n",
    "elif month == 12:\n",
    "    print(\"December\")\n",
    "else:\n",
    "    print(\"Invalid month\")\n"
   ]
  },
  {
   "cell_type": "code",
   "execution_count": 1,
   "id": "3af19462",
   "metadata": {},
   "outputs": [
    {
     "name": "stdout",
     "output_type": "stream",
     "text": [
      "Enter a number from 1-12: 3\n",
      "March\n"
     ]
    }
   ],
   "source": [
    "#Month Application\n",
    "month = int(input(\"Enter a number from 1-12: \"))\n",
    "month_values=[\"Jan\", \"Feb\", \"March\", \"April\", \"May\", \"Jun\",\"July\", \"Aug\",\"Sep\",\"Oct\",\"Nov\",\"Dec\"]\n",
    "\n",
    "if month in range(1,13):\n",
    "    print(month_values[month-1])\n",
    "else:\n",
    "    print(\"Invalid Month Number\")\n"
   ]
  },
  {
   "cell_type": "code",
   "execution_count": 16,
   "id": "beb8732f",
   "metadata": {},
   "outputs": [
    {
     "data": {
      "text/plain": [
       "30"
      ]
     },
     "execution_count": 16,
     "metadata": {},
     "output_type": "execute_result"
    }
   ],
   "source": [
    "def multiply(x,y):\n",
    "    \"\"\"\n",
    "    Multiplies two numbers\n",
    "    :param x: First integer value\n",
    "    :param y: Second integer value\n",
    "    \n",
    "    :return: returns the multiplication result of two numbers\n",
    "    \"\"\"\n",
    "    return x*y\n",
    "\n",
    "multiply(5,6)\n",
    "\n"
   ]
  },
  {
   "cell_type": "code",
   "execution_count": null,
   "id": "ecb53d75",
   "metadata": {},
   "outputs": [],
   "source": []
  },
  {
   "cell_type": "code",
   "execution_count": 17,
   "id": "46afc229",
   "metadata": {},
   "outputs": [],
   "source": []
  }
 ],
 "metadata": {
  "kernelspec": {
   "display_name": "Python 3 (ipykernel)",
   "language": "python",
   "name": "python3"
  },
  "language_info": {
   "codemirror_mode": {
    "name": "ipython",
    "version": 3
   },
   "file_extension": ".py",
   "mimetype": "text/x-python",
   "name": "python",
   "nbconvert_exporter": "python",
   "pygments_lexer": "ipython3",
   "version": "3.9.7"
  }
 },
 "nbformat": 4,
 "nbformat_minor": 5
}
