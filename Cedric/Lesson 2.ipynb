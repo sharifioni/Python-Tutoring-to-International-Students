{
 "cells": [
  {
   "cell_type": "code",
   "execution_count": 2,
   "id": "69f059b0",
   "metadata": {},
   "outputs": [
    {
     "name": "stdout",
     "output_type": "stream",
     "text": [
      "7 <class 'str'>\n"
     ]
    }
   ],
   "source": [
    "# integer to string\n",
    "a= 7\n",
    "b=str(a)\n",
    "print(b,type(b))\n"
   ]
  },
  {
   "cell_type": "code",
   "execution_count": 10,
   "id": "166ac6a7",
   "metadata": {},
   "outputs": [
    {
     "name": "stdout",
     "output_type": "stream",
     "text": [
      "15\n",
      "Enter a number: 8.7\n",
      "Enter a second number : 9.8\n",
      "18.5\n"
     ]
    }
   ],
   "source": [
    "# string to integer\n",
    "x='8'\n",
    "print(int(x)+7)\n",
    "\n",
    "value1=int(input(\"Enter a number: \")) #7\n",
    "value2=int(input(\"Enter a second number : \")) #10\n",
    "print(value1+value2)\n",
    "\n",
    "\n"
   ]
  },
  {
   "cell_type": "code",
   "execution_count": 9,
   "id": "c4c5110b",
   "metadata": {},
   "outputs": [
    {
     "name": "stdout",
     "output_type": "stream",
     "text": [
      "89\n",
      "89.0\n"
     ]
    }
   ],
   "source": [
    "x=\"89\"\n",
    "print(int(x))\n",
    "print(float(x))  #string to float\n",
    "\n",
    "# how to convert integer to float, float to integer, float to a string"
   ]
  },
  {
   "cell_type": "code",
   "execution_count": 13,
   "id": "c8f61531",
   "metadata": {},
   "outputs": [
    {
     "name": "stdout",
     "output_type": "stream",
     "text": [
      "Value of 2 + 2 is 4\n",
      "Value of 2 + 2 is 4\n"
     ]
    }
   ],
   "source": [
    "# Exercise 2.1\n",
    "x=2\n",
    "print('Value of', x, '+', x, 'is', (x + x))\n",
    "# f string\n",
    "print(f'Value of {x} + {x} is {x+x}')\n",
    "\n",
    "# Convert part (d) into fstrings\n"
   ]
  },
  {
   "cell_type": "code",
   "execution_count": 20,
   "id": "32b6f9b4",
   "metadata": {},
   "outputs": [
    {
     "name": "stdout",
     "output_type": "stream",
     "text": [
      "Enter a number: 87\n",
      "odd\n"
     ]
    }
   ],
   "source": [
    "num = int(input(\"Enter a number: \"))\n",
    "if num%2 == 0: \n",
    "    print(\"even\")\n",
    "else:\n",
    "    print(\"odd\")\n"
   ]
  },
  {
   "cell_type": "code",
   "execution_count": 21,
   "id": "f8762977",
   "metadata": {},
   "outputs": [
    {
     "name": "stdout",
     "output_type": "stream",
     "text": [
      "1024 is multiple of 4\n"
     ]
    }
   ],
   "source": [
    "\n",
    "if 1024%4 == 0: \n",
    "    print(\"1024 is multiple of 4\")\n",
    "else:\n",
    "    print(\"1024 is not multiple of 4\")\n"
   ]
  },
  {
   "cell_type": "code",
   "execution_count": 22,
   "id": "e60a0a35",
   "metadata": {},
   "outputs": [
    {
     "name": "stdout",
     "output_type": "stream",
     "text": [
      "2 is not multiple of 10\n"
     ]
    }
   ],
   "source": [
    "\n",
    "if 2%10 == 0: \n",
    "    print(\"2 is multiple of 10\")\n",
    "else:\n",
    "    print(\"2 is not multiple of 10\")"
   ]
  },
  {
   "cell_type": "markdown",
   "id": "ab993481",
   "metadata": {},
   "source": [
    "# Homework\n",
    "* Do exercise 2.3, 2.4, 2.5 from the book\n",
    "* Study with examples about fstrings\n",
    "* Convert data from string to int, int to string, float to int, int to float, string to float and float to string"
   ]
  },
  {
   "cell_type": "code",
   "execution_count": null,
   "id": "f7933915",
   "metadata": {},
   "outputs": [],
   "source": []
  }
 ],
 "metadata": {
  "kernelspec": {
   "display_name": "Python 3 (ipykernel)",
   "language": "python",
   "name": "python3"
  },
  "language_info": {
   "codemirror_mode": {
    "name": "ipython",
    "version": 3
   },
   "file_extension": ".py",
   "mimetype": "text/x-python",
   "name": "python",
   "nbconvert_exporter": "python",
   "pygments_lexer": "ipython3",
   "version": "3.9.7"
  }
 },
 "nbformat": 4,
 "nbformat_minor": 5
}
