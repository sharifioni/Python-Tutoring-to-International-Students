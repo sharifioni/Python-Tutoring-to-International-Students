{
 "cells": [
  {
   "cell_type": "code",
   "execution_count": 1,
   "id": "9bb35cac",
   "metadata": {},
   "outputs": [
    {
     "name": "stdout",
     "output_type": "stream",
     "text": [
      "*\n",
      "**\n",
      "***\n",
      "****\n",
      "*****\n",
      "******\n",
      "*******\n",
      "********\n",
      "*********\n",
      "**********\n"
     ]
    }
   ],
   "source": [
    "for i in range(1,11):\n",
    "    for j in range(1,i+1):\n",
    "        print(\"*\",end=\"\")\n",
    "    print()"
   ]
  },
  {
   "cell_type": "code",
   "execution_count": 2,
   "id": "b6e6be68",
   "metadata": {},
   "outputs": [
    {
     "name": "stdout",
     "output_type": "stream",
     "text": [
      "**********\n",
      "*********\n",
      "********\n",
      "*******\n",
      "******\n",
      "*****\n",
      "****\n",
      "***\n",
      "**\n",
      "*\n"
     ]
    }
   ],
   "source": [
    "for i in range(1,11):\n",
    "    for j in range(11,i,-1):\n",
    "        print(\"*\",end=\"\")\n",
    "    print()\n"
   ]
  },
  {
   "cell_type": "code",
   "execution_count": null,
   "id": "59b40532",
   "metadata": {},
   "outputs": [],
   "source": []
  },
  {
   "cell_type": "markdown",
   "id": "b7645292",
   "metadata": {},
   "source": [
    "# User Defined Functions\n",
    "* We create our own functions. \n",
    "* Name of function\n",
    "* Arguments and parameters\n",
    "* Function calling\n",
    "* Function Returning\n",
    "* Doc Strings\n",
    "* Different types of arguments in python functions\n",
    "* After function has been created, you have to call the function by its name to execute its statements"
   ]
  },
  {
   "cell_type": "code",
   "execution_count": null,
   "id": "4a6d3375",
   "metadata": {},
   "outputs": [],
   "source": [
    "\"\"\"def name():\n",
    "        statement1\n",
    "        statement2\n",
    "        ----------\n",
    "\n",
    "name()\"\"\" "
   ]
  },
  {
   "cell_type": "code",
   "execution_count": 7,
   "id": "dceb0d42",
   "metadata": {},
   "outputs": [
    {
     "name": "stdout",
     "output_type": "stream",
     "text": [
      "Shahjahan\n",
      "Hello\n"
     ]
    }
   ],
   "source": [
    "def my_name():\n",
    "    print(\"Shahjahan\")\n",
    "    \n",
    "    \n",
    "my_name() # Function Calling\n",
    "print(\"Hello\")"
   ]
  },
  {
   "cell_type": "markdown",
   "id": "738272f8",
   "metadata": {},
   "source": [
    "# Arguments and parameters"
   ]
  },
  {
   "cell_type": "code",
   "execution_count": 12,
   "id": "ac1cc4e3",
   "metadata": {},
   "outputs": [
    {
     "name": "stdout",
     "output_type": "stream",
     "text": [
      "56\n"
     ]
    }
   ],
   "source": [
    "            # Parameters: Defined after the name of function inside paranthesis\n",
    "            # Parameters receive values from arguments passed through function calling point\n",
    "def multiply(x,y):\n",
    "    print(x*y)\n",
    "    \n",
    "\n",
    "# Function Calling\n",
    "# Arguments are values passed to your function\n",
    "# Number of Arguments should be equal to number of parameters\n",
    "multiply(7, 8)"
   ]
  },
  {
   "cell_type": "code",
   "execution_count": null,
   "id": "d9d3eb11",
   "metadata": {},
   "outputs": [],
   "source": [
    "# Palindrome question (Do it with while loop with any number of digit as an input)"
   ]
  }
 ],
 "metadata": {
  "kernelspec": {
   "display_name": "Python 3 (ipykernel)",
   "language": "python",
   "name": "python3"
  },
  "language_info": {
   "codemirror_mode": {
    "name": "ipython",
    "version": 3
   },
   "file_extension": ".py",
   "mimetype": "text/x-python",
   "name": "python",
   "nbconvert_exporter": "python",
   "pygments_lexer": "ipython3",
   "version": "3.9.7"
  }
 },
 "nbformat": 4,
 "nbformat_minor": 5
}
