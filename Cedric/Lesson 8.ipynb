{
 "cells": [
  {
   "cell_type": "code",
   "execution_count": null,
   "id": "2b9aefae",
   "metadata": {},
   "outputs": [],
   "source": [
    "# Guessing game\n",
    "# Rock Paper Scissors game"
   ]
  },
  {
   "cell_type": "code",
   "execution_count": 16,
   "id": "c877567f",
   "metadata": {},
   "outputs": [
    {
     "name": "stdout",
     "output_type": "stream",
     "text": [
      "6\n",
      "Ali\n"
     ]
    }
   ],
   "source": [
    "import random\n",
    "\n",
    "# random.randit() it accepts two integer values. start value and end value. It generates a random value between \n",
    "# start and end value\n",
    "\n",
    "x = random.randint(1,10)\n",
    "print(x)\n",
    "\n",
    "# random.choice()  it accepts a one sequence value like list, tuple, range, string, set etc and generates a \n",
    "# random choice\n",
    "\n",
    "names = [\"Ali\", \"John\", \"Peter\"]\n",
    "\n",
    "print(random.choice(names))"
   ]
  },
  {
   "cell_type": "code",
   "execution_count": 18,
   "id": "d68adf38",
   "metadata": {},
   "outputs": [
    {
     "ename": "SystemExit",
     "evalue": "",
     "output_type": "error",
     "traceback": [
      "An exception has occurred, use %tb to see the full traceback.\n",
      "\u001b[1;31mSystemExit\u001b[0m\n"
     ]
    },
    {
     "name": "stderr",
     "output_type": "stream",
     "text": [
      "C:\\Users\\shahj\\anaconda3\\lib\\site-packages\\IPython\\core\\interactiveshell.py:3452: UserWarning: To exit: use 'exit', 'quit', or Ctrl-D.\n",
      "  warn(\"To exit: use 'exit', 'quit', or Ctrl-D.\", stacklevel=1)\n"
     ]
    }
   ],
   "source": [
    "import sys\n",
    "# sys.exit()  it stops your program when you use it\n",
    "\n",
    "number = 7\n",
    "\n",
    "if number == 8:\n",
    "    print(\"Hello\")\n",
    "    \n",
    "if number == 7:\n",
    "    sys.exit()\n",
    "    \n",
    "print(\"Hello we are learning python\")\n",
    "\n",
    "print(\"Still learning\")\n",
    "\n",
    "print(\"-----------\")"
   ]
  },
  {
   "cell_type": "markdown",
   "id": "26ce1bed",
   "metadata": {},
   "source": [
    "ROCK, PAPER, SCISSORS\n",
    "0 Wins, 0 Losses, 0 Ties\n",
    "Enter your move: (r)ock (p)aper (s)cissors or (q)uit\n",
    "p\n",
    "PAPER versus...\n",
    "PAPER\n",
    "It is a tie!\n",
    "0 Wins, 0 Losses, 1 Ties\n",
    "Enter your move: (r)ock (p)aper (s)cissors or (q)uit\n",
    "s\n",
    "SCISSORS versus...\n",
    "PAPER\n",
    "You win!\n",
    "1 Wins, 0 Losses, 1 Ties\n",
    "Enter your move: (r)ock (p)aper (s)cissors or (q)uit\n",
    "q"
   ]
  }
 ],
 "metadata": {
  "kernelspec": {
   "display_name": "Python 3 (ipykernel)",
   "language": "python",
   "name": "python3"
  },
  "language_info": {
   "codemirror_mode": {
    "name": "ipython",
    "version": 3
   },
   "file_extension": ".py",
   "mimetype": "text/x-python",
   "name": "python",
   "nbconvert_exporter": "python",
   "pygments_lexer": "ipython3",
   "version": "3.9.7"
  }
 },
 "nbformat": 4,
 "nbformat_minor": 5
}
