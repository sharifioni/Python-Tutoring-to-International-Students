{
 "cells": [
  {
   "cell_type": "markdown",
   "id": "a4d25a2c",
   "metadata": {},
   "source": [
    "In the Arc Game, modify your code so that it displays each hit marker along with the previous hit markers on a seperate board (x,y coordinates) \n",
    "Once you have written your code, try to simplify it as much as you can"
   ]
  },
  {
   "cell_type": "markdown",
   "id": "0dd3ccf0",
   "metadata": {},
   "source": [
    "# Lists\n",
    "* What are sequences, iterables, mutable objects, immutable objects in python\n",
    "* How to create lists\n",
    "* How to use for loops with the lists (two ways, one is with indexing, without indexing)\n",
    "* How to access elements using indexing of a 1 dimensional list\n",
    "* In indexing we have ( positive indexing, negative indexing, slicing)\n",
    "* How to use for loops with the multidimensional lists (two ways, one is with indexing, without indexing)\n",
    "* How to access elements using indexing of a multi dimensional list (nested list)\n",
    "* List methods (11 methods of lists, how to use them and what they exactly do)\n",
    "* How to change values of a list\n",
    "* Use len(), sum(), min(), max(), sorted() with the lists (inbuilt functions)"
   ]
  },
  {
   "cell_type": "code",
   "execution_count": 3,
   "id": "2972ff44",
   "metadata": {},
   "outputs": [
    {
     "name": "stdout",
     "output_type": "stream",
     "text": [
      "6\n"
     ]
    }
   ],
   "source": [
    "a = [ [2, 4, 6], [3, 6, 9], [4, 8, 12] ]\n",
    "print(a[1][1])"
   ]
  },
  {
   "cell_type": "code",
   "execution_count": null,
   "id": "2d74ab99",
   "metadata": {},
   "outputs": [],
   "source": [
    "# Friend's Database Application"
   ]
  },
  {
   "cell_type": "markdown",
   "id": "fc841fb5",
   "metadata": {},
   "source": [
    "Write a program that keeps your friends’ info such as names (first name, \n",
    "last name), emails, phone numbers stored in a 2D (multidimensional list \n",
    "or matrix) list of strings. You will use the program to look up your friends’ \n",
    "phone numbers by entering their phone number.\n",
    "• The program displays a menu that allows the user to make one \n",
    "of the following choices:\n",
    "1. Print all your friends’ information stored in the list \n",
    "(one line per friend)\n",
    "2. Look up (search) a phone number of a specific \n",
    "friend\n",
    "3. Add a new names and phone numbers\n",
    "4. Change a name\n",
    "5. Delete a name and a phone number\n",
    "6. Quit the program\n",
    "• The program starts with an empty list.\n",
    "• Use a function for each of the menu items from above to add, \n",
    "delete, lookup (search), change items and print"
   ]
  },
  {
   "cell_type": "code",
   "execution_count": null,
   "id": "7fa1ca13",
   "metadata": {},
   "outputs": [],
   "source": [
    "# ID                    integer, start with 1\n",
    "# First name\n",
    "# Last name\n",
    "# Email\n",
    "# Phone Number\n",
    "\n",
    "friends = [ [1, \"John\", \"Oliver\", \"john@gmail.com\", \"467-980-8765\"], [2, ]    ]"
   ]
  },
  {
   "cell_type": "code",
   "execution_count": null,
   "id": "bab7f54d",
   "metadata": {},
   "outputs": [],
   "source": [
    "# Create a menu that will keep running and give different options"
   ]
  },
  {
   "cell_type": "markdown",
   "id": "6ed842d6",
   "metadata": {},
   "source": [
    "WELCOME TO FRIENDS DATABASE APPLICATION\n",
    "Enter 1 to print all friends information\n",
    "Enter 2 to search a phone number\n",
    "Enter 3 to add new friends information\n",
    "Enter 4 to change name of a particular friend\n",
    "Enter 5 to delete your friends information\n",
    "Enter 6 to exit Friends Database Application\n",
    "1\n",
    "Information of Friend 1\n",
    "ID                  First name          Last Name           Email               Phone Number        \n",
    "1                   John                Oliver              john@gmail.com      1234567             \n",
    "Information of Friend 2\n",
    "ID                  First name          Last Name           Email               Phone Number        \n",
    "2                   Peter               Parker              peter@gmail.com     5678654             \n",
    "----------------------------------------------------------------------------------------------------\n",
    "----------------------------------------------------------------------------------------------------\n",
    "Enter 1 to print all friends information\n",
    "Enter 2 to search a phone number\n",
    "Enter 3 to add new friends information\n",
    "Enter 4 to change name of a particular friend\n",
    "Enter 5 to delete your friends information\n",
    "Enter 6 to exit Friends Database Application\n",
    "2\n",
    "Enter ID of your friend to search for its phone number: 2\n",
    "The phone number of your friend Peter Parker with ID 2 is 5678654\n",
    "----------------------------------------------------------------------------------------------------\n",
    "----------------------------------------------------------------------------------------------------\n",
    "Enter 1 to print all friends information\n",
    "Enter 2 to search a phone number\n",
    "Enter 3 to add new friends information\n",
    "Enter 4 to change name of a particular friend\n",
    "Enter 5 to delete your friends information\n",
    "Enter 6 to exit Friends Database Application\n",
    "3\n",
    "Enter first name: Shah\n",
    "Enter last name: Jahan\n",
    "Enter email: shah@gmail.com\n",
    "Enter phone number: 1234568789\n",
    "New friend's information added\n",
    "Information of Friend 1\n",
    "ID                  First name          Last Name           Email               Phone Number        \n",
    "1                   John                Oliver              john@gmail.com      1234567             \n",
    "Information of Friend 2\n",
    "ID                  First name          Last Name           Email               Phone Number        \n",
    "2                   Peter               Parker              peter@gmail.com     5678654             \n",
    "Information of Friend 3\n",
    "ID                  First name          Last Name           Email               Phone Number        \n",
    "3                   Shah                Jahan               shah@gmail.com      1234568789          \n",
    "----------------------------------------------------------------------------------------------------\n",
    "----------------------------------------------------------------------------------------------------\n",
    "Enter 1 to print all friends information\n",
    "Enter 2 to search a phone number\n",
    "Enter 3 to add new friends information\n",
    "Enter 4 to change name of a particular friend\n",
    "Enter 5 to delete your friends information\n",
    "Enter 6 to exit Friends Database Application\n",
    "4\n",
    "Enter ID of your friend to change its name: 2\n",
    "Enter updated first name: Cedric\n",
    "Enter updated last name: Wee\n",
    "Name updated for ID 2\n",
    "New information is: \n",
    "Information of Friend 1\n",
    "ID                  First name          Last Name           Email               Phone Number        \n",
    "1                   John                Oliver              john@gmail.com      1234567             \n",
    "Information of Friend 2\n",
    "ID                  First name          Last Name           Email               Phone Number        \n",
    "2                   Cedric              Wee                 peter@gmail.com     5678654             \n",
    "Information of Friend 3\n",
    "ID                  First name          Last Name           Email               Phone Number        \n",
    "3                   Shah                Jahan               shah@gmail.com      1234568789          \n",
    "----------------------------------------------------------------------------------------------------\n",
    "----------------------------------------------------------------------------------------------------\n",
    "Enter 1 to print all friends information\n",
    "Enter 2 to search a phone number\n",
    "Enter 3 to add new friends information\n",
    "Enter 4 to change name of a particular friend\n",
    "Enter 5 to delete your friends information\n",
    "Enter 6 to exit Friends Database Application\n",
    "6\n",
    "Thank you for using FRIENDS DATABASE APPLICATION"
   ]
  },
  {
   "cell_type": "code",
   "execution_count": null,
   "id": "3e4a3dd9",
   "metadata": {},
   "outputs": [],
   "source": []
  },
  {
   "cell_type": "code",
   "execution_count": null,
   "id": "fceb9968",
   "metadata": {},
   "outputs": [],
   "source": [
    "# Functions for each option\n",
    "# View_friend()\n",
    "# search()\n",
    "# add_friend()\n",
    "# modify_friend()\n",
    "# delete_friend()\n",
    "\n",
    "\n",
    "# for displaying menu, you can use while loop that keeps running until user enters 6"
   ]
  }
 ],
 "metadata": {
  "kernelspec": {
   "display_name": "Python 3 (ipykernel)",
   "language": "python",
   "name": "python3"
  },
  "language_info": {
   "codemirror_mode": {
    "name": "ipython",
    "version": 3
   },
   "file_extension": ".py",
   "mimetype": "text/x-python",
   "name": "python",
   "nbconvert_exporter": "python",
   "pygments_lexer": "ipython3",
   "version": "3.9.7"
  }
 },
 "nbformat": 4,
 "nbformat_minor": 5
}
