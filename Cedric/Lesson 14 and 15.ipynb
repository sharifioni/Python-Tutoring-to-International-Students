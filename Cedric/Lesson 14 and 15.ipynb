{
 "cells": [
  {
   "cell_type": "code",
   "execution_count": 1,
   "id": "6fdf82cc",
   "metadata": {},
   "outputs": [
    {
     "name": "stdout",
     "output_type": "stream",
     "text": [
      "[1, 'John', 'Oliver', 'john@gmail.com', '467-980-8765']\n",
      "[1, 'John', 'Oliver', 'john@gmail.com', '467-980-8765']\n",
      "[1, 'John', 'Oliver', 'john@gmail.com', '467-980-8765']\n",
      "[1, 'John', 'Oliver', 'john@gmail.com', '467-980-8765']\n",
      "[1, 'John', 'Oliver', 'john@gmail.com', '467-980-8765']\n"
     ]
    }
   ],
   "source": [
    "friends = [ [1, \"John\", \"Oliver\", \"john@gmail.com\", \"467-980-8765\"], \n",
    "           [2, \"Peter\", \"parker\", \"peter@gmail.com\", \"467-980-1234\"] ]\n",
    "\n",
    "for i in range(len(friends[0])):\n",
    "    print(friends[0])"
   ]
  },
  {
   "cell_type": "code",
   "execution_count": 10,
   "id": "8229b0ca",
   "metadata": {},
   "outputs": [
    {
     "name": "stdout",
     "output_type": "stream",
     "text": [
      "WELCOME TO FRIENDS DATABASE APPLICATION\n",
      "\n",
      "Enter 1 to print all friends information\n",
      "Enter 2 to search a phone number\n",
      "Enter 3 to add new friends information\n",
      "Enter 4 to change name of a particular friend\n",
      "Enter 5 to delete your friends information\n",
      "Enter 6 to exit FRIENDS DATABASE APPLICATION\n",
      "5\n",
      "\n",
      "Enter an ID to delete: 1\n",
      "Information of Friend 1\n",
      "ID\tFirst name\tLast name\tEmail\t\tPhone number\n",
      "2\tPeter\t\tParker\t\tpeter@gmail.com\t1234-567-890\n",
      "\n",
      "Enter 1 to print all friends information\n",
      "Enter 2 to search a phone number\n",
      "Enter 3 to add new friends information\n",
      "Enter 4 to change name of a particular friend\n",
      "Enter 5 to delete your friends information\n",
      "Enter 6 to exit FRIENDS DATABASE APPLICATION\n",
      "5\n",
      "\n",
      "Enter an ID to delete: 2\n"
     ]
    },
    {
     "ename": "IndexError",
     "evalue": "list index out of range",
     "output_type": "error",
     "traceback": [
      "\u001b[1;31m---------------------------------------------------------------------------\u001b[0m",
      "\u001b[1;31mIndexError\u001b[0m                                Traceback (most recent call last)",
      "\u001b[1;32m~\\AppData\\Local\\Temp/ipykernel_13484/2796362126.py\u001b[0m in \u001b[0;36m<module>\u001b[1;34m\u001b[0m\n\u001b[0;32m     59\u001b[0m         \u001b[0moption4\u001b[0m\u001b[1;33m(\u001b[0m\u001b[1;33m)\u001b[0m\u001b[1;33m\u001b[0m\u001b[1;33m\u001b[0m\u001b[0m\n\u001b[0;32m     60\u001b[0m     \u001b[1;32melif\u001b[0m \u001b[0muserinput\u001b[0m \u001b[1;33m==\u001b[0m \u001b[1;36m5\u001b[0m\u001b[1;33m:\u001b[0m\u001b[1;33m\u001b[0m\u001b[1;33m\u001b[0m\u001b[0m\n\u001b[1;32m---> 61\u001b[1;33m         \u001b[0moption5\u001b[0m\u001b[1;33m(\u001b[0m\u001b[1;33m)\u001b[0m\u001b[1;33m\u001b[0m\u001b[1;33m\u001b[0m\u001b[0m\n\u001b[0m\u001b[0;32m     62\u001b[0m     \u001b[1;32melif\u001b[0m \u001b[0muserinput\u001b[0m \u001b[1;33m==\u001b[0m \u001b[1;36m6\u001b[0m\u001b[1;33m:\u001b[0m\u001b[1;33m\u001b[0m\u001b[1;33m\u001b[0m\u001b[0m\n\u001b[0;32m     63\u001b[0m         \u001b[0moption6\u001b[0m\u001b[1;33m(\u001b[0m\u001b[1;33m)\u001b[0m\u001b[1;33m\u001b[0m\u001b[1;33m\u001b[0m\u001b[0m\n",
      "\u001b[1;32m~\\AppData\\Local\\Temp/ipykernel_13484/2796362126.py\u001b[0m in \u001b[0;36moption5\u001b[1;34m()\u001b[0m\n\u001b[0;32m     38\u001b[0m \u001b[1;32mdef\u001b[0m \u001b[0moption5\u001b[0m\u001b[1;33m(\u001b[0m\u001b[1;33m)\u001b[0m\u001b[1;33m:\u001b[0m\u001b[1;33m\u001b[0m\u001b[1;33m\u001b[0m\u001b[0m\n\u001b[0;32m     39\u001b[0m     \u001b[0mo5id\u001b[0m \u001b[1;33m=\u001b[0m \u001b[0mint\u001b[0m\u001b[1;33m(\u001b[0m\u001b[0minput\u001b[0m\u001b[1;33m(\u001b[0m\u001b[1;34m\"Enter an ID to delete: \"\u001b[0m\u001b[1;33m)\u001b[0m\u001b[1;33m)\u001b[0m\u001b[1;33m\u001b[0m\u001b[1;33m\u001b[0m\u001b[0m\n\u001b[1;32m---> 40\u001b[1;33m     \u001b[0mfriends\u001b[0m\u001b[1;33m.\u001b[0m\u001b[0mremove\u001b[0m\u001b[1;33m(\u001b[0m\u001b[0mfriends\u001b[0m\u001b[1;33m[\u001b[0m\u001b[0mo5id\u001b[0m\u001b[1;33m-\u001b[0m\u001b[1;36m1\u001b[0m\u001b[1;33m]\u001b[0m\u001b[1;33m)\u001b[0m\u001b[1;33m\u001b[0m\u001b[1;33m\u001b[0m\u001b[0m\n\u001b[0m\u001b[0;32m     41\u001b[0m     \u001b[0moption1\u001b[0m\u001b[1;33m(\u001b[0m\u001b[1;33m)\u001b[0m\u001b[1;33m\u001b[0m\u001b[1;33m\u001b[0m\u001b[0m\n\u001b[0;32m     42\u001b[0m \u001b[1;33m\u001b[0m\u001b[0m\n",
      "\u001b[1;31mIndexError\u001b[0m: list index out of range"
     ]
    }
   ],
   "source": [
    "friends = [[1, \"John\", \"Oliver\", \"john@gmailcom\", \"4679-808-765\"], [2, \"Peter\", \"Parker\", \"peter@gmail.com\", \"1234-567-890\"]]\n",
    "\n",
    "def command():\n",
    "    print(\"Enter 1 to print all friends information\")\n",
    "    print(\"Enter 2 to search a phone number\")\n",
    "    print(\"Enter 3 to add new friends information\")\n",
    "    print(\"Enter 4 to change name of a particular friend\")\n",
    "    print(\"Enter 5 to delete your friends information\")\n",
    "    print(\"Enter 6 to exit FRIENDS DATABASE APPLICATION\")\n",
    "\n",
    "def option1():\n",
    "    print(\"Information of Friend 1\")\n",
    "    print(\"ID\\tFirst name\\tLast name\\tEmail\\t\\tPhone number\")\n",
    "    print(f\"{friends[0][0]}\\t{friends[0][1]}\\t\\t{friends[0][2]}\\t\\t{friends[0][3]}\\t{friends[0][4]}\")\n",
    "\n",
    "def option2():\n",
    "    pn = int(input(\"Enter ID of your friend to search for their phone number: \"))\n",
    "    print(f\"The phone number of your friend {friends[pn-1][1]} {friends[pn-1][2]} with ID {pn} is {friends[pn-1][4]}\")\n",
    "\n",
    "def option3():\n",
    "    friends.insert([len(friends)][0],len(friends)+1)\n",
    "    nffn = input(\"Enter first name: \")\n",
    "    friends[len(friends)][1] = (\"\")\n",
    "    friends.insert([len(friends)][1],nffn)\n",
    "    (friends[len(friends)][2]) = input(\"Enter last name: \")\n",
    "    (friends[len(friends)][3]) = input(\"Enter email: \")\n",
    "    (friends[len(friends)][4]) = input(\"Enter phone number: \")\n",
    "    print(\"New friend's information added\")\n",
    "\n",
    "def option4():\n",
    "    o4id = int(input(\"Enter ID of your friend to change their name: \"))\n",
    "    friends[o4id-1][1] = input(\"Enter updated first name: \")\n",
    "    friends[o4id-1][2] = input(\"Enter updated last name: \")\n",
    "    print(\"Name updated for ID 2\")\n",
    "    print(\"New information is: \")\n",
    "    option1()\n",
    "\n",
    "def option5():\n",
    "    o5id = int(input(\"Enter an ID to delete: \"))\n",
    "    friends.remove(friends[o5id-1])\n",
    "    option1()\n",
    "    \n",
    "def option6():\n",
    "    print(\"Thank you for using FRIENDS DATABASE APPLICATION\")\n",
    "\n",
    "print(\"WELCOME TO FRIENDS DATABASE APPLICATION\")    \n",
    "while True:\n",
    "    print()\n",
    "    command()\n",
    "    userinput = int(input())\n",
    "    print()\n",
    "    if userinput == 1:\n",
    "        option1()\n",
    "    elif userinput == 2:\n",
    "        option2()\n",
    "    elif userinput == 3:\n",
    "        option3()\n",
    "    elif userinput == 4:\n",
    "        option4()\n",
    "    elif userinput == 5:\n",
    "        option5()\n",
    "    elif userinput == 6:\n",
    "        option6()\n",
    "        break\n"
   ]
  },
  {
   "cell_type": "code",
   "execution_count": 1,
   "id": "6545fa82",
   "metadata": {},
   "outputs": [
    {
     "name": "stdout",
     "output_type": "stream",
     "text": [
      "20\n",
      "Happy\n",
      "abc@gmail.com\n"
     ]
    }
   ],
   "source": [
    "a = [20, \"Happy\", \"abc@gmail.com\"]\n",
    "\n",
    "for i in a:\n",
    "    print(i)"
   ]
  },
  {
   "cell_type": "code",
   "execution_count": 2,
   "id": "9ae4275d",
   "metadata": {},
   "outputs": [
    {
     "name": "stdout",
     "output_type": "stream",
     "text": [
      "20\n",
      "Happy\n",
      "abc@gmail.com\n"
     ]
    }
   ],
   "source": [
    "for i in range(len(a)):\n",
    "    print(a[i])"
   ]
  },
  {
   "cell_type": "markdown",
   "id": "df011412",
   "metadata": {},
   "source": [
    "# for loop \n",
    "* It can be used with iterables\n",
    "* Strings, range, list, tuple, dictionary, sets"
   ]
  },
  {
   "cell_type": "code",
   "execution_count": 6,
   "id": "d5ab2fb7",
   "metadata": {},
   "outputs": [
    {
     "name": "stdout",
     "output_type": "stream",
     "text": [
      "1\tJohn\tOliver\tjohn@gmail.com\t467-980-8765\t\n",
      "2\tPeter\tparker\tpeter@gmail.com\t467-980-1234\t\n"
     ]
    }
   ],
   "source": [
    "friends = [ [1, \"John\", \"Oliver\", \"john@gmail.com\", \"467-980-8765\"], \n",
    "           [2, \"Peter\", \"parker\", \"peter@gmail.com\", \"467-980-1234\"] ]\n",
    "count = 0\n",
    "for i in friends:\n",
    "    count+=1\n",
    "    print(\"Information of friend\",count)\n",
    "    for j in i:\n",
    "        print(j, end=\"\\t\")\n",
    "    print()\n",
    "        "
   ]
  },
  {
   "cell_type": "code",
   "execution_count": 9,
   "id": "fcef46fd",
   "metadata": {},
   "outputs": [
    {
     "name": "stdout",
     "output_type": "stream",
     "text": [
      "Enter namej\n",
      "Enter lnamejh\n",
      "Enter emailfgkdhfkjhk\n",
      "Enter contact090909\n",
      "[4, 'j', 'jh', 'fgkdhfkjhk', '090909']\n",
      "[[1, 'John', 'Oliver', 'john@gmail.com', '467-980-8765'], [2, 'Peter', 'parker', 'peter@gmail.com', '467-980-1234'], [3, 'h', 'm', 'sjkhdkjhsdkjhf', '897'], [4, 'j', 'jh', 'fgkdhfkjhk', '090909']]\n"
     ]
    }
   ],
   "source": [
    "list1 = []\n",
    "ID = len(friends) + 1\n",
    "# ID = friends[-1][0] + 1\n",
    "fname = input(\"Enter name\")\n",
    "lname = input(\"Enter lname\")\n",
    "email = input(\"Enter email\")\n",
    "contact = input(\"Enter contact\")\n",
    "list1.append(ID)\n",
    "list1.append(fname)\n",
    "list1.append(lname)\n",
    "list1.append(email)\n",
    "list1.append(contact)\n",
    "print(list1)\n",
    "\n",
    "friends.append(list1)\n",
    "print(friends)"
   ]
  },
  {
   "cell_type": "code",
   "execution_count": null,
   "id": "62e075bb",
   "metadata": {},
   "outputs": [],
   "source": []
  },
  {
   "cell_type": "code",
   "execution_count": 2,
   "id": "631e7d23",
   "metadata": {},
   "outputs": [
    {
     "name": "stdout",
     "output_type": "stream",
     "text": [
      "False\n"
     ]
    }
   ],
   "source": [
    "friends = [[1, \"John\", \"Oliver\", \"john@gmailcom\", \"4679-808-765\"], [2, \"Peter\", \"Parker\", \"peter@gmail.com\", \"1234-567-890\"]]\n",
    "\n",
    "def command():\n",
    "    print(\"Enter 1 to print all friends information\")\n",
    "    print(\"Enter 2 to search a phone number\")\n",
    "    print(\"Enter 3 to add new friends information\")\n",
    "    print(\"Enter 4 to change name of a particular friend\")\n",
    "    print(\"Enter 5 to delete your friends information\")\n",
    "    print(\"Enter 6 to exit FRIENDS DATABASE APPLICATION\")\n",
    "\n",
    "def option1():\n",
    "    count = 0\n",
    "    \n",
    "    for i in friends:\n",
    "        count+=1\n",
    "        print(\"Information of Friend\", count)\n",
    "        print(f\"{'ID':<20}{'First name':<20}{'Last name':<20}{'Email':<20}{'Phone number':<20}\")\n",
    "        for j in i:    \n",
    "            print(f\"{j:<20}\", end=\"\")\n",
    "        print()\n",
    "    \n",
    "\n",
    "def option2():\n",
    "    pn = int(input(\"Enter ID of your friend to search for their phone number: \"))\n",
    "    flag = 0\n",
    "    for i in range(len(friends)):\n",
    "        if pn in friends[i]:\n",
    "            print(f\"The phone number of your friend {friends[i][1]} with ID {pn} is {friends[i][4]}\")\n",
    "            flag = 1\n",
    "            \n",
    "    if flag = 0:\n",
    "        print(\"ID doesn't exists\")\n",
    "        \n",
    "            \n",
    "        \n",
    "def option3():\n",
    "    newlist = []\n",
    "    ID3 = len(friends)+1\n",
    "    newlist.append(ID3)\n",
    "    list1 = [\"First name\", \"Last name\", \"Email\", \"Contact number\"]\n",
    "    for i in list1:\n",
    "        value = input(f\"Enter {i}\")\n",
    "        newlist.append(value)\n",
    "        \n",
    "    friends.append(newlist)\n",
    "\n",
    "def option4():\n",
    "    o4id = int(input(\"Enter ID of your friend to change their name: \"))\n",
    "    i = len(friends)+1\n",
    "    if o4id < i:\n",
    "        friends[o4id-1][1] = input(\"Enter updated first name: \")\n",
    "        friends[o4id-1][2] = input(\"Enter updated last name: \")\n",
    "        print(\"Name updated for ID\", o4id)\n",
    "        print(\"New information is: \")\n",
    "        option1()\n",
    "    else:     \n",
    "        print(\"This ID doesn't exist, please try again\")\n",
    "        \n",
    "        \n",
    "def option5():\n",
    "    o5id = int(input(\"Enter an ID to delete: \"))\n",
    "    i = len(friends) + 1\n",
    "    if o5id < i:\n",
    "        friends.remove(friends[o5id-1])\n",
    "        print(\"ID\", o5id, \"has been deleted\")\n",
    "        option1()\n",
    "    else:\n",
    "        print(\"This ID doesn't exist, please try again\")\n",
    "\n",
    "def option6():\n",
    "    print(\"Thank you for using FRIENDS DATABASE APPLICATION\")\n",
    "\n",
    "print(\"WELCOME TO FRIENDS DATABASE APPLICATION\")    \n",
    "while True:\n",
    "    print()\n",
    "    command()\n",
    "    userinput = int(input())\n",
    "    print()\n",
    "    if userinput == 1:\n",
    "        option1()\n",
    "    elif userinput == 2:\n",
    "        option2()\n",
    "    elif userinput == 3:\n",
    "        option3()\n",
    "    elif userinput == 4:\n",
    "        option4()\n",
    "    elif userinput == 5:\n",
    "        option5()\n",
    "    elif userinput == 6:\n",
    "        option6()\n",
    "        break\n"
   ]
  }
 ],
 "metadata": {
  "kernelspec": {
   "display_name": "Python 3 (ipykernel)",
   "language": "python",
   "name": "python3"
  },
  "language_info": {
   "codemirror_mode": {
    "name": "ipython",
    "version": 3
   },
   "file_extension": ".py",
   "mimetype": "text/x-python",
   "name": "python",
   "nbconvert_exporter": "python",
   "pygments_lexer": "ipython3",
   "version": "3.9.7"
  }
 },
 "nbformat": 4,
 "nbformat_minor": 5
}
