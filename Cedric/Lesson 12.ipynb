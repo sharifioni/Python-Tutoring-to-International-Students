{
 "cells": [
  {
   "cell_type": "code",
   "execution_count": 7,
   "id": "d2a09973",
   "metadata": {},
   "outputs": [
    {
     "name": "stdout",
     "output_type": "stream",
     "text": [
      "       |       \n",
      "       |       \n",
      "       |       \n",
      "       |       \n",
      "       |       \n",
      "       |       \n",
      "       |       \n",
      "       |       \n",
      "       |       \n",
      "       |       \n",
      "       |       \n"
     ]
    }
   ],
   "source": [
    "for i in range(5,-6,-1):\n",
    "    for j in range(-7, 8):\n",
    "        if j == 0:\n",
    "            print(\"|\", end=\"\")\n",
    "        else:\n",
    "            print(\" \", end= \"\")\n",
    "    print()\n",
    "    \n",
    "        "
   ]
  },
  {
   "cell_type": "code",
   "execution_count": 8,
   "id": "2ad008b4",
   "metadata": {},
   "outputs": [
    {
     "name": "stdout",
     "output_type": "stream",
     "text": [
      "Enter: -2+4+5-1\n"
     ]
    }
   ],
   "source": [
    "hit_string = input(\"Enter: \")\n"
   ]
  },
  {
   "cell_type": "code",
   "execution_count": null,
   "id": "34e97b18",
   "metadata": {},
   "outputs": [],
   "source": []
  }
 ],
 "metadata": {
  "kernelspec": {
   "display_name": "Python 3 (ipykernel)",
   "language": "python",
   "name": "python3"
  },
  "language_info": {
   "codemirror_mode": {
    "name": "ipython",
    "version": 3
   },
   "file_extension": ".py",
   "mimetype": "text/x-python",
   "name": "python",
   "nbconvert_exporter": "python",
   "pygments_lexer": "ipython3",
   "version": "3.9.7"
  }
 },
 "nbformat": 4,
 "nbformat_minor": 5
}
