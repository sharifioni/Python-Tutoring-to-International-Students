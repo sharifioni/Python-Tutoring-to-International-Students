{
 "cells": [
  {
   "cell_type": "code",
   "execution_count": 17,
   "id": "42c193c8",
   "metadata": {},
   "outputs": [
    {
     "name": "stdout",
     "output_type": "stream",
     "text": [
      "baboon\n",
      "Guess a random letter from the alphabet: b\n",
      "b\n",
      "Your letter is in the word\n",
      "0 b\n",
      "2 b\n",
      "['b', '_', 'b', '_', '_', '_']\n"
     ]
    }
   ],
   "source": [
    "#Step 2\n",
    "import random\n",
    "word_list = [\"aardvark\", \"baboon\", \"camel\"]\n",
    "chosen_word = random.choice(word_list)\n",
    "print(chosen_word)\n",
    "guess = input(\"Guess a random letter from the alphabet: \").lower()\n",
    "print(guess)\n",
    "\n",
    "\n",
    "\n",
    "if guess in chosen_word:\n",
    "    print(\"Your letter is in the word\")\n",
    "else:\n",
    "    print(\"Your letter isn't in the word\")\n",
    "\n",
    "display = []\n",
    "for i in range(len(chosen_word)):\n",
    "    display.append(\"_\")\n",
    "for i in range(len(display)):\n",
    "    if guess == chosen_word[i]:\n",
    "        display[i] = guess\n",
    "        print(i, chosen_word[i])\n",
    "\n",
    "print(display)\n"
   ]
  },
  {
   "cell_type": "code",
   "execution_count": 18,
   "id": "19fa53e1",
   "metadata": {},
   "outputs": [
    {
     "name": "stdout",
     "output_type": "stream",
     "text": [
      "Pssst, the solution is camel.\n",
      "Guess a letter: l\n",
      "Current position: 0\n",
      " Current letter: c\n",
      " Guessed letter: l\n",
      "Current position: 1\n",
      " Current letter: a\n",
      " Guessed letter: l\n",
      "Current position: 2\n",
      " Current letter: m\n",
      " Guessed letter: l\n",
      "Current position: 3\n",
      " Current letter: e\n",
      " Guessed letter: l\n",
      "Current position: 4\n",
      " Current letter: l\n",
      " Guessed letter: l\n",
      "['_', '_', '_', '_', 'l']\n"
     ]
    }
   ],
   "source": [
    "#Step 3\n",
    "\n",
    "import random\n",
    "word_list = [\"aardvark\", \"baboon\", \"camel\"]\n",
    "chosen_word = random.choice(word_list)\n",
    "word_length = len(chosen_word)\n",
    "\n",
    "#Testing code\n",
    "print(f'Pssst, the solution is {chosen_word}.')\n",
    "\n",
    "#Create blanks\n",
    "display = []\n",
    "for _ in range(word_length):\n",
    "    display += \"_\"\n",
    "\n",
    "#TODO-1: - Use a while loop to let the user guess again. The loop should only stop once the user has guessed all the letters in the chosen_word and 'display' has no more blanks (\"_\"). Then you can tell the user they've won.\n",
    "\n",
    "guess = input(\"Guess a letter: \").lower()\n",
    "\n",
    "#Check guessed letter\n",
    "for position in range(word_length):\n",
    "    letter = chosen_word[position]\n",
    "    print(f\"Current position: {position}\\n Current letter: {letter}\\n Guessed letter: {guess}\")\n",
    "    if letter == guess:\n",
    "        display[position] = letter\n",
    "\n",
    "print(display)"
   ]
  },
  {
   "cell_type": "markdown",
   "id": "e37ca00b",
   "metadata": {},
   "source": [
    "# Operators that can be used with strings, lists, tuple\n",
    "* in and not in (iterables, used for searching an element and gives the result as boolean)\n",
    "* \\+  (used for concatenation)\n",
    "* \\*  (used for multiplication)"
   ]
  },
  {
   "cell_type": "markdown",
   "id": "73292630",
   "metadata": {},
   "source": [
    "# string methods\n",
    "* capitalize (Converts the first character to upper case)\n",
    "* casefold   (Converts string into lower case)\n",
    "* center      (returns a center string)\n",
    "* count       (Returns the number of times a specified value occurs in a string)\n",
    "* endswith\n",
    "* startswith\n",
    "* find\n",
    "* index\n",
    "* isalnum\n",
    "* isalpha\n",
    "* isdigit\n",
    "* islower\n",
    "* isspace\n",
    "* isupper\n",
    "* istitle\n",
    "* join\n",
    "* lower\n",
    "* upper\n",
    "* title\n",
    "* strip\n",
    "* split \n",
    "* rfind\n",
    "* rindex\n"
   ]
  },
  {
   "cell_type": "markdown",
   "id": "551e21dd",
   "metadata": {},
   "source": [
    "# List Methods\n",
    "* append()\n",
    "* extend()\n",
    "* count()\n",
    "* insert()\n",
    "* reverse()\n",
    "* pop()\n",
    "* remove()\n",
    "* sort()\n",
    "* clear()\n",
    "* copy()\n",
    "* index()"
   ]
  },
  {
   "cell_type": "markdown",
   "id": "a5923bb8",
   "metadata": {},
   "source": [
    "* sequences\n",
    "* mutable and immutable data types\n",
    "* iterables"
   ]
  },
  {
   "cell_type": "code",
   "execution_count": null,
   "id": "36814eac",
   "metadata": {},
   "outputs": [],
   "source": []
  }
 ],
 "metadata": {
  "kernelspec": {
   "display_name": "Python 3 (ipykernel)",
   "language": "python",
   "name": "python3"
  },
  "language_info": {
   "codemirror_mode": {
    "name": "ipython",
    "version": 3
   },
   "file_extension": ".py",
   "mimetype": "text/x-python",
   "name": "python",
   "nbconvert_exporter": "python",
   "pygments_lexer": "ipython3",
   "version": "3.9.7"
  }
 },
 "nbformat": 4,
 "nbformat_minor": 5
}
