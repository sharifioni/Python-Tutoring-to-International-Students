{
 "cells": [
  {
   "cell_type": "code",
   "execution_count": 2,
   "id": "16aa19af",
   "metadata": {},
   "outputs": [
    {
     "name": "stdout",
     "output_type": "stream",
     "text": [
      "Enter your birth month: 3\n",
      "Enter your birth day: 27\n",
      "Your birthday is on 3 / 27\n",
      "Your astrology sign is Aries and your personality traits are energetic, candid and willful.\n"
     ]
    }
   ],
   "source": [
    "month = (int(input(\"Enter your birth month: \")))\n",
    "day = (int(input(\"Enter your birth day: \")))\n",
    "print(f\"Your birthday is on {month}/{day}\")\n",
    "if (month == 3 and 21<=day<=31) or (month == 4 and 1<=day<=19):\n",
    "    print(\"Your astrology sign is Aries and your personality traits are energetic, candid and willful.\")\n"
   ]
  }
 ],
 "metadata": {
  "kernelspec": {
   "display_name": "Python 3 (ipykernel)",
   "language": "python",
   "name": "python3"
  },
  "language_info": {
   "codemirror_mode": {
    "name": "ipython",
    "version": 3
   },
   "file_extension": ".py",
   "mimetype": "text/x-python",
   "name": "python",
   "nbconvert_exporter": "python",
   "pygments_lexer": "ipython3",
   "version": "3.9.7"
  }
 },
 "nbformat": 4,
 "nbformat_minor": 5
}
