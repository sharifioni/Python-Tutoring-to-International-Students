{
 "cells": [
  {
   "cell_type": "code",
   "execution_count": 2,
   "id": "c900d672",
   "metadata": {},
   "outputs": [
    {
     "name": "stdout",
     "output_type": "stream",
     "text": [
      "x is less than y\t True\n",
      "x is greater than y\t False\n",
      "x is less than equal to y\t True\n",
      "x is greater than equal to y\t False\n",
      "x is equal to y\t False\n",
      "x is not equal to y\t True\n"
     ]
    }
   ],
   "source": [
    "#Comparison Operators\n",
    "#Compare two or more values (\"Each comparsion has two operands\")\n",
    "#They always gives you boolean result (True or False)\n",
    "# > \n",
    "# <\n",
    "# >=\n",
    "# <=\n",
    "# ==\n",
    "# !=\n",
    "\n",
    "x=5\n",
    "y=6\n",
    "\n",
    "\n",
    "print(\"x is less than y\\t\",x<y)  #True\n",
    "print(\"x is greater than y\\t\",x>y)  #False\n",
    "print(\"x is less than equal to y\\t\",x<=y)  #True\n",
    "print(\"x is greater than equal to y\\t\",x>=y) #False\n",
    "print(\"x is equal to y\\t\",x==y)  #False\n",
    "print(\"x is not equal to y\\t\",x!=y) #True\n"
   ]
  },
  {
   "cell_type": "code",
   "execution_count": 10,
   "id": "6a0fbb4c",
   "metadata": {},
   "outputs": [
    {
     "name": "stdout",
     "output_type": "stream",
     "text": [
      "True\n",
      "True\n",
      "True\n"
     ]
    }
   ],
   "source": [
    "#Logical Operators:\n",
    "#used between two or more conditions\n",
    "#and    it gives you true as a result when all of the conditions are true otherwise False\n",
    "#or     it gives you true when one of the conditions is true otherwise false\n",
    "#not    changes True to False and False to True\n",
    "\n",
    "\n",
    "x=5\n",
    "y=6\n",
    "z=7\n",
    "print(x<y and x<z or y>z) #(True   and  True)  and False  =  True or False = True    \n",
    "print(x<y or x>z)  #True   or  False  = True\n",
    "print(not x>y)   # not False"
   ]
  },
  {
   "cell_type": "code",
   "execution_count": 20,
   "id": "e6a502fd",
   "metadata": {},
   "outputs": [
    {
     "name": "stdout",
     "output_type": "stream",
     "text": [
      "Enter your name: Muhammad\n",
      "Hello\n",
      "You are Muslim\n"
     ]
    }
   ],
   "source": [
    "# if - else\n",
    "#You always write condition with if part\n",
    "#if part runs for True condition\n",
    "#else part runs with false condition\n",
    "\n",
    "name=input(\"Enter your name: \")\n",
    "\n",
    "if name==\"Muhammad\":    \n",
    "    print(\"Hello\")\n",
    "    print(\"You are Muslim\")\n",
    "\n",
    "else:\n",
    "    print(\"I don't know\")"
   ]
  },
  {
   "cell_type": "code",
   "execution_count": 22,
   "id": "509b9b54",
   "metadata": {},
   "outputs": [
    {
     "name": "stdout",
     "output_type": "stream",
     "text": [
      "This is else part\n"
     ]
    }
   ],
   "source": [
    "#True / False in of else\n",
    "if False:\n",
    "    print(\"This is if part\")\n",
    "else:\n",
    "    print(\"This is else part\")"
   ]
  },
  {
   "cell_type": "code",
   "execution_count": 29,
   "id": "69e03da1",
   "metadata": {},
   "outputs": [
    {
     "name": "stdout",
     "output_type": "stream",
     "text": [
      "Enter a number12\n",
      "12\n"
     ]
    }
   ],
   "source": [
    "# 0 is False, All other values are True\n",
    "num=int(input(\"Enter a number\"))\n",
    "if num:\n",
    "    print(num)\n",
    "else:\n",
    "    print(\"number is zero\")"
   ]
  },
  {
   "cell_type": "code",
   "execution_count": 33,
   "id": "f60772e0",
   "metadata": {},
   "outputs": [
    {
     "name": "stdout",
     "output_type": "stream",
     "text": [
      "You entered your name\n"
     ]
    }
   ],
   "source": [
    "#Empty string value is false, and any string value is True \n",
    "\n",
    "\n",
    "if \"Ali\":\n",
    "    print(\"You entered your name\")\n",
    "else:\n",
    "    print(\"There is no name\")"
   ]
  },
  {
   "cell_type": "code",
   "execution_count": 35,
   "id": "c834f59d",
   "metadata": {},
   "outputs": [
    {
     "name": "stdout",
     "output_type": "stream",
     "text": [
      "Enter any number: 16\n",
      "16 is even\n"
     ]
    }
   ],
   "source": [
    "#Check wether a number is even or odd\n",
    "number=int(input(\"Enter any number: \"))   #16\n",
    "\n",
    "if number%2==0:\n",
    "    print(number,\"is even\")\n",
    "else:\n",
    "    print(number,\"is odd\")\n"
   ]
  },
  {
   "cell_type": "code",
   "execution_count": 37,
   "id": "d6c308b1",
   "metadata": {},
   "outputs": [
    {
     "name": "stdout",
     "output_type": "stream",
     "text": [
      "0\n",
      "1\n",
      "2\n",
      "3\n",
      "4\n",
      "5\n",
      "6\n",
      "7\n",
      "8\n",
      "9\n"
     ]
    }
   ],
   "source": [
    "# Multiple if\n",
    "# Multiple if-elif \n"
   ]
  }
 ],
 "metadata": {
  "kernelspec": {
   "display_name": "Python 3 (ipykernel)",
   "language": "python",
   "name": "python3"
  },
  "language_info": {
   "codemirror_mode": {
    "name": "ipython",
    "version": 3
   },
   "file_extension": ".py",
   "mimetype": "text/x-python",
   "name": "python",
   "nbconvert_exporter": "python",
   "pygments_lexer": "ipython3",
   "version": "3.9.7"
  }
 },
 "nbformat": 4,
 "nbformat_minor": 5
}
