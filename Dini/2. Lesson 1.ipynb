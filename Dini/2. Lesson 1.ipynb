{
 "cells": [
  {
   "cell_type": "code",
   "execution_count": 2,
   "id": "ea7459f4",
   "metadata": {},
   "outputs": [
    {
     "name": "stdout",
     "output_type": "stream",
     "text": [
      "Name= Shahjahan 23 Python 1.75 68\n"
     ]
    }
   ],
   "source": [
    "age=23\n",
    "name=\"Shahjahan\"\n",
    "skill=\"Python\"\n",
    "height=1.75\n",
    "weight=68\n",
    "\n",
    "print(\"Name=\",name, age,skill, height, weight)\n",
    "# Name= Shahjahan   age=23   skill=python  height=1.75  weight=68\n"
   ]
  },
  {
   "cell_type": "code",
   "execution_count": 5,
   "id": "f82c947c",
   "metadata": {},
   "outputs": [
    {
     "name": "stdout",
     "output_type": "stream",
     "text": [
      "Name=Shahjahan age=23 skill=Python height=1.75 weight=68\n"
     ]
    }
   ],
   "source": [
    "#f strings\n",
    "print(f\"Name={name} age={age} skill={skill} height={height} weight={weight}\")"
   ]
  },
  {
   "cell_type": "code",
   "execution_count": 9,
   "id": "10a4e3b4",
   "metadata": {},
   "outputs": [
    {
     "name": "stdout",
     "output_type": "stream",
     "text": [
      "Name= Shahjahan age=23 skill=Python height=1.75 weight=68\n"
     ]
    }
   ],
   "source": [
    "#formatted string\n",
    "print(\"Name= {} age={} skill={} height={} weight={}\".format(name,age,skill,height,weight))"
   ]
  }
 ],
 "metadata": {
  "kernelspec": {
   "display_name": "Python 3 (ipykernel)",
   "language": "python",
   "name": "python3"
  },
  "language_info": {
   "codemirror_mode": {
    "name": "ipython",
    "version": 3
   },
   "file_extension": ".py",
   "mimetype": "text/x-python",
   "name": "python",
   "nbconvert_exporter": "python",
   "pygments_lexer": "ipython3",
   "version": "3.9.7"
  }
 },
 "nbformat": 4,
 "nbformat_minor": 5
}
