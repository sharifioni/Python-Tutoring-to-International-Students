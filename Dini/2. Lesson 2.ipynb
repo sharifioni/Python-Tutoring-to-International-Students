{
 "cells": [
  {
   "cell_type": "markdown",
   "id": "4ea81c6f",
   "metadata": {},
   "source": [
    "# Operator Precedence\n"
   ]
  },
  {
   "cell_type": "code",
   "execution_count": 1,
   "id": "3cf4f093",
   "metadata": {},
   "outputs": [
    {
     "name": "stdout",
     "output_type": "stream",
     "text": [
      "18.0\n"
     ]
    }
   ],
   "source": [
    "# Brackets Exponentiation   Division / Multiplication  Addition / Subtraction\n",
    "# 2+4*2**3/2       2+4*8/2      2+32/2     2+16.0   18.0\n",
    "\n",
    "print(2+4 *( 4 -2) **3 / 2)"
   ]
  },
  {
   "cell_type": "markdown",
   "id": "7ec97822",
   "metadata": {},
   "source": [
    "# String Concatenation\n",
    "* joining two strings with + operator between them"
   ]
  },
  {
   "cell_type": "code",
   "execution_count": 5,
   "id": "2de86536",
   "metadata": {},
   "outputs": [
    {
     "name": "stdout",
     "output_type": "stream",
     "text": [
      "Hello World\n",
      "7715\n",
      "212\n"
     ]
    }
   ],
   "source": [
    "print(\"Hello \"+\"World\")\n",
    "print(\"77\"+\"15\")\n",
    "print(\"125\"+str(87)) "
   ]
  },
  {
   "cell_type": "markdown",
   "id": "8911c273",
   "metadata": {},
   "source": [
    "# Type Conversion      \n",
    "* converting one data type to another data type\n",
    "* string to integer by using int() function"
   ]
  },
  {
   "cell_type": "code",
   "execution_count": 6,
   "id": "d9379a2a",
   "metadata": {},
   "outputs": [
    {
     "name": "stdout",
     "output_type": "stream",
     "text": [
      "Value of x is 77 and its data type is <class 'int'>\n",
      "Value of x is 77.0 and its data type is <class 'float'>\n",
      "Value of x is 125 and its data type is <class 'str'>\n",
      "Value of x is 125.0 and its data type is <class 'float'>\n"
     ]
    }
   ],
   "source": [
    "\n",
    "\n",
    "# string into integer  using int() function\n",
    "x=int('77')\n",
    "print(f\"Value of x is {x} and its data type is {type(x)}\")\n",
    "\n",
    "# string into float  using float() function\n",
    "x=float('77')\n",
    "print(f\"Value of x is {x} and its data type is {type(x)}\")\n",
    "\n",
    "\n",
    "# integer into string  using str() function\n",
    "x=str(125)\n",
    "print(f\"Value of x is {x} and its data type is {type(x)}\")\n",
    "\n",
    "# integer into float  using float() function\n",
    "x=float(125)\n",
    "print(f\"Value of x is {x} and its data type is {type(x)}\")\n",
    "\n",
    "\n",
    "# Homework\n",
    "# float to string\n",
    "# float to integer"
   ]
  },
  {
   "cell_type": "markdown",
   "id": "d8865f7b",
   "metadata": {},
   "source": [
    "# input function\n",
    "* input function prompts the user to enter any value (it is used to take a value from the user)\n",
    "* input function always returns value in string data type\n",
    "* input(\"Enter your name: \")"
   ]
  },
  {
   "cell_type": "code",
   "execution_count": 7,
   "id": "cfc65bfc",
   "metadata": {},
   "outputs": [
    {
     "name": "stdout",
     "output_type": "stream",
     "text": [
      "Enter name: Shah\n",
      "Shah\n"
     ]
    }
   ],
   "source": [
    "name=input(\"Enter name: \")\n",
    "print(name)"
   ]
  },
  {
   "cell_type": "code",
   "execution_count": 9,
   "id": "495eebdc",
   "metadata": {},
   "outputs": [
    {
     "name": "stdout",
     "output_type": "stream",
     "text": [
      "Enter first number: 15\n",
      "Enter second number: 15\n",
      "30\n"
     ]
    }
   ],
   "source": [
    "num1=int(input(\"Enter first number: \"))\n",
    "num2=int(input(\"Enter second number: \"))\n",
    "print(num1+num2)"
   ]
  },
  {
   "cell_type": "markdown",
   "id": "3e3b8ece",
   "metadata": {},
   "source": [
    "# Comparison Operators\n",
    "* These are the operators that compare the two values and returns a boolean value\n",
    "* \\>   greater than\n",
    "* <   less than\n",
    "* \\>=  greater than or equal to\n",
    "* <=  less than or equal to\n",
    "* ==  equal\n",
    "* !=  not equal"
   ]
  },
  {
   "cell_type": "code",
   "execution_count": 10,
   "id": "f77f8256",
   "metadata": {},
   "outputs": [
    {
     "name": "stdout",
     "output_type": "stream",
     "text": [
      "x is less than y:  True\n",
      "x is greater than y:  False\n",
      "x is less than or equal to y:  True\n",
      "x is greater than or equal to y:  False\n",
      "x is equal to y:  False\n",
      "x is not equal to y:  True\n"
     ]
    }
   ],
   "source": [
    "x=5\n",
    "y=10\n",
    "print(\"x is less than y: \",x < y) # True\n",
    "print(\"x is greater than y: \",x > y) # False\n",
    "print(\"x is less than or equal to y: \",x <= y) # True\n",
    "print(\"x is greater than or equal to y: \",x >= y) # False\n",
    "print(\"x is equal to y: \",x == y)  # False\n",
    "print(\"x is not equal to y: \",x != y) # True"
   ]
  },
  {
   "cell_type": "code",
   "execution_count": 11,
   "id": "08279ab1",
   "metadata": {},
   "outputs": [
    {
     "name": "stdout",
     "output_type": "stream",
     "text": [
      "False\n"
     ]
    }
   ],
   "source": [
    "# single = is assignment operator. It assigns value to a variable\n",
    "# double == is a comparsion operator. It compares two values and check if they are equal or not\n",
    "a=78\n",
    "b=98\n",
    "\n",
    "print(a==b)"
   ]
  },
  {
   "cell_type": "markdown",
   "id": "aedded9d",
   "metadata": {},
   "source": [
    "# Control Structures\n",
    "* Decisions\n",
    "* if / else\n",
    "* Multiple if\n",
    "* nested if else\n",
    "* if elif else"
   ]
  },
  {
   "cell_type": "code",
   "execution_count": 24,
   "id": "ee323eee",
   "metadata": {},
   "outputs": [
    {
     "name": "stdout",
     "output_type": "stream",
     "text": [
      "Enter your per month income: 12\n",
      "Enter your cost per month: 15\n",
      "The loss is 3\n"
     ]
    }
   ],
   "source": [
    "def income_cost():\n",
    "    try:\n",
    "        income=int(input(\"Enter your per month income: \"))\n",
    "        cost= int(input(\"Enter your cost per month: \"))\n",
    "        if income>=cost:\n",
    "            print(\"The profit is\",income-cost)\n",
    "        else:\n",
    "            print(\"The loss is\", cost-income)\n",
    "    except ValueError:\n",
    "        print(\"You should Enter integer value\")\n",
    "        income_cost()\n",
    "        \n",
    "income_cost()"
   ]
  },
  {
   "cell_type": "code",
   "execution_count": 26,
   "id": "b879b055",
   "metadata": {},
   "outputs": [
    {
     "name": "stdout",
     "output_type": "stream",
     "text": [
      "Enter any number: 24\n",
      "24 is even\n"
     ]
    }
   ],
   "source": [
    "# Program for telling wether a number is even or odd\n",
    "number=int(input(\"Enter any number: \")) #25\n",
    "if number%2==0:\n",
    "    print(f\"{number} is even\")\n",
    "\n",
    "else:\n",
    "    print(f\"{number} is odd\")\n"
   ]
  },
  {
   "cell_type": "code",
   "execution_count": 3,
   "id": "dee3dd57",
   "metadata": {},
   "outputs": [
    {
     "name": "stdout",
     "output_type": "stream",
     "text": [
      "x is not greater than y\n"
     ]
    }
   ],
   "source": [
    "\n",
    "if x>y:\n",
    "    print(\"x is greater than y\")\n",
    "else:\n",
    "    print(\"x is not greater than y\")"
   ]
  },
  {
   "cell_type": "code",
   "execution_count": 4,
   "id": "1216464c",
   "metadata": {},
   "outputs": [
    {
     "name": "stdout",
     "output_type": "stream",
     "text": [
      "x is not greater than y\n"
     ]
    }
   ],
   "source": [
    "\n",
    "if x>y:\n",
    "    print(\"x is greater than y\")\n",
    "else:\n",
    "    print(\"x is not greater than y\")"
   ]
  },
  {
   "cell_type": "code",
   "execution_count": null,
   "id": "f983b70d",
   "metadata": {},
   "outputs": [],
   "source": []
  },
  {
   "cell_type": "markdown",
   "id": "1117d6a6",
   "metadata": {},
   "source": []
  },
  {
   "cell_type": "code",
   "execution_count": null,
   "id": "58522679",
   "metadata": {},
   "outputs": [],
   "source": []
  }
 ],
 "metadata": {
  "kernelspec": {
   "display_name": "Python 3 (ipykernel)",
   "language": "python",
   "name": "python3"
  },
  "language_info": {
   "codemirror_mode": {
    "name": "ipython",
    "version": 3
   },
   "file_extension": ".py",
   "mimetype": "text/x-python",
   "name": "python",
   "nbconvert_exporter": "python",
   "pygments_lexer": "ipython3",
   "version": "3.9.7"
  }
 },
 "nbformat": 4,
 "nbformat_minor": 5
}
