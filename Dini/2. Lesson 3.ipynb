{
 "cells": [
  {
   "cell_type": "markdown",
   "id": "20173e81",
   "metadata": {},
   "source": [
    "## if-else\n",
    "* in if part we provide a condition. \n",
    "* if block runs when the condition is True\n",
    "* in else part we don't write any condition, it runs when the condition is false\n",
    "* indentation (Spaces that tells you about a block of code)\n",
    "* if condition:\n",
    "    statements1\n",
    "    statement2\n",
    "    ..........\n",
    "  else:\n",
    "    statements1\n",
    "    statement2\n",
    "    ..........\n",
    "    "
   ]
  },
  {
   "cell_type": "code",
   "execution_count": 2,
   "id": "df6f8c6b",
   "metadata": {},
   "outputs": [
    {
     "name": "stdout",
     "output_type": "stream",
     "text": [
      "This part is false\n"
     ]
    }
   ],
   "source": [
    "#if else when you directly give a boolean value\n",
    "if True:\n",
    "    print(\"This part is True\")\n",
    "else:\n",
    "    print(\"This part is false\")"
   ]
  },
  {
   "cell_type": "code",
   "execution_count": null,
   "id": "bc1cf383",
   "metadata": {},
   "outputs": [],
   "source": [
    "#if else when you directly give a boolean value\n",
    "if False:\n",
    "    print(\"This part is True\")\n",
    "else:\n",
    "    print(\"This part is false\")"
   ]
  },
  {
   "cell_type": "code",
   "execution_count": 3,
   "id": "5e600b44",
   "metadata": {},
   "outputs": [
    {
     "name": "stdout",
     "output_type": "stream",
     "text": [
      "This part is false\n"
     ]
    }
   ],
   "source": [
    "#if else when you give 0\n",
    "# 0 is considered as false\n",
    "if 0:\n",
    "    print(\"This part is True\")\n",
    "else:\n",
    "    print(\"This part is false\")"
   ]
  },
  {
   "cell_type": "code",
   "execution_count": 9,
   "id": "a85b047d",
   "metadata": {},
   "outputs": [
    {
     "name": "stdout",
     "output_type": "stream",
     "text": [
      "This part is false\n"
     ]
    }
   ],
   "source": [
    "#if else when you give any other value\n",
    "# Any integer or float value except 0 is considered True\n",
    "if 0:\n",
    "    print(\"This part is True\")\n",
    "else:\n",
    "    print(\"This part is false\")"
   ]
  },
  {
   "cell_type": "code",
   "execution_count": 10,
   "id": "8578ca6b",
   "metadata": {},
   "outputs": [
    {
     "name": "stdout",
     "output_type": "stream",
     "text": [
      "This part is false\n"
     ]
    }
   ],
   "source": [
    "#Empty string is considered as false\n",
    "if \"\":\n",
    "    print(\"This part is True\")\n",
    "else:\n",
    "    print(\"This part is false\")"
   ]
  },
  {
   "cell_type": "code",
   "execution_count": 15,
   "id": "9c255140",
   "metadata": {},
   "outputs": [
    {
     "name": "stdout",
     "output_type": "stream",
     "text": [
      "This part is True\n"
     ]
    }
   ],
   "source": [
    "#Any other string value is considered True\n",
    "if \" \":\n",
    "    print(\"This part is True\")\n",
    "else:\n",
    "    print(\"This part is false\")"
   ]
  },
  {
   "cell_type": "code",
   "execution_count": 17,
   "id": "61609433",
   "metadata": {},
   "outputs": [
    {
     "name": "stdout",
     "output_type": "stream",
     "text": [
      "a is not 5\n"
     ]
    }
   ],
   "source": [
    "a=0\n",
    "if a:\n",
    "    print(\"a is 5\")\n",
    "else:\n",
    "    print(\"a is not 5\")"
   ]
  },
  {
   "cell_type": "code",
   "execution_count": 23,
   "id": "3ca71a4c",
   "metadata": {},
   "outputs": [
    {
     "name": "stdout",
     "output_type": "stream",
     "text": [
      "True\n"
     ]
    }
   ],
   "source": [
    "if []:\n",
    "    print(\"True\")\n",
    "else:\n",
    "    print(\"false\")"
   ]
  },
  {
   "cell_type": "code",
   "execution_count": 26,
   "id": "bc35bbcb",
   "metadata": {},
   "outputs": [],
   "source": [
    "#if you want to skip else part then you can skip it\n",
    "x=5\n",
    "y=10\n",
    "if x>y:\n",
    "    print(\"x is less than y\")\n"
   ]
  },
  {
   "cell_type": "markdown",
   "id": "fba20f83",
   "metadata": {},
   "source": [
    "# Multiple if statements"
   ]
  },
  {
   "cell_type": "code",
   "execution_count": 27,
   "id": "978ce0e6",
   "metadata": {},
   "outputs": [
    {
     "name": "stdout",
     "output_type": "stream",
     "text": [
      "Enter two integers, and I will tell you the relationships they satisfy.\n",
      "Enter first integer: 10\n",
      "Enter second integer: 5\n",
      "10 is not equal to 5\n",
      "10 is greater than 5\n",
      "10 is greater than or equal to 5\n"
     ]
    }
   ],
   "source": [
    " # fig02_01.py\n",
    "\"\"\"Comparing integers using if statements and comparison operators.\"\"\"\n",
    "print('Enter two integers, and I will tell you',\n",
    "'the relationships they satisfy.')\n",
    "\n",
    "# read first integer\n",
    "number1 = int(input('Enter first integer: ')) #10\n",
    "\n",
    "# read second integer\n",
    "number2 = int(input('Enter second integer: ')) #5\n",
    "\n",
    "if number1 == number2: #False\n",
    "    print(number1, 'is equal to', number2)\n",
    "\n",
    "if number1 != number2: #True\n",
    "    print(number1, 'is not equal to', number2)\n",
    "\n",
    "if number1 < number2: #False\n",
    "    print(number1, 'is less than', number2)\n",
    "\n",
    "if number1 > number2:#True\n",
    "    print(number1, 'is greater than', number2)\n",
    "\n",
    "if number1 <= number2:#False\n",
    "    print(number1, 'is less than or equal to', number2)\n",
    "\n",
    "if number1 >= number2: #True\n",
    "    print(number1, 'is greater than or equal to', number2)"
   ]
  },
  {
   "cell_type": "markdown",
   "id": "17039071",
   "metadata": {},
   "source": [
    "# if elif else\n",
    "\n",
    "> if condition:\n",
    "> elif condition:\n",
    "> elif condition:\n",
    "> .............\n",
    "> else:\n",
    "\n",
    "* You use if elif else structure when you have to check the one true statement"
   ]
  },
  {
   "cell_type": "code",
   "execution_count": 29,
   "id": "a27a2d28",
   "metadata": {},
   "outputs": [
    {
     "name": "stdout",
     "output_type": "stream",
     "text": [
      "Enter two integers, and I will tell you the relationships they satisfy.\n",
      "Enter first integer: 10\n",
      "Enter second integer: 5\n",
      "10 is not equal to 5\n",
      "Program finished\n"
     ]
    }
   ],
   "source": [
    " # fig02_01.py\n",
    "\"\"\"Comparing integers using if statements and comparison operators.\"\"\"\n",
    "print('Enter two integers, and I will tell you',\n",
    "'the relationships they satisfy.')\n",
    "\n",
    "# read first integer\n",
    "number1 = int(input('Enter first integer: ')) #10\n",
    "\n",
    "# read second integer\n",
    "number2 = int(input('Enter second integer: ')) #5\n",
    "\n",
    "if number1 == number2: #False\n",
    "    print(number1, 'is equal to', number2)\n",
    "\n",
    "elif number1 != number2: #True\n",
    "    print(number1, 'is not equal to', number2)\n",
    "\n",
    "elif number1 < number2: #False\n",
    "    print(number1, 'is less than', number2)\n",
    "\n",
    "elif number1 > number2:#True\n",
    "    print(number1, 'is greater than', number2)\n",
    "\n",
    "elif number1 <= number2:#False\n",
    "    print(number1, 'is less than or equal to', number2)\n",
    "\n",
    "elif number1 >= number2: #True\n",
    "    print(number1, 'is greater than or equal to', number2)\n",
    "    \n",
    "print(\"Program finished\")"
   ]
  },
  {
   "cell_type": "code",
   "execution_count": 30,
   "id": "44026d10",
   "metadata": {},
   "outputs": [
    {
     "name": "stdout",
     "output_type": "stream",
     "text": [
      "Enter month in integer: 5\n",
      "may\n"
     ]
    }
   ],
   "source": [
    "month=int(input(\"Enter month in integer: \"))\n",
    "if month==1:\n",
    "    print(\"jan\")\n",
    "if month==2:\n",
    "    print(\"feb\")\n",
    "if month==3:\n",
    "    print(\"mar\")\n",
    "if month==4:\n",
    "    print(\"ap\")\n",
    "if month==5:\n",
    "    print(\"may\")\n",
    "if month==6:\n",
    "    print(\"jun\")\n",
    "if month==7:\n",
    "    print(\"july\")\n",
    "if month==8:\n",
    "    print(\"aug\")\n",
    "if month==9:\n",
    "    print(\"sep\")\n",
    "if month==10:\n",
    "    print(\"oct\")\n",
    "if month==11:\n",
    "    print(\"nov\")\n",
    "if month==12:\n",
    "    print(\"dec\")\n",
    "if month<1 or month>12:\n",
    "    print(\"Invalid\")"
   ]
  },
  {
   "cell_type": "code",
   "execution_count": 31,
   "id": "6c9f4b79",
   "metadata": {},
   "outputs": [
    {
     "name": "stdout",
     "output_type": "stream",
     "text": [
      "Enter month in integer: 5\n",
      "may\n"
     ]
    }
   ],
   "source": [
    "month=int(input(\"Enter month in integer: \"))\n",
    "if month==1:\n",
    "    print(\"jan\")\n",
    "elif month==2:\n",
    "    print(\"feb\")\n",
    "elif month==3:\n",
    "    print(\"mar\")\n",
    "elif month==4:\n",
    "    print(\"ap\")\n",
    "elif month==5:\n",
    "    print(\"may\")\n",
    "elif month==6:\n",
    "    print(\"jun\")\n",
    "elif month==7:\n",
    "    print(\"july\")\n",
    "elif month==8:\n",
    "    print(\"aug\")\n",
    "elif month==9:\n",
    "    print(\"sep\")\n",
    "elif month==10:\n",
    "    print(\"oct\")\n",
    "elif month==11:\n",
    "    print(\"nov\")\n",
    "elif month==12:\n",
    "    print(\"dec\")\n",
    "else:\n",
    "    print(\"Invalid\")"
   ]
  },
  {
   "cell_type": "code",
   "execution_count": 34,
   "id": "42c7ff94",
   "metadata": {},
   "outputs": [
    {
     "name": "stdout",
     "output_type": "stream",
     "text": [
      "Enter month in integer: 13\n",
      "Invalid month\n"
     ]
    }
   ],
   "source": [
    "list1=[1,2,3,4,5,6,7,8,9,10,11,12]\n",
    "list2=[\"jan\",\"feb\",\"mar\",\"ap\",\"may\",\"jun\",\"jul\",\"aug\",\"sep\",\"oct\",\"nov\",\"dec\"]\n",
    "month=int(input(\"Enter month in integer: \"))\n",
    "if month in list1:\n",
    "    for i in range(len(list1)):\n",
    "        if month-1==i:\n",
    "            print(list2[i])\n",
    "else:\n",
    "    print(\"Invalid month\")"
   ]
  },
  {
   "cell_type": "code",
   "execution_count": 37,
   "id": "859765f5",
   "metadata": {},
   "outputs": [
    {
     "name": "stdout",
     "output_type": "stream",
     "text": [
      "Enter month in integer: 12\n",
      "dec\n"
     ]
    }
   ],
   "source": [
    "\n",
    "while True:\n",
    "    list1=[1,2,3,4,5,6,7,8,9,10,11,12]\n",
    "    list2=[\"jan\",\"feb\",\"mar\",\"ap\",\"may\",\"jun\",\"jul\",\"aug\",\"sep\",\"oct\",\"nov\",\"dec\"]\n",
    "    month=int(input(\"Enter month in integer: \"))\n",
    "    if month in list1:\n",
    "        for i in range(len(list1)):\n",
    "            if month-1==i:\n",
    "                print(list2[i])\n",
    "        break\n",
    "    else:\n",
    "        print(\"Invalid month\")\n",
    "        \n",
    "    "
   ]
  }
 ],
 "metadata": {
  "kernelspec": {
   "display_name": "Python 3 (ipykernel)",
   "language": "python",
   "name": "python3"
  },
  "language_info": {
   "codemirror_mode": {
    "name": "ipython",
    "version": 3
   },
   "file_extension": ".py",
   "mimetype": "text/x-python",
   "name": "python",
   "nbconvert_exporter": "python",
   "pygments_lexer": "ipython3",
   "version": "3.9.7"
  }
 },
 "nbformat": 4,
 "nbformat_minor": 5
}
