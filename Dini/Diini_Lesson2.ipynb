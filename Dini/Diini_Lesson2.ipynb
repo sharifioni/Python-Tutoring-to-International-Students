{
 "cells": [
  {
   "cell_type": "code",
   "execution_count": 2,
   "id": "596e34bf",
   "metadata": {},
   "outputs": [
    {
     "name": "stdout",
     "output_type": "stream",
     "text": [
      "<class 'str'>\n",
      "<class 'int'>\n",
      "<class 'float'>\n",
      "<class 'bool'>\n",
      "Hello 6\n"
     ]
    }
   ],
   "source": [
    "#Data types\n",
    "#string\n",
    "#integer\n",
    "#float\n",
    "#boolean\n",
    "a='Hello i m 15 years old @gmail'   #string\n",
    "print(type(a))\n",
    "\n",
    "b=24  #integer\n",
    "print(type(b))\n",
    "\n",
    "c=5.5   #float\n",
    "print(type(c))\n",
    "\n",
    "d=False\n",
    "print(type(d))\n",
    "\n",
    "\n",
    "e=\"Hello \"\n",
    "f=\"world\" \n",
    "num=6\n",
    "\n",
    "print(e+str(num))\n"
   ]
  },
  {
   "cell_type": "code",
   "execution_count": 3,
   "id": "eb38e8d3",
   "metadata": {},
   "outputs": [
    {
     "name": "stdout",
     "output_type": "stream",
     "text": [
      "12\n",
      "8\n",
      "20\n",
      "5.0\n",
      "27\n",
      "3\n",
      "3\n"
     ]
    }
   ],
   "source": [
    "num1=10\n",
    "num2=2\n",
    "\n",
    "print(num1+num2)\n",
    "print(num1-num2)\n",
    "print(num1*num2)\n",
    "print(num1/num2)\n",
    "print(3**3) #power Exponentiation\n",
    "print(11//3)  #floor division  integer division operator\n",
    "print(11 % 4)   #modulus operator / renainder operator\n"
   ]
  },
  {
   "cell_type": "code",
   "execution_count": 34,
   "id": "5bd19438",
   "metadata": {},
   "outputs": [
    {
     "name": "stdout",
     "output_type": "stream",
     "text": [
      "5.75\n"
     ]
    }
   ],
   "source": [
    "#Operator Precedence\n",
    "#  BE DM AS\n",
    "\n",
    "# (3+4)*5/2**2-3     #7*5/2**2-3  7*5/4-3   35/4-3   8.75-3   5.75\n",
    "\n",
    "\n",
    "print((3+4)*5/2**2-3 )"
   ]
  },
  {
   "cell_type": "code",
   "execution_count": 6,
   "id": "3c355984",
   "metadata": {},
   "outputs": [
    {
     "name": "stdout",
     "output_type": "stream",
     "text": [
      "My age is 15\\nI was born in 2006\n"
     ]
    }
   ],
   "source": [
    "#print statement and Escape Sequences   \\t  \\n  \\\\\n",
    "a=15\n",
    "born=2006\n",
    "print(\"My age is 15\\\\nI was born in 2006\")"
   ]
  },
  {
   "cell_type": "code",
   "execution_count": 43,
   "id": "29b17dc5",
   "metadata": {},
   "outputs": [
    {
     "name": "stdout",
     "output_type": "stream",
     "text": [
      "number\tsquare\tcubes\n",
      "2 \t 4 \t 8\n"
     ]
    }
   ],
   "source": [
    "print(\"number\\tsquare\\tcubes\")\n",
    "print(2,\"\\t\",2**2,\"\\t\",2**3)"
   ]
  }
 ],
 "metadata": {
  "kernelspec": {
   "display_name": "Python 3 (ipykernel)",
   "language": "python",
   "name": "python3"
  },
  "language_info": {
   "codemirror_mode": {
    "name": "ipython",
    "version": 3
   },
   "file_extension": ".py",
   "mimetype": "text/x-python",
   "name": "python",
   "nbconvert_exporter": "python",
   "pygments_lexer": "ipython3",
   "version": "3.9.7"
  }
 },
 "nbformat": 4,
 "nbformat_minor": 5
}
