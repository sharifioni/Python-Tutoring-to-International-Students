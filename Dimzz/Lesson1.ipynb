{
 "cells": [
  {
   "cell_type": "code",
   "execution_count": 2,
   "id": "dfd900e9",
   "metadata": {},
   "outputs": [
    {
     "name": "stdout",
     "output_type": "stream",
     "text": [
      "Monday Tuesday\n"
     ]
    }
   ],
   "source": [
    "#Strings Are written in double quotes, They are immutable\n",
    "str1='Monday Tuesday'\n",
    "print(str1)"
   ]
  },
  {
   "cell_type": "code",
   "execution_count": 3,
   "id": "6cb10f09",
   "metadata": {},
   "outputs": [
    {
     "name": "stdout",
     "output_type": "stream",
     "text": [
      "y\n"
     ]
    }
   ],
   "source": [
    "#Indexing\n",
    "#Slicing\n",
    "#Negative Slicing\n",
    "\n",
    "print(str1[13])"
   ]
  },
  {
   "cell_type": "code",
   "execution_count": 22,
   "id": "e48e47e2",
   "metadata": {},
   "outputs": [
    {
     "name": "stdout",
     "output_type": "stream",
     "text": [
      "Md ea\n"
     ]
    }
   ],
   "source": [
    "#Slicing   (Start value, Stop value, step value)\n",
    "print(str1[: :3])"
   ]
  },
  {
   "cell_type": "code",
   "execution_count": 23,
   "id": "90b60619",
   "metadata": {},
   "outputs": [
    {
     "name": "stdout",
     "output_type": "stream",
     "text": [
      "14\n"
     ]
    }
   ],
   "source": [
    "#Length function\n",
    "print(len(str1))"
   ]
  },
  {
   "cell_type": "code",
   "execution_count": 4,
   "id": "25e099e8",
   "metadata": {},
   "outputs": [
    {
     "name": "stdout",
     "output_type": "stream",
     "text": [
      "M\n",
      "o\n",
      "n\n",
      "d\n",
      "a\n",
      "y\n",
      " \n",
      "T\n",
      "u\n",
      "e\n",
      "s\n",
      "d\n",
      "a\n",
      "y\n"
     ]
    }
   ],
   "source": [
    "#Using for loop with strings    for loop is used with iterables and sequences. \n",
    "count=0\n",
    "for letter in str1:        #'Monday Tuesday'   char=M\n",
    "    print(letter)\n",
    "#M\n",
    "#o\n",
    "#n\n",
    "#....\n",
    "#y"
   ]
  },
  {
   "cell_type": "code",
   "execution_count": 28,
   "id": "a096c28c",
   "metadata": {},
   "outputs": [
    {
     "name": "stdout",
     "output_type": "stream",
     "text": [
      "M\n",
      "o\n",
      "n\n",
      "d\n",
      "a\n",
      "y\n",
      " \n",
      "T\n",
      "u\n",
      "e\n",
      "s\n",
      "d\n",
      "a\n",
      "y\n"
     ]
    }
   ],
   "source": [
    "for letter in str1:\n",
    "    print(letter)"
   ]
  },
  {
   "cell_type": "code",
   "execution_count": 30,
   "id": "17f598aa",
   "metadata": {},
   "outputs": [
    {
     "name": "stdout",
     "output_type": "stream",
     "text": [
      "J\n",
      "----------\n",
      "u\n",
      "----------\n",
      "l\n",
      "----------\n",
      "i\n",
      "----------\n",
      "e\n",
      "----------\n",
      "t\n",
      "----------\n"
     ]
    }
   ],
   "source": [
    "name=\"Juliet\"\n",
    "for ch in name:\n",
    "    print(ch)\n",
    "    print(\"----------\")"
   ]
  },
  {
   "cell_type": "code",
   "execution_count": 34,
   "id": "ea7770fb",
   "metadata": {},
   "outputs": [
    {
     "name": "stdout",
     "output_type": "stream",
     "text": [
      "Ali\n",
      "Muhammad\n",
      "Ali Muhammad\n"
     ]
    }
   ],
   "source": [
    "#Concatenation\n",
    "first_name=\"Ali\"\n",
    "last_name=\"Muhammad\"\n",
    "print(first_name)\n",
    "print(last_name)\n",
    "#Concatenation   + operator used between two or more strings\n",
    "print(first_name+\" \"+last_name)"
   ]
  },
  {
   "cell_type": "code",
   "execution_count": 35,
   "id": "f84d9494",
   "metadata": {},
   "outputs": [
    {
     "name": "stdout",
     "output_type": "stream",
     "text": [
      "Ali Muhammad\n"
     ]
    }
   ],
   "source": [
    "name=first_name+\" \"+last_name\n",
    "print(name)"
   ]
  },
  {
   "cell_type": "code",
   "execution_count": 5,
   "id": "23ba7cd2",
   "metadata": {},
   "outputs": [
    {
     "name": "stdout",
     "output_type": "stream",
     "text": [
      "Monday Tuesday\n"
     ]
    }
   ],
   "source": [
    "#Augmented Assignment\n",
    "day=\"Monday\"\n",
    "day+=\" Tuesday\"       #day=day+\" Tuesday\"\n",
    "print(day)"
   ]
  },
  {
   "cell_type": "code",
   "execution_count": 39,
   "id": "9de2ffba",
   "metadata": {},
   "outputs": [
    {
     "ename": "TypeError",
     "evalue": "'str' object does not support item assignment",
     "output_type": "error",
     "traceback": [
      "\u001b[1;31m---------------------------------------------------------------------------\u001b[0m",
      "\u001b[1;31mTypeError\u001b[0m                                 Traceback (most recent call last)",
      "\u001b[1;32m<ipython-input-39-4a5869040111>\u001b[0m in \u001b[0;36m<module>\u001b[1;34m\u001b[0m\n\u001b[0;32m      1\u001b[0m \u001b[1;31m#Strings are immutable\u001b[0m\u001b[1;33m\u001b[0m\u001b[1;33m\u001b[0m\u001b[1;33m\u001b[0m\u001b[0m\n\u001b[0;32m      2\u001b[0m \u001b[0mday\u001b[0m\u001b[1;33m=\u001b[0m\u001b[1;34m\"Monday\"\u001b[0m\u001b[1;33m\u001b[0m\u001b[1;33m\u001b[0m\u001b[0m\n\u001b[1;32m----> 3\u001b[1;33m \u001b[0mday\u001b[0m\u001b[1;33m[\u001b[0m\u001b[1;36m0\u001b[0m\u001b[1;33m]\u001b[0m\u001b[1;33m=\u001b[0m\u001b[1;34m\"S\"\u001b[0m\u001b[1;33m\u001b[0m\u001b[1;33m\u001b[0m\u001b[0m\n\u001b[0m\u001b[0;32m      4\u001b[0m \u001b[0mprint\u001b[0m\u001b[1;33m(\u001b[0m\u001b[0mday\u001b[0m\u001b[1;33m)\u001b[0m\u001b[1;33m\u001b[0m\u001b[1;33m\u001b[0m\u001b[0m\n",
      "\u001b[1;31mTypeError\u001b[0m: 'str' object does not support item assignment"
     ]
    }
   ],
   "source": [
    "#Strings are immutable\n",
    "day=\"Monday\"\n",
    "day[0]=\"S\"\n",
    "print(day)"
   ]
  },
  {
   "cell_type": "code",
   "execution_count": 41,
   "id": "59c2a4ee",
   "metadata": {},
   "outputs": [
    {
     "ename": "TypeError",
     "evalue": "'tuple' object does not support item assignment",
     "output_type": "error",
     "traceback": [
      "\u001b[1;31m---------------------------------------------------------------------------\u001b[0m",
      "\u001b[1;31mTypeError\u001b[0m                                 Traceback (most recent call last)",
      "\u001b[1;32m<ipython-input-41-714d07f02c96>\u001b[0m in \u001b[0;36m<module>\u001b[1;34m\u001b[0m\n\u001b[0;32m      1\u001b[0m \u001b[0mvalue\u001b[0m\u001b[1;33m=\u001b[0m\u001b[1;33m(\u001b[0m\u001b[1;36m23\u001b[0m\u001b[1;33m,\u001b[0m\u001b[1;36m24\u001b[0m\u001b[1;33m,\u001b[0m\u001b[1;36m25\u001b[0m\u001b[1;33m,\u001b[0m\u001b[1;36m26\u001b[0m\u001b[1;33m)\u001b[0m\u001b[1;33m\u001b[0m\u001b[1;33m\u001b[0m\u001b[0m\n\u001b[1;32m----> 2\u001b[1;33m \u001b[0mvalue\u001b[0m\u001b[1;33m[\u001b[0m\u001b[1;36m0\u001b[0m\u001b[1;33m]\u001b[0m\u001b[1;33m=\u001b[0m\u001b[1;36m50\u001b[0m\u001b[1;33m\u001b[0m\u001b[1;33m\u001b[0m\u001b[0m\n\u001b[0m\u001b[0;32m      3\u001b[0m \u001b[0mprint\u001b[0m\u001b[1;33m(\u001b[0m\u001b[0mvalue\u001b[0m\u001b[1;33m)\u001b[0m\u001b[1;33m\u001b[0m\u001b[1;33m\u001b[0m\u001b[0m\n",
      "\u001b[1;31mTypeError\u001b[0m: 'tuple' object does not support item assignment"
     ]
    }
   ],
   "source": [
    "value=(23,24,25,26)\n",
    "value[0]=50\n",
    "print(value)"
   ]
  },
  {
   "cell_type": "code",
   "execution_count": 43,
   "id": "4c0c7455",
   "metadata": {},
   "outputs": [
    {
     "name": "stdout",
     "output_type": "stream",
     "text": [
      "2013979532336\n",
      "2013979586096\n"
     ]
    }
   ],
   "source": [
    "nam=\"Carmen\"\n",
    "print(id(nam))\n",
    "nam=nam+' brown'\n",
    "print(id(nam))"
   ]
  },
  {
   "cell_type": "code",
   "execution_count": 7,
   "id": "bc32aae2",
   "metadata": {},
   "outputs": [
    {
     "name": "stdout",
     "output_type": "stream",
     "text": [
      "False\n"
     ]
    }
   ],
   "source": [
    "#Searching\n",
    "food=\"pizza\"\n",
    "print(\"zzb\" in food)  #False"
   ]
  },
  {
   "cell_type": "code",
   "execution_count": 9,
   "id": "afb0fe65",
   "metadata": {},
   "outputs": [
    {
     "name": "stdout",
     "output_type": "stream",
     "text": [
      "True\n"
     ]
    }
   ],
   "source": [
    "food=\"chips\"\n",
    "print(\"a\" not in food)  #False"
   ]
  },
  {
   "cell_type": "code",
   "execution_count": 51,
   "id": "c60a45a7",
   "metadata": {},
   "outputs": [
    {
     "name": "stdout",
     "output_type": "stream",
     "text": [
      "True\n"
     ]
    }
   ],
   "source": [
    "s2=\"Class No 1 & 2\"\n",
    "f='s N' in s2 #True\n",
    "print(f)"
   ]
  },
  {
   "cell_type": "code",
   "execution_count": 12,
   "id": "1dc23d89",
   "metadata": {},
   "outputs": [
    {
     "name": "stdout",
     "output_type": "stream",
     "text": [
      "True\n"
     ]
    }
   ],
   "source": [
    "#String methods\n",
    "#isalnum()\n",
    "sports=\"abc878\"\n",
    "print(sports.isalnum())"
   ]
  },
  {
   "cell_type": "code",
   "execution_count": 14,
   "id": "80b027fe",
   "metadata": {},
   "outputs": [
    {
     "name": "stdout",
     "output_type": "stream",
     "text": [
      "True\n"
     ]
    }
   ],
   "source": [
    "#isalpha()\n",
    "sports=\"abcvdf\"\n",
    "print(sports.isalpha())"
   ]
  },
  {
   "cell_type": "code",
   "execution_count": 15,
   "id": "41fe97b4",
   "metadata": {},
   "outputs": [
    {
     "name": "stdout",
     "output_type": "stream",
     "text": [
      "False\n"
     ]
    }
   ],
   "source": [
    "#isdigit()\n",
    "sports=\"987hy\"\n",
    "print(sports.isdigit())"
   ]
  },
  {
   "cell_type": "code",
   "execution_count": 17,
   "id": "365e274e",
   "metadata": {},
   "outputs": [
    {
     "name": "stdout",
     "output_type": "stream",
     "text": [
      "True\n"
     ]
    }
   ],
   "source": [
    "#islower()\n",
    "sports=\"pbcvdf\"\n",
    "print(sports.islower())"
   ]
  },
  {
   "cell_type": "code",
   "execution_count": 19,
   "id": "05aab909",
   "metadata": {},
   "outputs": [
    {
     "name": "stdout",
     "output_type": "stream",
     "text": [
      "False\n"
     ]
    }
   ],
   "source": [
    "#isspace()\n",
    "sports=\"\\n   \"\n",
    "print(sports.isspace())"
   ]
  },
  {
   "cell_type": "code",
   "execution_count": 24,
   "id": "02c11f70",
   "metadata": {},
   "outputs": [
    {
     "name": "stdout",
     "output_type": "stream",
     "text": [
      "True\n"
     ]
    }
   ],
   "source": [
    "#isupper()\n",
    "sports=\"AS\"\n",
    "print(sports.isupper())"
   ]
  },
  {
   "cell_type": "code",
   "execution_count": 22,
   "id": "fbff2482",
   "metadata": {},
   "outputs": [
    {
     "name": "stdout",
     "output_type": "stream",
     "text": [
      "Ali \tMuhammad\n"
     ]
    }
   ],
   "source": [
    "print(\"Ali Muhammad   \")"
   ]
  },
  {
   "cell_type": "code",
   "execution_count": null,
   "id": "b3e57c32",
   "metadata": {},
   "outputs": [],
   "source": [
    "#lower()            Converts a string into lower case letter\n",
    "#upper              Converts a string into capital letters\n",
    "#rstrip()\n",
    "#rstrip(char)\n",
    "#lstrip()\n",
    "#lstrip(char)\n",
    "#strip()\n",
    "#strip(char)\n",
    "#endswith()\n",
    "#startswith()\n",
    "#find()\n",
    "#replace()\n",
    "#split()\n",
    "\n",
    "#Not in PPT\n",
    "#index()\n",
    "#count()\n",
    "#capitalize()  Converts the first letter of the string into capital"
   ]
  },
  {
   "cell_type": "code",
   "execution_count": 25,
   "id": "9441e608",
   "metadata": {},
   "outputs": [
    {
     "name": "stdout",
     "output_type": "stream",
     "text": [
      "python is very easy\n"
     ]
    }
   ],
   "source": [
    "#lower()            Converts a string into lower case letter\n",
    "sentence=\"Python IS very easy\"\n",
    "print(sentence.lower())"
   ]
  },
  {
   "cell_type": "code",
   "execution_count": 26,
   "id": "d0e91bdc",
   "metadata": {},
   "outputs": [
    {
     "name": "stdout",
     "output_type": "stream",
     "text": [
      "PYTHON IS VERY EASY\n"
     ]
    }
   ],
   "source": [
    "#upper              Converts a string into capital letters\n",
    "sentence=\"Python IS very easy\"\n",
    "print(sentence.upper())"
   ]
  },
  {
   "cell_type": "code",
   "execution_count": 28,
   "id": "e23eaf1b",
   "metadata": {},
   "outputs": [
    {
     "name": "stdout",
     "output_type": "stream",
     "text": [
      "    Python IS very easy\n"
     ]
    }
   ],
   "source": [
    "#rstrip() removes spaces on the right side of the string\n",
    "sentence=\"    Python IS very easy                \"\n",
    "print(sentence.rstrip())"
   ]
  },
  {
   "cell_type": "code",
   "execution_count": 31,
   "id": "17303b22",
   "metadata": {},
   "outputs": [
    {
     "name": "stdout",
     "output_type": "stream",
     "text": [
      "    Python IS very easy\n"
     ]
    }
   ],
   "source": [
    "#rstrip(char) removes  specific character on the right side of the string \n",
    "sentence=\"    Python IS very easyaaaaaa\"\n",
    "print(sentence.rstrip(\"a\"))"
   ]
  },
  {
   "cell_type": "code",
   "execution_count": 32,
   "id": "d48a2635",
   "metadata": {},
   "outputs": [
    {
     "name": "stdout",
     "output_type": "stream",
     "text": [
      "Python IS very easyaaaaaa\n"
     ]
    }
   ],
   "source": [
    "#lstrip() removes spaces on the left side of the string\n",
    "sentence=\"    Python IS very easyaaaaaa\"\n",
    "print(sentence.lstrip())"
   ]
  },
  {
   "cell_type": "code",
   "execution_count": 41,
   "id": "60fcdcb7",
   "metadata": {},
   "outputs": [
    {
     "name": "stdout",
     "output_type": "stream",
     "text": [
      " IS very easyaaaaaa\n"
     ]
    }
   ],
   "source": [
    "#lstrip(char) removes  specific character on the left side of the string \n",
    "sentence=\"Python IS very easyaaaaaa\"\n",
    "print(sentence.lstrip(\"Python\"))"
   ]
  },
  {
   "cell_type": "code",
   "execution_count": 36,
   "id": "54da8ab0",
   "metadata": {},
   "outputs": [
    {
     "name": "stdout",
     "output_type": "stream",
     "text": [
      "Python IS very easyaaaaaa\n"
     ]
    }
   ],
   "source": [
    "#strip() removes spaces at the start and end of the string\n",
    "sentence=\"    Python IS very easyaaaaaa       \"\n",
    "print(sentence.strip())"
   ]
  },
  {
   "cell_type": "code",
   "execution_count": 40,
   "id": "def85d7f",
   "metadata": {},
   "outputs": [
    {
     "name": "stdout",
     "output_type": "stream",
     "text": [
      "Python IS very easy\n"
     ]
    }
   ],
   "source": [
    "#strip(char) removes a specific charater at the start and end of the string \n",
    "sentence=\"massPython IS very easyaaaaamass\"\n",
    "print(sentence.strip(\"mass\"))"
   ]
  },
  {
   "cell_type": "code",
   "execution_count": 44,
   "id": "89eda1d4",
   "metadata": {},
   "outputs": [
    {
     "name": "stdout",
     "output_type": "stream",
     "text": [
      "False\n"
     ]
    }
   ],
   "source": [
    "#endswith(string)     return True if a string ends with a specific character or a word\n",
    "sentence=\"massPython IS very easyaaaaamass\"\n",
    "print(sentence.endswith(\"sim\"))"
   ]
  },
  {
   "cell_type": "code",
   "execution_count": 52,
   "id": "fbbd3597",
   "metadata": {},
   "outputs": [
    {
     "name": "stdout",
     "output_type": "stream",
     "text": [
      "True\n"
     ]
    }
   ],
   "source": [
    "#startswith(string)     return True if a string starts with a specific character or a word\n",
    "sentence=\" massPython IS very easyaaaaamass\"\n",
    "print(sentence.startswith(\" \"))"
   ]
  },
  {
   "cell_type": "code",
   "execution_count": 61,
   "id": "0eb57906",
   "metadata": {},
   "outputs": [
    {
     "name": "stdout",
     "output_type": "stream",
     "text": [
      "-1\n"
     ]
    }
   ],
   "source": [
    "#find(string) finds a specific string at a particular index and returns that index\n",
    "sentence=\"massPython IS very easyaaaaamass very\"\n",
    "print(sentence.find(\"z\"))\n"
   ]
  },
  {
   "cell_type": "code",
   "execution_count": 62,
   "id": "d96c8b03",
   "metadata": {},
   "outputs": [
    {
     "name": "stdout",
     "output_type": "stream",
     "text": [
      "-1\n"
     ]
    }
   ],
   "source": [
    "#index(string) finds a specific string at a particular index and returns that index\n",
    "sentence=\"massPython IS very easyaaaaamass very\"\n",
    "print(sentence.find(\"zoom\"))"
   ]
  },
  {
   "cell_type": "code",
   "execution_count": 66,
   "id": "881ccf04",
   "metadata": {},
   "outputs": [
    {
     "name": "stdout",
     "output_type": "stream",
     "text": [
      "Python is so easy\n"
     ]
    }
   ],
   "source": [
    "#replace(string1,string2)     It replaces string1 with string2 in a particular string\n",
    "sentence=\"Python is very easy\"\n",
    "print(sentence.replace(\"very\",\"so\"))"
   ]
  },
  {
   "cell_type": "code",
   "execution_count": 70,
   "id": "7efd5455",
   "metadata": {},
   "outputs": [
    {
     "name": "stdout",
     "output_type": "stream",
     "text": [
      "['Python', 'is', 'very', 'easy']\n"
     ]
    }
   ],
   "source": [
    "#split()\n",
    "#split(string)    splits a string into a list \n",
    "sentence=\"Python -is -very -easy\"\n",
    "print(sentence.split(\" -\"))"
   ]
  },
  {
   "cell_type": "code",
   "execution_count": 71,
   "id": "af85e73e",
   "metadata": {},
   "outputs": [
    {
     "name": "stdout",
     "output_type": "stream",
     "text": [
      "['', '', ' ', '2 ', '3']\n"
     ]
    }
   ],
   "source": [
    "s1='11 12 13'\n",
    "print(s1.split(\"1\"))\n"
   ]
  },
  {
   "cell_type": "code",
   "execution_count": 73,
   "id": "e8f38bf9",
   "metadata": {},
   "outputs": [
    {
     "name": "stdout",
     "output_type": "stream",
     "text": [
      "11 12 13 11 12 13 11 12 13 11 12 13 11 12 13 \n"
     ]
    }
   ],
   "source": [
    "#  (+ between two strings for concatenation/joining)\n",
    "#Repition operator (* between string and a number)\n",
    "s1='11 12 13 '\n",
    "print(s1*5)"
   ]
  }
 ],
 "metadata": {
  "kernelspec": {
   "display_name": "Python 3",
   "language": "python",
   "name": "python3"
  },
  "language_info": {
   "codemirror_mode": {
    "name": "ipython",
    "version": 3
   },
   "file_extension": ".py",
   "mimetype": "text/x-python",
   "name": "python",
   "nbconvert_exporter": "python",
   "pygments_lexer": "ipython3",
   "version": "3.8.8"
  }
 },
 "nbformat": 4,
 "nbformat_minor": 5
}
