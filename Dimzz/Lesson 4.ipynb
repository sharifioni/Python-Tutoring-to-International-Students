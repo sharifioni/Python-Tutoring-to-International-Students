{
 "cells": [
  {
   "cell_type": "code",
   "execution_count": null,
   "id": "ffa19134",
   "metadata": {},
   "outputs": [],
   "source": [
    "#Data Types\n",
    "#strings   str  any character written in double quotes or single quotes     \"aaaa77@\"\n",
    "#integers  int     4, 5,-8,0\n",
    "#float     float       7.5,0.06, -20.87\n",
    "#boolean   bool           True, False"
   ]
  },
  {
   "cell_type": "code",
   "execution_count": 11,
   "id": "cf234973",
   "metadata": {},
   "outputs": [
    {
     "name": "stdout",
     "output_type": "stream",
     "text": [
      "Hello\n",
      "4\n",
      "4.56\n",
      "False\n"
     ]
    }
   ],
   "source": [
    "#Argument are the values passed to a function\n",
    "#Syntax are the rules that you follow to write a code\n",
    "print('Hello')\n",
    "print(4)\n",
    "print(4.56)\n",
    "print(False)"
   ]
  },
  {
   "cell_type": "code",
   "execution_count": 27,
   "id": "f22002e1",
   "metadata": {},
   "outputs": [
    {
     "name": "stdout",
     "output_type": "stream",
     "text": [
      "<class 'bool'>\n"
     ]
    }
   ],
   "source": [
    "#type() function\n",
    "print(type(True))"
   ]
  },
  {
   "cell_type": "code",
   "execution_count": 10,
   "id": "a305c0e7",
   "metadata": {},
   "outputs": [
    {
     "name": "stdout",
     "output_type": "stream",
     "text": [
      "Hello 4 4.56 False\n",
      "Hello ----------------------------------------------------------------      World\n",
      "Hello \n",
      "      World\n"
     ]
    }
   ],
   "source": [
    "print(\"Hello\", 4,4.56,False)\n",
    "\n",
    "print(\"Hello ----------------------------------------------------------------\\\n",
    "      World\")\n",
    "print(\"\"\"Hello \n",
    "      World\"\"\")"
   ]
  },
  {
   "cell_type": "code",
   "execution_count": null,
   "id": "78e611c0",
   "metadata": {},
   "outputs": [],
   "source": [
    "#variables are used to store values\n",
    "#Rules to give variable names\n",
    "#Variable name should only consist of letters, numbers and underscores  _\n",
    "#The first character of variable name cannot be a number\n",
    "#It should not be a python keyword"
   ]
  },
  {
   "cell_type": "code",
   "execution_count": 13,
   "id": "1868ce95",
   "metadata": {},
   "outputs": [
    {
     "ename": "SyntaxError",
     "evalue": "invalid decimal literal (<ipython-input-13-30695d9ad4ee>, line 1)",
     "output_type": "error",
     "traceback": [
      "\u001b[1;36m  File \u001b[1;32m\"<ipython-input-13-30695d9ad4ee>\"\u001b[1;36m, line \u001b[1;32m1\u001b[0m\n\u001b[1;33m    5_number_1=7\u001b[0m\n\u001b[1;37m     ^\u001b[0m\n\u001b[1;31mSyntaxError\u001b[0m\u001b[1;31m:\u001b[0m invalid decimal literal\n"
     ]
    }
   ],
   "source": [
    "number1=7\n",
    "print(5_number_1)"
   ]
  },
  {
   "cell_type": "code",
   "execution_count": null,
   "id": "26045300",
   "metadata": {},
   "outputs": [],
   "source": [
    "# +      addition\n",
    "# -      subtraction\n",
    "# *      multiplication\n",
    "# /      division\n",
    "# **     Exponentiation\n",
    "# //     Floor Division / Integer Division\n",
    "# %      Remainder / Modulus"
   ]
  },
  {
   "cell_type": "code",
   "execution_count": 16,
   "id": "d11064c4",
   "metadata": {},
   "outputs": [
    {
     "name": "stdout",
     "output_type": "stream",
     "text": [
      "13\n",
      "7\n",
      "30\n",
      "3.3333333333333335\n",
      "1000\n",
      "3\n",
      "0\n"
     ]
    }
   ],
   "source": [
    "print(10+3)  #13\n",
    "print(10-3)  #7\n",
    "print(10*3)  #30\n",
    "print(10/3)  #3.333\n",
    "print(10**3) #  1000\n",
    "print(10//3) #3\n",
    "print(12%3)  #1"
   ]
  },
  {
   "cell_type": "code",
   "execution_count": 17,
   "id": "27162281",
   "metadata": {},
   "outputs": [
    {
     "name": "stdout",
     "output_type": "stream",
     "text": [
      "5\n"
     ]
    }
   ],
   "source": [
    "print(3+2)"
   ]
  },
  {
   "cell_type": "code",
   "execution_count": 20,
   "id": "9fae6659",
   "metadata": {},
   "outputs": [
    {
     "name": "stdout",
     "output_type": "stream",
     "text": [
      "32\n"
     ]
    }
   ],
   "source": [
    "print(\"3\" +  '2')"
   ]
  },
  {
   "cell_type": "code",
   "execution_count": 21,
   "id": "c1121ea7",
   "metadata": {},
   "outputs": [
    {
     "name": "stdout",
     "output_type": "stream",
     "text": [
      "Hello world\n"
     ]
    }
   ],
   "source": [
    "print('Hello' + ' world')  # String Concatenation (Using + operator between two strings to combine them)"
   ]
  },
  {
   "cell_type": "code",
   "execution_count": null,
   "id": "9af923c8",
   "metadata": {},
   "outputs": [],
   "source": [
    "#Data Type Conversion\n",
    "#Operator Precedence\n",
    "#Input function"
   ]
  },
  {
   "cell_type": "code",
   "execution_count": 23,
   "id": "e800896d",
   "metadata": {},
   "outputs": [
    {
     "name": "stdout",
     "output_type": "stream",
     "text": [
      "195.0\n"
     ]
    }
   ],
   "source": [
    "#Operator Precedence\n",
    "\n",
    "#(2+2)*2-2\n",
    "# B E  DM  AS\n",
    "expr=13*4**2+8/4-(10+5)         #13*4**2+8/4-15    13*16+8/4-15  208+8/4-15    208+2.0-15       210.0-15    195.0\n",
    "print(expr)"
   ]
  },
  {
   "cell_type": "code",
   "execution_count": 22,
   "id": "9e0b077b",
   "metadata": {},
   "outputs": [
    {
     "name": "stdout",
     "output_type": "stream",
     "text": [
      "6\n"
     ]
    }
   ],
   "source": [
    "print(2+2*2)"
   ]
  },
  {
   "cell_type": "code",
   "execution_count": null,
   "id": "50be192e",
   "metadata": {},
   "outputs": [],
   "source": [
    "#Type Conversion\n",
    "#Coonversion of one data type to another data type"
   ]
  },
  {
   "cell_type": "code",
   "execution_count": 37,
   "id": "d7cd7a6c",
   "metadata": {},
   "outputs": [
    {
     "name": "stdout",
     "output_type": "stream",
     "text": [
      "<class 'str'>\n",
      "38\n",
      "The type of value2 is  <class 'int'>\n",
      "The value of value2 is 780\n",
      "The type of value3 is  <class 'float'>\n",
      "The value of value3 is 780.0\n"
     ]
    }
   ],
   "source": [
    "num1=38        #int type\n",
    "num2=58.75     #float type\n",
    "str1=\"780\"     #string type\n",
    "\n",
    "#Conversion from int to a str using str()\n",
    "value1=str(num1)\n",
    "print(type(value1))\n",
    "print(value1)\n",
    "\n",
    "\n",
    "#Conversion from str to a int using int()\n",
    "value2=int(str1)\n",
    "print(\"The type of value2 is \", type(value2))\n",
    "print(\"The value of value2 is\", value2)\n",
    "\n",
    "\n",
    "\n",
    "#Conversion from str to a float using float()\n",
    "value3=float(str1)\n",
    "print(\"The type of value3 is \", type(value3))\n",
    "print(\"The value of value3 is\", value3)\n",
    "\n",
    "\n",
    "#convert float to int\n",
    "#float to a string\n",
    "#convert int to a float"
   ]
  },
  {
   "cell_type": "code",
   "execution_count": 40,
   "id": "2bab05df",
   "metadata": {},
   "outputs": [
    {
     "name": "stdout",
     "output_type": "stream",
     "text": [
      "Enter your name: shah\n",
      "Your name is:  shah\n",
      "The type of name is <class 'str'>\n"
     ]
    }
   ],
   "source": [
    "#Input function\n",
    "#input()  it is used for getting a value from the user\n",
    "#input(\"Enter your name: \")\n",
    "#input function always gives you a string value\n",
    "name=input(\"Enter your name: \")\n",
    "print(\"Your name is: \",name)\n",
    "print(\"The type of name is\", type(name))"
   ]
  },
  {
   "cell_type": "code",
   "execution_count": 43,
   "id": "65198c7d",
   "metadata": {},
   "outputs": [
    {
     "name": "stdout",
     "output_type": "stream",
     "text": [
      "Enter first number: 5.5\n",
      "Enter second number: 10.5\n",
      "16.0\n"
     ]
    }
   ],
   "source": [
    "num1=float(input(\"Enter first number: \"))  #5\n",
    "num2=float(input(\"Enter second number: \") )#10\n",
    "print(num1+num2)"
   ]
  }
 ],
 "metadata": {
  "kernelspec": {
   "display_name": "Python 3",
   "language": "python",
   "name": "python3"
  },
  "language_info": {
   "codemirror_mode": {
    "name": "ipython",
    "version": 3
   },
   "file_extension": ".py",
   "mimetype": "text/x-python",
   "name": "python",
   "nbconvert_exporter": "python",
   "pygments_lexer": "ipython3",
   "version": "3.8.8"
  }
 },
 "nbformat": 4,
 "nbformat_minor": 5
}
