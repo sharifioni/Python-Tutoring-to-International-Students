{
 "cells": [
  {
   "cell_type": "code",
   "execution_count": 5,
   "id": "beaf6461",
   "metadata": {},
   "outputs": [
    {
     "name": "stdout",
     "output_type": "stream",
     "text": [
      "{'apple': 'red', 'banana': 'yellow', 'peach': 'green'}\n"
     ]
    }
   ],
   "source": [
    "#Creating a dictionary\n",
    "fruits={'apple':'red','banana':'yellow','peach':'green'}\n",
    "print(fruits)"
   ]
  },
  {
   "cell_type": "code",
   "execution_count": 9,
   "id": "dd62e880",
   "metadata": {},
   "outputs": [
    {
     "name": "stdout",
     "output_type": "stream",
     "text": [
      "green\n"
     ]
    },
    {
     "ename": "KeyError",
     "evalue": "'mango'",
     "output_type": "error",
     "traceback": [
      "\u001b[1;31m---------------------------------------------------------------------------\u001b[0m",
      "\u001b[1;31mKeyError\u001b[0m                                  Traceback (most recent call last)",
      "\u001b[1;32m<ipython-input-9-602d118720a8>\u001b[0m in \u001b[0;36m<module>\u001b[1;34m\u001b[0m\n\u001b[0;32m      2\u001b[0m \u001b[0mprint\u001b[0m\u001b[1;33m(\u001b[0m\u001b[0mfruits\u001b[0m\u001b[1;33m[\u001b[0m\u001b[1;34m'peach'\u001b[0m\u001b[1;33m]\u001b[0m\u001b[1;33m)\u001b[0m\u001b[1;33m\u001b[0m\u001b[1;33m\u001b[0m\u001b[0m\n\u001b[0;32m      3\u001b[0m \u001b[1;31m#Key error\u001b[0m\u001b[1;33m\u001b[0m\u001b[1;33m\u001b[0m\u001b[1;33m\u001b[0m\u001b[0m\n\u001b[1;32m----> 4\u001b[1;33m \u001b[0mprint\u001b[0m\u001b[1;33m(\u001b[0m\u001b[0mfruits\u001b[0m\u001b[1;33m[\u001b[0m\u001b[1;34m'mango'\u001b[0m\u001b[1;33m]\u001b[0m\u001b[1;33m)\u001b[0m\u001b[1;33m\u001b[0m\u001b[1;33m\u001b[0m\u001b[0m\n\u001b[0m",
      "\u001b[1;31mKeyError\u001b[0m: 'mango'"
     ]
    }
   ],
   "source": [
    "#Accessing a value from a dictionary\n",
    "print(fruits['peach'])\n",
    "#Key error\n",
    "print(fruits['mango'])"
   ]
  },
  {
   "cell_type": "code",
   "execution_count": 23,
   "id": "1e287cca",
   "metadata": {},
   "outputs": [
    {
     "name": "stdout",
     "output_type": "stream",
     "text": [
      "{1: 'red', 2: 'yellow', 3: 'green', 4: 'blue'}\n",
      "{1: 'red', 2: 'red', 3: 'green', 4: 'blue'}\n"
     ]
    }
   ],
   "source": [
    "#Adding items in a dictionary (Mutable, you can change items of dictionary)\n",
    "fruits={1:'red',2:'yellow',3:'green'}\n",
    "fruits[4]='blue'\n",
    "print(fruits)\n",
    "\n",
    "#if key already exits, then it will overwrite the existing value\n",
    "fruits[2]='red'\n",
    "print(fruits)"
   ]
  },
  {
   "cell_type": "code",
   "execution_count": 28,
   "id": "5082cde8",
   "metadata": {},
   "outputs": [
    {
     "name": "stdout",
     "output_type": "stream",
     "text": [
      "3 qw\n",
      "Thirty Ten\n",
      "{10: 100, 20: 'twenty', 30: 'Thirty', 11: 'eleven'} 100 eleven\n"
     ]
    },
    {
     "ename": "KeyError",
     "evalue": "100",
     "output_type": "error",
     "traceback": [
      "\u001b[1;31m---------------------------------------------------------------------------\u001b[0m",
      "\u001b[1;31mKeyError\u001b[0m                                  Traceback (most recent call last)",
      "\u001b[1;32m<ipython-input-28-7eebaa266700>\u001b[0m in \u001b[0;36m<module>\u001b[1;34m\u001b[0m\n\u001b[0;32m      9\u001b[0m \u001b[0mprint\u001b[0m\u001b[1;33m(\u001b[0m\u001b[0md2\u001b[0m   \u001b[1;33m,\u001b[0m \u001b[0md2\u001b[0m\u001b[1;33m[\u001b[0m\u001b[1;36m10\u001b[0m\u001b[1;33m]\u001b[0m \u001b[1;33m,\u001b[0m \u001b[0md2\u001b[0m\u001b[1;33m[\u001b[0m\u001b[1;36m11\u001b[0m\u001b[1;33m]\u001b[0m\u001b[1;33m)\u001b[0m\u001b[1;33m\u001b[0m\u001b[1;33m\u001b[0m\u001b[0m\n\u001b[0;32m     10\u001b[0m \u001b[1;33m\u001b[0m\u001b[0m\n\u001b[1;32m---> 11\u001b[1;33m \u001b[0mprint\u001b[0m\u001b[1;33m(\u001b[0m\u001b[0md2\u001b[0m\u001b[1;33m[\u001b[0m\u001b[1;36m100\u001b[0m\u001b[1;33m]\u001b[0m\u001b[1;33m)\u001b[0m\u001b[1;33m\u001b[0m\u001b[1;33m\u001b[0m\u001b[0m\n\u001b[0m",
      "\u001b[1;31mKeyError\u001b[0m: 100"
     ]
    }
   ],
   "source": [
    "#Adding items to a dictionary\n",
    "d={'r':3 , 'd':23 , 'ww':'qw'}\n",
    "d2={10:'Ten',20:'twenty',30:'Thirty'}\n",
    "print(d['r'] , d['ww'])\n",
    "print(d2[30],d2[10])\n",
    "\n",
    "d2[10]=100\n",
    "d2[11]='eleven'\n",
    "\n",
    "print(d2   , d2[10] , d2[11])\n",
    "\n",
    "print(d2[100])\n"
   ]
  },
  {
   "cell_type": "code",
   "execution_count": 30,
   "id": "79380a0e",
   "metadata": {},
   "outputs": [
    {
     "name": "stdout",
     "output_type": "stream",
     "text": [
      "{20: 'twenty', 30: 'Thirty'}\n"
     ]
    },
    {
     "ename": "KeyError",
     "evalue": "15",
     "output_type": "error",
     "traceback": [
      "\u001b[1;31m---------------------------------------------------------------------------\u001b[0m",
      "\u001b[1;31mKeyError\u001b[0m                                  Traceback (most recent call last)",
      "\u001b[1;32m<ipython-input-30-60c862b33b9e>\u001b[0m in \u001b[0;36m<module>\u001b[1;34m\u001b[0m\n\u001b[0;32m      5\u001b[0m \u001b[0mprint\u001b[0m\u001b[1;33m(\u001b[0m\u001b[0md2\u001b[0m\u001b[1;33m)\u001b[0m\u001b[1;33m\u001b[0m\u001b[1;33m\u001b[0m\u001b[0m\n\u001b[0;32m      6\u001b[0m \u001b[1;33m\u001b[0m\u001b[0m\n\u001b[1;32m----> 7\u001b[1;33m \u001b[1;32mdel\u001b[0m \u001b[0md2\u001b[0m\u001b[1;33m[\u001b[0m\u001b[1;36m15\u001b[0m\u001b[1;33m]\u001b[0m\u001b[1;33m\u001b[0m\u001b[1;33m\u001b[0m\u001b[0m\n\u001b[0m",
      "\u001b[1;31mKeyError\u001b[0m: 15"
     ]
    }
   ],
   "source": [
    "#Deleting item from a dictionary\n",
    "# del dictionary[key]\n",
    "d2={10:'Ten',20:'twenty',30:'Thirty'}\n",
    "del d2[10]\n",
    "print(d2)\n",
    "\n",
    "del d2[15]"
   ]
  },
  {
   "cell_type": "code",
   "execution_count": 31,
   "id": "52cf54d3",
   "metadata": {},
   "outputs": [
    {
     "name": "stdout",
     "output_type": "stream",
     "text": [
      "3\n"
     ]
    }
   ],
   "source": [
    "#len()\n",
    "d2={10:'Ten',20:'twenty',30:'Thirty'}\n",
    "print(len(d2))"
   ]
  },
  {
   "cell_type": "code",
   "execution_count": null,
   "id": "78135e38",
   "metadata": {},
   "outputs": [],
   "source": [
    "#dictionay.keys()\n",
    "#dictionary.values()\n",
    "#dictionary.items()\n",
    "#dictionary.get()\n",
    "#dictionary.clear()"
   ]
  },
  {
   "cell_type": "code",
   "execution_count": 35,
   "id": "aebb973c",
   "metadata": {},
   "outputs": [
    {
     "name": "stdout",
     "output_type": "stream",
     "text": [
      "{10: ['Ten', 'hundred'], 20: 'twenty', 30: 'Thirty'}\n",
      "dict_keys([10, 20, 30])\n"
     ]
    }
   ],
   "source": [
    "#dictionay.key()\n",
    "#gives you a list of keys\n",
    "d1={10:['Ten','hundred'],20:'twenty',30:'Thirty'}\n",
    "print(d1)\n",
    "print(d1.keys())\n"
   ]
  },
  {
   "cell_type": "code",
   "execution_count": 18,
   "id": "90b9b830",
   "metadata": {},
   "outputs": [
    {
     "name": "stdout",
     "output_type": "stream",
     "text": [
      "['Ten', 'twenty', 'Thirty']\n"
     ]
    }
   ],
   "source": [
    "#dictionary.values()\n",
    "#gives you a list of values\n",
    "print(d1.values())"
   ]
  },
  {
   "cell_type": "code",
   "execution_count": 37,
   "id": "07feb7ba",
   "metadata": {},
   "outputs": [
    {
     "name": "stdout",
     "output_type": "stream",
     "text": [
      "dict_items([(10, ['Ten', 'hundred']), (20, 'twenty'), (30, 'Thirty')])\n"
     ]
    }
   ],
   "source": [
    "#dictionary.items()\n",
    "#Gives us both keys and values from the dictionary\n",
    "print(d1.items())"
   ]
  },
  {
   "cell_type": "code",
   "execution_count": 41,
   "id": "e87e6cec",
   "metadata": {},
   "outputs": [
    {
     "name": "stdout",
     "output_type": "stream",
     "text": [
      "{10: ['Ten', 'hundred'], 20: 'twenty', 30: 'Thirty'}\n"
     ]
    }
   ],
   "source": [
    "#dictionary.clear()\n",
    "#clears the dictionary\n",
    "d1={10:['Ten','hundred'],20:'twenty',30:'Thirty'}\n",
    "print(d1)"
   ]
  },
  {
   "cell_type": "code",
   "execution_count": 47,
   "id": "5aa7c6e5",
   "metadata": {},
   "outputs": [
    {
     "name": "stdout",
     "output_type": "stream",
     "text": [
      "None\n"
     ]
    }
   ],
   "source": [
    "#dictionary.get(key,string)\n",
    "print(d1.get('twenty',\"This key is not present\"))"
   ]
  },
  {
   "cell_type": "code",
   "execution_count": 49,
   "id": "f4950423",
   "metadata": {},
   "outputs": [
    {
     "name": "stdout",
     "output_type": "stream",
     "text": [
      "Ten\n",
      "twenty\n",
      "Thirty\n"
     ]
    }
   ],
   "source": [
    "#using for loops with dictionary\n",
    "d1={10:'Ten',20:'twenty',30:'Thirty'}\n",
    "\n",
    "for abc in d1:   #10  , 20  , 30\n",
    "    print(abc)"
   ]
  },
  {
   "cell_type": "code",
   "execution_count": 50,
   "id": "ee4718a3",
   "metadata": {},
   "outputs": [
    {
     "name": "stdout",
     "output_type": "stream",
     "text": [
      "Ten\n",
      "twenty\n",
      "Thirty\n"
     ]
    }
   ],
   "source": [
    "#using for loops with dictionary\n",
    "d1={10:'Ten',20:'twenty',30:'Thirty'}\n",
    "\n",
    "for abc in d1:   #10  , 20  , 30\n",
    "    print(d1[abc])"
   ]
  },
  {
   "cell_type": "code",
   "execution_count": 51,
   "id": "62939a28",
   "metadata": {},
   "outputs": [
    {
     "name": "stdout",
     "output_type": "stream",
     "text": [
      "10 Ten\n",
      "20 twenty\n",
      "30 Thirty\n"
     ]
    }
   ],
   "source": [
    "#using for loops with dictionary\n",
    "d1={10:'Ten',20:'twenty',30:'Thirty'}\n",
    "\n",
    "for abc in d1:   #10  , 20  , 30\n",
    "    print(abc , d1[abc])"
   ]
  }
 ],
 "metadata": {
  "kernelspec": {
   "display_name": "Python 3",
   "language": "python",
   "name": "python3"
  },
  "language_info": {
   "codemirror_mode": {
    "name": "ipython",
    "version": 3
   },
   "file_extension": ".py",
   "mimetype": "text/x-python",
   "name": "python",
   "nbconvert_exporter": "python",
   "pygments_lexer": "ipython3",
   "version": "3.8.8"
  }
 },
 "nbformat": 4,
 "nbformat_minor": 5
}
