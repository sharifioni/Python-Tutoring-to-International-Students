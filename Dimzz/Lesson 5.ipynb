{
 "cells": [
  {
   "cell_type": "code",
   "execution_count": 6,
   "id": "1f83f563",
   "metadata": {},
   "outputs": [
    {
     "name": "stdout",
     "output_type": "stream",
     "text": [
      "{'A': 'Atlanta', 'NY': 'New York', 'CA': 'California', 'FL': 'Florida'}\n"
     ]
    }
   ],
   "source": [
    "cities={'A':'Atlanta','NY':'New York','CA':'California'}\n",
    "if 'FL' in cities: #False\n",
    "    \n",
    "    del cities['FL']\n",
    "    \n",
    "cities['FL']='Florida'\n",
    "    \n",
    "print(cities)"
   ]
  },
  {
   "cell_type": "code",
   "execution_count": 10,
   "id": "0b9a757f",
   "metadata": {},
   "outputs": [
    {
     "name": "stdout",
     "output_type": "stream",
     "text": [
      "{'A': 'Atlanta', 'NY': 'New York', 'CA': 'California', 'FL': 'Florida'}\n"
     ]
    }
   ],
   "source": [
    "print(cities)"
   ]
  },
  {
   "cell_type": "code",
   "execution_count": null,
   "id": "54532dc7",
   "metadata": {},
   "outputs": [],
   "source": [
    "days={1:'Sunday',2:'Monday',7:'Saturday'}"
   ]
  },
  {
   "cell_type": "code",
   "execution_count": 15,
   "id": "e61e1bd4",
   "metadata": {},
   "outputs": [
    {
     "name": "stdout",
     "output_type": "stream",
     "text": [
      "{'d', 'a', 'b', 'c'}\n"
     ]
    }
   ],
   "source": [
    "myset=set('abbcccdddd')\n",
    "print(myset)"
   ]
  }
 ],
 "metadata": {
  "kernelspec": {
   "display_name": "Python 3",
   "language": "python",
   "name": "python3"
  },
  "language_info": {
   "codemirror_mode": {
    "name": "ipython",
    "version": 3
   },
   "file_extension": ".py",
   "mimetype": "text/x-python",
   "name": "python",
   "nbconvert_exporter": "python",
   "pygments_lexer": "ipython3",
   "version": "3.8.8"
  }
 },
 "nbformat": 4,
 "nbformat_minor": 5
}
