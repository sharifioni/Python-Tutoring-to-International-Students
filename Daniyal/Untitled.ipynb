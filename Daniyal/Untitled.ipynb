{
 "cells": [
  {
   "cell_type": "code",
   "execution_count": 5,
   "id": "299e4be8",
   "metadata": {},
   "outputs": [
    {
     "name": "stdout",
     "output_type": "stream",
     "text": [
      "Hell World   My name is Shah   We are learning python\n"
     ]
    }
   ],
   "source": [
    "print('Hell World',\"My name is Shah\",\"We are learning python\",sep='   ')"
   ]
  },
  {
   "cell_type": "code",
   "execution_count": 8,
   "id": "e2774fcb",
   "metadata": {},
   "outputs": [
    {
     "name": "stdout",
     "output_type": "stream",
     "text": [
      "Hell World   My name is Shah   We are learning python\n"
     ]
    }
   ],
   "source": [
    "print('Hell World',end=\"   \")\n",
    "print(\"My name is Shah\",end=\"   \")\n",
    "print(\"We are learning python\")"
   ]
  },
  {
   "cell_type": "code",
   "execution_count": 15,
   "id": "7cee930a",
   "metadata": {},
   "outputs": [
    {
     "name": "stdout",
     "output_type": "stream",
     "text": [
      "<class 'str'>\n",
      "<class 'int'>\n",
      "<class 'float'>\n",
      "<class 'bool'>\n",
      "<class 'bool'>\n"
     ]
    }
   ],
   "source": [
    "print(type('sunday'))\n",
    "print(type(34))\n",
    "print(type(34.75))\n",
    "print(type(True))\n",
    "print(type(True))"
   ]
  },
  {
   "cell_type": "code",
   "execution_count": 17,
   "id": "907368b9",
   "metadata": {},
   "outputs": [
    {
     "name": "stdout",
     "output_type": "stream",
     "text": [
      "Hello! \n",
      "We are learning Python\n"
     ]
    }
   ],
   "source": [
    "print(\"Hello! \\nWe are learning Python\")"
   ]
  },
  {
   "cell_type": "code",
   "execution_count": 20,
   "id": "1a45692c",
   "metadata": {},
   "outputs": [
    {
     "name": "stdout",
     "output_type": "stream",
     "text": [
      "Hello!\tWe are learning Python\tToday is Thursday\n"
     ]
    }
   ],
   "source": [
    "print(\"Hello!\\tWe are learning Python\\tToday is Thursday\")"
   ]
  },
  {
   "cell_type": "code",
   "execution_count": 14,
   "id": "8975fe57",
   "metadata": {},
   "outputs": [
    {
     "name": "stdout",
     "output_type": "stream",
     "text": [
      "Help on class type in module builtins:\n",
      "\n",
      "class type(object)\n",
      " |  type(object_or_name, bases, dict)\n",
      " |  type(object) -> the object's type\n",
      " |  type(name, bases, dict) -> a new type\n",
      " |  \n",
      " |  Methods defined here:\n",
      " |  \n",
      " |  __call__(self, /, *args, **kwargs)\n",
      " |      Call self as a function.\n",
      " |  \n",
      " |  __delattr__(self, name, /)\n",
      " |      Implement delattr(self, name).\n",
      " |  \n",
      " |  __dir__(self, /)\n",
      " |      Specialized __dir__ implementation for types.\n",
      " |  \n",
      " |  __getattribute__(self, name, /)\n",
      " |      Return getattr(self, name).\n",
      " |  \n",
      " |  __init__(self, /, *args, **kwargs)\n",
      " |      Initialize self.  See help(type(self)) for accurate signature.\n",
      " |  \n",
      " |  __instancecheck__(self, instance, /)\n",
      " |      Check if an object is an instance.\n",
      " |  \n",
      " |  __repr__(self, /)\n",
      " |      Return repr(self).\n",
      " |  \n",
      " |  __setattr__(self, name, value, /)\n",
      " |      Implement setattr(self, name, value).\n",
      " |  \n",
      " |  __sizeof__(self, /)\n",
      " |      Return memory consumption of the type object.\n",
      " |  \n",
      " |  __subclasscheck__(self, subclass, /)\n",
      " |      Check if a class is a subclass.\n",
      " |  \n",
      " |  __subclasses__(self, /)\n",
      " |      Return a list of immediate subclasses.\n",
      " |  \n",
      " |  mro(self, /)\n",
      " |      Return a type's method resolution order.\n",
      " |  \n",
      " |  ----------------------------------------------------------------------\n",
      " |  Class methods defined here:\n",
      " |  \n",
      " |  __prepare__(...)\n",
      " |      __prepare__() -> dict\n",
      " |      used to create the namespace for the class statement\n",
      " |  \n",
      " |  ----------------------------------------------------------------------\n",
      " |  Static methods defined here:\n",
      " |  \n",
      " |  __new__(*args, **kwargs)\n",
      " |      Create and return a new object.  See help(type) for accurate signature.\n",
      " |  \n",
      " |  ----------------------------------------------------------------------\n",
      " |  Data descriptors defined here:\n",
      " |  \n",
      " |  __abstractmethods__\n",
      " |  \n",
      " |  __dict__\n",
      " |  \n",
      " |  __text_signature__\n",
      " |  \n",
      " |  ----------------------------------------------------------------------\n",
      " |  Data and other attributes defined here:\n",
      " |  \n",
      " |  __base__ = <class 'object'>\n",
      " |      The base class of the class hierarchy.\n",
      " |      \n",
      " |      When called, it accepts no arguments and returns a new featureless\n",
      " |      instance that has no instance attributes and cannot be given any.\n",
      " |  \n",
      " |  \n",
      " |  __bases__ = (<class 'object'>,)\n",
      " |  \n",
      " |  __basicsize__ = 880\n",
      " |  \n",
      " |  __dictoffset__ = 264\n",
      " |  \n",
      " |  __flags__ = 2148293632\n",
      " |  \n",
      " |  __itemsize__ = 40\n",
      " |  \n",
      " |  __mro__ = (<class 'type'>, <class 'object'>)\n",
      " |  \n",
      " |  __weakrefoffset__ = 368\n",
      "\n"
     ]
    }
   ],
   "source": [
    "help(type)"
   ]
  },
  {
   "cell_type": "code",
   "execution_count": 26,
   "id": "c3a95717",
   "metadata": {},
   "outputs": [
    {
     "name": "stdout",
     "output_type": "stream",
     "text": [
      "5          *         1         =         5         \n",
      "5          *         2         =         10        \n",
      "5          *         3         =         15        \n",
      "5          *         4         =         20        \n",
      "5          *         5         =         25        \n",
      "5          *         6         =         30        \n",
      "5          *         7         =         35        \n",
      "5          *         8         =         40        \n",
      "5          *         9         =         45        \n",
      "5          *         10        =         50        \n",
      "6          *         1         =         6         \n",
      "6          *         2         =         12        \n",
      "6          *         3         =         18        \n",
      "6          *         4         =         24        \n",
      "6          *         5         =         30        \n",
      "6          *         6         =         36        \n",
      "6          *         7         =         42        \n",
      "6          *         8         =         48        \n",
      "6          *         9         =         54        \n",
      "6          *         10        =         60        \n",
      "7          *         1         =         7         \n",
      "7          *         2         =         14        \n",
      "7          *         3         =         21        \n",
      "7          *         4         =         28        \n",
      "7          *         5         =         35        \n",
      "7          *         6         =         42        \n",
      "7          *         7         =         49        \n",
      "7          *         8         =         56        \n",
      "7          *         9         =         63        \n",
      "7          *         10        =         70        \n",
      "8          *         1         =         8         \n",
      "8          *         2         =         16        \n",
      "8          *         3         =         24        \n",
      "8          *         4         =         32        \n",
      "8          *         5         =         40        \n",
      "8          *         6         =         48        \n",
      "8          *         7         =         56        \n",
      "8          *         8         =         64        \n",
      "8          *         9         =         72        \n",
      "8          *         10        =         80        \n",
      "9          *         1         =         9         \n",
      "9          *         2         =         18        \n",
      "9          *         3         =         27        \n",
      "9          *         4         =         36        \n",
      "9          *         5         =         45        \n",
      "9          *         6         =         54        \n",
      "9          *         7         =         63        \n",
      "9          *         8         =         72        \n",
      "9          *         9         =         81        \n",
      "9          *         10        =         90        \n",
      "10         *         1         =         10        \n",
      "10         *         2         =         20        \n",
      "10         *         3         =         30        \n",
      "10         *         4         =         40        \n",
      "10         *         5         =         50        \n",
      "10         *         6         =         60        \n",
      "10         *         7         =         70        \n",
      "10         *         8         =         80        \n",
      "10         *         9         =         90        \n",
      "10         *         10        =         100       \n"
     ]
    }
   ],
   "source": [
    "for i in range(5,11):\n",
    "    for j in range(1,11):\n",
    "        print(f\"{i:<10} {'*':<10}{j:<10}{'=':<10}{i*j:<10}\")\n",
    "    \n",
    "    "
   ]
  }
 ],
 "metadata": {
  "kernelspec": {
   "display_name": "Python 3 (ipykernel)",
   "language": "python",
   "name": "python3"
  },
  "language_info": {
   "codemirror_mode": {
    "name": "ipython",
    "version": 3
   },
   "file_extension": ".py",
   "mimetype": "text/x-python",
   "name": "python",
   "nbconvert_exporter": "python",
   "pygments_lexer": "ipython3",
   "version": "3.9.7"
  }
 },
 "nbformat": 4,
 "nbformat_minor": 5
}
