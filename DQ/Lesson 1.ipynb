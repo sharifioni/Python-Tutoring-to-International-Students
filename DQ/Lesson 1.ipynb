{
 "cells": [
  {
   "cell_type": "markdown",
   "id": "e67e7948",
   "metadata": {},
   "source": [
    "# Problem 1"
   ]
  },
  {
   "cell_type": "code",
   "execution_count": 6,
   "id": "55c96a24",
   "metadata": {},
   "outputs": [
    {
     "name": "stdout",
     "output_type": "stream",
     "text": [
      "0.0\n",
      "0\n"
     ]
    }
   ],
   "source": [
    "# Proper variable names\n",
    "# north : positive velocity , south : negative velocity\n",
    "# accelerates : abs increases , decelerating : abs decreases\n",
    "# abs() \n",
    "Car_A = 40\n",
    "Car_A = abs(Car_A) - 10\n",
    "Car_B = -50\n",
    "Car_B = Car_B + 2*(10)\n",
    "Car_B = Car_B + abs(Car_B)\n",
    "Car_A = Car_B / 2\n",
    "print(Car_A)\n",
    "print(Car_B)"
   ]
  },
  {
   "cell_type": "markdown",
   "id": "71423f5f",
   "metadata": {},
   "source": [
    "# Problem 2 (a)"
   ]
  },
  {
   "cell_type": "code",
   "execution_count": 1,
   "id": "ef4b6d55",
   "metadata": {},
   "outputs": [
    {
     "name": "stdout",
     "output_type": "stream",
     "text": [
      "Enter a name of product: pizza\n",
      "Enter unit price of the product: 150\n",
      "Enter number of products: 10\n",
      "pizza\n",
      "150.0\n",
      "10\n"
     ]
    }
   ],
   "source": [
    "# for prompting a value in python, we use input() function\n",
    "# in input function, you can give a string that is displayed to user. input(\"Enter product name: \")\n",
    "# input function always returns a string value\n",
    "\n",
    "# prompted value will be stored in your variable\n",
    "product_name = input(\"Enter a name of product: \")\n",
    "\n",
    "# float function is used here to covert string value to float\n",
    "unit_price = float(input(\"Enter unit price of the product: \"))\n",
    "\n",
    "no_of_product = int(input(\"Enter number of products: \"))\n",
    "\n",
    "\n",
    "print(product_name)\n",
    "print(unit_price)\n",
    "print(no_of_product)"
   ]
  },
  {
   "cell_type": "markdown",
   "id": "0ec8b964",
   "metadata": {},
   "source": [
    "# Problem 2 (b)"
   ]
  },
  {
   "cell_type": "code",
   "execution_count": 2,
   "id": "afa34ea1",
   "metadata": {},
   "outputs": [
    {
     "name": "stdout",
     "output_type": "stream",
     "text": [
      "1375\n"
     ]
    }
   ],
   "source": [
    "# len() gives you number of characters in your string, result will be in integer\n",
    "\n",
    "total_price = unit_price * no_of_product\n",
    "\n",
    "# ** is used as a power / exponent operator\n",
    "no_of_char_cubed = len(product_name) ** 3\n",
    "\n",
    "# we converted float value of total_price into integer using int() function\n",
    "total_price = int(total_price)\n",
    "\n",
    "# Comparing\n",
    "print(total_price - no_of_char_cubed)\n",
    "\n"
   ]
  },
  {
   "cell_type": "markdown",
   "id": "4016561a",
   "metadata": {},
   "source": [
    "# Problem 2 (c)"
   ]
  },
  {
   "cell_type": "code",
   "execution_count": 6,
   "id": "9b8f4de5",
   "metadata": {},
   "outputs": [
    {
     "name": "stdout",
     "output_type": "stream",
     "text": [
      "146.83772233983163\n"
     ]
    }
   ],
   "source": [
    "difference = unit_price - (no_of_product ** 0.5)\n",
    "print(difference)"
   ]
  },
  {
   "cell_type": "markdown",
   "id": "155757e5",
   "metadata": {},
   "source": [
    "# While loop\n",
    "* while loop runs based on a condition\n",
    "* It keeps looping until the condition becomes false"
   ]
  },
  {
   "cell_type": "code",
   "execution_count": 7,
   "id": "0f653e5f",
   "metadata": {},
   "outputs": [
    {
     "name": "stdout",
     "output_type": "stream",
     "text": [
      "1\n",
      "2\n",
      "3\n",
      "4\n",
      "5\n",
      "6\n",
      "7\n",
      "8\n",
      "9\n"
     ]
    }
   ],
   "source": [
    "a = 1\n",
    "\n",
    "while a < 10 :\n",
    "    print(a)\n",
    "    a = a + 1"
   ]
  },
  {
   "cell_type": "code",
   "execution_count": 8,
   "id": "a1867b86",
   "metadata": {},
   "outputs": [
    {
     "name": "stdout",
     "output_type": "stream",
     "text": [
      "1\n",
      "2\n",
      "3\n",
      "4\n",
      "5\n",
      "6\n",
      "7\n",
      "8\n",
      "9\n",
      "Outside While loop\n"
     ]
    }
   ],
   "source": [
    "# indentation that tells you about block of code\n",
    "a = 1\n",
    "while a < 10:\n",
    "    print(a)\n",
    "    a = a + 1\n",
    "\n",
    "print(\"Outside While loop\")\n",
    "    \n",
    "    "
   ]
  },
  {
   "cell_type": "markdown",
   "id": "e68743f8",
   "metadata": {},
   "source": [
    "# Problem 3"
   ]
  },
  {
   "cell_type": "code",
   "execution_count": 14,
   "id": "50658a84",
   "metadata": {},
   "outputs": [
    {
     "name": "stdout",
     "output_type": "stream",
     "text": [
      "Day 0 Alice 0 Beth 100\n",
      "Day 1 Alice 1 Beth 98\n",
      "Day 2 Alice 2 Beth 96\n",
      "Day 3 Alice 3 Beth 94\n",
      "Day 4 Alice 4 Beth 92\n",
      "Day 5 Alice 5 Beth 90\n",
      "Day 6 Alice 6 Beth 88\n",
      "Day 7 Alice 7 Beth 86\n",
      "Day 8 Alice 8 Beth 84\n",
      "Day 9 Alice 9 Beth 82\n",
      "Day 10 Alice 10 Beth 80\n",
      "Day 11 Alice 11 Beth 78\n",
      "Day 12 Alice 12 Beth 76\n",
      "Day 13 Alice 13 Beth 74\n",
      "Day 14 Alice 14 Beth 72\n",
      "Day 15 Alice 15 Beth 70\n",
      "Day 16 Alice 16 Beth 68\n",
      "Day 17 Alice 17 Beth 66\n",
      "Day 18 Alice 18 Beth 64\n",
      "Day 19 Alice 19 Beth 62\n",
      "Day 20 Alice 20 Beth 60\n",
      "Day 21 Alice 21 Beth 58\n",
      "Day 22 Alice 22 Beth 56\n",
      "Day 23 Alice 23 Beth 54\n",
      "Day 24 Alice 24 Beth 52\n",
      "Day 25 Alice 25 Beth 50\n",
      "Day 26 Alice 26 Beth 48\n",
      "Day 27 Alice 27 Beth 46\n",
      "Day 28 Alice 28 Beth 44\n",
      "Day 29 Alice 29 Beth 42\n",
      "Day 30 Alice 30 Beth 40\n",
      "Day 31 Alice 31 Beth 38\n",
      "Day 32 Alice 32 Beth 36\n",
      "Day 33 Alice 33 Beth 34\n",
      "Alice exceeds Beth on Day 34\n"
     ]
    }
   ],
   "source": [
    "Alice = 0\n",
    "Beth = 100\n",
    "Day = 0\n",
    "\n",
    "while Alice < Beth:\n",
    "    print(\"Day\", Day,\"Alice\", Alice,\"Beth\", Beth)\n",
    "    Day = Day + 1\n",
    "    Alice = Alice + 1\n",
    "    Beth = Beth - 2\n",
    "    \n",
    "print(\"Alice exceeds Beth on Day\",Day)"
   ]
  },
  {
   "cell_type": "code",
   "execution_count": null,
   "id": "da695e10",
   "metadata": {},
   "outputs": [],
   "source": []
  },
  {
   "cell_type": "code",
   "execution_count": 12,
   "id": "5f0ef274",
   "metadata": {},
   "outputs": [
    {
     "name": "stdout",
     "output_type": "stream",
     "text": [
      "Day 0 Alice 0 Beth 100\n"
     ]
    }
   ],
   "source": [
    "Alice = 0\n",
    "Beth = 100\n",
    "Day = 0\n",
    "\n",
    "print(\"Day\", Day,\"Alice\", Alice,\"Beth\", Beth)"
   ]
  },
  {
   "cell_type": "markdown",
   "id": "42b6150a",
   "metadata": {},
   "source": [
    "# Problem 4"
   ]
  },
  {
   "cell_type": "code",
   "execution_count": 18,
   "id": "075dc024",
   "metadata": {},
   "outputs": [
    {
     "name": "stdout",
     "output_type": "stream",
     "text": [
      "Day 0 Alice 1 Beth 200\n",
      "Day 1 Alice 2 Beth 300\n",
      "Day 2 Alice 4 Beth 400\n",
      "Day 3 Alice 8 Beth 500\n",
      "Day 4 Alice 16 Beth 600\n",
      "Day 5 Alice 32 Beth 700\n",
      "Day 6 Alice 64 Beth 800\n",
      "Day 7 Alice 128 Beth 900\n",
      "Day 8 Alice 256 Beth 1000\n",
      "Day 9 Alice 512 Beth 1100\n",
      "Day 10 Alice 1024 Beth 1200\n",
      "Day 11 Alice 2048 Beth 1300\n",
      "Day 12 Alice 4096 Beth 1400\n",
      "Alice exceeds double of Beth on Day 12\n"
     ]
    }
   ],
   "source": [
    "Alice = 1\n",
    "Beth = 200\n",
    "Day = 0\n",
    "\n",
    "while Alice < Beth*2:\n",
    "    print(\"Day\", Day,\"Alice\", Alice,\"Beth\", Beth)\n",
    "    Day = Day + 1\n",
    "    Alice = Alice * 2    # Double her sweets\n",
    "    Beth = Beth + 100\n",
    "\n",
    "print(\"Day\", Day,\"Alice\", Alice,\"Beth\", Beth)    \n",
    "print(\"Alice exceeds double of Beth on Day\",Day)"
   ]
  },
  {
   "cell_type": "code",
   "execution_count": null,
   "id": "0aafe733",
   "metadata": {},
   "outputs": [],
   "source": [
    "def cost(cost, destination):\n",
    "    pass\n",
    "\n",
    "cost()"
   ]
  },
  {
   "cell_type": "markdown",
   "id": "c24a9a12",
   "metadata": {},
   "source": [
    "# Functions"
   ]
  },
  {
   "cell_type": "code",
   "execution_count": 24,
   "id": "463f570f",
   "metadata": {},
   "outputs": [
    {
     "name": "stdout",
     "output_type": "stream",
     "text": [
      "20\n",
      "Inside function\n",
      "Outside Function\n"
     ]
    }
   ],
   "source": [
    "def multiply():\n",
    "    print(10 * 2)\n",
    "    print(\"Inside function\")\n",
    "    \n",
    "multiply()   # Function calling\n",
    "print(\"Outside Function\")"
   ]
  },
  {
   "cell_type": "code",
   "execution_count": 27,
   "id": "b2c57db1",
   "metadata": {},
   "outputs": [
    {
     "name": "stdout",
     "output_type": "stream",
     "text": [
      "50\n",
      "None\n"
     ]
    }
   ],
   "source": [
    "# arguments : Values passed to your function when you call your function\n",
    "# parameters: Variables that receive values from arguments\n",
    "\n",
    "def multiply(a, b):\n",
    "    print(a * b)\n",
    "\n",
    "result = multiply(10 , 5)\n",
    "print(result)"
   ]
  },
  {
   "cell_type": "code",
   "execution_count": 26,
   "id": "c1e3dd2e",
   "metadata": {},
   "outputs": [
    {
     "name": "stdout",
     "output_type": "stream",
     "text": [
      "50\n"
     ]
    }
   ],
   "source": [
    "# arguments : Values passed to your function when you call your function\n",
    "# parameters: Variables that receive values from arguments\n",
    "# return : you can return a value to function calling point with return keyword\n",
    "\n",
    "def multiply(a, b):\n",
    "    return a * b\n",
    "\n",
    "result = multiply(10 , 5)\n",
    "print(result)"
   ]
  },
  {
   "cell_type": "markdown",
   "id": "6a3f2b9d",
   "metadata": {},
   "source": [
    "# Problem 5"
   ]
  },
  {
   "cell_type": "code",
   "execution_count": 33,
   "id": "0a50221b",
   "metadata": {},
   "outputs": [
    {
     "name": "stdout",
     "output_type": "stream",
     "text": [
      "The total cost is 70\n"
     ]
    }
   ],
   "source": [
    "def  online_shop(cost, destination):\n",
    "    \n",
    "    if cost < 50 and destination == \"Europe\":\n",
    "        shipment_cost = 15\n",
    "        total_cost = cost + shipment_cost\n",
    "        return total_cost\n",
    "    \n",
    "    if (cost >= 50 and cost < 100) and destination == \"Europe\":\n",
    "        shipment_cost = 10\n",
    "        total_cost = cost + shipment_cost\n",
    "        return total_cost\n",
    "    \n",
    "    if (cost >= 100 and cost < 200) and destination == \"Europe\":\n",
    "        shipment_cost = 5\n",
    "        total_cost = cost + shipment_cost\n",
    "        return total_cost\n",
    "    \n",
    "    if cost >= 200 and destination == \"Europe\":\n",
    "        shipment_cost = 0\n",
    "        total_cost = cost + shipment_cost\n",
    "        return total_cost\n",
    "    \n",
    "    if cost < 100 and destination != \"Europe\":       # != is not equal symbol\n",
    "        shipment_cost = 20\n",
    "        total_cost = cost + shipment_cost\n",
    "        return total_cost\n",
    "    \n",
    "    if cost >= 100 and destination != \"Europe\":\n",
    "        shipment_cost = 0\n",
    "        total_cost = cost + shipment_cost\n",
    "        return total_cost\n",
    "\n",
    "\n",
    "result = online_shop(50, \"Africa\")\n",
    "print(\"The total cost is\", result)"
   ]
  },
  {
   "cell_type": "markdown",
   "id": "87ce5099",
   "metadata": {},
   "source": [
    "# Problem 6"
   ]
  },
  {
   "cell_type": "code",
   "execution_count": 48,
   "id": "0de44137",
   "metadata": {},
   "outputs": [
    {
     "name": "stdout",
     "output_type": "stream",
     "text": [
      "aaa*\n",
      "bb**\n",
      "c***\n"
     ]
    }
   ],
   "source": [
    "def problem6(string, filler):\n",
    "    n = len(string)\n",
    "    print((string[0] * n) + \"*\" )\n",
    "    print((string[1] * (n-1)) + \"**\" )\n",
    "    print((string[2] * (n-2)) + \"***\" )\n",
    "    \n",
    "\n",
    "problem6(\"abc\", \"*\")"
   ]
  },
  {
   "cell_type": "code",
   "execution_count": 51,
   "id": "fada5ac0",
   "metadata": {},
   "outputs": [
    {
     "name": "stdout",
     "output_type": "stream",
     "text": [
      "pppppp*\n",
      "yyyyy**\n",
      "tttt***\n",
      "hhh****\n",
      "oo*****\n",
      "n******\n"
     ]
    }
   ],
   "source": [
    "def problem6(string, filler):\n",
    "    n = len(string)\n",
    "    a = 1\n",
    "    for i in string:\n",
    "        print((i*n) + (a * \"*\")) \n",
    "        n = n - 1\n",
    "        a = a + 1\n",
    "    \n",
    "\n",
    "problem6(\"python\", \"*\")"
   ]
  },
  {
   "cell_type": "code",
   "execution_count": 53,
   "id": "b66466a1",
   "metadata": {},
   "outputs": [
    {
     "name": "stdout",
     "output_type": "stream",
     "text": [
      "h\n"
     ]
    }
   ],
   "source": [
    "a = \"python\"\n",
    "\n",
    "for x in a:\n",
    "    if x == \"h\":\n",
    "        print(x)"
   ]
  },
  {
   "cell_type": "markdown",
   "id": "a9044e88",
   "metadata": {},
   "source": [
    "# for loops\n",
    "* for loops can be used with iterables (strings, lists, tuples, range, dictionary, sets)"
   ]
  },
  {
   "cell_type": "code",
   "execution_count": 47,
   "id": "01e0f328",
   "metadata": {},
   "outputs": [
    {
     "name": "stdout",
     "output_type": "stream",
     "text": [
      "aaa***\n"
     ]
    }
   ],
   "source": [
    "# Joining of two strings with + operator\n",
    "print(\"aaa\" + \"***\")"
   ]
  },
  {
   "cell_type": "code",
   "execution_count": 37,
   "id": "3f4dd00a",
   "metadata": {},
   "outputs": [
    {
     "name": "stdout",
     "output_type": "stream",
     "text": [
      "P\n",
      "h\n"
     ]
    }
   ],
   "source": [
    "# Indexing is used to acces element or character from a string\n",
    "a = \"Python\"\n",
    "print(a[0])\n",
    "print(a[3])"
   ]
  },
  {
   "cell_type": "code",
   "execution_count": 38,
   "id": "eb83e4a2",
   "metadata": {},
   "outputs": [
    {
     "name": "stdout",
     "output_type": "stream",
     "text": [
      "ZZZZZ\n"
     ]
    }
   ],
   "source": [
    "# Multiplication with strings\n",
    "print(\"Z\" * 5)"
   ]
  },
  {
   "cell_type": "code",
   "execution_count": 34,
   "id": "0cda2f1a",
   "metadata": {},
   "outputs": [
    {
     "name": "stdout",
     "output_type": "stream",
     "text": [
      "6\n"
     ]
    }
   ],
   "source": [
    "# How to check lenght of a string\n",
    "a = \"Python\"\n",
    "print(len(a))"
   ]
  },
  {
   "cell_type": "markdown",
   "id": "199d8a45",
   "metadata": {},
   "source": [
    " # Homework\n",
    " * Remainder operator in python\n",
    " * and operator, or operator in if else\n",
    " * for loops\n",
    " * lists and list methods\n",
    " * for loops with lists and strings\n",
    " * functions, function calling, function returning, arguments and parameters of a function\n",
    " * indexing with strings, lists\n",
    " * slicing in strings and lists"
   ]
  },
  {
   "cell_type": "code",
   "execution_count": null,
   "id": "895aa711",
   "metadata": {},
   "outputs": [],
   "source": []
  }
 ],
 "metadata": {
  "kernelspec": {
   "display_name": "Python 3 (ipykernel)",
   "language": "python",
   "name": "python3"
  },
  "language_info": {
   "codemirror_mode": {
    "name": "ipython",
    "version": 3
   },
   "file_extension": ".py",
   "mimetype": "text/x-python",
   "name": "python",
   "nbconvert_exporter": "python",
   "pygments_lexer": "ipython3",
   "version": "3.9.7"
  }
 },
 "nbformat": 4,
 "nbformat_minor": 5
}
