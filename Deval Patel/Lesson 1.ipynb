{
 "cells": [
  {
   "cell_type": "code",
   "execution_count": null,
   "id": "704bd5db",
   "metadata": {},
   "outputs": [],
   "source": [
    "# type function\n",
    "# operator precedence\n",
    "# fstrings\n",
    "# type conversion\n",
    "# comparison operators\n",
    "# if else\n",
    "# if elif else\n",
    "# logical operators\n",
    "\n",
    "# mutable and immutable objects in python?\n",
    "# what are iterables in python?\n",
    "# what are sequences?"
   ]
  },
  {
   "cell_type": "markdown",
   "id": "529f7060",
   "metadata": {},
   "source": [
    "# Python\n",
    "* is an interpreted language\n",
    "* simple and easy to use"
   ]
  },
  {
   "cell_type": "markdown",
   "id": "06039a52",
   "metadata": {},
   "source": [
    "# print function\n",
    "* it can accept any number of values / arguments. Values can be of any data type\n",
    "* sep defines separation between values.\n",
    "* end defines how you want to end your print function\n"
   ]
  },
  {
   "cell_type": "code",
   "execution_count": 1,
   "id": "502b87a2",
   "metadata": {},
   "outputs": [
    {
     "name": "stdout",
     "output_type": "stream",
     "text": [
      "Hello World Hello World\n"
     ]
    }
   ],
   "source": [
    "print(\"Hello World\", 'Hello World')"
   ]
  },
  {
   "cell_type": "code",
   "execution_count": null,
   "id": "95b2ebe8",
   "metadata": {},
   "outputs": [],
   "source": []
  },
  {
   "cell_type": "code",
   "execution_count": 2,
   "id": "12e2b4f5",
   "metadata": {},
   "outputs": [
    {
     "name": "stdout",
     "output_type": "stream",
     "text": [
      "Help on built-in function print in module builtins:\n",
      "\n",
      "print(...)\n",
      "    print(value, ..., sep=' ', end='\\n', file=sys.stdout, flush=False)\n",
      "    \n",
      "    Prints the values to a stream, or to sys.stdout by default.\n",
      "    Optional keyword arguments:\n",
      "    file:  a file-like object (stream); defaults to the current sys.stdout.\n",
      "    sep:   string inserted between values, default a space.\n",
      "    end:   string appended after the last value, default a newline.\n",
      "    flush: whether to forcibly flush the stream.\n",
      "\n"
     ]
    }
   ],
   "source": [
    "help(print)"
   ]
  },
  {
   "cell_type": "code",
   "execution_count": 7,
   "id": "20772ec8",
   "metadata": {},
   "outputs": [
    {
     "name": "stdout",
     "output_type": "stream",
     "text": [
      "Python 45 87 98.86 True\n"
     ]
    }
   ],
   "source": [
    "print(\"Python\",45, 87, 98.86, True)"
   ]
  },
  {
   "cell_type": "code",
   "execution_count": 6,
   "id": "51ad13e6",
   "metadata": {},
   "outputs": [
    {
     "name": "stdout",
     "output_type": "stream",
     "text": [
      "Python---45---87---98.86---True\n"
     ]
    }
   ],
   "source": [
    "print(\"Python\",45, 87, 98.86, True, sep = \"---\")"
   ]
  },
  {
   "cell_type": "code",
   "execution_count": 8,
   "id": "1ae25153",
   "metadata": {},
   "outputs": [
    {
     "name": "stdout",
     "output_type": "stream",
     "text": [
      "We are learning\n",
      "Python\n",
      "Today is our first class\n"
     ]
    }
   ],
   "source": [
    "print(\"We are learning\")\n",
    "print(\"Python\")\n",
    "print(\"Today is our first class\")"
   ]
  },
  {
   "cell_type": "code",
   "execution_count": 10,
   "id": "003b658a",
   "metadata": {},
   "outputs": [
    {
     "name": "stdout",
     "output_type": "stream",
     "text": [
      "We are learning   Python   Today is our first class\n"
     ]
    }
   ],
   "source": [
    "print(\"We are learning\", end = \"   \")\n",
    "print(\"Python\", end = \"   \")\n",
    "print(\"Today is our first class\")"
   ]
  },
  {
   "cell_type": "code",
   "execution_count": 12,
   "id": "7b562cb0",
   "metadata": {},
   "outputs": [],
   "source": [
    "# Print()\n",
    "# Name Error"
   ]
  },
  {
   "cell_type": "code",
   "execution_count": 13,
   "id": "a33769ab",
   "metadata": {},
   "outputs": [
    {
     "ename": "SyntaxError",
     "evalue": "EOL while scanning string literal (Temp/ipykernel_17696/2625423885.py, line 1)",
     "output_type": "error",
     "traceback": [
      "\u001b[1;36m  File \u001b[1;32m\"C:\\Users\\shahj\\AppData\\Local\\Temp/ipykernel_17696/2625423885.py\"\u001b[1;36m, line \u001b[1;32m1\u001b[0m\n\u001b[1;33m    print(\"Hello )\u001b[0m\n\u001b[1;37m                  ^\u001b[0m\n\u001b[1;31mSyntaxError\u001b[0m\u001b[1;31m:\u001b[0m EOL while scanning string literal\n"
     ]
    }
   ],
   "source": [
    "# print(\"Hello )\n",
    "#syntax error"
   ]
  },
  {
   "cell_type": "markdown",
   "id": "bfe4fa24",
   "metadata": {},
   "source": [
    "# Data types\n",
    "* string             str      \"Hello world\", 'Python'\n",
    "* integers           int      35, 67, 89, 0, -5  \n",
    "* floats             float    0.05 , -98.5, 1.75 \n",
    "* boolean            bool     True, False\n",
    "* lists              list     [56, 78, 98, 12, 10, \"python\"]  mutable\n",
    "* tuples             tuple    (12, 87, \"hello\", True)         immutable\n",
    "* dictionaries       dict      {key:value}         \n",
    "* sets               set       {1,2,38,9}  non repetitive values"
   ]
  },
  {
   "cell_type": "code",
   "execution_count": null,
   "id": "f0457053",
   "metadata": {},
   "outputs": [],
   "source": [
    "# mutable and immutable objects in python?\n",
    "# what are iterables in python?\n",
    "# what are sequences?"
   ]
  },
  {
   "cell_type": "markdown",
   "id": "9deb6b82",
   "metadata": {},
   "source": [
    "# Variables\n",
    "* they are used to store values\n",
    "* variable_name = value\n",
    "* Rules for defining a variable\n",
    "* letters, digits, underscore\n",
    "* first character should not be a digit\n",
    "* variable should not be a keyword  like print, if, else, for"
   ]
  },
  {
   "cell_type": "code",
   "execution_count": 15,
   "id": "4715e5c0",
   "metadata": {},
   "outputs": [
    {
     "name": "stdout",
     "output_type": "stream",
     "text": [
      "Apple Joseph 56 1.75 True [2, 4, 6, 8, 10]\n"
     ]
    }
   ],
   "source": [
    "fruit = \"Apple\"\n",
    "name = \"Joseph\"\n",
    "age = 56\n",
    "height = 1.75\n",
    "Saturday = True\n",
    "even_numbers = [2, 4, 6, 8, 10]\n",
    "print(fruit, name, age, height, Saturday, even_numbers)\n",
    "# My name is Joseph. I love to eat Apple. My age is 56 and my height is 1.75. Today is Saturday True. Even numbers are [2, 4, 6, 8, 10]\n"
   ]
  },
  {
   "cell_type": "markdown",
   "id": "15d5dbab",
   "metadata": {},
   "source": [
    "# Arithmetic Operators\n",
    "* +, -, *, /, % modulus, // floor division, ** power operator\n",
    "* Can be used between integers and floats"
   ]
  },
  {
   "cell_type": "code",
   "execution_count": 19,
   "id": "9674c318",
   "metadata": {},
   "outputs": [
    {
     "name": "stdout",
     "output_type": "stream",
     "text": [
      "20\n",
      "10\n",
      "75\n",
      "3.75\n",
      "3\n",
      "3\n",
      "225\n"
     ]
    }
   ],
   "source": [
    "print(15 + 5)\n",
    "print(15 - 5)\n",
    "print(15 * 5)\n",
    "print(15 / 4)\n",
    "print(15 % 4)\n",
    "print(15 // 4)\n",
    "print(15 ** 2)"
   ]
  },
  {
   "cell_type": "code",
   "execution_count": null,
   "id": "4d522ff4",
   "metadata": {},
   "outputs": [],
   "source": []
  },
  {
   "cell_type": "code",
   "execution_count": 14,
   "id": "725c88d8",
   "metadata": {},
   "outputs": [
    {
     "name": "stdout",
     "output_type": "stream",
     "text": [
      "Our function\n",
      "Learning Python\n"
     ]
    }
   ],
   "source": [
    "def abc():\n",
    "    print(\"Our function\")\n",
    "    \n",
    "abc()\n",
    "print(\"Learning Python\")"
   ]
  }
 ],
 "metadata": {
  "kernelspec": {
   "display_name": "Python 3 (ipykernel)",
   "language": "python",
   "name": "python3"
  },
  "language_info": {
   "codemirror_mode": {
    "name": "ipython",
    "version": 3
   },
   "file_extension": ".py",
   "mimetype": "text/x-python",
   "name": "python",
   "nbconvert_exporter": "python",
   "pygments_lexer": "ipython3",
   "version": "3.9.7"
  }
 },
 "nbformat": 4,
 "nbformat_minor": 5
}
