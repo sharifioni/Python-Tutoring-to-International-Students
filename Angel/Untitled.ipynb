{
 "cells": [
  {
   "cell_type": "markdown",
   "id": "8335b652",
   "metadata": {},
   "source": [
    "# Functions\n",
    "* Built in functions        print(\"Hello\"), input(), type(), len(), sum(), min(), max()\n",
    "* User defined functions    functions created by the user\n",
    "* Every function is created to perform a task\n",
    "* function definition\n",
    "* function parameters and arguments\n",
    "* function calling and returning\n",
    "* local and gloabal variables"
   ]
  },
  {
   "cell_type": "code",
   "execution_count": 26,
   "id": "3cee8b63",
   "metadata": {},
   "outputs": [
    {
     "name": "stdout",
     "output_type": "stream",
     "text": [
      "Hello\n",
      "Python\n",
      "Hello\n",
      "Python\n",
      "Hello\n",
      "Python\n",
      "Hello\n",
      "Python\n",
      "\n",
      "This function will calculate your BMI\n"
     ]
    }
   ],
   "source": [
    "print(\"Hello\")\n",
    "print(\"Python\")\n",
    "print(\"Hello\")\n",
    "print(\"Python\")\n",
    "print(\"Hello\")\n",
    "print(\"Python\")\n",
    "print(\"Hello\")\n",
    "print(\"Python\")\n",
    "print()\n",
    "print(\"This function will calculate your BMI\")"
   ]
  },
  {
   "cell_type": "code",
   "execution_count": 20,
   "id": "5193e45f",
   "metadata": {},
   "outputs": [
    {
     "name": "stdout",
     "output_type": "stream",
     "text": [
      "-5\n"
     ]
    }
   ],
   "source": [
    "minimum = min([5,6,0,7, -5])\n",
    "print(minimum)"
   ]
  },
  {
   "cell_type": "code",
   "execution_count": 5,
   "id": "6d62020f",
   "metadata": {},
   "outputs": [
    {
     "name": "stdout",
     "output_type": "stream",
     "text": [
      "22.857142857142858\n",
      "23.671253629592222\n",
      "23.306680053067517\n"
     ]
    }
   ],
   "source": [
    "height = 1.75\n",
    "weight = 70\n",
    "bmi = weight / height**2\n",
    "print(bmi)\n",
    "\n",
    "height = 1.78\n",
    "weight = 75\n",
    "bmi = weight / height**2\n",
    "print(bmi)\n",
    "\n",
    "height = 1.67\n",
    "weight = 65\n",
    "bmi = weight / height**2\n",
    "print(bmi)"
   ]
  },
  {
   "cell_type": "code",
   "execution_count": null,
   "id": "a5e34577",
   "metadata": {},
   "outputs": [],
   "source": [
    "# function definition\n",
    "# every function has a name\n",
    "def bmi():\n",
    "    #statement1\n",
    "    pass\n",
    "\n"
   ]
  },
  {
   "cell_type": "code",
   "execution_count": 12,
   "id": "2f435d04",
   "metadata": {},
   "outputs": [
    {
     "name": "stdout",
     "output_type": "stream",
     "text": [
      "This function will calculate your BMI\n"
     ]
    }
   ],
   "source": [
    "# In order to run function body, you have to call your function\n",
    "def bmi():\n",
    "    #statement1\n",
    "    print(\"This function will calculate your BMI\")\n",
    "    \n",
    "bmi()  # function calling (name of function followed by paranthesis)"
   ]
  },
  {
   "cell_type": "code",
   "execution_count": 13,
   "id": "0f04539e",
   "metadata": {},
   "outputs": [
    {
     "name": "stdout",
     "output_type": "stream",
     "text": [
      "This function will calculate your BMI\n",
      "22.857142857142858\n"
     ]
    }
   ],
   "source": [
    "# In order to run function body, you have to call your function\n",
    "def bmi():\n",
    "    #statement1\n",
    "    print(\"This function will calculate your BMI\")\n",
    "    height = 1.75\n",
    "    weight = 70\n",
    "    bmi = weight / height**2\n",
    "    print(bmi)\n",
    "    \n",
    "bmi()  # function calling (name of function followed by paranthesis)"
   ]
  },
  {
   "cell_type": "code",
   "execution_count": 18,
   "id": "5a502366",
   "metadata": {},
   "outputs": [
    {
     "name": "stdout",
     "output_type": "stream",
     "text": [
      "This function will calculate your BMI\n",
      "22.857142857142858\n",
      "This function will calculate your BMI\n",
      "23.671253629592222\n",
      "This function will calculate your BMI\n",
      "23.306680053067517\n"
     ]
    }
   ],
   "source": [
    "# Arguments and parameters\n",
    "# parameters are written inside paranthesis of function definition. parameters are like variables\n",
    "# Arguments are the values that you pass to your function parameters when you call it\n",
    "def bmi(height, weight):\n",
    "    #statement1\n",
    "    print(\"This function will calculate your BMI\")\n",
    "    bmi = weight / height ** 2\n",
    "    print(bmi)\n",
    "    \n",
    "    \n",
    "bmi(1.75, 70)  # function calling (name of function followed by paranthesis)\n",
    "bmi(1.78, 75)\n",
    "bmi(1.67, 65)"
   ]
  },
  {
   "cell_type": "code",
   "execution_count": 21,
   "id": "de593504",
   "metadata": {},
   "outputs": [
    {
     "name": "stdout",
     "output_type": "stream",
     "text": [
      "This function will calculate your BMI\n",
      "result is 22.857142857142858\n"
     ]
    }
   ],
   "source": [
    "# return\n",
    "# return satement is used to return a value to a function calling point\n",
    "# once a function returns a value, either you can save it in a variable or print it directly\n",
    "def bmi(height, weight):\n",
    "    #statement1\n",
    "    print(\"This function will calculate your BMI\")\n",
    "    bmi_result = weight / height ** 2     # 22.67\n",
    "    return bmi_result\n",
    "    \n",
    "    \n",
    "result = bmi(1.75, 70)  # function calling (name of function followed by paranthesis)\n",
    "print(\"result is\", result)"
   ]
  },
  {
   "cell_type": "code",
   "execution_count": 23,
   "id": "a6c7dcf5",
   "metadata": {},
   "outputs": [
    {
     "name": "stdout",
     "output_type": "stream",
     "text": [
      "This function will calculate your BMI\n",
      "22.857142857142858\n",
      "result is None\n"
     ]
    }
   ],
   "source": [
    "# when your function doesn't returns a value, then it returns None\n",
    "def bmi(height, weight):\n",
    "    #statement1\n",
    "    print(\"This function will calculate your BMI\")\n",
    "    bmi_result = weight / height ** 2     # 22.67\n",
    "    print(bmi_result)\n",
    "    \n",
    "    \n",
    "result = bmi(1.75, 70)  # function calling (name of function followed by paranthesis)\n",
    "print(\"result is\", result)"
   ]
  },
  {
   "cell_type": "code",
   "execution_count": 28,
   "id": "a8e5d5ee",
   "metadata": {},
   "outputs": [
    {
     "name": "stdout",
     "output_type": "stream",
     "text": [
      "35\n"
     ]
    }
   ],
   "source": [
    "def absolute(k):\n",
    "    if k >= 0:\n",
    "        return k\n",
    "    else:\n",
    "        return -k\n",
    "    \n",
    "value = absolute(-35)\n",
    "print(value)"
   ]
  },
  {
   "cell_type": "code",
   "execution_count": 32,
   "id": "23d64bf5",
   "metadata": {},
   "outputs": [
    {
     "name": "stdout",
     "output_type": "stream",
     "text": [
      "True\n"
     ]
    }
   ],
   "source": [
    "def multiple(n,m):\n",
    "    return n % m == 0\n",
    "\n",
    "value = multiple(10,5)\n",
    "print(value)"
   ]
  },
  {
   "cell_type": "code",
   "execution_count": 36,
   "id": "de828dac",
   "metadata": {},
   "outputs": [
    {
     "name": "stdout",
     "output_type": "stream",
     "text": [
      "[1, 4, 9, 16, 25, 36, 49, 64, 81, 100, 121]\n"
     ]
    }
   ],
   "source": [
    "n = 11\n",
    "# num = 1\n",
    "# num = 2\n",
    "list1 = []\n",
    "for num in range(1, n + 1):\n",
    "    list1.append(num**2)\n",
    "    \n",
    "print(list1)\n",
    "    \n",
    "    "
   ]
  }
 ],
 "metadata": {
  "kernelspec": {
   "display_name": "Python 3 (ipykernel)",
   "language": "python",
   "name": "python3"
  },
  "language_info": {
   "codemirror_mode": {
    "name": "ipython",
    "version": 3
   },
   "file_extension": ".py",
   "mimetype": "text/x-python",
   "name": "python",
   "nbconvert_exporter": "python",
   "pygments_lexer": "ipython3",
   "version": "3.9.7"
  }
 },
 "nbformat": 4,
 "nbformat_minor": 5
}
