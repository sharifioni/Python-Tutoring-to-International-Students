{
 "cells": [
  {
   "cell_type": "markdown",
   "id": "2613b047",
   "metadata": {},
   "source": [
    "* print()\n",
    "* Data Types\n",
    "* Arithmetic Operators\n",
    "* fstrings\n",
    "* Variables\n",
    "* Comparison Operators\n",
    "* Logical Operators"
   ]
  },
  {
   "cell_type": "code",
   "execution_count": 7,
   "id": "cf83fb06",
   "metadata": {},
   "outputs": [
    {
     "name": "stdout",
     "output_type": "stream",
     "text": [
      "Enter a month number: 1\n",
      "Jan\n"
     ]
    }
   ],
   "source": [
    "month_value = int(input(\"Enter a month number: \"))\n",
    "\n",
    "month = [\"Jan\", \"Feb\", \"Mar\", \"Apr\", \"May\", \"Jun\", \"Jul\", \"Aug\", \"Sept\", \"Oct\", \"Nov\", \"Dec\"]\n",
    "\n",
    "if month_value == 1:\n",
    "    print(month[0])\n"
   ]
  },
  {
   "cell_type": "code",
   "execution_count": null,
   "id": "c1aab00c",
   "metadata": {},
   "outputs": [],
   "source": [
    "month_value = int(input(\"Enter a month number: \"))\n",
    "month = [\"Jan\", \"Feb\", \"Mar\", \"Apr\", \"May\", \"Jun\", \"Jul\", \"Aug\", \"Sept\", \"Oct\", \"Nov\", \"Dec\"]\n",
    "\n",
    "if month_value == 1:\n",
    "    print(month[0])\n",
    "elif month_value == 2:\n",
    "    print(month[1])\n",
    "elif month_value == 3:\n",
    "    print(month[2])\n",
    "elif month_value == 4:\n",
    "    print(month[3])\n",
    "elif month_value == 5:\n",
    "    print(month[4])\n",
    "elif month_value == 6:\n",
    "    print(month[5])\n",
    "elif month_value == 7:\n",
    "    print(month[6])\n",
    "elif month_value == 8:\n",
    "    print(month[7])\n",
    "elif month_value == 9:\n",
    "    print(month[8])\n",
    "elif month_value == 10:\n",
    "    print(month[9])\n",
    "elif month_value == 11:\n",
    "    print(month[10])\n",
    "elif month_value == 12:\n",
    "    print(month[11])\n",
    "else:\n",
    "    print('Invalid month')\n"
   ]
  },
  {
   "cell_type": "code",
   "execution_count": 5,
   "id": "4cdec320",
   "metadata": {},
   "outputs": [
    {
     "name": "stdout",
     "output_type": "stream",
     "text": [
      "Enter a month number: 12\n",
      "Dec\n"
     ]
    }
   ],
   "source": [
    "month_value = int(input(\"Enter a month number: \"))\n",
    "month = [\"Jan\", \"Feb\", \"Mar\", \"Apr\", \"May\", \"Jun\", \"Jul\", \"Aug\", \"Sept\", \"Oct\", \"Nov\", \"Dec\"]\n",
    "\n",
    "if month_value in range(1,13):\n",
    "    print(month[month_value-1])\n",
    "else:\n",
    "    print(\"Invalid Month\")"
   ]
  },
  {
   "cell_type": "code",
   "execution_count": null,
   "id": "000ddc4c",
   "metadata": {},
   "outputs": [],
   "source": [
    "# Guessing game\n",
    "# you have to ask a user to guess a value between 1 to 20\n",
    "# Correct guess is 7\n",
    "# if guess is equal to correct guess display \"You win\" message\n",
    "# else print \"you lose\" message\n",
    "\n",
    "guess = int(input(\"Enter a number between 1 and 20: \"))\n",
    "correct_guess = 7\n",
    "\n",
    "if guess == correct_guess:\n",
    "    print('You win')\n",
    "else: \n",
    "    print(\"you loose\")\n"
   ]
  },
  {
   "cell_type": "code",
   "execution_count": 6,
   "id": "a6050d99",
   "metadata": {},
   "outputs": [
    {
     "name": "stdout",
     "output_type": "stream",
     "text": [
      "Enter a number between 1 and 20: 4\n",
      "Please guess with a greater number\n"
     ]
    }
   ],
   "source": [
    "# if guess value is less than correct guess, ask the user to guess higher\n",
    "# if guess value is greater than correct guess, ask the user to guess lower\n",
    "# if guess is equal to correct guess display \"You win\" message\n",
    "\n",
    "guess = int(input(\"Enter a number between 1 and 20: \")) #4\n",
    "correct_guess = 7\n",
    "\n",
    "if guess == correct_guess:\n",
    "    print('You win')\n",
    "    \n",
    "elif guess > correct_guess:\n",
    "    print('Please guess again with a lower number')\n",
    "    # Take guess value again\n",
    "    # This time if guess != correct display \"you lose\"\n",
    "    # if guess == correct display \"you win\"\n",
    "    \n",
    "elif guess < correct_guess:\n",
    "    print('Please guess with a greater number')\n",
    "    # Take guess value again\n",
    "    # This time if guess != correct display \"you lose\"\n",
    "    # if guess == correct display \"you win\"\n",
    "    \n"
   ]
  }
 ],
 "metadata": {
  "kernelspec": {
   "display_name": "Python 3 (ipykernel)",
   "language": "python",
   "name": "python3"
  },
  "language_info": {
   "codemirror_mode": {
    "name": "ipython",
    "version": 3
   },
   "file_extension": ".py",
   "mimetype": "text/x-python",
   "name": "python",
   "nbconvert_exporter": "python",
   "pygments_lexer": "ipython3",
   "version": "3.9.7"
  }
 },
 "nbformat": 4,
 "nbformat_minor": 5
}
