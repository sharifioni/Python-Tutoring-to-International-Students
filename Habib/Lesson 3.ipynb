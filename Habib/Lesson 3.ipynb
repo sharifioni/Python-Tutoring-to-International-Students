{
 "cells": [
  {
   "cell_type": "code",
   "execution_count": 19,
   "id": "d88377c2",
   "metadata": {},
   "outputs": [
    {
     "name": "stdout",
     "output_type": "stream",
     "text": [
      " 316.85\n"
     ]
    }
   ],
   "source": [
    "future_value = 350\n",
    "rate = 0.01 \n",
    "n = 10\n",
    "PV = future_value/(1+rate)**n\n",
    "print(f'{PV : .2f}')\n"
   ]
  },
  {
   "cell_type": "code",
   "execution_count": 2,
   "id": "79e79a42",
   "metadata": {},
   "outputs": [
    {
     "name": "stdout",
     "output_type": "stream",
     "text": [
      " 316.85\n"
     ]
    }
   ],
   "source": [
    "future_value = 350\n",
    "rate = 0.01 \n",
    "n = 10\n",
    "PV = future_value/(1+rate)**n\n",
    "print(f'{PV : .2f}')"
   ]
  },
  {
   "cell_type": "code",
   "execution_count": 3,
   "id": "75756b97",
   "metadata": {},
   "outputs": [
    {
     "name": "stdout",
     "output_type": "stream",
     "text": [
      "316.85\n"
     ]
    }
   ],
   "source": [
    "future_value = 350\n",
    "rate = 0.01 \n",
    "n = 10\n",
    "PV = future_value/(1+rate)**n\n",
    "print(round(PV, 2))"
   ]
  },
  {
   "cell_type": "code",
   "execution_count": 6,
   "id": "2b91def9",
   "metadata": {},
   "outputs": [
    {
     "name": "stdout",
     "output_type": "stream",
     "text": [
      "1200\n"
     ]
    }
   ],
   "source": [
    "list1 = [0, 1000, 2, 999, 5, 100, 54, 1200]\n",
    "\n",
    "largest_num = list1[0]\n",
    "\n",
    "for number in list1:\n",
    "    if number > largest_num:\n",
    "        largest_num = number\n",
    "\n",
    "print(largest_num)\n"
   ]
  },
  {
   "cell_type": "code",
   "execution_count": 25,
   "id": "0291e4d0",
   "metadata": {},
   "outputs": [
    {
     "name": "stdout",
     "output_type": "stream",
     "text": [
      "0     0     0    \n",
      "1     1     1    \n",
      "2     4     8    \n",
      "3     9     27   \n",
      "4     16    64   \n",
      "5     25    125  \n"
     ]
    }
   ],
   "source": [
    "\n",
    "for number in range(6):\n",
    "    print(f\"{number : <5} {number**2 : <5} {number**3 : <5}\") \n"
   ]
  },
  {
   "cell_type": "code",
   "execution_count": 10,
   "id": "841f962b",
   "metadata": {},
   "outputs": [
    {
     "name": "stdout",
     "output_type": "stream",
     "text": [
      "Hello World Python\n"
     ]
    }
   ],
   "source": [
    "print(\"Hello\",\"World\",\"Python\")"
   ]
  },
  {
   "cell_type": "code",
   "execution_count": 11,
   "id": "e28120e0",
   "metadata": {},
   "outputs": [
    {
     "name": "stdout",
     "output_type": "stream",
     "text": [
      "Help on built-in function print in module builtins:\n",
      "\n",
      "print(...)\n",
      "    print(value, ..., sep=' ', end='\\n', file=sys.stdout, flush=False)\n",
      "    \n",
      "    Prints the values to a stream, or to sys.stdout by default.\n",
      "    Optional keyword arguments:\n",
      "    file:  a file-like object (stream); defaults to the current sys.stdout.\n",
      "    sep:   string inserted between values, default a space.\n",
      "    end:   string appended after the last value, default a newline.\n",
      "    flush: whether to forcibly flush the stream.\n",
      "\n"
     ]
    }
   ],
   "source": [
    "help(print)"
   ]
  },
  {
   "cell_type": "code",
   "execution_count": 14,
   "id": "9f2a5611",
   "metadata": {},
   "outputs": [
    {
     "name": "stdout",
     "output_type": "stream",
     "text": [
      "Hello\tWorld\tPython\n"
     ]
    }
   ],
   "source": [
    "print(\"Hello\",\"World\",\"Python\", sep =\"\\t\")"
   ]
  },
  {
   "cell_type": "code",
   "execution_count": 28,
   "id": "14fe381c",
   "metadata": {},
   "outputs": [
    {
     "name": "stdout",
     "output_type": "stream",
     "text": [
      "Hello\tWorld\tPython\n"
     ]
    }
   ],
   "source": [
    "print(\"Hello\", end=\"\\t\")\n",
    "print(\"World\", end=\"\\t\")\n",
    "print(\"Python\")"
   ]
  },
  {
   "cell_type": "code",
   "execution_count": 31,
   "id": "8c8fdecd",
   "metadata": {},
   "outputs": [
    {
     "name": "stdout",
     "output_type": "stream",
     "text": [
      "0\t1\t2\t3\t4\t5\t6\t7\t8\t9\t10\t"
     ]
    }
   ],
   "source": [
    "for i in range(11):\n",
    "    print(i, end=\"\\t\")"
   ]
  },
  {
   "cell_type": "markdown",
   "id": "82249eb7",
   "metadata": {},
   "source": [
    "# Iterables\n",
    "# Sequences"
   ]
  },
  {
   "cell_type": "markdown",
   "id": "29040cc4",
   "metadata": {},
   "source": [
    "# for loops \n",
    "* strings\n",
    "* lists\n",
    "* tuples\n",
    "* dictionary\n",
    "* set"
   ]
  },
  {
   "cell_type": "code",
   "execution_count": 34,
   "id": "4bd0134b",
   "metadata": {},
   "outputs": [
    {
     "name": "stdout",
     "output_type": "stream",
     "text": [
      "J\n",
      "u\n",
      "p\n",
      "y\n",
      "t\n",
      "e\n",
      "r\n"
     ]
    }
   ],
   "source": [
    "a = \"Jupyter\"\n",
    "for i in a:\n",
    "    print(i)\n",
    "    \n"
   ]
  },
  {
   "cell_type": "code",
   "execution_count": 35,
   "id": "64e5df93",
   "metadata": {},
   "outputs": [
    {
     "name": "stdout",
     "output_type": "stream",
     "text": [
      "J\tu\tp\ty\tt\te\tr\t"
     ]
    }
   ],
   "source": [
    "a = \"jupyter\"\n",
    "for i in a:\n",
    "    print(i, end=\"\\t\")"
   ]
  },
  {
   "cell_type": "code",
   "execution_count": 37,
   "id": "baeac549",
   "metadata": {},
   "outputs": [
    {
     "name": "stdout",
     "output_type": "stream",
     "text": [
      "Enter any word: jupyter\n",
      "vowel in jupyter is u\n",
      "vowel in jupyter is e\n"
     ]
    }
   ],
   "source": [
    "# Take a string from the user and print vowels\n",
    "a = input(\"Enter any word: \")\n",
    "\n",
    "for vowel in a:\n",
    "    if vowel == \"a\" or vowel == \"e\" or vowel == \"i\" or vowel == \"o\" or vowel == \"u\":\n",
    "        print(f\"vowel in {a} is {vowel}\")\n",
    "\n"
   ]
  },
  {
   "cell_type": "markdown",
   "id": "b991282c",
   "metadata": {},
   "source": [
    "# Homework\n",
    "* Do for loops, while loops practice with examples\n",
    "* Coiunt number of vowels and consonants in a string\n",
    "* break and continue in loops\n",
    "* lesson1, lesson2, lesson3"
   ]
  },
  {
   "cell_type": "markdown",
   "id": "4929b722",
   "metadata": {},
   "source": []
  },
  {
   "cell_type": "code",
   "execution_count": null,
   "id": "c9c45beb",
   "metadata": {},
   "outputs": [],
   "source": []
  }
 ],
 "metadata": {
  "kernelspec": {
   "display_name": "Python 3 (ipykernel)",
   "language": "python",
   "name": "python3"
  },
  "language_info": {
   "codemirror_mode": {
    "name": "ipython",
    "version": 3
   },
   "file_extension": ".py",
   "mimetype": "text/x-python",
   "name": "python",
   "nbconvert_exporter": "python",
   "pygments_lexer": "ipython3",
   "version": "3.9.7"
  }
 },
 "nbformat": 4,
 "nbformat_minor": 5
}
