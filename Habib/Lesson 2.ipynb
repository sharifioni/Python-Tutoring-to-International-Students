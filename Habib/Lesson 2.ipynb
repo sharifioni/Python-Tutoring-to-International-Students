{
 "cells": [
  {
   "cell_type": "markdown",
   "id": "cbba8e2b",
   "metadata": {},
   "source": [
    "# Python inbuilt functions\n",
    "* len()\n",
    "* min()\n",
    "* max()\n",
    "* sorted()\n",
    "* round()\n",
    "* sum()"
   ]
  },
  {
   "cell_type": "code",
   "execution_count": 3,
   "id": "5fbf6d46",
   "metadata": {},
   "outputs": [
    {
     "name": "stdout",
     "output_type": "stream",
     "text": [
      "1683.947877\n",
      "1683.95\n"
     ]
    }
   ],
   "source": [
    "answer = 1683.947877\n",
    "print(answer)\n",
    "answer = round(answer, 2)\n",
    "print(answer)"
   ]
  },
  {
   "cell_type": "code",
   "execution_count": 2,
   "id": "aeb155ab",
   "metadata": {},
   "outputs": [
    {
     "name": "stdout",
     "output_type": "stream",
     "text": [
      "Help on built-in function round in module builtins:\n",
      "\n",
      "round(number, ndigits=None)\n",
      "    Round a number to a given precision in decimal digits.\n",
      "    \n",
      "    The return value is an integer if ndigits is omitted or None.  Otherwise\n",
      "    the return value has the same type as the number.  ndigits may be negative.\n",
      "\n"
     ]
    }
   ],
   "source": [
    "help(round)"
   ]
  },
  {
   "cell_type": "code",
   "execution_count": 15,
   "id": "60ce171b",
   "metadata": {},
   "outputs": [
    {
     "name": "stdout",
     "output_type": "stream",
     "text": [
      "7\n",
      "20\n"
     ]
    }
   ],
   "source": [
    "age1 = 15\n",
    "age2 = 20\n",
    "age3 = 7\n",
    "print(min(age1, age2, age3))\n",
    "print(max(age1, age2, age3))"
   ]
  },
  {
   "cell_type": "code",
   "execution_count": 13,
   "id": "6d834c36",
   "metadata": {},
   "outputs": [
    {
     "name": "stdout",
     "output_type": "stream",
     "text": [
      "Youngest 7\n"
     ]
    }
   ],
   "source": [
    "age1 = 15\n",
    "age2 = 20\n",
    "age3 = 7\n",
    "\n",
    "\n",
    "if age2 < age1 and age2 < age3:\n",
    "    print(\"Youngest\", age2)\n",
    "\n",
    "elif age3 < age1 and age3 < age2:\n",
    "    print(\"Youngest\", age3)\n",
    "\n",
    "elif age1 < age2 and age1 < age3:\n",
    "    print(\"Youngest\", age1)\n",
    "    "
   ]
  },
  {
   "cell_type": "code",
   "execution_count": 5,
   "id": "3aa0b4dc",
   "metadata": {},
   "outputs": [
    {
     "name": "stdout",
     "output_type": "stream",
     "text": [
      "Help on built-in function min in module builtins:\n",
      "\n",
      "min(...)\n",
      "    min(iterable, *[, default=obj, key=func]) -> value\n",
      "    min(arg1, arg2, *args, *[, key=func]) -> value\n",
      "    \n",
      "    With a single iterable argument, return its smallest item. The\n",
      "    default keyword-only argument specifies an object to return if\n",
      "    the provided iterable is empty.\n",
      "    With two or more arguments, return the smallest argument.\n",
      "\n"
     ]
    }
   ],
   "source": [
    "help(min)"
   ]
  },
  {
   "cell_type": "code",
   "execution_count": 16,
   "id": "db148eff",
   "metadata": {},
   "outputs": [
    {
     "name": "stdout",
     "output_type": "stream",
     "text": [
      "apple\n",
      "mango\n"
     ]
    }
   ],
   "source": [
    "print(min(\"banana\", \"apple\", \"mango\"))\n",
    "print(max(\"banana\", \"apple\", \"mango\"))"
   ]
  },
  {
   "cell_type": "code",
   "execution_count": 20,
   "id": "d99a2812",
   "metadata": {},
   "outputs": [
    {
     "name": "stdout",
     "output_type": "stream",
     "text": [
      "['mango', 'banana', 'apple']\n"
     ]
    }
   ],
   "source": [
    "\n",
    "print(sorted((\"banana\", \"apple\", \"mango\"), reverse = True))"
   ]
  },
  {
   "cell_type": "code",
   "execution_count": 22,
   "id": "e7623805",
   "metadata": {},
   "outputs": [
    {
     "name": "stdout",
     "output_type": "stream",
     "text": [
      "[10, 15, 18, 25]\n"
     ]
    }
   ],
   "source": [
    "print(sorted((25, 18, 10, 15)))"
   ]
  },
  {
   "cell_type": "code",
   "execution_count": 24,
   "id": "706ae14d",
   "metadata": {},
   "outputs": [
    {
     "name": "stdout",
     "output_type": "stream",
     "text": [
      "Help on built-in function len in module builtins:\n",
      "\n",
      "len(obj, /)\n",
      "    Return the number of items in a container.\n",
      "\n"
     ]
    }
   ],
   "source": [
    "help(len)"
   ]
  },
  {
   "cell_type": "code",
   "execution_count": 23,
   "id": "1402d7d3",
   "metadata": {},
   "outputs": [
    {
     "name": "stdout",
     "output_type": "stream",
     "text": [
      "Help on built-in function sorted in module builtins:\n",
      "\n",
      "sorted(iterable, /, *, key=None, reverse=False)\n",
      "    Return a new list containing all items from the iterable in ascending order.\n",
      "    \n",
      "    A custom key function can be supplied to customize the sort order, and the\n",
      "    reverse flag can be set to request the result in descending order.\n",
      "\n"
     ]
    }
   ],
   "source": [
    "help(sorted)"
   ]
  },
  {
   "cell_type": "code",
   "execution_count": 26,
   "id": "312b05fb",
   "metadata": {},
   "outputs": [
    {
     "name": "stdout",
     "output_type": "stream",
     "text": [
      "6\n",
      "5\n",
      "3\n",
      "2\n",
      "4\n",
      "9\n"
     ]
    }
   ],
   "source": [
    "a = \"Python\"\n",
    "b =  [12, 15, 17, 11, 9]\n",
    "c = (12, 15, 17)\n",
    "d = {\"Color\" : \"Red\", \"Year\" : \"2022\"}\n",
    "e = {12, 13, 14, 15}\n",
    "f = range(1, 10)\n",
    "\n",
    "print(len(a))\n",
    "print(len(b))\n",
    "print(len(c))\n",
    "print(len(d))\n",
    "print(len(e))\n",
    "print(len(f))"
   ]
  },
  {
   "cell_type": "code",
   "execution_count": 10,
   "id": "21b985b5",
   "metadata": {},
   "outputs": [
    {
     "name": "stdout",
     "output_type": "stream",
     "text": [
      "Enter two integers, and I will tell you the relationships they satisfy.\n",
      "Enter first integer: 10\n",
      "Enter second integer: 15\n",
      "10 is not equal to 15\n",
      "10 is less than 15\n",
      "10 is less than or equal to 15\n"
     ]
    }
   ],
   "source": [
    "print('Enter two integers, and I will tell you','the relationships they satisfy.')\n",
    "\n",
    "# read first integer\n",
    "number1 = int(input('Enter first integer: ')) #5\n",
    "\n",
    "# read second integer\n",
    "number2 = int(input('Enter second integer: ')) #5\n",
    "\n",
    "if number1 == number2:\n",
    "    print(number1, 'is equal to', number2)\n",
    "\n",
    "if number1 != number2:  # True\n",
    "    print(number1, 'is not equal to', number2)\n",
    "\n",
    "if number1 < number2: #True\n",
    "    print(number1, 'is less than', number2)\n",
    "\n",
    "if number1 > number2: \n",
    "    print(number1, 'is greater than', number2)\n",
    "\n",
    "if number1 <= number2: # True\n",
    "    print(number1, 'is less than or equal to', number2)\n",
    "\n",
    "if number1 >= number2: \n",
    "    print(number1, 'is greater than or equal to', number2)\n"
   ]
  },
  {
   "cell_type": "code",
   "execution_count": 11,
   "id": "3592248d",
   "metadata": {},
   "outputs": [
    {
     "name": "stdout",
     "output_type": "stream",
     "text": [
      "Enter two integers, and I will tell you the relationships they satisfy.\n",
      "Enter first integer: 10\n",
      "Enter second integer: 15\n",
      "10 is not equal to 15\n"
     ]
    }
   ],
   "source": [
    "print('Enter two integers, and I will tell you','the relationships they satisfy.')\n",
    "\n",
    "# read first integer\n",
    "number1 = int(input('Enter first integer: ')) #5\n",
    "\n",
    "# read second integer\n",
    "number2 = int(input('Enter second integer: ')) #5\n",
    "\n",
    "if number1 == number2:\n",
    "    print(number1, 'is equal to', number2)\n",
    "\n",
    "elif number1 != number2:  # True\n",
    "    print(number1, 'is not equal to', number2)\n",
    "\n",
    "elif number1 < number2: #True\n",
    "    print(number1, 'is less than', number2)\n",
    "\n",
    "elif number1 > number2: \n",
    "    print(number1, 'is greater than', number2)\n",
    "\n",
    "elif number1 <= number2: # True\n",
    "    print(number1, 'is less than or equal to', number2)\n",
    "\n",
    "elif number1 >= number2: \n",
    "    print(number1, 'is greater than or equal to', number2)\n"
   ]
  },
  {
   "cell_type": "markdown",
   "id": "fdb89620",
   "metadata": {},
   "source": [
    "Multiple if statement is used when you have to check more than one True condition. if elif statements are used when you have to check only one True condition"
   ]
  },
  {
   "cell_type": "markdown",
   "id": "207be22a",
   "metadata": {},
   "source": [
    "# Iterables\n",
    "* strings\n",
    "* range\n",
    "* lists\n",
    "* Tuples\n",
    "* dictionaries\n",
    "* sets"
   ]
  },
  {
   "cell_type": "markdown",
   "id": "6949a237",
   "metadata": {},
   "source": [
    "for loop    (you use it with iterables)  definite loop\n",
    "while loop (Based on a condition, it keeps running until condition is met) indefinite loop"
   ]
  },
  {
   "cell_type": "markdown",
   "id": "29005660",
   "metadata": {},
   "source": [
    "# for loops\n",
    "* for variable_name in iterable:\n",
    "    statement1\n",
    "    statement2\n",
    "    statement3\n",
    "    .........\n",
    "\n",
    "* for loop runs until the last item in your iterable"
   ]
  },
  {
   "cell_type": "code",
   "execution_count": 40,
   "id": "b45d160a",
   "metadata": {},
   "outputs": [
    {
     "name": "stdout",
     "output_type": "stream",
     "text": [
      "0\n",
      "1\n",
      "2\n",
      "3\n",
      "4\n",
      "5\n",
      "6\n",
      "7\n",
      "8\n",
      "9\n",
      "10\n",
      "11\n"
     ]
    }
   ],
   "source": [
    "# for loops with range\n",
    "# range(start, stop, step)\n",
    "\n",
    "\n",
    "# When you only give 1 value\n",
    "# start = 0, stop = 12, step  = 1\n",
    "for i in range(12):\n",
    "    print(i)"
   ]
  },
  {
   "cell_type": "code",
   "execution_count": 38,
   "id": "940da722",
   "metadata": {},
   "outputs": [
    {
     "name": "stdout",
     "output_type": "stream",
     "text": [
      "Help on class range in module builtins:\n",
      "\n",
      "class range(object)\n",
      " |  range(stop) -> range object\n",
      " |  range(start, stop[, step]) -> range object\n",
      " |  \n",
      " |  Return an object that produces a sequence of integers from start (inclusive)\n",
      " |  to stop (exclusive) by step.  range(i, j) produces i, i+1, i+2, ..., j-1.\n",
      " |  start defaults to 0, and stop is omitted!  range(4) produces 0, 1, 2, 3.\n",
      " |  These are exactly the valid indices for a list of 4 elements.\n",
      " |  When step is given, it specifies the increment (or decrement).\n",
      " |  \n",
      " |  Methods defined here:\n",
      " |  \n",
      " |  __bool__(self, /)\n",
      " |      self != 0\n",
      " |  \n",
      " |  __contains__(self, key, /)\n",
      " |      Return key in self.\n",
      " |  \n",
      " |  __eq__(self, value, /)\n",
      " |      Return self==value.\n",
      " |  \n",
      " |  __ge__(self, value, /)\n",
      " |      Return self>=value.\n",
      " |  \n",
      " |  __getattribute__(self, name, /)\n",
      " |      Return getattr(self, name).\n",
      " |  \n",
      " |  __getitem__(self, key, /)\n",
      " |      Return self[key].\n",
      " |  \n",
      " |  __gt__(self, value, /)\n",
      " |      Return self>value.\n",
      " |  \n",
      " |  __hash__(self, /)\n",
      " |      Return hash(self).\n",
      " |  \n",
      " |  __iter__(self, /)\n",
      " |      Implement iter(self).\n",
      " |  \n",
      " |  __le__(self, value, /)\n",
      " |      Return self<=value.\n",
      " |  \n",
      " |  __len__(self, /)\n",
      " |      Return len(self).\n",
      " |  \n",
      " |  __lt__(self, value, /)\n",
      " |      Return self<value.\n",
      " |  \n",
      " |  __ne__(self, value, /)\n",
      " |      Return self!=value.\n",
      " |  \n",
      " |  __reduce__(...)\n",
      " |      Helper for pickle.\n",
      " |  \n",
      " |  __repr__(self, /)\n",
      " |      Return repr(self).\n",
      " |  \n",
      " |  __reversed__(...)\n",
      " |      Return a reverse iterator.\n",
      " |  \n",
      " |  count(...)\n",
      " |      rangeobject.count(value) -> integer -- return number of occurrences of value\n",
      " |  \n",
      " |  index(...)\n",
      " |      rangeobject.index(value) -> integer -- return index of value.\n",
      " |      Raise ValueError if the value is not present.\n",
      " |  \n",
      " |  ----------------------------------------------------------------------\n",
      " |  Static methods defined here:\n",
      " |  \n",
      " |  __new__(*args, **kwargs) from builtins.type\n",
      " |      Create and return a new object.  See help(type) for accurate signature.\n",
      " |  \n",
      " |  ----------------------------------------------------------------------\n",
      " |  Data descriptors defined here:\n",
      " |  \n",
      " |  start\n",
      " |  \n",
      " |  step\n",
      " |  \n",
      " |  stop\n",
      "\n"
     ]
    }
   ],
   "source": [
    "help(range)"
   ]
  },
  {
   "cell_type": "code",
   "execution_count": 28,
   "id": "1e2c821a",
   "metadata": {},
   "outputs": [
    {
     "name": "stdout",
     "output_type": "stream",
     "text": [
      "3\n",
      "4\n",
      "5\n",
      "6\n",
      "7\n",
      "8\n",
      "9\n",
      "10\n",
      "11\n"
     ]
    }
   ],
   "source": [
    "\n",
    "# When you give 2 values\n",
    "# start = 3, stop = 12, step  = 1\n",
    "for i in range(3 , 12):\n",
    "    print(i)"
   ]
  },
  {
   "cell_type": "code",
   "execution_count": 29,
   "id": "9f927a83",
   "metadata": {},
   "outputs": [
    {
     "name": "stdout",
     "output_type": "stream",
     "text": [
      "3\n",
      "6\n",
      "9\n",
      "12\n",
      "15\n"
     ]
    }
   ],
   "source": [
    "# When you give 3 values\n",
    "# start = 3, stop = 16, step  = 3\n",
    "for i in range(3 , 16, 3):\n",
    "    print(i)"
   ]
  },
  {
   "cell_type": "code",
   "execution_count": 31,
   "id": "512a0fcf",
   "metadata": {},
   "outputs": [
    {
     "name": "stdout",
     "output_type": "stream",
     "text": [
      "16\n",
      "13\n",
      "10\n",
      "7\n",
      "4\n"
     ]
    }
   ],
   "source": [
    "# negative step\n",
    "# start value should be greater than stop value\n",
    "# When you give 3 values\n",
    "# start = 16, stop = 3, step  = -3\n",
    "for i in range(16 , 3, -3):\n",
    "    print(i)"
   ]
  },
  {
   "cell_type": "code",
   "execution_count": 32,
   "id": "1bc4c16e",
   "metadata": {},
   "outputs": [
    {
     "name": "stdout",
     "output_type": "stream",
     "text": [
      "16\n",
      "15\n",
      "14\n",
      "13\n",
      "12\n",
      "11\n",
      "10\n",
      "9\n",
      "8\n",
      "7\n",
      "6\n",
      "5\n",
      "4\n"
     ]
    }
   ],
   "source": [
    "# negative step\n",
    "# start value should be greater than stop value\n",
    "# When you give 3 values\n",
    "# start = 16, stop = 3, step  = -1\n",
    "for i in range(16 , 3, -1):\n",
    "    print(i)"
   ]
  },
  {
   "cell_type": "code",
   "execution_count": 36,
   "id": "0c10f04e",
   "metadata": {},
   "outputs": [
    {
     "name": "stdout",
     "output_type": "stream",
     "text": [
      "Enter any number: 6\n",
      "6 * 1 = 6\n",
      "6 * 2 = 12\n",
      "6 * 3 = 18\n",
      "6 * 4 = 24\n",
      "6 * 5 = 30\n",
      "6 * 6 = 36\n",
      "6 * 7 = 42\n",
      "6 * 8 = 48\n",
      "6 * 9 = 54\n",
      "6 * 10 = 60\n"
     ]
    }
   ],
   "source": [
    "# printing a table of any number using for loop and range\n",
    "number = int(input(\"Enter any number: \")) \n",
    "\n",
    "for i in range(1, 11):\n",
    "    print(number,\"*\", i, \"=\", number*i)"
   ]
  },
  {
   "cell_type": "code",
   "execution_count": null,
   "id": "ab68192d",
   "metadata": {},
   "outputs": [],
   "source": []
  },
  {
   "cell_type": "code",
   "execution_count": 37,
   "id": "c7ee8cdc",
   "metadata": {},
   "outputs": [
    {
     "name": "stdout",
     "output_type": "stream",
     "text": [
      "Enter any number: 6\n",
      "6 * 1 = 6\n",
      "6 * 2 = 12\n",
      "6 * 3 = 18\n",
      "6 * 4 = 24\n",
      "6 * 5 = 30\n",
      "6 * 6 = 36\n",
      "6 * 7 = 42\n",
      "6 * 8 = 48\n",
      "6 * 9 = 54\n",
      "6 * 10 = 60\n"
     ]
    }
   ],
   "source": [
    "# printing a table of any number using for loop and range\n",
    "number = int(input(\"Enter any number: \")) # 5\n",
    "\n",
    "count = 0\n",
    "for i in range(number, number*10+1,number):\n",
    "    count = count + 1\n",
    "    print(number, \"*\",count,\"=\",i)\n",
    "    \n"
   ]
  },
  {
   "cell_type": "markdown",
   "id": "182e16aa",
   "metadata": {},
   "source": [
    "number square cube \n",
    " 0 0 0\n",
    " 1 1 1\n",
    " 2 4 8\n",
    " 3 9 27\n",
    " 4 16 64\n",
    " 5 25 125"
   ]
  }
 ],
 "metadata": {
  "kernelspec": {
   "display_name": "Python 3 (ipykernel)",
   "language": "python",
   "name": "python3"
  },
  "language_info": {
   "codemirror_mode": {
    "name": "ipython",
    "version": 3
   },
   "file_extension": ".py",
   "mimetype": "text/x-python",
   "name": "python",
   "nbconvert_exporter": "python",
   "pygments_lexer": "ipython3",
   "version": "3.9.7"
  }
 },
 "nbformat": 4,
 "nbformat_minor": 5
}
