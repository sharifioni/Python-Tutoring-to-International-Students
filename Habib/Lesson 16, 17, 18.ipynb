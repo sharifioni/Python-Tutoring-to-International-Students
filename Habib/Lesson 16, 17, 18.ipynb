{
 "cells": [
  {
   "cell_type": "markdown",
   "id": "91d294b9",
   "metadata": {},
   "source": [
    "# File handling in python\n",
    "* Open a file\n",
    "* Read or write (perform operation)\n",
    "* close the file"
   ]
  },
  {
   "cell_type": "code",
   "execution_count": null,
   "id": "66c42582",
   "metadata": {},
   "outputs": [],
   "source": [
    "# open() function\n",
    "# open(file_name, mode)   in file name, you specify the path of the file and name, it returns a file object\n",
    "\n",
    "# following are the modes that we can use in open() function\n",
    "\"\"\"\n",
    "r : Opens a file for reading. (default)\n",
    "w : Opens a file for writing. Creates a new file if it does not exist or truncates the file if it exists.\n",
    "x : Creates the specified file, returns an error if the file exists\n",
    "a : Opens a file for appending at the end of the file without truncating it. Creates a new file if it does not exist.\n",
    "\"\"\""
   ]
  }
 ],
 "metadata": {
  "kernelspec": {
   "display_name": "Python 3 (ipykernel)",
   "language": "python",
   "name": "python3"
  },
  "language_info": {
   "codemirror_mode": {
    "name": "ipython",
    "version": 3
   },
   "file_extension": ".py",
   "mimetype": "text/x-python",
   "name": "python",
   "nbconvert_exporter": "python",
   "pygments_lexer": "ipython3",
   "version": "3.9.7"
  }
 },
 "nbformat": 4,
 "nbformat_minor": 5
}
