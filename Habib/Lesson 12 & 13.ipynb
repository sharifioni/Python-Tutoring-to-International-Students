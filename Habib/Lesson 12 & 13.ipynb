{
 "cells": [
  {
   "cell_type": "markdown",
   "id": "8f757e84",
   "metadata": {},
   "source": [
    "# Operators that can be used with strings, lists, tuple\n",
    "* in and not in (iterables, used for searching an element and gives the result as boolean)\n",
    "* \\+  (used for concatenation)\n",
    "* \\*  (used for multiplication)"
   ]
  },
  {
   "cell_type": "code",
   "execution_count": 12,
   "id": "9fc4fc67",
   "metadata": {},
   "outputs": [
    {
     "name": "stdout",
     "output_type": "stream",
     "text": [
      "True\n",
      "False\n",
      "True\n",
      "True\n",
      "Muhammad Ali\n",
      "MuhammadMuhammadMuhammad\n"
     ]
    }
   ],
   "source": [
    "fname = \"Muhammad\"\n",
    "lname = \"Ali\"\n",
    "print('a' in fname)\n",
    "print('x' in fname)\n",
    "print('x' not in fname)\n",
    "print('mad' in fname)\n",
    "\n",
    "print(fname + ' ' + lname)\n",
    "\n",
    "print(fname * 3)\n"
   ]
  },
  {
   "cell_type": "code",
   "execution_count": 16,
   "id": "07b88983",
   "metadata": {},
   "outputs": [
    {
     "name": "stdout",
     "output_type": "stream",
     "text": [
      "True\n",
      "False\n",
      "True\n",
      "7 is present in num\n",
      "[7, 17, 27, 37, 47, 57, 5, 15, 25]\n",
      "[7, 17, 27, 37, 47, 57, 7, 17, 27, 37, 47, 57, 7, 17, 27, 37, 47, 57]\n"
     ]
    }
   ],
   "source": [
    "num = [7, 17, 27, 37, 47, 57]\n",
    "print(7 in num)\n",
    "print(15 in num)\n",
    "print(18 not in num)\n",
    "if 7 in num:\n",
    "    print(\"7 is present in num\")\n",
    "    \n",
    "print(num + [5, 15, 25])\n",
    "print(num * 3)"
   ]
  },
  {
   "cell_type": "code",
   "execution_count": 17,
   "id": "95126376",
   "metadata": {},
   "outputs": [
    {
     "name": "stdout",
     "output_type": "stream",
     "text": [
      "True\n",
      "False\n",
      "True\n",
      "7 is present in num\n",
      "(7, 17, 27, 37, 47, 57, 5, 15, 25)\n",
      "(7, 17, 27, 37, 47, 57, 7, 17, 27, 37, 47, 57, 7, 17, 27, 37, 47, 57)\n"
     ]
    }
   ],
   "source": [
    "num = (7, 17, 27, 37, 47, 57)\n",
    "print(7 in num)\n",
    "print(15 in num)\n",
    "print(18 not in num)\n",
    "if 7 in num:\n",
    "    print(\"7 is present in num\")\n",
    "    \n",
    "print(num + (5, 15, 25))\n",
    "print(num * 3)"
   ]
  },
  {
   "cell_type": "code",
   "execution_count": 18,
   "id": "6ca26a8a",
   "metadata": {},
   "outputs": [
    {
     "name": "stdout",
     "output_type": "stream",
     "text": [
      "*\n",
      "**\n",
      "***\n",
      "****\n",
      "*****\n",
      "******\n",
      "*******\n",
      "********\n",
      "*********\n",
      "**********\n"
     ]
    }
   ],
   "source": [
    "for i in range(1,11):\n",
    "    print(\"*\" * i)"
   ]
  },
  {
   "cell_type": "code",
   "execution_count": 19,
   "id": "57e45d7d",
   "metadata": {},
   "outputs": [
    {
     "name": "stdout",
     "output_type": "stream",
     "text": [
      "**********\n",
      "*********\n",
      "********\n",
      "*******\n",
      "******\n",
      "*****\n",
      "****\n",
      "***\n",
      "**\n",
      "*\n"
     ]
    }
   ],
   "source": [
    "for i in range(10,0,-1):\n",
    "    print(\"*\" * i)"
   ]
  },
  {
   "cell_type": "code",
   "execution_count": 22,
   "id": "11679e34",
   "metadata": {},
   "outputs": [
    {
     "name": "stdout",
     "output_type": "stream",
     "text": [
      "**********\n",
      " *********\n",
      "  ********\n",
      "   *******\n",
      "    ******\n",
      "     *****\n",
      "      ****\n",
      "       ***\n",
      "        **\n",
      "         *\n"
     ]
    }
   ],
   "source": [
    "k = 0\n",
    "for i in range(10, 0 , -1):\n",
    "    print(\" \" * k,end=\"\")\n",
    "    \n",
    "    for j in range(1, i+1):\n",
    "        print(\"*\", end=\"\")\n",
    "    k +=1\n",
    "    print()"
   ]
  },
  {
   "cell_type": "code",
   "execution_count": 24,
   "id": "8f428004",
   "metadata": {},
   "outputs": [
    {
     "name": "stdout",
     "output_type": "stream",
     "text": [
      "[1, 3, 4, 5, 7, 8]\n"
     ]
    }
   ],
   "source": [
    "list1 = [1, 1, 1, 7 , 7, 7, 3, 3, 4, 8, 8, 5, 5, 5]\n",
    "# remove the repeated items from the list1 and print the resultant list in a sorted way from lower to higher\n",
    "result = []\n",
    "\n",
    "for i in list1:\n",
    "    if i not in result:\n",
    "        result.append(i)\n",
    "        \n",
    "result.sort()        \n",
    "print(result)"
   ]
  },
  {
   "cell_type": "code",
   "execution_count": 2,
   "id": "a8fbcb73",
   "metadata": {},
   "outputs": [
    {
     "name": "stdout",
     "output_type": "stream",
     "text": [
      "14\n"
     ]
    }
   ],
   "source": [
    "import random\n",
    "# randint   random.randint(start, end)  start and end will be integer. it will give any random number between them\n",
    "# randrange random.randrange(start, stop)  start and stop are integer. it will give any random number between them but stop value is not included\n",
    "# choice    random.choice(iterable)    it will give any random value from that iterable\n",
    "# choices   random.choices(iterable, weight, k)  it will give set of values as a list from the iterable depending upon value of k   \n",
    "# random    random.random()                 it gives a random float value between 0 and 1\n",
    "# shuffle   random.shuffle()    it shuffles your iterable in random order and returns a list\n",
    "print(random.randint(5, 15))"
   ]
  },
  {
   "cell_type": "code",
   "execution_count": 121,
   "id": "180be749",
   "metadata": {},
   "outputs": [
    {
     "name": "stdout",
     "output_type": "stream",
     "text": [
      "6\n"
     ]
    }
   ],
   "source": [
    "print(random.randrange(5, 15))"
   ]
  },
  {
   "cell_type": "code",
   "execution_count": 120,
   "id": "947bb84d",
   "metadata": {},
   "outputs": [
    {
     "name": "stdout",
     "output_type": "stream",
     "text": [
      "37\n"
     ]
    }
   ],
   "source": [
    "list1 = [7, 17, 27, 37, 47, 57]\n",
    "choice = random.choice(list1)\n",
    "print(choice)"
   ]
  },
  {
   "cell_type": "code",
   "execution_count": 3,
   "id": "879575a9",
   "metadata": {},
   "outputs": [
    {
     "name": "stdout",
     "output_type": "stream",
     "text": [
      "Abdullah\n"
     ]
    }
   ],
   "source": [
    "name = [\"Abdullah\", \"Haris\", \"Muhammad\", \"Hassan\"]\n",
    "choice = random.choice(name)\n",
    "print(choice)"
   ]
  },
  {
   "cell_type": "code",
   "execution_count": 5,
   "id": "4c073e07",
   "metadata": {},
   "outputs": [
    {
     "name": "stdout",
     "output_type": "stream",
     "text": [
      "['Haris', 'Abdullah', 'Haris', 'Muhammad']\n"
     ]
    }
   ],
   "source": [
    "name = [\"Abdullah\", \"Haris\", \"Muhammad\", \"Hassan\", \"ALi\", \"Umar\"]\n",
    "choices = random.choices(name, k = 4)\n",
    "print(choices)"
   ]
  },
  {
   "cell_type": "code",
   "execution_count": 125,
   "id": "4513201d",
   "metadata": {},
   "outputs": [
    {
     "name": "stdout",
     "output_type": "stream",
     "text": [
      "['ALi', 'Umar', 'Haris', 'Abdullah', 'Muhammad', 'Hassan']\n"
     ]
    }
   ],
   "source": [
    "name = [\"Abdullah\", \"Haris\", \"Muhammad\", \"Hassan\", \"ALi\", \"Umar\"]\n",
    "random.shuffle(name)\n",
    "print(name)"
   ]
  },
  {
   "cell_type": "code",
   "execution_count": 117,
   "id": "768fb4ce",
   "metadata": {},
   "outputs": [
    {
     "name": "stdout",
     "output_type": "stream",
     "text": [
      "0.9700785035707792\n"
     ]
    }
   ],
   "source": [
    "print(random.random())"
   ]
  },
  {
   "cell_type": "code",
   "execution_count": 130,
   "id": "908ef10f",
   "metadata": {},
   "outputs": [
    {
     "name": "stdout",
     "output_type": "stream",
     "text": [
      "5.0\n",
      "5.0\n",
      "25.0\n",
      "30.25\n"
     ]
    }
   ],
   "source": [
    "import math\n",
    "print(25 ** 0.5)\n",
    "print(math.sqrt(25))\n",
    "print(math.pow(5,2))\n",
    "print(5 ** 2)"
   ]
  },
  {
   "cell_type": "markdown",
   "id": "fe32d17b",
   "metadata": {},
   "source": [
    "# string methods\n",
    "* capitalize (Converts the first character to upper case)\n",
    "* casefold   (Converts string into lower case)\n",
    "* center      (returns a center string)\n",
    "* count       (Returns the number of times a specified value occurs in a string)\n",
    "* endswith\n",
    "* startswith\n",
    "* find\n",
    "* index\n",
    "* isalnum\n",
    "* isalpha\n",
    "* isdigit\n",
    "* islower\n",
    "* isspace\n",
    "* isupper\n",
    "* istitle\n",
    "* join\n",
    "* lower\n",
    "* upper\n",
    "* title\n",
    "* strip\n",
    "* split \n",
    "* rfind\n",
    "* rindex\n"
   ]
  },
  {
   "cell_type": "code",
   "execution_count": 133,
   "id": "2e29860c",
   "metadata": {},
   "outputs": [
    {
     "name": "stdout",
     "output_type": "stream",
     "text": [
      "Python is good for learning. we are learning\n"
     ]
    }
   ],
   "source": [
    "# capitalize\n",
    "# string.capitalize() # It'll convert the first letter of your string to uppercase and return it\n",
    "learn = \"python is good for learning. we are learning\"\n",
    "\n",
    "print(learn.capitalize())"
   ]
  },
  {
   "cell_type": "code",
   "execution_count": 134,
   "id": "c9f73c5d",
   "metadata": {},
   "outputs": [
    {
     "name": "stdout",
     "output_type": "stream",
     "text": [
      "Python Is Good For Learning\n"
     ]
    }
   ],
   "source": [
    "# title\n",
    "# string.title() it converts first letter of every  word of your string into capital and return it\n",
    "\n",
    "learn = \"python is good for learning\"\n",
    "print(learn.title())"
   ]
  },
  {
   "cell_type": "code",
   "execution_count": 135,
   "id": "802bf0c1",
   "metadata": {},
   "outputs": [
    {
     "name": "stdout",
     "output_type": "stream",
     "text": [
      "python is good\n"
     ]
    }
   ],
   "source": [
    "# casefold\n",
    "# string.casefold() converts each letter into lower case letters\n",
    "learn = \"PYTHON IS GOOD\"\n",
    "print(learn.casefold())"
   ]
  },
  {
   "cell_type": "code",
   "execution_count": 136,
   "id": "1b05c5a1",
   "metadata": {},
   "outputs": [
    {
     "name": "stdout",
     "output_type": "stream",
     "text": [
      "python is good\n"
     ]
    }
   ],
   "source": [
    "# lower\n",
    "# string.lower() converts each letter into lower case letters\n",
    "learn = \"PYTHON IS GOOD\"\n",
    "print(learn.lower())"
   ]
  },
  {
   "cell_type": "code",
   "execution_count": 9,
   "id": "5239ac24",
   "metadata": {},
   "outputs": [
    {
     "name": "stdout",
     "output_type": "stream",
     "text": [
      "PYTHON IS GOOD\n"
     ]
    }
   ],
   "source": [
    "# upper\n",
    "# string.upper() converts each letter into upper case letters\n",
    "learn = \"python is good\"\n",
    "print(learn.upper())"
   ]
  },
  {
   "cell_type": "code",
   "execution_count": 11,
   "id": "363006cd",
   "metadata": {},
   "outputs": [
    {
     "name": "stdout",
     "output_type": "stream",
     "text": [
      "Help on class str in module builtins:\n",
      "\n",
      "class str(object)\n",
      " |  str(object='') -> str\n",
      " |  str(bytes_or_buffer[, encoding[, errors]]) -> str\n",
      " |  \n",
      " |  Create a new string object from the given object. If encoding or\n",
      " |  errors is specified, then the object must expose a data buffer\n",
      " |  that will be decoded using the given encoding and error handler.\n",
      " |  Otherwise, returns the result of object.__str__() (if defined)\n",
      " |  or repr(object).\n",
      " |  encoding defaults to sys.getdefaultencoding().\n",
      " |  errors defaults to 'strict'.\n",
      " |  \n",
      " |  Methods defined here:\n",
      " |  \n",
      " |  __add__(self, value, /)\n",
      " |      Return self+value.\n",
      " |  \n",
      " |  __contains__(self, key, /)\n",
      " |      Return key in self.\n",
      " |  \n",
      " |  __eq__(self, value, /)\n",
      " |      Return self==value.\n",
      " |  \n",
      " |  __format__(self, format_spec, /)\n",
      " |      Return a formatted version of the string as described by format_spec.\n",
      " |  \n",
      " |  __ge__(self, value, /)\n",
      " |      Return self>=value.\n",
      " |  \n",
      " |  __getattribute__(self, name, /)\n",
      " |      Return getattr(self, name).\n",
      " |  \n",
      " |  __getitem__(self, key, /)\n",
      " |      Return self[key].\n",
      " |  \n",
      " |  __getnewargs__(...)\n",
      " |  \n",
      " |  __gt__(self, value, /)\n",
      " |      Return self>value.\n",
      " |  \n",
      " |  __hash__(self, /)\n",
      " |      Return hash(self).\n",
      " |  \n",
      " |  __iter__(self, /)\n",
      " |      Implement iter(self).\n",
      " |  \n",
      " |  __le__(self, value, /)\n",
      " |      Return self<=value.\n",
      " |  \n",
      " |  __len__(self, /)\n",
      " |      Return len(self).\n",
      " |  \n",
      " |  __lt__(self, value, /)\n",
      " |      Return self<value.\n",
      " |  \n",
      " |  __mod__(self, value, /)\n",
      " |      Return self%value.\n",
      " |  \n",
      " |  __mul__(self, value, /)\n",
      " |      Return self*value.\n",
      " |  \n",
      " |  __ne__(self, value, /)\n",
      " |      Return self!=value.\n",
      " |  \n",
      " |  __repr__(self, /)\n",
      " |      Return repr(self).\n",
      " |  \n",
      " |  __rmod__(self, value, /)\n",
      " |      Return value%self.\n",
      " |  \n",
      " |  __rmul__(self, value, /)\n",
      " |      Return value*self.\n",
      " |  \n",
      " |  __sizeof__(self, /)\n",
      " |      Return the size of the string in memory, in bytes.\n",
      " |  \n",
      " |  __str__(self, /)\n",
      " |      Return str(self).\n",
      " |  \n",
      " |  capitalize(self, /)\n",
      " |      Return a capitalized version of the string.\n",
      " |      \n",
      " |      More specifically, make the first character have upper case and the rest lower\n",
      " |      case.\n",
      " |  \n",
      " |  casefold(self, /)\n",
      " |      Return a version of the string suitable for caseless comparisons.\n",
      " |  \n",
      " |  center(self, width, fillchar=' ', /)\n",
      " |      Return a centered string of length width.\n",
      " |      \n",
      " |      Padding is done using the specified fill character (default is a space).\n",
      " |  \n",
      " |  count(...)\n",
      " |      S.count(sub[, start[, end]]) -> int\n",
      " |      \n",
      " |      Return the number of non-overlapping occurrences of substring sub in\n",
      " |      string S[start:end].  Optional arguments start and end are\n",
      " |      interpreted as in slice notation.\n",
      " |  \n",
      " |  encode(self, /, encoding='utf-8', errors='strict')\n",
      " |      Encode the string using the codec registered for encoding.\n",
      " |      \n",
      " |      encoding\n",
      " |        The encoding in which to encode the string.\n",
      " |      errors\n",
      " |        The error handling scheme to use for encoding errors.\n",
      " |        The default is 'strict' meaning that encoding errors raise a\n",
      " |        UnicodeEncodeError.  Other possible values are 'ignore', 'replace' and\n",
      " |        'xmlcharrefreplace' as well as any other name registered with\n",
      " |        codecs.register_error that can handle UnicodeEncodeErrors.\n",
      " |  \n",
      " |  endswith(...)\n",
      " |      S.endswith(suffix[, start[, end]]) -> bool\n",
      " |      \n",
      " |      Return True if S ends with the specified suffix, False otherwise.\n",
      " |      With optional start, test S beginning at that position.\n",
      " |      With optional end, stop comparing S at that position.\n",
      " |      suffix can also be a tuple of strings to try.\n",
      " |  \n",
      " |  expandtabs(self, /, tabsize=8)\n",
      " |      Return a copy where all tab characters are expanded using spaces.\n",
      " |      \n",
      " |      If tabsize is not given, a tab size of 8 characters is assumed.\n",
      " |  \n",
      " |  find(...)\n",
      " |      S.find(sub[, start[, end]]) -> int\n",
      " |      \n",
      " |      Return the lowest index in S where substring sub is found,\n",
      " |      such that sub is contained within S[start:end].  Optional\n",
      " |      arguments start and end are interpreted as in slice notation.\n",
      " |      \n",
      " |      Return -1 on failure.\n",
      " |  \n",
      " |  format(...)\n",
      " |      S.format(*args, **kwargs) -> str\n",
      " |      \n",
      " |      Return a formatted version of S, using substitutions from args and kwargs.\n",
      " |      The substitutions are identified by braces ('{' and '}').\n",
      " |  \n",
      " |  format_map(...)\n",
      " |      S.format_map(mapping) -> str\n",
      " |      \n",
      " |      Return a formatted version of S, using substitutions from mapping.\n",
      " |      The substitutions are identified by braces ('{' and '}').\n",
      " |  \n",
      " |  index(...)\n",
      " |      S.index(sub[, start[, end]]) -> int\n",
      " |      \n",
      " |      Return the lowest index in S where substring sub is found,\n",
      " |      such that sub is contained within S[start:end].  Optional\n",
      " |      arguments start and end are interpreted as in slice notation.\n",
      " |      \n",
      " |      Raises ValueError when the substring is not found.\n",
      " |  \n",
      " |  isalnum(self, /)\n",
      " |      Return True if the string is an alpha-numeric string, False otherwise.\n",
      " |      \n",
      " |      A string is alpha-numeric if all characters in the string are alpha-numeric and\n",
      " |      there is at least one character in the string.\n",
      " |  \n",
      " |  isalpha(self, /)\n",
      " |      Return True if the string is an alphabetic string, False otherwise.\n",
      " |      \n",
      " |      A string is alphabetic if all characters in the string are alphabetic and there\n",
      " |      is at least one character in the string.\n",
      " |  \n",
      " |  isascii(self, /)\n",
      " |      Return True if all characters in the string are ASCII, False otherwise.\n",
      " |      \n",
      " |      ASCII characters have code points in the range U+0000-U+007F.\n",
      " |      Empty string is ASCII too.\n",
      " |  \n",
      " |  isdecimal(self, /)\n",
      " |      Return True if the string is a decimal string, False otherwise.\n",
      " |      \n",
      " |      A string is a decimal string if all characters in the string are decimal and\n",
      " |      there is at least one character in the string.\n",
      " |  \n",
      " |  isdigit(self, /)\n",
      " |      Return True if the string is a digit string, False otherwise.\n",
      " |      \n",
      " |      A string is a digit string if all characters in the string are digits and there\n",
      " |      is at least one character in the string.\n",
      " |  \n",
      " |  isidentifier(self, /)\n",
      " |      Return True if the string is a valid Python identifier, False otherwise.\n",
      " |      \n",
      " |      Call keyword.iskeyword(s) to test whether string s is a reserved identifier,\n",
      " |      such as \"def\" or \"class\".\n",
      " |  \n",
      " |  islower(self, /)\n",
      " |      Return True if the string is a lowercase string, False otherwise.\n",
      " |      \n",
      " |      A string is lowercase if all cased characters in the string are lowercase and\n",
      " |      there is at least one cased character in the string.\n",
      " |  \n",
      " |  isnumeric(self, /)\n",
      " |      Return True if the string is a numeric string, False otherwise.\n",
      " |      \n",
      " |      A string is numeric if all characters in the string are numeric and there is at\n",
      " |      least one character in the string.\n",
      " |  \n",
      " |  isprintable(self, /)\n",
      " |      Return True if the string is printable, False otherwise.\n",
      " |      \n",
      " |      A string is printable if all of its characters are considered printable in\n",
      " |      repr() or if it is empty.\n",
      " |  \n",
      " |  isspace(self, /)\n",
      " |      Return True if the string is a whitespace string, False otherwise.\n",
      " |      \n",
      " |      A string is whitespace if all characters in the string are whitespace and there\n",
      " |      is at least one character in the string.\n",
      " |  \n",
      " |  istitle(self, /)\n",
      " |      Return True if the string is a title-cased string, False otherwise.\n",
      " |      \n",
      " |      In a title-cased string, upper- and title-case characters may only\n",
      " |      follow uncased characters and lowercase characters only cased ones.\n",
      " |  \n",
      " |  isupper(self, /)\n",
      " |      Return True if the string is an uppercase string, False otherwise.\n",
      " |      \n",
      " |      A string is uppercase if all cased characters in the string are uppercase and\n",
      " |      there is at least one cased character in the string.\n",
      " |  \n",
      " |  join(self, iterable, /)\n",
      " |      Concatenate any number of strings.\n",
      " |      \n",
      " |      The string whose method is called is inserted in between each given string.\n",
      " |      The result is returned as a new string.\n",
      " |      \n",
      " |      Example: '.'.join(['ab', 'pq', 'rs']) -> 'ab.pq.rs'\n",
      " |  \n",
      " |  ljust(self, width, fillchar=' ', /)\n",
      " |      Return a left-justified string of length width.\n",
      " |      \n",
      " |      Padding is done using the specified fill character (default is a space).\n",
      " |  \n",
      " |  lower(self, /)\n",
      " |      Return a copy of the string converted to lowercase.\n",
      " |  \n",
      " |  lstrip(self, chars=None, /)\n",
      " |      Return a copy of the string with leading whitespace removed.\n",
      " |      \n",
      " |      If chars is given and not None, remove characters in chars instead.\n",
      " |  \n",
      " |  partition(self, sep, /)\n",
      " |      Partition the string into three parts using the given separator.\n",
      " |      \n",
      " |      This will search for the separator in the string.  If the separator is found,\n",
      " |      returns a 3-tuple containing the part before the separator, the separator\n",
      " |      itself, and the part after it.\n",
      " |      \n",
      " |      If the separator is not found, returns a 3-tuple containing the original string\n",
      " |      and two empty strings.\n",
      " |  \n",
      " |  removeprefix(self, prefix, /)\n",
      " |      Return a str with the given prefix string removed if present.\n",
      " |      \n",
      " |      If the string starts with the prefix string, return string[len(prefix):].\n",
      " |      Otherwise, return a copy of the original string.\n",
      " |  \n",
      " |  removesuffix(self, suffix, /)\n",
      " |      Return a str with the given suffix string removed if present.\n",
      " |      \n",
      " |      If the string ends with the suffix string and that suffix is not empty,\n",
      " |      return string[:-len(suffix)]. Otherwise, return a copy of the original\n",
      " |      string.\n",
      " |  \n",
      " |  replace(self, old, new, count=-1, /)\n",
      " |      Return a copy with all occurrences of substring old replaced by new.\n",
      " |      \n",
      " |        count\n",
      " |          Maximum number of occurrences to replace.\n",
      " |          -1 (the default value) means replace all occurrences.\n",
      " |      \n",
      " |      If the optional argument count is given, only the first count occurrences are\n",
      " |      replaced.\n",
      " |  \n",
      " |  rfind(...)\n",
      " |      S.rfind(sub[, start[, end]]) -> int\n",
      " |      \n",
      " |      Return the highest index in S where substring sub is found,\n",
      " |      such that sub is contained within S[start:end].  Optional\n",
      " |      arguments start and end are interpreted as in slice notation.\n",
      " |      \n",
      " |      Return -1 on failure.\n",
      " |  \n",
      " |  rindex(...)\n",
      " |      S.rindex(sub[, start[, end]]) -> int\n",
      " |      \n",
      " |      Return the highest index in S where substring sub is found,\n",
      " |      such that sub is contained within S[start:end].  Optional\n",
      " |      arguments start and end are interpreted as in slice notation.\n",
      " |      \n",
      " |      Raises ValueError when the substring is not found.\n",
      " |  \n",
      " |  rjust(self, width, fillchar=' ', /)\n",
      " |      Return a right-justified string of length width.\n",
      " |      \n",
      " |      Padding is done using the specified fill character (default is a space).\n",
      " |  \n",
      " |  rpartition(self, sep, /)\n",
      " |      Partition the string into three parts using the given separator.\n",
      " |      \n",
      " |      This will search for the separator in the string, starting at the end. If\n",
      " |      the separator is found, returns a 3-tuple containing the part before the\n",
      " |      separator, the separator itself, and the part after it.\n",
      " |      \n",
      " |      If the separator is not found, returns a 3-tuple containing two empty strings\n",
      " |      and the original string.\n",
      " |  \n",
      " |  rsplit(self, /, sep=None, maxsplit=-1)\n",
      " |      Return a list of the words in the string, using sep as the delimiter string.\n",
      " |      \n",
      " |        sep\n",
      " |          The delimiter according which to split the string.\n",
      " |          None (the default value) means split according to any whitespace,\n",
      " |          and discard empty strings from the result.\n",
      " |        maxsplit\n",
      " |          Maximum number of splits to do.\n",
      " |          -1 (the default value) means no limit.\n",
      " |      \n",
      " |      Splits are done starting at the end of the string and working to the front.\n",
      " |  \n",
      " |  rstrip(self, chars=None, /)\n",
      " |      Return a copy of the string with trailing whitespace removed.\n",
      " |      \n",
      " |      If chars is given and not None, remove characters in chars instead.\n",
      " |  \n",
      " |  split(self, /, sep=None, maxsplit=-1)\n",
      " |      Return a list of the words in the string, using sep as the delimiter string.\n",
      " |      \n",
      " |      sep\n",
      " |        The delimiter according which to split the string.\n",
      " |        None (the default value) means split according to any whitespace,\n",
      " |        and discard empty strings from the result.\n",
      " |      maxsplit\n",
      " |        Maximum number of splits to do.\n",
      " |        -1 (the default value) means no limit.\n",
      " |  \n",
      " |  splitlines(self, /, keepends=False)\n",
      " |      Return a list of the lines in the string, breaking at line boundaries.\n",
      " |      \n",
      " |      Line breaks are not included in the resulting list unless keepends is given and\n",
      " |      true.\n",
      " |  \n",
      " |  startswith(...)\n",
      " |      S.startswith(prefix[, start[, end]]) -> bool\n",
      " |      \n",
      " |      Return True if S starts with the specified prefix, False otherwise.\n",
      " |      With optional start, test S beginning at that position.\n",
      " |      With optional end, stop comparing S at that position.\n",
      " |      prefix can also be a tuple of strings to try.\n",
      " |  \n",
      " |  strip(self, chars=None, /)\n",
      " |      Return a copy of the string with leading and trailing whitespace removed.\n",
      " |      \n",
      " |      If chars is given and not None, remove characters in chars instead.\n",
      " |  \n",
      " |  swapcase(self, /)\n",
      " |      Convert uppercase characters to lowercase and lowercase characters to uppercase.\n",
      " |  \n",
      " |  title(self, /)\n",
      " |      Return a version of the string where each word is titlecased.\n",
      " |      \n",
      " |      More specifically, words start with uppercased characters and all remaining\n",
      " |      cased characters have lower case.\n",
      " |  \n",
      " |  translate(self, table, /)\n",
      " |      Replace each character in the string using the given translation table.\n",
      " |      \n",
      " |        table\n",
      " |          Translation table, which must be a mapping of Unicode ordinals to\n",
      " |          Unicode ordinals, strings, or None.\n",
      " |      \n",
      " |      The table must implement lookup/indexing via __getitem__, for instance a\n",
      " |      dictionary or list.  If this operation raises LookupError, the character is\n",
      " |      left untouched.  Characters mapped to None are deleted.\n",
      " |  \n",
      " |  upper(self, /)\n",
      " |      Return a copy of the string converted to uppercase.\n",
      " |  \n",
      " |  zfill(self, width, /)\n",
      " |      Pad a numeric string with zeros on the left, to fill a field of the given width.\n",
      " |      \n",
      " |      The string is never truncated.\n",
      " |  \n",
      " |  ----------------------------------------------------------------------\n",
      " |  Static methods defined here:\n",
      " |  \n",
      " |  __new__(*args, **kwargs) from builtins.type\n",
      " |      Create and return a new object.  See help(type) for accurate signature.\n",
      " |  \n",
      " |  maketrans(...)\n",
      " |      Return a translation table usable for str.translate().\n",
      " |      \n",
      " |      If there is only one argument, it must be a dictionary mapping Unicode\n",
      " |      ordinals (integers) or characters to Unicode ordinals, strings or None.\n",
      " |      Character keys will be then converted to ordinals.\n",
      " |      If there are two arguments, they must be strings of equal length, and\n",
      " |      in the resulting dictionary, each character in x will be mapped to the\n",
      " |      character at the same position in y. If there is a third argument, it\n",
      " |      must be a string, whose characters will be mapped to None in the result.\n",
      "\n"
     ]
    }
   ],
   "source": [
    "help(str)"
   ]
  },
  {
   "cell_type": "code",
   "execution_count": 143,
   "id": "9eb800f1",
   "metadata": {},
   "outputs": [
    {
     "name": "stdout",
     "output_type": "stream",
     "text": [
      "           Muhammad           \n"
     ]
    }
   ],
   "source": [
    "# center\n",
    "# string.center(length, character) aligns your string in center based on length. length is integer, character is by default space\n",
    "\n",
    "name = \"Muhammad\"\n",
    "print(name.center(30))"
   ]
  },
  {
   "cell_type": "code",
   "execution_count": 144,
   "id": "10cb8687",
   "metadata": {},
   "outputs": [
    {
     "name": "stdout",
     "output_type": "stream",
     "text": [
      "-----------Muhammad-----------\n"
     ]
    }
   ],
   "source": [
    "# center\n",
    "# string.center(length, character) aligns your string in center based on length. length is integer, character is by default space\n",
    "\n",
    "name = \"Muhammad\"\n",
    "print(name.center(30,'-'))"
   ]
  },
  {
   "cell_type": "code",
   "execution_count": 148,
   "id": "d6ebb02c",
   "metadata": {},
   "outputs": [
    {
     "name": "stdout",
     "output_type": "stream",
     "text": [
      "2\n"
     ]
    }
   ],
   "source": [
    "# count\n",
    "#string.count(string, start, end) start is by default 0 and end is by default last character index. it will return an integer\n",
    "string = \"one one pace with the two one two and one\"\n",
    "print(string.count(\"two\"))\n",
    "\n"
   ]
  },
  {
   "cell_type": "code",
   "execution_count": 153,
   "id": "619e26ac",
   "metadata": {},
   "outputs": [
    {
     "name": "stdout",
     "output_type": "stream",
     "text": [
      "1\n"
     ]
    }
   ],
   "source": [
    "# count\n",
    "#string.count(string, start, end) start is by default 0 and end is by default last character index. it will return an integer\n",
    "string = \"one one pace with the two one two and one\"\n",
    "print(string.count(\"two\",7,30))"
   ]
  },
  {
   "cell_type": "code",
   "execution_count": 160,
   "id": "b24a956e",
   "metadata": {},
   "outputs": [
    {
     "name": "stdout",
     "output_type": "stream",
     "text": [
      "True\n"
     ]
    }
   ],
   "source": [
    "#endswith\n",
    "# string.endswith(string, start, stop) it checks wether your specified string appears at the end of your value\n",
    "# The result will be boolean\n",
    "string = \"one one pace with the two one two and one\"\n",
    "print(string.endswith(\"one\"))\n"
   ]
  },
  {
   "cell_type": "code",
   "execution_count": 13,
   "id": "c5969939",
   "metadata": {},
   "outputs": [
    {
     "name": "stdout",
     "output_type": "stream",
     "text": [
      "True\n"
     ]
    }
   ],
   "source": [
    "#endswith\n",
    "# string.endswith(string, start, stop) it checks wether your specified string appears at the end of your value\n",
    "# The result will be boolean\n",
    "string = \"one one pace with the two one two and one\"\n",
    "print(string.endswith(\"pace\", 0, 12))\n"
   ]
  },
  {
   "cell_type": "code",
   "execution_count": 14,
   "id": "2b678d7a",
   "metadata": {},
   "outputs": [
    {
     "name": "stdout",
     "output_type": "stream",
     "text": [
      "True\n"
     ]
    }
   ],
   "source": [
    "#startswith\n",
    "# string.startswith(string, start, stop) it checks wether your specified string appears at the start of your value\n",
    "# The result will be boolean\n",
    "string = \"one one pace with the two one two and one\"\n",
    "print(string.startswith(\"one\"))\n"
   ]
  },
  {
   "cell_type": "code",
   "execution_count": 15,
   "id": "e06373b7",
   "metadata": {},
   "outputs": [
    {
     "name": "stdout",
     "output_type": "stream",
     "text": [
      "False\n"
     ]
    }
   ],
   "source": [
    "#startswith\n",
    "# string.startswith(string, start, stop) it checks wether your specified string appears at the start of your value\n",
    "# The result will be boolean\n",
    "string = \"one one pace with the two one two and one\"\n",
    "print(string.startswith(\"pace\", 0, 12))\n"
   ]
  },
  {
   "cell_type": "code",
   "execution_count": 17,
   "id": "a5d28f81",
   "metadata": {},
   "outputs": [
    {
     "name": "stdout",
     "output_type": "stream",
     "text": [
      "8\n"
     ]
    }
   ],
   "source": [
    "# find\n",
    "# finds a substring and gives the index of first occurence in return of that substring where it is found\n",
    "# string.find(string, start, stop)\n",
    "# If the value is not found, it will return -1\n",
    "string = \"one one pace with the two one two and one\"\n",
    "print(string.find(\"pace\"))"
   ]
  },
  {
   "cell_type": "code",
   "execution_count": 19,
   "id": "f8690159",
   "metadata": {},
   "outputs": [
    {
     "name": "stdout",
     "output_type": "stream",
     "text": [
      "26\n"
     ]
    }
   ],
   "source": [
    "# find\n",
    "# finds a substring and gives the index of first occurence in return of that substring where it is found\n",
    "# string.find(string, start, stop)\n",
    "# If the value is not found, it will return -1\n",
    "string = \"one one pace with the two one two and one\"\n",
    "print(string.find(\"one\",12,-1))"
   ]
  },
  {
   "cell_type": "code",
   "execution_count": 18,
   "id": "ea886cf3",
   "metadata": {},
   "outputs": [
    {
     "name": "stdout",
     "output_type": "stream",
     "text": [
      "-1\n"
     ]
    }
   ],
   "source": [
    "# find\n",
    "# finds a substring and gives the index of first occurence in return of that substring where it is found\n",
    "# string.find(string, start, stop)\n",
    "# If the value is not found, it will return -1\n",
    "string = \"one one pace with the two one two and one\"\n",
    "print(string.find(\"dog\"))"
   ]
  },
  {
   "cell_type": "code",
   "execution_count": 21,
   "id": "03ddbe6e",
   "metadata": {},
   "outputs": [
    {
     "name": "stdout",
     "output_type": "stream",
     "text": [
      "38\n",
      "41\n"
     ]
    }
   ],
   "source": [
    "# rfind\n",
    "# finds a substring from the right side and gives the index of first occurence in return of that substring where it is found\n",
    "# string.rfind(string, start, stop)\n",
    "# If the value is not found, it will return -1\n",
    "string = \"one one pace with the two one two and one\"\n",
    "print(string.rfind(\"one\"))\n",
    "print(len(string))"
   ]
  },
  {
   "cell_type": "code",
   "execution_count": 22,
   "id": "e57083f5",
   "metadata": {},
   "outputs": [
    {
     "name": "stdout",
     "output_type": "stream",
     "text": [
      "8\n"
     ]
    }
   ],
   "source": [
    "# index\n",
    "# finds a substring and gives the index of first occurence in return of that substring where it is found\n",
    "# string.index(string, start, stop)\n",
    "# If the value is not found, it will raise an error / exception\n",
    "string = \"one one pace with the two one two and one\"\n",
    "print(string.index(\"pace\"))"
   ]
  },
  {
   "cell_type": "code",
   "execution_count": 23,
   "id": "40ddec69",
   "metadata": {},
   "outputs": [
    {
     "ename": "ValueError",
     "evalue": "substring not found",
     "output_type": "error",
     "traceback": [
      "\u001b[1;31m---------------------------------------------------------------------------\u001b[0m",
      "\u001b[1;31mValueError\u001b[0m                                Traceback (most recent call last)",
      "\u001b[1;32m~\\AppData\\Local\\Temp/ipykernel_4244/1476285010.py\u001b[0m in \u001b[0;36m<module>\u001b[1;34m\u001b[0m\n\u001b[0;32m      4\u001b[0m \u001b[1;31m# If the value is not found, it will raise an error / exception\u001b[0m\u001b[1;33m\u001b[0m\u001b[1;33m\u001b[0m\u001b[0m\n\u001b[0;32m      5\u001b[0m \u001b[0mstring\u001b[0m \u001b[1;33m=\u001b[0m \u001b[1;34m\"one one pace with the two one two and one\"\u001b[0m\u001b[1;33m\u001b[0m\u001b[1;33m\u001b[0m\u001b[0m\n\u001b[1;32m----> 6\u001b[1;33m \u001b[0mprint\u001b[0m\u001b[1;33m(\u001b[0m\u001b[0mstring\u001b[0m\u001b[1;33m.\u001b[0m\u001b[0mindex\u001b[0m\u001b[1;33m(\u001b[0m\u001b[1;34m\"dog\"\u001b[0m\u001b[1;33m)\u001b[0m\u001b[1;33m)\u001b[0m\u001b[1;33m\u001b[0m\u001b[1;33m\u001b[0m\u001b[0m\n\u001b[0m",
      "\u001b[1;31mValueError\u001b[0m: substring not found"
     ]
    }
   ],
   "source": [
    "# index\n",
    "# finds a substring and gives the index of first occurence in return of that substring where it is found\n",
    "# string.index(string, start, stop)\n",
    "# If the value is not found, it will raise an error / exception\n",
    "string = \"one one pace with the two one two and one\"\n",
    "print(string.index(\"dog\"))"
   ]
  },
  {
   "cell_type": "code",
   "execution_count": 26,
   "id": "fb6d852c",
   "metadata": {},
   "outputs": [
    {
     "name": "stdout",
     "output_type": "stream",
     "text": [
      "30\n"
     ]
    }
   ],
   "source": [
    "# rindex\n",
    "# finds a substring and gives the index of first occurence from the right in return of that substring where it is found\n",
    "# string.rindex(string, start, stop)\n",
    "# If the value is not found, it will raise an error / exception\n",
    "string = \"one one pace with the two one two and one\"\n",
    "print(string.rindex(\"two\"))"
   ]
  },
  {
   "cell_type": "code",
   "execution_count": 32,
   "id": "09a6c96d",
   "metadata": {},
   "outputs": [
    {
     "name": "stdout",
     "output_type": "stream",
     "text": [
      "True\n",
      "True\n",
      "True\n"
     ]
    }
   ],
   "source": [
    "# isalnum\n",
    "# checks if the string is alpha numeric and returns result in boolean\n",
    "# string.isalnum()\n",
    "\n",
    "food = \"pizza13\"\n",
    "print(food.isalnum())\n",
    "\n",
    "food = \"13\"\n",
    "print(food.isalnum())\n",
    "\n",
    "food = \"pizza\"\n",
    "print(food.isalnum())"
   ]
  },
  {
   "cell_type": "code",
   "execution_count": 33,
   "id": "0db230b0",
   "metadata": {},
   "outputs": [
    {
     "name": "stdout",
     "output_type": "stream",
     "text": [
      "False\n"
     ]
    }
   ],
   "source": [
    "# isalnum\n",
    "# checks if the string is alpha numeric and returns result in boolean\n",
    "# string.isalnum()\n",
    "\n",
    "food = \"pizza13&^$\"\n",
    "print(food.isalnum())"
   ]
  },
  {
   "cell_type": "code",
   "execution_count": 35,
   "id": "000a7d5a",
   "metadata": {},
   "outputs": [
    {
     "name": "stdout",
     "output_type": "stream",
     "text": [
      "False\n"
     ]
    }
   ],
   "source": [
    "# isalpha\n",
    "# checks if the string contains alphabets and returns result in boolean\n",
    "# string.isalpha()\n",
    "\n",
    "food = \"pizza12\"\n",
    "print(food.isalpha())"
   ]
  },
  {
   "cell_type": "code",
   "execution_count": 39,
   "id": "f24e6a9e",
   "metadata": {},
   "outputs": [
    {
     "name": "stdout",
     "output_type": "stream",
     "text": [
      "   Hi! How are you?      \n",
      "Hi! How are you?\n",
      "   Hi! How are you?\n",
      "Hi! How are you?      \n"
     ]
    }
   ],
   "source": [
    "#strip\n",
    "# removes spaces from the right and left of a string and returns string without spaces on right and left\n",
    "# string.strip()\n",
    "sent = \"   Hi! How are you?      \"\n",
    "print(sent)\n",
    "print(sent.strip())\n",
    "print(sent.rstrip())\n",
    "print(sent.lstrip())"
   ]
  },
  {
   "cell_type": "code",
   "execution_count": 42,
   "id": "60a0e4a6",
   "metadata": {},
   "outputs": [
    {
     "name": "stdout",
     "output_type": "stream",
     "text": [
      "['Hi!', 'We', 'are', 'learning', 'python.']\n"
     ]
    }
   ],
   "source": [
    "# split\n",
    "# it splits your string to a list based on a substring and returns a list\n",
    "# string.split(string)\n",
    "\n",
    "sent = \"Hi! We are learning python.\"\n",
    "print(sent.split()) #splits based on a space"
   ]
  },
  {
   "cell_type": "code",
   "execution_count": 45,
   "id": "9aea1802",
   "metadata": {},
   "outputs": [
    {
     "name": "stdout",
     "output_type": "stream",
     "text": [
      "['Apple', 'Banana', 'Orange', 'Mango', 'Peach']\n"
     ]
    }
   ],
   "source": [
    "# split\n",
    "# it splits your string to a list based on a substring and returns a list\n",
    "# string.split(string)\n",
    "\n",
    "sent = \"Apple, Banana, Orange, Mango, Peach\"\n",
    "print(sent.split(', '))"
   ]
  },
  {
   "cell_type": "code",
   "execution_count": 50,
   "id": "0437352a",
   "metadata": {},
   "outputs": [
    {
     "name": "stdout",
     "output_type": "stream",
     "text": [
      "Apple Banana Orange Mango Peach\n"
     ]
    }
   ],
   "source": [
    "# join\n",
    "# joins / combines all elements of an iterable to a string, returns a combined string\n",
    "# string.join(iterable)\n",
    "fruits = ['Apple', 'Banana', 'Orange', 'Mango', 'Peach']\n",
    "print(' '.join(fruits))"
   ]
  },
  {
   "cell_type": "markdown",
   "id": "c8a7837b",
   "metadata": {},
   "source": [
    "# functions\n",
    "* How we can create own functions?\n",
    "* Name of a function\n",
    "* Function Calling\n",
    "* Passing values to a function (arguments)\n",
    "* Function Parameters\n",
    "* Function returning"
   ]
  },
  {
   "cell_type": "code",
   "execution_count": null,
   "id": "7db473d4",
   "metadata": {},
   "outputs": [],
   "source": [
    "# Built in Functions (print, len, min, max, sorted, sum, zip, filter, input, type, int)\n",
    "# User Defined Functions"
   ]
  },
  {
   "cell_type": "code",
   "execution_count": 51,
   "id": "6930679a",
   "metadata": {},
   "outputs": [
    {
     "name": "stdout",
     "output_type": "stream",
     "text": [
      "4\n"
     ]
    }
   ],
   "source": [
    "# Addition of two numbers\n",
    "print(2+2)"
   ]
  },
  {
   "cell_type": "code",
   "execution_count": 55,
   "id": "d61b7b6e",
   "metadata": {},
   "outputs": [
    {
     "name": "stdout",
     "output_type": "stream",
     "text": [
      "12\n",
      "Finished\n"
     ]
    }
   ],
   "source": [
    "def add():\n",
    "    a = 5\n",
    "    b = 7\n",
    "    print(a + b)\n",
    "    \n",
    "add()  # function calling\n",
    "print(\"Finished\")"
   ]
  },
  {
   "cell_type": "code",
   "execution_count": 60,
   "id": "50810cb3",
   "metadata": {},
   "outputs": [
    {
     "name": "stdout",
     "output_type": "stream",
     "text": [
      "25\n",
      "Finished\n"
     ]
    }
   ],
   "source": [
    "# arguments     Values passed to a function through function calling\n",
    "# parameters    variables that accept values passed from function calling part\n",
    "def add(a, b):\n",
    "    print(a + b)\n",
    "    \n",
    "    \n",
    "add(10, 15)  # function calling\n",
    "print(\"Finished\")"
   ]
  },
  {
   "cell_type": "code",
   "execution_count": 58,
   "id": "db46a7c9",
   "metadata": {},
   "outputs": [
    {
     "name": "stdout",
     "output_type": "stream",
     "text": [
      "25\n",
      "Finished\n"
     ]
    }
   ],
   "source": [
    "\"\"\"returning a value from a d=function (You can return values from a function one or more than one \n",
    "through return keyword)\n",
    "values are returned to a function calling part, you can either save the returned value in a variable \n",
    "or you can print it directly\n",
    "\"\"\"\n",
    "def add(a, b):\n",
    "    return a + b\n",
    "    \n",
    "    \n",
    "print(add(10, 15))  # function calling\n",
    "print(\"Finished\")"
   ]
  },
  {
   "cell_type": "code",
   "execution_count": 67,
   "id": "5978cbf5",
   "metadata": {},
   "outputs": [
    {
     "name": "stdout",
     "output_type": "stream",
     "text": [
      "0\n"
     ]
    }
   ],
   "source": [
    "list1 = [87, 90, 54, 54]\n",
    "\n",
    "def count(x, y):\n",
    "    coun = 0\n",
    "    for i in x:\n",
    "        if y == i:\n",
    "            coun +=1\n",
    "    \n",
    "    return coun\n",
    "\n",
    "print(count(list1, 98))"
   ]
  }
 ],
 "metadata": {
  "kernelspec": {
   "display_name": "Python 3 (ipykernel)",
   "language": "python",
   "name": "python3"
  },
  "language_info": {
   "codemirror_mode": {
    "name": "ipython",
    "version": 3
   },
   "file_extension": ".py",
   "mimetype": "text/x-python",
   "name": "python",
   "nbconvert_exporter": "python",
   "pygments_lexer": "ipython3",
   "version": "3.9.7"
  }
 },
 "nbformat": 4,
 "nbformat_minor": 5
}
