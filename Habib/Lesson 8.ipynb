{
 "cells": [
  {
   "cell_type": "markdown",
   "id": "bec446ab",
   "metadata": {},
   "source": [
    "# Slicing"
   ]
  },
  {
   "cell_type": "code",
   "execution_count": 1,
   "id": "166a50a2",
   "metadata": {},
   "outputs": [
    {
     "name": "stdout",
     "output_type": "stream",
     "text": [
      "r\n"
     ]
    }
   ],
   "source": [
    "name = \"Programmer\"\n",
    "\n",
    "print(name[1])"
   ]
  },
  {
   "cell_type": "code",
   "execution_count": 10,
   "id": "12fae459",
   "metadata": {},
   "outputs": [
    {
     "name": "stdout",
     "output_type": "stream",
     "text": [
      "Prog\n",
      "ramm\n",
      "Progr\n",
      "Programmer\n"
     ]
    }
   ],
   "source": [
    "# slicing:   start , stop, step\n",
    "# slicing returns the output with same datatype\n",
    "\n",
    "print(name[0 : 4])\n",
    "print(name[4 : 8])\n",
    "print(name[ : 5])\n",
    "print(name[ : ])"
   ]
  },
  {
   "cell_type": "code",
   "execution_count": 22,
   "id": "c0fc1fab",
   "metadata": {},
   "outputs": [
    {
     "name": "stdout",
     "output_type": "stream",
     "text": [
      "Por\n",
      "Porme\n",
      "orme\n",
      "remmargorP\n",
      "rmagr\n"
     ]
    }
   ],
   "source": [
    "# step values\n",
    "print(name[0 : 5 : 2])\n",
    "print(name[ : : 2])\n",
    "print(name[ 2: : 2])\n",
    "print(name[ : : -1])\n",
    "print(name[ : : -2])"
   ]
  },
  {
   "cell_type": "code",
   "execution_count": 20,
   "id": "460c2ce4",
   "metadata": {},
   "outputs": [
    {
     "name": "stdout",
     "output_type": "stream",
     "text": [
      "[56, 0, 65, 87, 14, 12, 21]\n",
      "[21, 12, 14, 87, 65, 0, 56, 87, 7]\n"
     ]
    }
   ],
   "source": [
    "\n",
    "numbers = [7, 87, 56, 0, 65, 87, 14, 12, 21]\n",
    "print(numbers[2 : ])\n",
    "print(numbers[ : : -1])"
   ]
  },
  {
   "cell_type": "code",
   "execution_count": 23,
   "id": "59036a43",
   "metadata": {},
   "outputs": [
    {
     "name": "stdout",
     "output_type": "stream",
     "text": [
      "(56, 0, 65, 87, 14, 12, 21)\n"
     ]
    }
   ],
   "source": [
    "numbers = (7, 87, 56, 0, 65, 87, 14, 12, 21)\n",
    "print(numbers[2 : ])"
   ]
  },
  {
   "cell_type": "code",
   "execution_count": null,
   "id": "ad4de04e",
   "metadata": {},
   "outputs": [],
   "source": [
    "string = \"Pynative\"\n",
    "print(string[ : :2])\n",
    "for i in string[ : : 2]:\n",
    "    print(i)"
   ]
  },
  {
   "cell_type": "markdown",
   "id": "e0f72d99",
   "metadata": {},
   "source": [
    "# List methods"
   ]
  },
  {
   "cell_type": "markdown",
   "id": "9af4993d",
   "metadata": {},
   "source": [
    "* append()\n",
    "* extend()\n",
    "* count()\n",
    "* insert()\n",
    "* reverse()\n",
    "* pop()\n",
    "* remove()\n",
    "* sort()\n",
    "* clear()\n",
    "* copy()\n",
    "* index()"
   ]
  },
  {
   "cell_type": "code",
   "execution_count": 32,
   "id": "7b4f161a",
   "metadata": {},
   "outputs": [
    {
     "name": "stdout",
     "output_type": "stream",
     "text": [
      "['apple', 'banana', 'orange', 'grapes', 'strawberry']\n",
      "['apple', 'banana', 'orange', 'grapes', 'strawberry', 'watermelon']\n"
     ]
    }
   ],
   "source": [
    "# append method\n",
    "# append method adds a value or iterable at the end of the list\n",
    "# list.append(value/iterable)\n",
    "fruits = [\"apple\", \"banana\", \"orange\", \"grapes\", \"strawberry\"]\n",
    "print(fruits)\n",
    "fruits.append(\"watermelon\")\n",
    "print(fruits)"
   ]
  },
  {
   "cell_type": "code",
   "execution_count": 33,
   "id": "c226361a",
   "metadata": {},
   "outputs": [
    {
     "name": "stdout",
     "output_type": "stream",
     "text": [
      "['apple', 'banana', 'orange', 'grapes', 'strawberry']\n",
      "['apple', 'banana', 'orange', 'grapes', 'strawberry', ['watermelon', 'Peach']]\n"
     ]
    }
   ],
   "source": [
    "fruits = [\"apple\", \"banana\", \"orange\", \"grapes\", \"strawberry\"]\n",
    "print(fruits)\n",
    "fruits.append([\"watermelon\", \"Peach\"])\n",
    "print(fruits)"
   ]
  },
  {
   "cell_type": "code",
   "execution_count": 34,
   "id": "c0fa07d3",
   "metadata": {},
   "outputs": [
    {
     "name": "stdout",
     "output_type": "stream",
     "text": [
      "['apple', 'banana', 'orange', 'grapes', 'strawberry']\n",
      "['apple', 'banana', 'orange', 'grapes', 'strawberry', 'watermelon', 'Peach']\n"
     ]
    }
   ],
   "source": [
    "# extend method\n",
    "# extend method extends the contents of an iterable at the end of the list\n",
    "fruits = [\"apple\", \"banana\", \"orange\", \"grapes\", \"strawberry\"]\n",
    "print(fruits)\n",
    "fruits.extend([\"watermelon\", \"Peach\"])\n",
    "print(fruits)"
   ]
  },
  {
   "cell_type": "code",
   "execution_count": 45,
   "id": "f9cbf8b8",
   "metadata": {},
   "outputs": [
    {
     "name": "stdout",
     "output_type": "stream",
     "text": [
      "None\n",
      "[5, 6, 7, 8, 1, 2, 3, 4]\n"
     ]
    }
   ],
   "source": [
    "a = [1, 2, 3, 4]\n",
    "b = [5, 6, 7, 8]\n",
    "\n",
    "b.extend(a)\n",
    "print(b)"
   ]
  },
  {
   "cell_type": "code",
   "execution_count": 2,
   "id": "0e811d80",
   "metadata": {},
   "outputs": [
    {
     "name": "stdout",
     "output_type": "stream",
     "text": [
      "4\n"
     ]
    }
   ],
   "source": [
    "# count method\n",
    "# count method accepts an element and returns back an integer telling the number of times that element occured in the list\n",
    "a = [1, 2, 3, 4, 1, 1, 1, 2, 2, 7]\n",
    "x = a.count(1)\n",
    "print(x)"
   ]
  },
  {
   "cell_type": "code",
   "execution_count": null,
   "id": "ec553183",
   "metadata": {},
   "outputs": [],
   "source": []
  }
 ],
 "metadata": {
  "kernelspec": {
   "display_name": "Python 3 (ipykernel)",
   "language": "python",
   "name": "python3"
  },
  "language_info": {
   "codemirror_mode": {
    "name": "ipython",
    "version": 3
   },
   "file_extension": ".py",
   "mimetype": "text/x-python",
   "name": "python",
   "nbconvert_exporter": "python",
   "pygments_lexer": "ipython3",
   "version": "3.9.7"
  }
 },
 "nbformat": 4,
 "nbformat_minor": 5
}
