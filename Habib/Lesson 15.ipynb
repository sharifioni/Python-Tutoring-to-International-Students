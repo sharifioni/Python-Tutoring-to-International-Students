{
 "cells": [
  {
   "cell_type": "code",
   "execution_count": null,
   "id": "48e86ea4",
   "metadata": {},
   "outputs": [],
   "source": [
    "stages = ['''\n",
    "  +---+\n",
    "  |   |\n",
    "  O   |\n",
    " /|\\  |\n",
    " / \\  |\n",
    "      |\n",
    "=========\n",
    "''', '''\n",
    "  +---+\n",
    "  |   |\n",
    "  O   |\n",
    " /|\\  |\n",
    " /    |\n",
    "      |\n",
    "=========\n",
    "''', '''\n",
    "  +---+\n",
    "  |   |\n",
    "  O   |\n",
    " /|\\  |\n",
    "      |\n",
    "      |\n",
    "=========\n",
    "''', '''\n",
    "  +---+\n",
    "  |   |\n",
    "  O   |\n",
    " /|   |\n",
    "      |\n",
    "      |\n",
    "=========''', '''\n",
    "  +---+\n",
    "  |   |\n",
    "  O   |\n",
    "  |   |\n",
    "      |\n",
    "      |\n",
    "=========\n",
    "''', '''\n",
    "  +---+\n",
    "  |   |\n",
    "  O   |\n",
    "      |\n",
    "      |\n",
    "      |\n",
    "=========\n",
    "''', '''\n",
    "  +---+\n",
    "  |   |\n",
    "      |\n",
    "      |\n",
    "      |\n",
    "      |\n",
    "=========\n",
    "''']\n",
    "word_list = [\"ardvark\", \"baboon\", \"camel\"]\n",
    "\n",
    "\"\"\" Select any random word from the word list. \n",
    "Create a display list that will have _ (underscores) equal to the length of chosen word\n",
    "Now ask the user to guess a letter and if it is present in the chosen_word, replace it in display at the same position\n",
    "as we have in the chosen word\n",
    "e.g: if the chosen word is apple and you guessed letter p, then display list will be ['_', 'p', 'p', '_', '_']\n",
    "you have 6 lives to guess all letters\n",
    "Allow the user to keep on guessing until he guesses all letters or he runs out of lives.\n",
    "With each value of lives, display the corresponding stage art\n",
    "At the end, if the lives become 0, print you lose\n",
    "And if all the letters are guessed and there is no \"_\" in the display list and lives are not 0, then print you win\n",
    "\n",
    "\"\"\""
   ]
  },
  {
   "cell_type": "code",
   "execution_count": 1,
   "id": "e9647925",
   "metadata": {},
   "outputs": [
    {
     "name": "stdout",
     "output_type": "stream",
     "text": [
      "['_', '_', '_', '_', '_']\n"
     ]
    }
   ],
   "source": [
    "chosen_word = \"camel\"\n",
    "display_list = [\"_\"] * len(chosen_word)\n",
    "\n",
    "for i in chosen_word:\n",
    "    display_list.append(\"_\")\n",
    "    \n",
    "for i in chosen_word:\n",
    "    display += \"_\"\n",
    "print(display_list)\n",
    "# can you hear me?"
   ]
  },
  {
   "cell_type": "code",
   "execution_count": 2,
   "id": "c189c715",
   "metadata": {},
   "outputs": [
    {
     "name": "stdout",
     "output_type": "stream",
     "text": [
      "HelloHelloHelloHelloHello\n"
     ]
    }
   ],
   "source": [
    "print(\"Hello\" * 5)"
   ]
  },
  {
   "cell_type": "code",
   "execution_count": 5,
   "id": "dadf145e",
   "metadata": {},
   "outputs": [
    {
     "name": "stdout",
     "output_type": "stream",
     "text": [
      "['_', '_', '_', '_', '_', '_']\n"
     ]
    }
   ],
   "source": [
    "print([\"_\"] * 6)"
   ]
  },
  {
   "cell_type": "markdown",
   "id": "beb1a850",
   "metadata": {},
   "source": [
    "# File handling, List Comprehensions, itertools"
   ]
  },
  {
   "cell_type": "code",
   "execution_count": null,
   "id": "31f39ca1",
   "metadata": {},
   "outputs": [],
   "source": [
    "# practice today as much as you can with lists, functions, for loop, while loop"
   ]
  },
  {
   "cell_type": "markdown",
   "id": "b0b0bad3",
   "metadata": {},
   "source": [
    "Python variables\n",
    "\n",
    "String manipulation\n",
    "\n",
    "Creating, manipulating, searching, sorting, filtering and modifying lists and items within them.\n",
    "\n",
    "Conditional if-elif-else statements\n",
    "\n",
    "Iteration, for example, for, while and list comprehensions.\n",
    "\n",
    "Creating functions that accept parameters and return individual variables and tuples.\n",
    "\n",
    "The basics of working with files and input/output.\n",
    "\n",
    "Coding basic mathematical formulas.\n",
    "\n",
    "importing and use of python built-in mathematical modules. For example, math,random and itertools\n"
   ]
  },
  {
   "cell_type": "code",
   "execution_count": 7,
   "id": "459aaeeb",
   "metadata": {},
   "outputs": [
    {
     "name": "stdout",
     "output_type": "stream",
     "text": [
      "[45, 65, 68, 98, 11]\n"
     ]
    }
   ],
   "source": [
    "list1 = [45, 65, 76, 98, 11]\n",
    "list1[2] = 68\n",
    "print(list1)"
   ]
  },
  {
   "cell_type": "code",
   "execution_count": 10,
   "id": "4a5c5807",
   "metadata": {},
   "outputs": [
    {
     "name": "stdout",
     "output_type": "stream",
     "text": [
      "Celsius = 1  Farenheit = 33.8\n",
      "Celsius = 2  Farenheit = 35.6\n",
      "Celsius = 3  Farenheit = 37.4\n",
      "Celsius = 4  Farenheit = 39.2\n",
      "Celsius = 5  Farenheit = 41.0\n",
      "Celsius = 6  Farenheit = 42.8\n",
      "Celsius = 7  Farenheit = 44.6\n",
      "Celsius = 8  Farenheit = 46.4\n",
      "Celsius = 9  Farenheit = 48.2\n",
      "Celsius = 10  Farenheit = 50.0\n",
      "Celsius = 11  Farenheit = 51.8\n",
      "Celsius = 12  Farenheit = 53.6\n",
      "Celsius = 13  Farenheit = 55.400000000000006\n",
      "Celsius = 14  Farenheit = 57.2\n",
      "Celsius = 15  Farenheit = 59.0\n",
      "Celsius = 16  Farenheit = 60.8\n",
      "Celsius = 17  Farenheit = 62.6\n",
      "Celsius = 18  Farenheit = 64.4\n",
      "Celsius = 19  Farenheit = 66.2\n",
      "Celsius = 20  Farenheit = 68.0\n",
      "Celsius = 21  Farenheit = 69.80000000000001\n",
      "Celsius = 22  Farenheit = 71.6\n",
      "Celsius = 23  Farenheit = 73.4\n",
      "Celsius = 24  Farenheit = 75.2\n",
      "Celsius = 25  Farenheit = 77.0\n",
      "Celsius = 26  Farenheit = 78.80000000000001\n",
      "Celsius = 27  Farenheit = 80.6\n",
      "Celsius = 28  Farenheit = 82.4\n",
      "Celsius = 29  Farenheit = 84.2\n",
      "Celsius = 30  Farenheit = 86.0\n",
      "Celsius = 31  Farenheit = 87.80000000000001\n",
      "Celsius = 32  Farenheit = 89.6\n",
      "Celsius = 33  Farenheit = 91.4\n",
      "Celsius = 34  Farenheit = 93.2\n",
      "Celsius = 35  Farenheit = 95.0\n",
      "Celsius = 36  Farenheit = 96.8\n",
      "Celsius = 37  Farenheit = 98.60000000000001\n",
      "Celsius = 38  Farenheit = 100.4\n",
      "Celsius = 39  Farenheit = 102.2\n",
      "Celsius = 40  Farenheit = 104.0\n",
      "Celsius = 41  Farenheit = 105.8\n",
      "Celsius = 42  Farenheit = 107.60000000000001\n",
      "Celsius = 43  Farenheit = 109.4\n",
      "Celsius = 44  Farenheit = 111.2\n",
      "Celsius = 45  Farenheit = 113.0\n",
      "Celsius = 46  Farenheit = 114.8\n",
      "Celsius = 47  Farenheit = 116.60000000000001\n",
      "Celsius = 48  Farenheit = 118.4\n",
      "Celsius = 49  Farenheit = 120.2\n",
      "Celsius = 50  Farenheit = 122.0\n",
      "Celsius = 51  Farenheit = 123.8\n",
      "Celsius = 52  Farenheit = 125.60000000000001\n",
      "Celsius = 53  Farenheit = 127.4\n",
      "Celsius = 54  Farenheit = 129.2\n",
      "Celsius = 55  Farenheit = 131.0\n",
      "Celsius = 56  Farenheit = 132.8\n",
      "Celsius = 57  Farenheit = 134.60000000000002\n",
      "Celsius = 58  Farenheit = 136.4\n",
      "Celsius = 59  Farenheit = 138.2\n",
      "Celsius = 60  Farenheit = 140.0\n",
      "Celsius = 61  Farenheit = 141.8\n",
      "Celsius = 62  Farenheit = 143.60000000000002\n",
      "Celsius = 63  Farenheit = 145.4\n",
      "Celsius = 64  Farenheit = 147.2\n",
      "Celsius = 65  Farenheit = 149.0\n",
      "Celsius = 66  Farenheit = 150.8\n",
      "Celsius = 67  Farenheit = 152.60000000000002\n",
      "Celsius = 68  Farenheit = 154.4\n",
      "Celsius = 69  Farenheit = 156.2\n",
      "Celsius = 70  Farenheit = 158.0\n",
      "Celsius = 71  Farenheit = 159.8\n",
      "Celsius = 72  Farenheit = 161.6\n",
      "Celsius = 73  Farenheit = 163.4\n",
      "Celsius = 74  Farenheit = 165.20000000000002\n",
      "Celsius = 75  Farenheit = 167.0\n",
      "Celsius = 76  Farenheit = 168.8\n",
      "Celsius = 77  Farenheit = 170.6\n",
      "Celsius = 78  Farenheit = 172.4\n",
      "Celsius = 79  Farenheit = 174.20000000000002\n",
      "Celsius = 80  Farenheit = 176.0\n",
      "Celsius = 81  Farenheit = 177.8\n",
      "Celsius = 82  Farenheit = 179.6\n",
      "Celsius = 83  Farenheit = 181.4\n",
      "Celsius = 84  Farenheit = 183.20000000000002\n",
      "Celsius = 85  Farenheit = 185.0\n",
      "Celsius = 86  Farenheit = 186.8\n",
      "Celsius = 87  Farenheit = 188.6\n",
      "Celsius = 88  Farenheit = 190.4\n",
      "Celsius = 89  Farenheit = 192.20000000000002\n",
      "Celsius = 90  Farenheit = 194.0\n",
      "Celsius = 91  Farenheit = 195.8\n",
      "Celsius = 92  Farenheit = 197.6\n",
      "Celsius = 93  Farenheit = 199.4\n",
      "Celsius = 94  Farenheit = 201.20000000000002\n",
      "Celsius = 95  Farenheit = 203.0\n",
      "Celsius = 96  Farenheit = 204.8\n",
      "Celsius = 97  Farenheit = 206.6\n",
      "Celsius = 98  Farenheit = 208.4\n",
      "Celsius = 99  Farenheit = 210.20000000000002\n",
      "Celsius = 100  Farenheit = 212.0\n"
     ]
    }
   ],
   "source": [
    "# Convert all the values of celsius from 1 to 100 into farenheit. Use a function to celsius values and return farenheit values\n",
    "# print farenheit\n",
    "\n",
    "\n",
    "def farenheit(cel):\n",
    "    far = 1.8 * cel + 32\n",
    "    return far\n",
    "\n",
    "\n",
    "for celsius in range(1,101):\n",
    "    print(f\"Celsius = {celsius}  Farenheit = {farenheit(celsius)}\")"
   ]
  }
 ],
 "metadata": {
  "kernelspec": {
   "display_name": "Python 3 (ipykernel)",
   "language": "python",
   "name": "python3"
  },
  "language_info": {
   "codemirror_mode": {
    "name": "ipython",
    "version": 3
   },
   "file_extension": ".py",
   "mimetype": "text/x-python",
   "name": "python",
   "nbconvert_exporter": "python",
   "pygments_lexer": "ipython3",
   "version": "3.9.7"
  }
 },
 "nbformat": 4,
 "nbformat_minor": 5
}
