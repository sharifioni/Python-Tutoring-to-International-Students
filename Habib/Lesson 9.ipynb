{
 "cells": [
  {
   "cell_type": "markdown",
   "id": "e94840fc",
   "metadata": {},
   "source": [
    "# List methods\n",
    "* insert()\n",
    "* reverse()\n",
    "* pop()\n",
    "* remove()\n",
    "* sort()\n",
    "* clear()\n",
    "* copy()\n",
    "* index()"
   ]
  },
  {
   "cell_type": "code",
   "execution_count": null,
   "id": "a8666936",
   "metadata": {},
   "outputs": [],
   "source": [
    "# insert method\n",
    "# insert method takes two values, first value is the index that you want to insert, second value is the item value\n",
    "#               where you want to insert your item\n",
    "# list.insert(index,item)"
   ]
  },
  {
   "cell_type": "code",
   "execution_count": 2,
   "id": "c9e41b3f",
   "metadata": {},
   "outputs": [
    {
     "name": "stdout",
     "output_type": "stream",
     "text": [
      "['apple', 'mango', 'banana', 'orange', 'grapes', 'strawberry']\n"
     ]
    }
   ],
   "source": [
    "fruits = [\"apple\", \"banana\", \"orange\", \"grapes\", \"strawberry\"]\n",
    "fruits.insert(1,\"mango\")\n",
    "print(fruits)"
   ]
  },
  {
   "cell_type": "code",
   "execution_count": 4,
   "id": "fddc1095",
   "metadata": {},
   "outputs": [
    {
     "name": "stdout",
     "output_type": "stream",
     "text": [
      "5\n",
      "['apple', ['mango', 'peach'], 'banana', 'orange', 'grapes', 'strawberry']\n"
     ]
    }
   ],
   "source": [
    "fruits = [\"apple\", \"banana\", \"orange\", \"grapes\", \"strawberry\"]\n",
    "print(len(fruits))\n",
    "fruits.insert(1,[\"mango\",\"peach\"])\n",
    "print(fruits)"
   ]
  },
  {
   "cell_type": "code",
   "execution_count": 7,
   "id": "8208ee26",
   "metadata": {},
   "outputs": [
    {
     "name": "stdout",
     "output_type": "stream",
     "text": [
      "5\n",
      "['apple', 'banana', ['mango', 'peach'], 'orange', 'grapes', 'strawberry']\n"
     ]
    }
   ],
   "source": [
    "fruits = [\"apple\", \"banana\", \"orange\", \"grapes\", \"strawberry\"]\n",
    "print(len(fruits))\n",
    "fruits.insert(2,[\"mango\",\"peach\"])\n",
    "print(fruits)"
   ]
  },
  {
   "cell_type": "code",
   "execution_count": 10,
   "id": "828eddaf",
   "metadata": {},
   "outputs": [
    {
     "name": "stdout",
     "output_type": "stream",
     "text": [
      "[1, 2, 3, 7, 4, 1, 1, 1, 2, 2, 7]\n"
     ]
    }
   ],
   "source": [
    "a = [1, 2, 3, 4, 1, 1, 1, 2, 2, 7]\n",
    "a.insert(3, 7)\n",
    "print(a)"
   ]
  },
  {
   "cell_type": "code",
   "execution_count": 11,
   "id": "5a4aa498",
   "metadata": {},
   "outputs": [
    {
     "name": "stdout",
     "output_type": "stream",
     "text": [
      "[7, 2, 2, 1, 1, 1, 4, 3, 2, 1]\n"
     ]
    }
   ],
   "source": [
    "# reverse method reverses your list\n",
    "# list.reverse()\n",
    "a = [1, 2, 3, 4, 1, 1, 1, 2, 2, 7]\n",
    "a.reverse()\n",
    "print(a)"
   ]
  },
  {
   "cell_type": "code",
   "execution_count": 12,
   "id": "b088e4d8",
   "metadata": {},
   "outputs": [
    {
     "name": "stdout",
     "output_type": "stream",
     "text": [
      "[1, 2, 3, 4, 1, 1, 1, 2, 2]\n"
     ]
    }
   ],
   "source": [
    "# pop method\n",
    "# pop method removes an item from your list based on index value\n",
    "# if you don't provide index value to pop method, then it'll pop out the last item from your list\n",
    "# it also returns the popped item\n",
    "# list.pop(index)   # by default index = -1\n",
    "\n",
    "a = [1, 2, 3, 4, 1, 1, 1, 2, 2, 7]\n",
    "a.pop()\n",
    "print(a)"
   ]
  },
  {
   "cell_type": "code",
   "execution_count": 13,
   "id": "8e01d6e2",
   "metadata": {},
   "outputs": [
    {
     "name": "stdout",
     "output_type": "stream",
     "text": [
      "[1, 2, 3, 4, 1, 1, 2, 2, 7]\n"
     ]
    }
   ],
   "source": [
    "a = [1, 2, 3, 4, 1, 1, 1, 2, 2, 7]\n",
    "a.pop(4)\n",
    "print(a)"
   ]
  },
  {
   "cell_type": "code",
   "execution_count": 17,
   "id": "4eebb092",
   "metadata": {},
   "outputs": [
    {
     "name": "stdout",
     "output_type": "stream",
     "text": [
      "[1, 2, 3, 4, 1, 1, 1, 2, 7]\n"
     ]
    }
   ],
   "source": [
    "a = [1, 2, 3, 4, 1, 1, 1, 2, 2, 7]\n",
    "a.pop(-2)\n",
    "print(a)"
   ]
  },
  {
   "cell_type": "code",
   "execution_count": 23,
   "id": "de8e2804",
   "metadata": {},
   "outputs": [
    {
     "name": "stdout",
     "output_type": "stream",
     "text": [
      "[1, 2, 4, 1, 1, 1, 2, 2, 7]\n"
     ]
    }
   ],
   "source": [
    "a = [1, 2, 3, 4, 1, 1, 1, 2, 2, 7]\n",
    "a.pop(2)\n",
    "print(a)"
   ]
  },
  {
   "cell_type": "code",
   "execution_count": 20,
   "id": "4cfad9d9",
   "metadata": {},
   "outputs": [
    {
     "name": "stdout",
     "output_type": "stream",
     "text": [
      "[1, 1, 1, 2, 2, 7]\n"
     ]
    }
   ],
   "source": [
    "# del keyword\n",
    "a = [1, 2, 3, 4, 1, 1, 1, 2, 2, 7]\n",
    "del a[1 : 5]\n",
    "print(a)"
   ]
  },
  {
   "cell_type": "code",
   "execution_count": 21,
   "id": "78bca553",
   "metadata": {},
   "outputs": [
    {
     "ename": "NameError",
     "evalue": "name 'a' is not defined",
     "output_type": "error",
     "traceback": [
      "\u001b[1;31m---------------------------------------------------------------------------\u001b[0m",
      "\u001b[1;31mNameError\u001b[0m                                 Traceback (most recent call last)",
      "\u001b[1;32m~\\AppData\\Local\\Temp/ipykernel_16220/1450395708.py\u001b[0m in \u001b[0;36m<module>\u001b[1;34m\u001b[0m\n\u001b[0;32m      1\u001b[0m \u001b[0ma\u001b[0m \u001b[1;33m=\u001b[0m \u001b[1;33m[\u001b[0m\u001b[1;36m1\u001b[0m\u001b[1;33m,\u001b[0m \u001b[1;36m2\u001b[0m\u001b[1;33m,\u001b[0m \u001b[1;36m3\u001b[0m\u001b[1;33m,\u001b[0m \u001b[1;36m4\u001b[0m\u001b[1;33m,\u001b[0m \u001b[1;36m1\u001b[0m\u001b[1;33m,\u001b[0m \u001b[1;36m1\u001b[0m\u001b[1;33m,\u001b[0m \u001b[1;36m1\u001b[0m\u001b[1;33m,\u001b[0m \u001b[1;36m2\u001b[0m\u001b[1;33m,\u001b[0m \u001b[1;36m2\u001b[0m\u001b[1;33m,\u001b[0m \u001b[1;36m7\u001b[0m\u001b[1;33m]\u001b[0m\u001b[1;33m\u001b[0m\u001b[1;33m\u001b[0m\u001b[0m\n\u001b[0;32m      2\u001b[0m \u001b[1;32mdel\u001b[0m \u001b[0ma\u001b[0m\u001b[1;33m\u001b[0m\u001b[1;33m\u001b[0m\u001b[0m\n\u001b[1;32m----> 3\u001b[1;33m \u001b[0mprint\u001b[0m\u001b[1;33m(\u001b[0m\u001b[0ma\u001b[0m\u001b[1;33m)\u001b[0m\u001b[1;33m\u001b[0m\u001b[1;33m\u001b[0m\u001b[0m\n\u001b[0m",
      "\u001b[1;31mNameError\u001b[0m: name 'a' is not defined"
     ]
    }
   ],
   "source": [
    "a = [1, 2, 3, 4, 1, 1, 1, 2, 2, 7]\n",
    "del a\n",
    "print(a)"
   ]
  },
  {
   "cell_type": "code",
   "execution_count": 26,
   "id": "cffb549f",
   "metadata": {},
   "outputs": [
    {
     "name": "stdout",
     "output_type": "stream",
     "text": [
      "['apple', 'orange', 'grapes', 'strawberry']\n"
     ]
    }
   ],
   "source": [
    "# remove method\n",
    "# remove method removes an item from your list based on a value\n",
    "# list.remove(value)\n",
    "# it doesn't returns anything\n",
    "fruits = [\"apple\", \"banana\", \"orange\", \"grapes\", \"strawberry\"]\n",
    "fruits.remove(\"banana\")\n",
    "print(fruits)"
   ]
  },
  {
   "cell_type": "code",
   "execution_count": 34,
   "id": "6b6065b2",
   "metadata": {},
   "outputs": [
    {
     "name": "stdout",
     "output_type": "stream",
     "text": [
      "['banana', 'orange', 'grapes', 'strawberry']\n",
      "['apple', 'banana', 'orange', 'grapes', 'strawberry']\n"
     ]
    }
   ],
   "source": [
    "# copy mehtod\n",
    "# copying a list into another variable\n",
    "# variable = list.copy()\n",
    "fruits = [\"apple\", \"banana\", \"orange\", \"grapes\", \"strawberry\"]\n",
    "names_of_fruits = fruits.copy()\n",
    "fruits.remove(\"apple\")\n",
    "print(fruits)\n",
    "print(names_of_fruits)"
   ]
  },
  {
   "cell_type": "code",
   "execution_count": 36,
   "id": "5f443a7b",
   "metadata": {},
   "outputs": [
    {
     "name": "stdout",
     "output_type": "stream",
     "text": [
      "[]\n"
     ]
    }
   ],
   "source": [
    "# clear method\n",
    "# it clears the contents of your list\n",
    "# list.clear()\n",
    "fruits = [\"apple\", \"banana\", \"orange\", \"grapes\", \"strawberry\"]\n",
    "fruits.clear()\n",
    "print(fruits)\n"
   ]
  },
  {
   "cell_type": "code",
   "execution_count": 52,
   "id": "bb831c4c",
   "metadata": {},
   "outputs": [
    {
     "name": "stdout",
     "output_type": "stream",
     "text": [
      "['Apple', 'Banana', 'Orange', 'Grapes', 'Strawberry']\n"
     ]
    }
   ],
   "source": [
    "fruits = [\"apple\", \"banana\", \"orange\", \"grapes\", \"strawberry\"]\n",
    "fruits1 = []\n",
    "for x in fruits:\n",
    "    fruits1.append(x.capitalize())\n",
    "\n",
    "print(fruits1)\n",
    "\n",
    "\n"
   ]
  },
  {
   "cell_type": "code",
   "execution_count": 53,
   "id": "ee1c5b82",
   "metadata": {},
   "outputs": [
    {
     "name": "stdout",
     "output_type": "stream",
     "text": [
      "['apple', 'banana', 'orange', 'grapes', 'strawberry']\n"
     ]
    }
   ],
   "source": [
    "fruits = [\"Apple\", \"Banana\", \"Orange\", \"GRAPES\", \"strawberry\"]\n",
    "fruits = [x.lower() for x in fruits] #list comprehension\n",
    "print(fruits)\n"
   ]
  },
  {
   "cell_type": "code",
   "execution_count": null,
   "id": "42be848d",
   "metadata": {},
   "outputs": [],
   "source": [
    "# index method\n",
    "# index method takes a value/item and returns the index value of that item.\n",
    "# list.index(value)\n",
    "fruits = [\"apple\", \"banana\", \"Orange\", \"Grapes\", \"Strawberry\"]\n",
    "for x in fruits:\n",
    "    if x.lower() == \"grapes\":\n",
    "        print(fruits.index(x))"
   ]
  },
  {
   "cell_type": "code",
   "execution_count": 58,
   "id": "5e040744",
   "metadata": {},
   "outputs": [
    {
     "name": "stdout",
     "output_type": "stream",
     "text": [
      "[1, 1, 1, 1, 2, 2, 2, 3, 4, 7]\n"
     ]
    }
   ],
   "source": [
    "# sort method\n",
    "# sort method sorts your list in ascending or descending order\n",
    "a = [1, 3, 4, 2, 1, 1, 1, 2, 2, 7]\n",
    "a.sort()\n",
    "print(a)"
   ]
  },
  {
   "cell_type": "code",
   "execution_count": 65,
   "id": "2073dd51",
   "metadata": {},
   "outputs": [
    {
     "name": "stdout",
     "output_type": "stream",
     "text": [
      "None\n",
      "[7, 4, 3, 2, 2, 2, 1, 1, 1, 1]\n"
     ]
    }
   ],
   "source": [
    "a = [1, 3, 4, 2, 1, 1, 1, 2, 2, 7]\n",
    "a.sort(reverse = True)\n",
    "print(numbers)\n",
    "print(a)"
   ]
  },
  {
   "cell_type": "code",
   "execution_count": 64,
   "id": "15b8efbd",
   "metadata": {},
   "outputs": [
    {
     "name": "stdout",
     "output_type": "stream",
     "text": [
      "[1, 1, 1, 1, 2, 2, 2, 3, 4, 7]\n",
      "[1, 3, 4, 2, 1, 1, 1, 2, 2, 7]\n"
     ]
    }
   ],
   "source": [
    "# sorted function\n",
    "a = [1, 3, 4, 2, 1, 1, 1, 2, 2, 7]\n",
    "numbers = sorted(a)         #sorted function returns a new list without effecting current list\n",
    "print(numbers)\n",
    "print(a)"
   ]
  },
  {
   "cell_type": "code",
   "execution_count": 70,
   "id": "70acc4f5",
   "metadata": {},
   "outputs": [
    {
     "name": "stdout",
     "output_type": "stream",
     "text": [
      "['strawberry', 'orange', 'grapes', 'banana', 'appleapple']\n"
     ]
    }
   ],
   "source": [
    "fruits = [\"appleapple\", \"banana\", \"orange\", \"grapes\", \"strawberry\"]\n",
    "fruits.sort(reverse = True)\n",
    "print(fruits)"
   ]
  }
 ],
 "metadata": {
  "kernelspec": {
   "display_name": "Python 3 (ipykernel)",
   "language": "python",
   "name": "python3"
  },
  "language_info": {
   "codemirror_mode": {
    "name": "ipython",
    "version": 3
   },
   "file_extension": ".py",
   "mimetype": "text/x-python",
   "name": "python",
   "nbconvert_exporter": "python",
   "pygments_lexer": "ipython3",
   "version": "3.9.7"
  }
 },
 "nbformat": 4,
 "nbformat_minor": 5
}
