{
 "cells": [
  {
   "cell_type": "code",
   "execution_count": null,
   "metadata": {},
   "outputs": [],
   "source": [
    "birthday1=int(input(\"Enter birthdate in 8 digit format for person1 YYYYMMDD: \"))\n",
    "birthday2=int(input(\"Enter birthdate in 8 digit format for person2 YYYYMMDD: \"))\n",
    "\n",
    "name1=input(\"Enter name for person 1: \")\n",
    "name2=input(\"Enter name for person 2: \")\n",
    "\n",
    "date1=birthday1%100\n",
    "month1=(birthday1//100)%100\n",
    "year1= birthday1//10000\n",
    "\n",
    "\n",
    "date2=birthday2%100\n",
    "month2=(birthday2//100)%100\n",
    "year2= birthday2//10000\n",
    "\n",
    "\n",
    "#f strings\n",
    "print(f\" {name1}'s date of birth is {month1}/{date1}/{year1}\")\n",
    "print(f\" {name2}'s date of birth is {month2}/{date2}/{year2}\")\n",
    "\n",
    "\n",
    "if birthday1 == birthday2:\n",
    "    print(f\"{name1} and {name2} have same age\")\n",
    "\n",
    "elif birthday1<birthday2:\n",
    "    print(f\"{name1} is older than {name2}\")\n",
    "\n",
    "else:\n",
    "    print(f\"{name2} is older than {name1}\")"
   ]
  },
  {
   "cell_type": "code",
   "execution_count": 1,
   "metadata": {},
   "outputs": [
    {
     "name": "stdout",
     "output_type": "stream",
     "text": [
      "\n",
      "*\n",
      "**\n",
      "***\n",
      "****\n",
      "*****\n",
      "******\n",
      "*******\n",
      "********\n",
      "*********\n"
     ]
    }
   ],
   "source": [
    "n=int(input(\"Enter the number of rows you want to print: \"))  #10\n",
    "\n",
    "for i in range(n):  #number of rows\n",
    "    print(i*\"*\")\n",
    "\n"
   ]
  },
  {
   "cell_type": "code",
   "execution_count": 3,
   "metadata": {},
   "outputs": [
    {
     "name": "stdout",
     "output_type": "stream",
     "text": [
      "**********\n",
      "*********\n",
      "********\n",
      "*******\n",
      "******\n",
      "*****\n",
      "****\n",
      "***\n",
      "**\n",
      "*\n"
     ]
    }
   ],
   "source": [
    "n=int(input(\"Enter the number of rows you want to print: \"))  #10\n",
    "\n",
    "for i in range(n):  #number of rows\n",
    "    print((n-i)*\"*\")\n"
   ]
  },
  {
   "cell_type": "code",
   "execution_count": 6,
   "metadata": {},
   "outputs": [
    {
     "name": "stdout",
     "output_type": "stream",
     "text": [
      "Please guess higher\n",
      "Please guess lower\n",
      "Please guess lower\n",
      "Please guess lower\n",
      "Please guess higher\n"
     ]
    }
   ],
   "source": [
    "from random import randint\n",
    "x=randint(1,30)\n",
    "guesses=0\n",
    "while guesses<5:\n",
    "    guess=int(input(\"Enter any guess between 1 to 30: \"))\n",
    "    guesses+=1\n",
    "    if guess==x:\n",
    "        print(f\"You win in {guesses} guesses\")\n",
    "        break\n",
    "    elif guesses==5:\n",
    "        print(\"You lost\",f\"The answer was {x}\")\n",
    "    elif guess < x:\n",
    "        print(\"Please guess higher\")\n",
    "\n",
    "    elif guess > x:\n",
    "        print(\"Please guess lower\")\n",
    "\n",
    "    \n",
    "        \n"
   ]
  },
  {
   "cell_type": "code",
   "execution_count": 11,
   "metadata": {},
   "outputs": [
    {
     "name": "stdout",
     "output_type": "stream",
     "text": [
      "0 \t 32.00\n",
      "1 \t 33.80\n",
      "2 \t 35.60\n",
      "3 \t 37.40\n",
      "4 \t 39.20\n",
      "5 \t 41.00\n",
      "6 \t 42.80\n",
      "7 \t 44.60\n",
      "8 \t 46.40\n",
      "9 \t 48.20\n",
      "10 \t 50.00\n",
      "11 \t 51.80\n",
      "12 \t 53.60\n",
      "13 \t 55.40\n",
      "14 \t 57.20\n",
      "15 \t 59.00\n",
      "16 \t 60.80\n",
      "17 \t 62.60\n",
      "18 \t 64.40\n",
      "19 \t 66.20\n",
      "20 \t 68.00\n",
      "21 \t 69.80\n",
      "22 \t 71.60\n",
      "23 \t 73.40\n",
      "24 \t 75.20\n",
      "25 \t 77.00\n",
      "26 \t 78.80\n",
      "27 \t 80.60\n",
      "28 \t 82.40\n",
      "29 \t 84.20\n",
      "30 \t 86.00\n",
      "31 \t 87.80\n",
      "32 \t 89.60\n",
      "33 \t 91.40\n",
      "34 \t 93.20\n",
      "35 \t 95.00\n",
      "36 \t 96.80\n",
      "37 \t 98.60\n",
      "38 \t 100.40\n",
      "39 \t 102.20\n",
      "40 \t 104.00\n",
      "41 \t 105.80\n",
      "42 \t 107.60\n",
      "43 \t 109.40\n",
      "44 \t 111.20\n",
      "45 \t 113.00\n",
      "46 \t 114.80\n",
      "47 \t 116.60\n",
      "48 \t 118.40\n",
      "49 \t 120.20\n",
      "50 \t 122.00\n",
      "51 \t 123.80\n",
      "52 \t 125.60\n",
      "53 \t 127.40\n",
      "54 \t 129.20\n",
      "55 \t 131.00\n",
      "56 \t 132.80\n",
      "57 \t 134.60\n",
      "58 \t 136.40\n",
      "59 \t 138.20\n",
      "60 \t 140.00\n",
      "61 \t 141.80\n",
      "62 \t 143.60\n",
      "63 \t 145.40\n",
      "64 \t 147.20\n",
      "65 \t 149.00\n",
      "66 \t 150.80\n",
      "67 \t 152.60\n",
      "68 \t 154.40\n",
      "69 \t 156.20\n",
      "70 \t 158.00\n",
      "71 \t 159.80\n",
      "72 \t 161.60\n",
      "73 \t 163.40\n",
      "74 \t 165.20\n",
      "75 \t 167.00\n",
      "76 \t 168.80\n",
      "77 \t 170.60\n",
      "78 \t 172.40\n",
      "79 \t 174.20\n",
      "80 \t 176.00\n",
      "81 \t 177.80\n",
      "82 \t 179.60\n",
      "83 \t 181.40\n",
      "84 \t 183.20\n",
      "85 \t 185.00\n",
      "86 \t 186.80\n",
      "87 \t 188.60\n",
      "88 \t 190.40\n",
      "89 \t 192.20\n",
      "90 \t 194.00\n",
      "91 \t 195.80\n",
      "92 \t 197.60\n",
      "93 \t 199.40\n",
      "94 \t 201.20\n",
      "95 \t 203.00\n",
      "96 \t 204.80\n",
      "97 \t 206.60\n",
      "98 \t 208.40\n",
      "99 \t 210.20\n",
      "100 \t 212.00\n"
     ]
    }
   ],
   "source": [
    "def farenheit(cel):\n",
    "    return ((9/5)*cel+32)\n",
    "\n",
    "for celsius in range(101):\n",
    "    print(f\"{celsius} \\t {farenheit(celsius):.2f}\")"
   ]
  }
 ],
 "metadata": {
  "interpreter": {
   "hash": "15517ddd231c8bd22ea592101a1a7ffb7b99d68cedaef80ddfebf2fc64fe6cd5"
  },
  "kernelspec": {
   "display_name": "Python 3 (ipykernel)",
   "language": "python",
   "name": "python3"
  },
  "language_info": {
   "codemirror_mode": {
    "name": "ipython",
    "version": 3
   },
   "file_extension": ".py",
   "mimetype": "text/x-python",
   "name": "python",
   "nbconvert_exporter": "python",
   "pygments_lexer": "ipython3",
   "version": "3.9.7"
  }
 },
 "nbformat": 4,
 "nbformat_minor": 2
}
