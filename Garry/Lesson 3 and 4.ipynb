{
 "cells": [
  {
   "cell_type": "markdown",
   "id": "d00e7b5d",
   "metadata": {},
   "source": [
    "# List Methods\n",
    "\n",
    "* append()\n",
    "* clear()\n",
    "* copy()\n",
    "* count()\n",
    "* extend()\n",
    "* index()\n",
    "* insert()\n",
    "* pop()\n",
    "* remove()\n",
    "* reverse()\n",
    "* sort()\n",
    "* del "
   ]
  },
  {
   "cell_type": "markdown",
   "id": "49a1f39f",
   "metadata": {},
   "source": [
    "### Adding Items to a list"
   ]
  },
  {
   "cell_type": "code",
   "execution_count": 14,
   "id": "edf40bba",
   "metadata": {},
   "outputs": [
    {
     "name": "stdout",
     "output_type": "stream",
     "text": [
      "['Emma', 23, 45, 67, True, 78.5, 45, 67, 108, 3]\n"
     ]
    }
   ],
   "source": [
    "\n",
    "a=['Emma',23,45,67,True,78.5,45,67,108]\n",
    "# append method (It appends a given item at the end of a list)\n",
    "a.append(3)\n",
    "print(a)"
   ]
  },
  {
   "cell_type": "code",
   "execution_count": 7,
   "id": "10c9a334",
   "metadata": {},
   "outputs": [
    {
     "name": "stdout",
     "output_type": "stream",
     "text": [
      "[2, 4, 6, 8, 'P', 'y', 't', 'h', 'o', 'n']\n"
     ]
    }
   ],
   "source": [
    "#extend\n",
    "# it takes a sequence\n",
    "#it extends a sequence to a given list\n",
    "even=[2,4,6,8]\n",
    "odd=[1,3,5,7]\n",
    "even.extend(\"Python\")\n",
    "print(even)"
   ]
  },
  {
   "cell_type": "code",
   "execution_count": 9,
   "id": "4e3cd41d",
   "metadata": {},
   "outputs": [
    {
     "name": "stdout",
     "output_type": "stream",
     "text": [
      "[1, 3, 5, 7, 2, 4, 6, 8]\n"
     ]
    }
   ],
   "source": [
    "# Concatenation of two or more lists\n",
    "# + operator is a concatenation operator\n",
    "#List concatenation\n",
    "even=[2,4,6,8]\n",
    "odd=[1,3,5,7]\n",
    "odd+=even\n",
    "print(odd)"
   ]
  },
  {
   "cell_type": "code",
   "execution_count": 11,
   "id": "538fa99d",
   "metadata": {},
   "outputs": [
    {
     "name": "stdout",
     "output_type": "stream",
     "text": [
      "2015\n"
     ]
    }
   ],
   "source": [
    "# String Concatenation\n",
    "a=\"20\"\n",
    "b=\"15\"\n",
    "print(a+b)"
   ]
  },
  {
   "cell_type": "code",
   "execution_count": 13,
   "id": "53ed9d95",
   "metadata": {},
   "outputs": [
    {
     "name": "stdout",
     "output_type": "stream",
     "text": [
      "[2, 4, 6, 8, 2, 4, 6, 8, 2, 4, 6, 8]\n"
     ]
    }
   ],
   "source": [
    "# List multiplication with integer\n",
    "even=[2,4,6,8]\n",
    "print(even*3)"
   ]
  },
  {
   "cell_type": "code",
   "execution_count": 15,
   "id": "51777367",
   "metadata": {},
   "outputs": [
    {
     "name": "stdout",
     "output_type": "stream",
     "text": [
      "[2, 3, 4, 6, 8]\n"
     ]
    }
   ],
   "source": [
    "# insert method\n",
    "#It takes two arguments, first argument is index value, second argument is the item that you want to insert\n",
    "# list.insert\n",
    "even=[2,4,6,8]\n",
    "even.insert(1,3)\n",
    "print(even)"
   ]
  },
  {
   "cell_type": "code",
   "execution_count": 16,
   "id": "151d4634",
   "metadata": {},
   "outputs": [
    {
     "name": "stdout",
     "output_type": "stream",
     "text": [
      "[2, [4, 5, 6], 4, 6, 8]\n"
     ]
    }
   ],
   "source": [
    "even=[2,4,6,8]\n",
    "even.insert(1,[4,5,6])\n",
    "print(even)"
   ]
  },
  {
   "cell_type": "code",
   "execution_count": 19,
   "id": "3b1e8a86",
   "metadata": {},
   "outputs": [
    {
     "name": "stdout",
     "output_type": "stream",
     "text": [
      "[1, 2, 3, 5]\n"
     ]
    }
   ],
   "source": [
    "a=[1,2,3]+[5]\n",
    "print(a)"
   ]
  },
  {
   "cell_type": "markdown",
   "id": "2849074b",
   "metadata": {},
   "source": [
    "### Removing items from a list\n",
    "* clear()\n",
    "* pop\n",
    "* remove\n",
    "* del"
   ]
  },
  {
   "cell_type": "code",
   "execution_count": 20,
   "id": "e57bc7cc",
   "metadata": {},
   "outputs": [
    {
     "name": "stdout",
     "output_type": "stream",
     "text": [
      "[]\n"
     ]
    }
   ],
   "source": [
    "# clear method removes all of the items from your list and makes it empty\n",
    "# and it takes no argument\n",
    "a=['Emma',23,45,67,True,78.5,45,67,108]\n",
    "a.clear()\n",
    "print(a)"
   ]
  },
  {
   "cell_type": "code",
   "execution_count": 26,
   "id": "002b0add",
   "metadata": {},
   "outputs": [
    {
     "name": "stdout",
     "output_type": "stream",
     "text": [
      "[23, 45, 67, True, 78.5, 45, 67, 108]\n"
     ]
    }
   ],
   "source": [
    "# pop method \n",
    "# pop method also takes one argument\n",
    "# it removes value at a specified index, you provide index value as an argument\n",
    "# if you donot provide any argument to pop method, it will remove the last item from your list\n",
    "a=['Emma',23,45,67,True,78.5,45,67,108]\n",
    "a.pop(0)\n",
    "print(a)"
   ]
  },
  {
   "cell_type": "code",
   "execution_count": 33,
   "id": "83ee8873",
   "metadata": {},
   "outputs": [
    {
     "name": "stdout",
     "output_type": "stream",
     "text": [
      "['Emma', 45, 67, True, 78.5, 45, 67, 108]\n"
     ]
    }
   ],
   "source": [
    "# remove \n",
    "# it takes one argument. It should be the item from the list that you want to remove\n",
    "# it will remove that item\n",
    "\n",
    "a=['Emma',23,45,67,True,78.5,45,67,108]\n",
    "a.remove(23)\n",
    "print(a)"
   ]
  },
  {
   "cell_type": "code",
   "execution_count": 35,
   "id": "e5dff8bf",
   "metadata": {},
   "outputs": [
    {
     "ename": "NameError",
     "evalue": "name 'a' is not defined",
     "output_type": "error",
     "traceback": [
      "\u001b[1;31m---------------------------------------------------------------------------\u001b[0m",
      "\u001b[1;31mNameError\u001b[0m                                 Traceback (most recent call last)",
      "\u001b[1;32m~\\AppData\\Local\\Temp/ipykernel_3780/1374857640.py\u001b[0m in \u001b[0;36m<module>\u001b[1;34m\u001b[0m\n\u001b[0;32m      3\u001b[0m \u001b[0ma\u001b[0m\u001b[1;33m=\u001b[0m\u001b[1;33m[\u001b[0m\u001b[1;34m'Emma'\u001b[0m\u001b[1;33m,\u001b[0m\u001b[1;36m23\u001b[0m\u001b[1;33m,\u001b[0m\u001b[1;36m45\u001b[0m\u001b[1;33m,\u001b[0m\u001b[1;36m67\u001b[0m\u001b[1;33m,\u001b[0m\u001b[1;32mTrue\u001b[0m\u001b[1;33m,\u001b[0m\u001b[1;36m78.5\u001b[0m\u001b[1;33m,\u001b[0m\u001b[1;36m45\u001b[0m\u001b[1;33m,\u001b[0m\u001b[1;36m67\u001b[0m\u001b[1;33m,\u001b[0m\u001b[1;36m108\u001b[0m\u001b[1;33m]\u001b[0m\u001b[1;33m\u001b[0m\u001b[1;33m\u001b[0m\u001b[0m\n\u001b[0;32m      4\u001b[0m \u001b[1;32mdel\u001b[0m \u001b[0ma\u001b[0m\u001b[1;33m\u001b[0m\u001b[1;33m\u001b[0m\u001b[0m\n\u001b[1;32m----> 5\u001b[1;33m \u001b[0mprint\u001b[0m\u001b[1;33m(\u001b[0m\u001b[0ma\u001b[0m\u001b[1;33m)\u001b[0m\u001b[1;33m\u001b[0m\u001b[1;33m\u001b[0m\u001b[0m\n\u001b[0m",
      "\u001b[1;31mNameError\u001b[0m: name 'a' is not defined"
     ]
    }
   ],
   "source": [
    "# del \n",
    "# deletes whole list or a specific index\n",
    "a=['Emma',23,45,67,True,78.5,45,67,108]\n",
    "del a\n",
    "print(a)"
   ]
  },
  {
   "cell_type": "code",
   "execution_count": 22,
   "id": "e2518214",
   "metadata": {},
   "outputs": [
    {
     "name": "stdout",
     "output_type": "stream",
     "text": [
      "[]\n",
      "<class 'list'>\n"
     ]
    }
   ],
   "source": [
    "b=[]\n",
    "print(b)\n",
    "print(type(b))"
   ]
  },
  {
   "cell_type": "markdown",
   "id": "a45787b9",
   "metadata": {},
   "source": [
    "* copy()\n",
    "* count()\n",
    "* index()\n",
    "* reverse()\n",
    "* sort()\n"
   ]
  },
  {
   "cell_type": "code",
   "execution_count": 36,
   "id": "8bb88ede",
   "metadata": {},
   "outputs": [
    {
     "name": "stdout",
     "output_type": "stream",
     "text": [
      "[1, 2, 3, 4, 5, 6]\n"
     ]
    }
   ],
   "source": [
    "# copy() method is used to copy one list to another list\n",
    "# copy() method doesn't takes any argument\n",
    "\n",
    "a=[1,2,3,4,5,6]\n",
    "b=a.copy()\n",
    "print(b)"
   ]
  },
  {
   "cell_type": "code",
   "execution_count": 39,
   "id": "2798e36c",
   "metadata": {},
   "outputs": [
    {
     "name": "stdout",
     "output_type": "stream",
     "text": [
      "1\n"
     ]
    }
   ],
   "source": [
    "# count() method takes only one argument and that is item from the list\n",
    "# it returns you how many times that item has occured in the list\n",
    "\n",
    "list1=[1,2,2,2,7,8,9,7,0,0,3,3]\n",
    "print(list1.count(8))"
   ]
  },
  {
   "cell_type": "code",
   "execution_count": 44,
   "id": "aca18588",
   "metadata": {},
   "outputs": [
    {
     "name": "stdout",
     "output_type": "stream",
     "text": [
      "1\n"
     ]
    }
   ],
   "source": [
    "# index method accepts one argument and that is the item from the list\n",
    "# it will return the index value of that item\n",
    "# if that item occurs more than once, it will tell the index for the first occurence\n",
    "\n",
    "list1=[1,2,2,2,7,8,9,7,0,0,3,3]\n",
    "\n",
    "y=list1.index(2)\n",
    "print(y)"
   ]
  },
  {
   "cell_type": "code",
   "execution_count": 45,
   "id": "1e704a78",
   "metadata": {},
   "outputs": [
    {
     "name": "stdout",
     "output_type": "stream",
     "text": [
      "[0, 0, 1, 2, 2, 2, 3, 3, 7, 7, 8, 9]\n"
     ]
    }
   ],
   "source": [
    "# sort method sorts your list in ascending order\n",
    "\n",
    "list1=[1,2,2,2,7,8,9,7,0,0,3,3]\n",
    "list1.sort()\n",
    "print(list1)"
   ]
  },
  {
   "cell_type": "code",
   "execution_count": 53,
   "id": "ed44d4b7",
   "metadata": {},
   "outputs": [
    {
     "name": "stdout",
     "output_type": "stream",
     "text": [
      "['a', 'A', 'b', 'd', 'e', 'y', 'z', 'Z']\n"
     ]
    }
   ],
   "source": [
    "# to sort a list in a descending order you write reverse=True in sort method\n",
    "list1=[\"a\",\"b\",\"z\",\"y\",\"d\",\"e\",\"A\",\"Z\"]\n",
    "list1.sort(key=str.casefold)\n",
    "print(list1)"
   ]
  },
  {
   "cell_type": "markdown",
   "id": "018024d1",
   "metadata": {},
   "source": [
    "### Ways to copy a list"
   ]
  },
  {
   "cell_type": "code",
   "execution_count": 64,
   "id": "b64cd651",
   "metadata": {},
   "outputs": [
    {
     "name": "stdout",
     "output_type": "stream",
     "text": [
      "[1, 2, 3, 4, 5, 6]\n",
      "[1, 2, 3, 4, 5, 6]\n",
      "[1, 2, 3, 4, 5, 6]\n",
      "2757878921088\n",
      "2757878921088\n",
      "2757878921088\n",
      "2757878921088\n",
      "[1, 3, 4, 5, 6]\n",
      "[1, 3, 4, 5, 6]\n",
      "[1, 3, 4, 5, 6]\n",
      "[1, 3, 4, 5, 6]\n"
     ]
    }
   ],
   "source": [
    "# copy() method is used to copy one list to another list\n",
    "# copy() method doesn't takes any argument\n",
    "\n",
    "a=[1,2,3,4,5,6]\n",
    "b,c,d=a,a,a\n",
    "print(b)\n",
    "print(c)\n",
    "print(d)\n",
    "\n",
    "print(id(a))\n",
    "print(id(b))\n",
    "print(id(c))\n",
    "print(id(d))\n",
    "\n",
    "b.pop(1)\n",
    "\n",
    "print(a)\n",
    "print(b)\n",
    "print(c)\n",
    "print(d)"
   ]
  },
  {
   "cell_type": "code",
   "execution_count": 65,
   "id": "da4e34bf",
   "metadata": {},
   "outputs": [
    {
     "name": "stdout",
     "output_type": "stream",
     "text": [
      "[1, 2, 3, 4, 5, 6]\n"
     ]
    }
   ],
   "source": [
    "a=[1,2,3,4,5,6]\n",
    "b=a[:]\n",
    "print(b)"
   ]
  },
  {
   "cell_type": "code",
   "execution_count": 67,
   "id": "a8b4908f",
   "metadata": {},
   "outputs": [
    {
     "name": "stdout",
     "output_type": "stream",
     "text": [
      "[1, 2, 3, 4, 5, 7, 8]\n"
     ]
    }
   ],
   "source": [
    "list1=[1,2,2,2,7,8,3,3,3,4,1,1,1,5,5,5]\n",
    "# Each value should appear once\n",
    "# And the resultant list should be sorted\n",
    "result=[]\n",
    "\n",
    "for i in list1:\n",
    "    if i not in result:\n",
    "        result.append(i)\n",
    "        \n",
    "result.sort()\n",
    "print(result)\n",
    "    "
   ]
  },
  {
   "cell_type": "markdown",
   "id": "e4de9df7",
   "metadata": {},
   "source": [
    "# Nested Lists / Multidimenshional lists"
   ]
  },
  {
   "cell_type": "code",
   "execution_count": 71,
   "id": "e389a270",
   "metadata": {},
   "outputs": [
    {
     "name": "stdout",
     "output_type": "stream",
     "text": [
      "9\n",
      "3\n",
      "1\t2\t3\t4\t5\t6\t7\t8\t9\t"
     ]
    }
   ],
   "source": [
    "a=[1,2,3,4,5,6,7,8,9]\n",
    "b=[[1,2,3],[4,5,6],[7,8,9]]\n",
    "print(len(a))\n",
    "print(len(b))\n",
    "\n",
    "for x in a:\n",
    "    print(x, end=\"\\t\")"
   ]
  },
  {
   "cell_type": "code",
   "execution_count": 76,
   "id": "a26eba8d",
   "metadata": {},
   "outputs": [
    {
     "name": "stdout",
     "output_type": "stream",
     "text": [
      "1\t2\t3\t4\t5\t6\t7\t8\t9\t"
     ]
    }
   ],
   "source": [
    "b=[[1,2,3],[4,5,6],[7,8,9]]\n",
    "\n",
    "for x in b:\n",
    "    for i in x:\n",
    "        print(i,end=\"\\t\")"
   ]
  },
  {
   "cell_type": "code",
   "execution_count": null,
   "id": "4d351399",
   "metadata": {},
   "outputs": [],
   "source": [
    "# Homework do this using indexing with range function\n",
    "b=[[1,2,3],[4,5,6],[7,8,9]]\n",
    "\n",
    "for x in b:\n",
    "    for i in x:\n",
    "        print(i,end=\"\\t\")"
   ]
  },
  {
   "cell_type": "code",
   "execution_count": 82,
   "id": "773fb0a4",
   "metadata": {},
   "outputs": [],
   "source": [
    "lst1 = [['Carol', '22223333', 25, 65, 48],\n",
    "        ['Leslie', '23232323', 78, 54, 68],\n",
    "        ['Haidar', '18493214', 55, 46, 39],\n",
    "        ['Sel', '50015542', 70, 81, 75],\n",
    "        ['Maryam', '45228733', 48, 75, 68],\n",
    "        ['Istiaque', '35503401', 100, 98, 90], \n",
    "        ['Morgan', '25678890', 65, 89, 43],\n",
    "        ['Mehran', '34545742', 65, 78, 87],\n",
    "        ['Josephine', '04587864', 87, 56, 76], \n",
    "        ['Shannon', '44678646', 65, 76, 65],\n",
    "        ['Anneke', '17850646', 72, 66, 58]]\n",
    "\n",
    "# Values at 0 index of each list inside lst1 are name of students\n",
    "# Values at 1 index of each list inside lst1 are students id\n",
    "# Values at 2 index of each list inside lst1 are marks of english subject\n",
    "# Values at 3 index of each list inside lst1 are marks of maths subject\n",
    "# Values at 4 index of each list inside lst1 are marks of computer subject"
   ]
  },
  {
   "cell_type": "code",
   "execution_count": null,
   "id": "39d78a1c",
   "metadata": {},
   "outputs": [],
   "source": [
    "# print this lst1\n",
    "# print names , student ids, marks of english, marks of maths, marks of computer separately\n",
    "# calculate average of english, maths, computer and store that in a new list and then print it\n",
    "# print name and id of student who got highest marks in total and lowest marks in total\n",
    "# delete or remove all those lists whose average marks are below 50\n",
    "# append the sum of marks at the end of each list"
   ]
  }
 ],
 "metadata": {
  "kernelspec": {
   "display_name": "Python 3 (ipykernel)",
   "language": "python",
   "name": "python3"
  },
  "language_info": {
   "codemirror_mode": {
    "name": "ipython",
    "version": 3
   },
   "file_extension": ".py",
   "mimetype": "text/x-python",
   "name": "python",
   "nbconvert_exporter": "python",
   "pygments_lexer": "ipython3",
   "version": "3.9.7"
  }
 },
 "nbformat": 4,
 "nbformat_minor": 5
}
