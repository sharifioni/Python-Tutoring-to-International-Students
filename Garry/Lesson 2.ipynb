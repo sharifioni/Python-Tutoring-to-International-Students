{
 "cells": [
  {
   "cell_type": "markdown",
   "id": "7f82de59",
   "metadata": {},
   "source": [
    "# Lists\n",
    "* used to store multiple items\n",
    "* collections of data  (lists, tuples, dictionaries, sets)"
   ]
  },
  {
   "cell_type": "code",
   "execution_count": 14,
   "id": "eda7ba96",
   "metadata": {},
   "outputs": [
    {
     "name": "stdout",
     "output_type": "stream",
     "text": [
      "['apple', 'banana', 'grapes', 'mango']\n"
     ]
    }
   ],
   "source": [
    "# using square brackets and giving multiple items separated by commas\n",
    "\n",
    "fruits=['apple','banana','grapes','mango']\n",
    "print(fruits)"
   ]
  },
  {
   "cell_type": "code",
   "execution_count": 19,
   "id": "a0be81d0",
   "metadata": {},
   "outputs": [
    {
     "name": "stdout",
     "output_type": "stream",
     "text": [
      "['apple', 'banana', 'grapes', 'mango']\n",
      "['a', 'b', 'c', 'd', 'e', 'f', 'g', 'h']\n"
     ]
    }
   ],
   "source": [
    "fruits=list(('apple','banana','grapes','mango'))  #tuple round brackets\n",
    "print(fruits)\n",
    "a=list(\"abcdefgh\")\n",
    "print(a)"
   ]
  },
  {
   "cell_type": "code",
   "execution_count": 20,
   "id": "a5df03e7",
   "metadata": {},
   "outputs": [
    {
     "name": "stdout",
     "output_type": "stream",
     "text": [
      "['Emma', 23, 45, 67, True, 78.5]\n"
     ]
    }
   ],
   "source": [
    "# Passing different type of data to a list\n",
    "a=['Emma',23,45,67,True,78.5]\n",
    "print(a)"
   ]
  },
  {
   "cell_type": "code",
   "execution_count": 64,
   "id": "4eb509e8",
   "metadata": {},
   "outputs": [
    {
     "name": "stdout",
     "output_type": "stream",
     "text": [
      "6\n",
      "1\n",
      "24\n",
      "black\n",
      "yellow\n",
      "71\n"
     ]
    }
   ],
   "source": [
    "# Ordered, changeable and can contain duplicate values\n",
    "a=['Emma',23,45,67,True,78.5]\n",
    "\n",
    "#len(), min(), max(), sum()\n",
    "print(len(a))  # gives the total number of elements in returnm\n",
    "\n",
    "b=[22,1,24,8,9,7]\n",
    "print(min(b))  # minimum value in a sequence in return\n",
    "print(max(b))  # maximum value in a sequence in return\n",
    "\n",
    "b=[\"purple\",\"orange\",\"yellow\",\"white\",\"black\",\"blue\",\"Zebra\"]\n",
    "print(min(b,key=str.casefold))\n",
    "print(max(b))\n",
    "\n",
    "b=[22,1,24,8,9,7]\n",
    "print(sum(b))  # sums all values in a sequence in return"
   ]
  },
  {
   "cell_type": "code",
   "execution_count": 63,
   "id": "cab578c9",
   "metadata": {},
   "outputs": [
    {
     "name": "stdout",
     "output_type": "stream",
     "text": [
      "97\n",
      "122\n",
      "65\n",
      "90\n"
     ]
    }
   ],
   "source": [
    "# ASCII numbers\n",
    "\n",
    "print(ord(\"a\"))\n",
    "print(ord(\"z\"))\n",
    "\n",
    "print(ord(\"A\"))\n",
    "print(ord(\"Z\"))"
   ]
  },
  {
   "cell_type": "markdown",
   "id": "1ed476e5",
   "metadata": {},
   "source": [
    "# Indexing , negative indexing, slicing\n",
    "## Accessing items in a list"
   ]
  },
  {
   "cell_type": "code",
   "execution_count": 45,
   "id": "23fd1208",
   "metadata": {},
   "outputs": [
    {
     "name": "stdout",
     "output_type": "stream",
     "text": [
      "Emma\n",
      "78.5\n",
      "108\n",
      "108\n",
      "Emma\n",
      "['Emma', 23, 45]\n",
      "['Emma', 23, 45]\n",
      "['Emma', 23, 45, 67, True, 78.5, 45, 67, 108]\n",
      "['Emma', 67, 45]\n",
      "[45, 67, True, 78.5, 45, 67, 108]\n",
      "[45, True, 45, 108]\n",
      "[45, True, 45]\n",
      "[45, True, 45]\n",
      "[108, 67, 45, 78.5, True, 67]\n",
      "[108, 67, 45, 78.5, True, 67, 45, 23, 'Emma']\n",
      "[108, 67, 45, 78.5, True, 67, 45, 23, 'Emma']\n"
     ]
    }
   ],
   "source": [
    "a=['Emma',23,45,67,True,78.5,45,67,108]\n",
    "\n",
    "# positive indexing\n",
    "print(a[0])\n",
    "print(a[5])\n",
    "print(a[len(a)-1])\n",
    "\n",
    "# negative indexing\n",
    "print(a[-1])\n",
    "print(a[-len(a)])\n",
    "\n",
    "\n",
    "# slicing    start, stop, step \n",
    "# positive slicing\n",
    "# start value should be less than stop value\n",
    "print(a[0:3])\n",
    "print(a[ :3])\n",
    "print(a[:])\n",
    "\n",
    "#step\n",
    "print(a[ : :3 ])\n",
    "print(a[2: : ])  #by default step value is 1\n",
    "print(a[2: :2 ])  \n",
    "print(a[2: 7:2 ]) \n",
    "print(a[2: 8: 2 ]) \n",
    "\n",
    "\n",
    "\n",
    "# negative slicing\n",
    "print(a[-1 : -7 :-1])\n",
    "print(a[-1 :  :-1])\n",
    "print(a[ :  :-1])"
   ]
  },
  {
   "cell_type": "markdown",
   "id": "8c1e29dd",
   "metadata": {},
   "source": [
    "# Change item values in a list"
   ]
  },
  {
   "cell_type": "code",
   "execution_count": 50,
   "id": "6baabb1a",
   "metadata": {},
   "outputs": [
    {
     "name": "stdout",
     "output_type": "stream",
     "text": [
      "['Emma', 23, 35, 67, True, 78.5, 45, 67, 108]\n",
      "['Emma', 23, 35, 67, 'Hello', 67, 108]\n"
     ]
    }
   ],
   "source": [
    "a=['Emma',23,45,67,True,78.5,45,67,108]\n",
    "a[2]=35\n",
    "print(a)\n",
    "\n",
    "a[4:7]=[\"Hello\"]\n",
    "print(a)\n",
    "\n"
   ]
  },
  {
   "cell_type": "code",
   "execution_count": 54,
   "id": "81ecb4fc",
   "metadata": {},
   "outputs": [
    {
     "name": "stdout",
     "output_type": "stream",
     "text": [
      "False\n",
      "True\n",
      "True\n"
     ]
    }
   ],
   "source": [
    "# Use of \"in\" and \"not in\" operator with lists\n",
    "print(78.5 in a)    # returns a boolean value (either True or False)\n",
    "\n",
    "if 78.5  in a:\n",
    "    print(\"True\")\n",
    "else:\n",
    "    print(\"False\")\n",
    "    \n",
    "b=\"Swimming\"\n",
    "print(\"ing\" in b)"
   ]
  },
  {
   "cell_type": "markdown",
   "id": "1f0a9f9e",
   "metadata": {},
   "source": [
    "# Using loops over a list\n"
   ]
  },
  {
   "cell_type": "code",
   "execution_count": 68,
   "id": "f3acf97f",
   "metadata": {},
   "outputs": [
    {
     "name": "stdout",
     "output_type": "stream",
     "text": [
      "Emma\n",
      "23\n",
      "45\n",
      "67\n",
      "True\n",
      "78.5\n",
      "45\n",
      "67\n",
      "108\n",
      "Emma\n",
      "23\n",
      "45\n",
      "67\n",
      "True\n",
      "78.5\n",
      "45\n",
      "67\n",
      "108\n"
     ]
    }
   ],
   "source": [
    "a=['Emma',23,45,67,True,78.5,45,67,108]\n",
    "\n",
    "for value in a:\n",
    "    print(value)\n",
    "\n",
    "# homework    \n",
    "# print these values on a same line\n",
    "#print out values of list a using while loop\n",
    "\n",
    "#using indexing\n",
    "for i in range(len(a)):\n",
    "    print(a[i])\n",
    "    "
   ]
  },
  {
   "cell_type": "code",
   "execution_count": null,
   "id": "e96c9147",
   "metadata": {},
   "outputs": [],
   "source": [
    "list1=[1,2,2,2,7,8,9,7,0,0,3,3]\n",
    "#[1,2,7,8,9,0,3]"
   ]
  },
  {
   "cell_type": "code",
   "execution_count": null,
   "id": "aab1f4ae",
   "metadata": {},
   "outputs": [],
   "source": [
    "#List methods\n",
    "# append()\n",
    "# clear()\n",
    "# copy()\n",
    "# count()\n",
    "# extend()\n",
    "#index()\n",
    "# insert()\n",
    "# pop()\n",
    "# remove()\n",
    "# reverse()\n",
    "# sort()\n",
    "# del \n"
   ]
  }
 ],
 "metadata": {
  "kernelspec": {
   "display_name": "Python 3 (ipykernel)",
   "language": "python",
   "name": "python3"
  },
  "language_info": {
   "codemirror_mode": {
    "name": "ipython",
    "version": 3
   },
   "file_extension": ".py",
   "mimetype": "text/x-python",
   "name": "python",
   "nbconvert_exporter": "python",
   "pygments_lexer": "ipython3",
   "version": "3.9.7"
  }
 },
 "nbformat": 4,
 "nbformat_minor": 5
}
