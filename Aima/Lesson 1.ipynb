{
 "cells": [
  {
   "cell_type": "code",
   "execution_count": null,
   "id": "e641e130",
   "metadata": {},
   "outputs": [],
   "source": []
  },
  {
   "cell_type": "code",
   "execution_count": 11,
   "id": "5a68cc7d",
   "metadata": {},
   "outputs": [
    {
     "name": "stdout",
     "output_type": "stream",
     "text": [
      "[22.36585616 20.97505669 23.36088154 29.53656988 22.17846074]\n"
     ]
    }
   ],
   "source": [
    "import numpy as np\n",
    "\n",
    "np_height=np.array([1.71, 1.68, 1.65, 1.73, 1.76])\n",
    "\n",
    "np_weight=np.array([65.4,59.2,63.6,88.4,68.7])\n",
    "\n",
    "bmi = np_weight / np_height ** 2\n",
    "print(bmi)"
   ]
  },
  {
   "cell_type": "code",
   "execution_count": 12,
   "id": "018afe01",
   "metadata": {},
   "outputs": [
    {
     "data": {
      "text/plain": [
       "array([22.36585616, 20.97505669, 23.36088154, 29.53656988, 22.17846074])"
      ]
     },
     "execution_count": 12,
     "metadata": {},
     "output_type": "execute_result"
    }
   ],
   "source": [
    "bmi"
   ]
  },
  {
   "cell_type": "code",
   "execution_count": 13,
   "id": "448664e5",
   "metadata": {},
   "outputs": [
    {
     "name": "stdout",
     "output_type": "stream",
     "text": [
      "[1, 2, 3, 4, 'Hello', 3.34, True]\n"
     ]
    }
   ],
   "source": [
    "python_list=[1,2,3,4,\"Hello\",3.34,True]\n",
    "print(python_list)"
   ]
  },
  {
   "cell_type": "code",
   "execution_count": 15,
   "id": "d49ea324",
   "metadata": {},
   "outputs": [
    {
     "name": "stdout",
     "output_type": "stream",
     "text": [
      "[1.   2.   3.   4.   3.34 1.  ]\n"
     ]
    }
   ],
   "source": [
    "np_array=np.array([1,2,3,4,3.34,True])\n",
    "print(np_array)"
   ]
  },
  {
   "cell_type": "code",
   "execution_count": 29,
   "id": "2e5ca9ae",
   "metadata": {},
   "outputs": [
    {
     "data": {
      "text/plain": [
       "1.68"
      ]
     },
     "execution_count": 29,
     "metadata": {},
     "output_type": "execute_result"
    }
   ],
   "source": [
    "np_height=np.array([1.71, 1.68, 1.65, 1.73, 1.76])\n",
    "np_height[1]"
   ]
  },
  {
   "cell_type": "code",
   "execution_count": 16,
   "id": "eb4868c1",
   "metadata": {},
   "outputs": [
    {
     "data": {
      "text/plain": [
       "[1, 2, 3, 1, 2, 3]"
      ]
     },
     "execution_count": 16,
     "metadata": {},
     "output_type": "execute_result"
    }
   ],
   "source": [
    "list1=[1,2,3,[4,5,6]]            #[1,2,3]+[1,2,3]\n",
    "list1+list1"
   ]
  },
  {
   "cell_type": "code",
   "execution_count": 17,
   "id": "eb3f1b8e",
   "metadata": {},
   "outputs": [
    {
     "data": {
      "text/plain": [
       "array([2, 4, 6])"
      ]
     },
     "execution_count": 17,
     "metadata": {},
     "output_type": "execute_result"
    }
   ],
   "source": [
    "np_array1=np.array([1,2,3] )  #[1,2,3]+[1,2,3]\n",
    "\n",
    "np_array1+np_array1"
   ]
  },
  {
   "cell_type": "code",
   "execution_count": null,
   "id": "706a26b2",
   "metadata": {},
   "outputs": [],
   "source": []
  },
  {
   "cell_type": "code",
   "execution_count": 20,
   "id": "b0c06012",
   "metadata": {},
   "outputs": [
    {
     "data": {
      "text/plain": [
       "array([ True, False,  True,  True,  True])"
      ]
     },
     "execution_count": 20,
     "metadata": {},
     "output_type": "execute_result"
    }
   ],
   "source": [
    "bmi>21"
   ]
  },
  {
   "cell_type": "code",
   "execution_count": 23,
   "id": "eccca641",
   "metadata": {},
   "outputs": [
    {
     "data": {
      "text/plain": [
       "array([20.97505669])"
      ]
     },
     "execution_count": 23,
     "metadata": {},
     "output_type": "execute_result"
    }
   ],
   "source": [
    "bmi[bmi<21]"
   ]
  },
  {
   "cell_type": "code",
   "execution_count": 28,
   "id": "b23f53e1",
   "metadata": {},
   "outputs": [
    {
     "data": {
      "text/plain": [
       "array([[ 1.73,  1.68,  1.71,  1.89,  1.79],\n",
       "       [65.4 , 59.2 , 63.6 , 88.4 , 68.7 ]])"
      ]
     },
     "execution_count": 28,
     "metadata": {},
     "output_type": "execute_result"
    }
   ],
   "source": [
    "np_2d = np.array([[1.73, 1.68, 1.71, 1.89, 1.79], [65.4, 59.2, 63.6, 88.4,68.7]]) \n",
    "np_2d"
   ]
  },
  {
   "cell_type": "code",
   "execution_count": 34,
   "id": "50e9a90f",
   "metadata": {},
   "outputs": [
    {
     "data": {
      "text/plain": [
       "1.79"
      ]
     },
     "execution_count": 34,
     "metadata": {},
     "output_type": "execute_result"
    }
   ],
   "source": [
    "np_2d[0,4]"
   ]
  },
  {
   "cell_type": "code",
   "execution_count": null,
   "id": "c593cd82",
   "metadata": {},
   "outputs": [],
   "source": [
    "np_2d[:] "
   ]
  }
 ],
 "metadata": {
  "kernelspec": {
   "display_name": "Python 3 (ipykernel)",
   "language": "python",
   "name": "python3"
  },
  "language_info": {
   "codemirror_mode": {
    "name": "ipython",
    "version": 3
   },
   "file_extension": ".py",
   "mimetype": "text/x-python",
   "name": "python",
   "nbconvert_exporter": "python",
   "pygments_lexer": "ipython3",
   "version": "3.9.7"
  }
 },
 "nbformat": 4,
 "nbformat_minor": 5
}
